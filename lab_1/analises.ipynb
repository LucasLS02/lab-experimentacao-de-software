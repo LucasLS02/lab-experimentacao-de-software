{
 "cells": [
  {
   "cell_type": "code",
   "execution_count": 1,
   "metadata": {},
   "outputs": [],
   "source": [
    "import pandas as pd\n",
    "import plotly.express as px"
   ]
  },
  {
   "cell_type": "code",
   "execution_count": 5,
   "metadata": {},
   "outputs": [
    {
     "data": {
      "text/html": [
       "<div>\n",
       "<style scoped>\n",
       "    .dataframe tbody tr th:only-of-type {\n",
       "        vertical-align: middle;\n",
       "    }\n",
       "\n",
       "    .dataframe tbody tr th {\n",
       "        vertical-align: top;\n",
       "    }\n",
       "\n",
       "    .dataframe thead th {\n",
       "        text-align: right;\n",
       "    }\n",
       "</style>\n",
       "<table border=\"1\" class=\"dataframe\">\n",
       "  <thead>\n",
       "    <tr style=\"text-align: right;\">\n",
       "      <th></th>\n",
       "      <th>id</th>\n",
       "      <th>nameWithOwner</th>\n",
       "      <th>url</th>\n",
       "      <th>createdAt</th>\n",
       "      <th>updatedAt</th>\n",
       "      <th>primaryLanguage</th>\n",
       "      <th>releases</th>\n",
       "      <th>pullRequests</th>\n",
       "      <th>issues</th>\n",
       "      <th>IssuesClosed</th>\n",
       "      <th>age</th>\n",
       "      <th>timeSinceLastUpdate</th>\n",
       "      <th>reasonIssuesIssuesClosed</th>\n",
       "    </tr>\n",
       "  </thead>\n",
       "  <tbody>\n",
       "    <tr>\n",
       "      <th>0</th>\n",
       "      <td>MDEwOlJlcG9zaXRvcnkyODQ1NzgyMw==</td>\n",
       "      <td>freeCodeCamp/freeCodeCamp</td>\n",
       "      <td>https://github.com/freeCodeCamp/freeCodeCamp</td>\n",
       "      <td>2014-12-24T17:49:19Z</td>\n",
       "      <td>2023-08-27T14:23:29Z</td>\n",
       "      <td>TypeScript</td>\n",
       "      <td>0</td>\n",
       "      <td>20427</td>\n",
       "      <td>17020</td>\n",
       "      <td>16823</td>\n",
       "      <td>8</td>\n",
       "      <td>0</td>\n",
       "      <td>1.011710</td>\n",
       "    </tr>\n",
       "    <tr>\n",
       "      <th>1</th>\n",
       "      <td>MDEwOlJlcG9zaXRvcnkxMzQ5MTg5NQ==</td>\n",
       "      <td>EbookFoundation/free-programming-books</td>\n",
       "      <td>https://github.com/EbookFoundation/free-progra...</td>\n",
       "      <td>2013-10-11T06:50:37Z</td>\n",
       "      <td>2023-08-27T13:41:20Z</td>\n",
       "      <td>NaN</td>\n",
       "      <td>0</td>\n",
       "      <td>5678</td>\n",
       "      <td>958</td>\n",
       "      <td>924</td>\n",
       "      <td>9</td>\n",
       "      <td>0</td>\n",
       "      <td>1.036797</td>\n",
       "    </tr>\n",
       "    <tr>\n",
       "      <th>2</th>\n",
       "      <td>MDEwOlJlcG9zaXRvcnkxNzc3MzY1MzM=</td>\n",
       "      <td>996icu/996.ICU</td>\n",
       "      <td>https://github.com/996icu/996.ICU</td>\n",
       "      <td>2019-03-26T07:31:14Z</td>\n",
       "      <td>2023-08-27T13:35:31Z</td>\n",
       "      <td>NaN</td>\n",
       "      <td>0</td>\n",
       "      <td>1063</td>\n",
       "      <td>0</td>\n",
       "      <td>0</td>\n",
       "      <td>4</td>\n",
       "      <td>0</td>\n",
       "      <td>0.000000</td>\n",
       "    </tr>\n",
       "    <tr>\n",
       "      <th>3</th>\n",
       "      <td>MDEwOlJlcG9zaXRvcnkyMTczNzQ2NQ==</td>\n",
       "      <td>sindresorhus/awesome</td>\n",
       "      <td>https://github.com/sindresorhus/awesome</td>\n",
       "      <td>2014-07-11T13:42:37Z</td>\n",
       "      <td>2023-08-27T14:15:42Z</td>\n",
       "      <td>NaN</td>\n",
       "      <td>0</td>\n",
       "      <td>624</td>\n",
       "      <td>331</td>\n",
       "      <td>306</td>\n",
       "      <td>9</td>\n",
       "      <td>0</td>\n",
       "      <td>1.081699</td>\n",
       "    </tr>\n",
       "    <tr>\n",
       "      <th>4</th>\n",
       "      <td>MDEwOlJlcG9zaXRvcnk2MDQ5MzEwMQ==</td>\n",
       "      <td>jwasham/coding-interview-university</td>\n",
       "      <td>https://github.com/jwasham/coding-interview-un...</td>\n",
       "      <td>2016-06-06T02:34:12Z</td>\n",
       "      <td>2023-08-27T13:46:04Z</td>\n",
       "      <td>NaN</td>\n",
       "      <td>0</td>\n",
       "      <td>371</td>\n",
       "      <td>402</td>\n",
       "      <td>358</td>\n",
       "      <td>7</td>\n",
       "      <td>0</td>\n",
       "      <td>1.122905</td>\n",
       "    </tr>\n",
       "    <tr>\n",
       "      <th>...</th>\n",
       "      <td>...</td>\n",
       "      <td>...</td>\n",
       "      <td>...</td>\n",
       "      <td>...</td>\n",
       "      <td>...</td>\n",
       "      <td>...</td>\n",
       "      <td>...</td>\n",
       "      <td>...</td>\n",
       "      <td>...</td>\n",
       "      <td>...</td>\n",
       "      <td>...</td>\n",
       "      <td>...</td>\n",
       "      <td>...</td>\n",
       "    </tr>\n",
       "    <tr>\n",
       "      <th>995</th>\n",
       "      <td>MDEwOlJlcG9zaXRvcnkxNTcxNjY3NTA=</td>\n",
       "      <td>lensapp/lens</td>\n",
       "      <td>https://github.com/lensapp/lens</td>\n",
       "      <td>2018-11-12T06:28:56Z</td>\n",
       "      <td>2023-08-27T02:33:25Z</td>\n",
       "      <td>TypeScript</td>\n",
       "      <td>294</td>\n",
       "      <td>3905</td>\n",
       "      <td>3342</td>\n",
       "      <td>2411</td>\n",
       "      <td>4</td>\n",
       "      <td>0</td>\n",
       "      <td>1.386147</td>\n",
       "    </tr>\n",
       "    <tr>\n",
       "      <th>996</th>\n",
       "      <td>MDEwOlJlcG9zaXRvcnkyMjQ2ODE1</td>\n",
       "      <td>DesignPatternsPHP/DesignPatternsPHP</td>\n",
       "      <td>https://github.com/DesignPatternsPHP/DesignPat...</td>\n",
       "      <td>2011-08-22T05:24:31Z</td>\n",
       "      <td>2023-08-26T16:42:51Z</td>\n",
       "      <td>PHP</td>\n",
       "      <td>0</td>\n",
       "      <td>280</td>\n",
       "      <td>112</td>\n",
       "      <td>111</td>\n",
       "      <td>12</td>\n",
       "      <td>0</td>\n",
       "      <td>1.009009</td>\n",
       "    </tr>\n",
       "    <tr>\n",
       "      <th>997</th>\n",
       "      <td>MDEwOlJlcG9zaXRvcnk5MzI1MzI0Ng==</td>\n",
       "      <td>javascript-tutorial/en.javascript.info</td>\n",
       "      <td>https://github.com/javascript-tutorial/en.java...</td>\n",
       "      <td>2017-06-03T14:27:57Z</td>\n",
       "      <td>2023-08-27T14:17:18Z</td>\n",
       "      <td>HTML</td>\n",
       "      <td>0</td>\n",
       "      <td>1899</td>\n",
       "      <td>837</td>\n",
       "      <td>689</td>\n",
       "      <td>6</td>\n",
       "      <td>0</td>\n",
       "      <td>1.214804</td>\n",
       "    </tr>\n",
       "    <tr>\n",
       "      <th>998</th>\n",
       "      <td>MDEwOlJlcG9zaXRvcnk3NTgyMTQzMg==</td>\n",
       "      <td>llvm/llvm-project</td>\n",
       "      <td>https://github.com/llvm/llvm-project</td>\n",
       "      <td>2016-12-07T09:39:33Z</td>\n",
       "      <td>2023-08-27T14:01:14Z</td>\n",
       "      <td>NaN</td>\n",
       "      <td>89</td>\n",
       "      <td>4</td>\n",
       "      <td>63958</td>\n",
       "      <td>44474</td>\n",
       "      <td>6</td>\n",
       "      <td>0</td>\n",
       "      <td>1.438099</td>\n",
       "    </tr>\n",
       "    <tr>\n",
       "      <th>999</th>\n",
       "      <td>MDEwOlJlcG9zaXRvcnkzMTEyNzQ4</td>\n",
       "      <td>leereilly/games</td>\n",
       "      <td>https://github.com/leereilly/games</td>\n",
       "      <td>2012-01-05T19:48:55Z</td>\n",
       "      <td>2023-08-27T11:51:38Z</td>\n",
       "      <td>NaN</td>\n",
       "      <td>0</td>\n",
       "      <td>192</td>\n",
       "      <td>264</td>\n",
       "      <td>87</td>\n",
       "      <td>11</td>\n",
       "      <td>0</td>\n",
       "      <td>3.034483</td>\n",
       "    </tr>\n",
       "  </tbody>\n",
       "</table>\n",
       "<p>1000 rows × 13 columns</p>\n",
       "</div>"
      ],
      "text/plain": [
       "                                   id                           nameWithOwner  \\\n",
       "0    MDEwOlJlcG9zaXRvcnkyODQ1NzgyMw==               freeCodeCamp/freeCodeCamp   \n",
       "1    MDEwOlJlcG9zaXRvcnkxMzQ5MTg5NQ==  EbookFoundation/free-programming-books   \n",
       "2    MDEwOlJlcG9zaXRvcnkxNzc3MzY1MzM=                          996icu/996.ICU   \n",
       "3    MDEwOlJlcG9zaXRvcnkyMTczNzQ2NQ==                    sindresorhus/awesome   \n",
       "4    MDEwOlJlcG9zaXRvcnk2MDQ5MzEwMQ==     jwasham/coding-interview-university   \n",
       "..                                ...                                     ...   \n",
       "995  MDEwOlJlcG9zaXRvcnkxNTcxNjY3NTA=                            lensapp/lens   \n",
       "996      MDEwOlJlcG9zaXRvcnkyMjQ2ODE1     DesignPatternsPHP/DesignPatternsPHP   \n",
       "997  MDEwOlJlcG9zaXRvcnk5MzI1MzI0Ng==  javascript-tutorial/en.javascript.info   \n",
       "998  MDEwOlJlcG9zaXRvcnk3NTgyMTQzMg==                       llvm/llvm-project   \n",
       "999      MDEwOlJlcG9zaXRvcnkzMTEyNzQ4                         leereilly/games   \n",
       "\n",
       "                                                   url             createdAt  \\\n",
       "0         https://github.com/freeCodeCamp/freeCodeCamp  2014-12-24T17:49:19Z   \n",
       "1    https://github.com/EbookFoundation/free-progra...  2013-10-11T06:50:37Z   \n",
       "2                    https://github.com/996icu/996.ICU  2019-03-26T07:31:14Z   \n",
       "3              https://github.com/sindresorhus/awesome  2014-07-11T13:42:37Z   \n",
       "4    https://github.com/jwasham/coding-interview-un...  2016-06-06T02:34:12Z   \n",
       "..                                                 ...                   ...   \n",
       "995                    https://github.com/lensapp/lens  2018-11-12T06:28:56Z   \n",
       "996  https://github.com/DesignPatternsPHP/DesignPat...  2011-08-22T05:24:31Z   \n",
       "997  https://github.com/javascript-tutorial/en.java...  2017-06-03T14:27:57Z   \n",
       "998               https://github.com/llvm/llvm-project  2016-12-07T09:39:33Z   \n",
       "999                 https://github.com/leereilly/games  2012-01-05T19:48:55Z   \n",
       "\n",
       "                updatedAt primaryLanguage  releases  pullRequests  issues  \\\n",
       "0    2023-08-27T14:23:29Z      TypeScript         0         20427   17020   \n",
       "1    2023-08-27T13:41:20Z             NaN         0          5678     958   \n",
       "2    2023-08-27T13:35:31Z             NaN         0          1063       0   \n",
       "3    2023-08-27T14:15:42Z             NaN         0           624     331   \n",
       "4    2023-08-27T13:46:04Z             NaN         0           371     402   \n",
       "..                    ...             ...       ...           ...     ...   \n",
       "995  2023-08-27T02:33:25Z      TypeScript       294          3905    3342   \n",
       "996  2023-08-26T16:42:51Z             PHP         0           280     112   \n",
       "997  2023-08-27T14:17:18Z            HTML         0          1899     837   \n",
       "998  2023-08-27T14:01:14Z             NaN        89             4   63958   \n",
       "999  2023-08-27T11:51:38Z             NaN         0           192     264   \n",
       "\n",
       "     IssuesClosed  age  timeSinceLastUpdate  reasonIssuesIssuesClosed  \n",
       "0           16823    8                    0                  1.011710  \n",
       "1             924    9                    0                  1.036797  \n",
       "2               0    4                    0                  0.000000  \n",
       "3             306    9                    0                  1.081699  \n",
       "4             358    7                    0                  1.122905  \n",
       "..            ...  ...                  ...                       ...  \n",
       "995          2411    4                    0                  1.386147  \n",
       "996           111   12                    0                  1.009009  \n",
       "997           689    6                    0                  1.214804  \n",
       "998         44474    6                    0                  1.438099  \n",
       "999            87   11                    0                  3.034483  \n",
       "\n",
       "[1000 rows x 13 columns]"
      ]
     },
     "execution_count": 5,
     "metadata": {},
     "output_type": "execute_result"
    }
   ],
   "source": [
    "df = pd.read_csv('../data/lab_1.main_data.csv')\n",
    "df"
   ]
  },
  {
   "cell_type": "code",
   "execution_count": 57,
   "metadata": {},
   "outputs": [],
   "source": [
    "# def format_date(date):\n",
    "#     return date.replace('T', ' ').replace('Z', '')\n"
   ]
  },
  {
   "cell_type": "code",
   "execution_count": 58,
   "metadata": {},
   "outputs": [],
   "source": [
    "# def format_count(str):\n",
    "#     return str.replace(\"{'totalCount': \", '').replace('}', '')\n"
   ]
  },
  {
   "cell_type": "code",
   "execution_count": 59,
   "metadata": {},
   "outputs": [],
   "source": [
    "# df = pd.read_csv('data.csv')\n",
    "\n",
    "# lst = ['createdAt', 'updatedAt']\n",
    "# for i in lst:\n",
    "#     df[i] = pd.to_datetime(df[i].apply(format_date))\n",
    "\n",
    "\n",
    "# lst = ['releases', 'pullRequests', 'issues', 'IssuesClosed']\n",
    "# for i in lst:\n",
    "#     df[i] = df[i].apply(format_count).astype('int')\n",
    "\n",
    "# df['primaryLanguage'] = df['primaryLanguage'].fillna('-')\n",
    "\n",
    "# df\n"
   ]
  },
  {
   "cell_type": "code",
   "execution_count": 60,
   "metadata": {},
   "outputs": [
    {
     "data": {
      "text/plain": [
       "478.0"
      ]
     },
     "execution_count": 60,
     "metadata": {},
     "output_type": "execute_result"
    }
   ],
   "source": [
    "df['pullRequests'].median()"
   ]
  },
  {
   "cell_type": "code",
   "execution_count": 61,
   "metadata": {},
   "outputs": [
    {
     "name": "stdout",
     "output_type": "stream",
     "text": [
      "                              nameWithOwner  \\\n",
      "0                 freeCodeCamp/freeCodeCamp   \n",
      "1    EbookFoundation/free-programming-books   \n",
      "2                            996icu/996.ICU   \n",
      "3                      sindresorhus/awesome   \n",
      "4       jwasham/coding-interview-university   \n",
      "..                                      ...   \n",
      "995                            lensapp/lens   \n",
      "996     DesignPatternsPHP/DesignPatternsPHP   \n",
      "997  javascript-tutorial/en.javascript.info   \n",
      "998                       llvm/llvm-project   \n",
      "999                         leereilly/games   \n",
      "\n",
      "                                                   url  releases  \\\n",
      "0         https://github.com/freeCodeCamp/freeCodeCamp         0   \n",
      "1    https://github.com/EbookFoundation/free-progra...         0   \n",
      "2                    https://github.com/996icu/996.ICU         0   \n",
      "3              https://github.com/sindresorhus/awesome         0   \n",
      "4    https://github.com/jwasham/coding-interview-un...         0   \n",
      "..                                                 ...       ...   \n",
      "995                    https://github.com/lensapp/lens       294   \n",
      "996  https://github.com/DesignPatternsPHP/DesignPat...         0   \n",
      "997  https://github.com/javascript-tutorial/en.java...         0   \n",
      "998               https://github.com/llvm/llvm-project        89   \n",
      "999                 https://github.com/leereilly/games         0   \n",
      "\n",
      "     pullRequests  issues  IssuesClosed  age  timeSinceLastUpdate  \\\n",
      "0           20427   17020         16823    8                    0   \n",
      "1            5678     958           924    9                    0   \n",
      "2            1063       0             0    4                    0   \n",
      "3             624     331           306    9                    0   \n",
      "4             371     402           358    7                    0   \n",
      "..            ...     ...           ...  ...                  ...   \n",
      "995          3905    3342          2411    4                    0   \n",
      "996           280     112           111   12                    0   \n",
      "997          1899     837           689    6                    0   \n",
      "998             4   63958         44474    6                    0   \n",
      "999           192     264            87   11                    0   \n",
      "\n",
      "     reasonIssuesIssuesClosed  \n",
      "0                    1.011710  \n",
      "1                    1.036797  \n",
      "2                    0.000000  \n",
      "3                    1.081699  \n",
      "4                    1.122905  \n",
      "..                        ...  \n",
      "995                  1.386147  \n",
      "996                  1.009009  \n",
      "997                  1.214804  \n",
      "998                  1.438099  \n",
      "999                  3.034483  \n",
      "\n",
      "[1000 rows x 9 columns]\n"
     ]
    },
    {
     "data": {
      "application/vnd.plotly.v1+json": {
       "config": {
        "plotlyServerURL": "https://plot.ly"
       },
       "data": [
        {
         "alignmentgroup": "True",
         "hovertemplate": "pullRequests=%{y}<extra></extra>",
         "legendgroup": "",
         "marker": {
          "color": "#636efa"
         },
         "name": "",
         "notched": false,
         "offsetgroup": "",
         "orientation": "v",
         "showlegend": false,
         "type": "box",
         "x0": " ",
         "xaxis": "x",
         "y": [
          20427,
          5678,
          1063,
          624,
          371,
          1871,
          1623,
          196,
          121,
          9191,
          1119,
          535,
          16161,
          282,
          360,
          375,
          2330,
          8484,
          2923,
          9,
          32819,
          1523,
          19219,
          240,
          953,
          2395,
          12,
          317,
          885,
          801,
          1608,
          232,
          776,
          182,
          1,
          721,
          13721,
          10331,
          17861,
          3006,
          463,
          122,
          280,
          753,
          56086,
          1944,
          1371,
          6679,
          444,
          4121,
          11201,
          13259,
          761,
          8927,
          3338,
          69,
          3422,
          16213,
          11853,
          105,
          149,
          49492,
          3557,
          313,
          1123,
          8735,
          481,
          313,
          410,
          2304,
          424,
          473,
          1509,
          63,
          16,
          98,
          8347,
          2259,
          198,
          131,
          2894,
          1832,
          75,
          481,
          13215,
          941,
          11386,
          5427,
          690,
          1,
          3434,
          42,
          10573,
          2128,
          27,
          110,
          3297,
          5743,
          149,
          18817,
          173,
          0,
          57007,
          7174,
          385,
          1512,
          44247,
          28595,
          4435,
          770,
          49000,
          51,
          1383,
          1334,
          269,
          2903,
          3425,
          84,
          4304,
          1755,
          42,
          4476,
          7,
          1626,
          804,
          2,
          3937,
          130,
          5,
          20,
          789,
          5430,
          2872,
          3555,
          418,
          805,
          49,
          37163,
          640,
          445,
          772,
          1,
          168,
          573,
          175,
          278,
          244,
          34300,
          1206,
          316,
          5917,
          14,
          335,
          6713,
          188,
          10974,
          35674,
          469,
          321,
          694,
          17921,
          1543,
          11039,
          396,
          1183,
          11126,
          2359,
          3060,
          3229,
          21830,
          351,
          1065,
          562,
          860,
          786,
          1324,
          401,
          260,
          255,
          375,
          302,
          304,
          1955,
          56,
          356,
          480,
          1501,
          1410,
          4105,
          314,
          5405,
          4901,
          1665,
          94,
          194,
          44,
          503,
          570,
          1608,
          2003,
          3760,
          420,
          374,
          570,
          31,
          712,
          605,
          4757,
          3140,
          90,
          3,
          3092,
          3566,
          256,
          72,
          353,
          63,
          102,
          7473,
          1020,
          0,
          1790,
          308,
          358,
          2053,
          8411,
          90,
          4466,
          47226,
          5563,
          128,
          715,
          124,
          48,
          3183,
          3840,
          184,
          7876,
          182,
          666,
          8726,
          12437,
          2199,
          82,
          1931,
          6586,
          6506,
          1402,
          1688,
          222,
          21661,
          28,
          203,
          522,
          88,
          1395,
          1608,
          19,
          1135,
          2189,
          5204,
          768,
          5356,
          18,
          52,
          757,
          32,
          129,
          95,
          329,
          384,
          841,
          275,
          49,
          6,
          372,
          632,
          74,
          7735,
          2964,
          1843,
          1652,
          219,
          712,
          936,
          1987,
          1,
          2821,
          2,
          118,
          8497,
          6405,
          21,
          75,
          132,
          192,
          12,
          1626,
          572,
          2027,
          596,
          467,
          540,
          23240,
          911,
          28,
          4532,
          867,
          977,
          129,
          449,
          18529,
          777,
          20038,
          216,
          10895,
          1413,
          1086,
          1195,
          2864,
          111,
          143,
          399,
          224,
          2251,
          13186,
          98,
          16,
          262,
          135,
          1494,
          3520,
          1482,
          16,
          2012,
          6006,
          657,
          855,
          857,
          115,
          60389,
          108,
          221,
          1307,
          306,
          9639,
          283,
          190,
          38,
          516,
          5,
          1832,
          1222,
          55,
          69,
          10886,
          673,
          475,
          549,
          28,
          847,
          1649,
          1543,
          511,
          218,
          410,
          122,
          1773,
          2398,
          4665,
          67,
          17,
          36,
          291,
          371,
          35,
          150,
          421,
          32,
          167,
          1594,
          0,
          41019,
          1607,
          80,
          1508,
          869,
          10142,
          935,
          24593,
          299,
          28,
          218,
          52,
          160,
          498,
          512,
          2,
          9033,
          469,
          566,
          317,
          616,
          261,
          2202,
          16,
          144,
          21,
          249,
          505,
          16463,
          48,
          22478,
          1087,
          4326,
          3788,
          2769,
          106,
          70,
          117,
          4333,
          61,
          656,
          1210,
          592,
          710,
          912,
          192,
          13,
          463,
          94,
          540,
          646,
          788,
          1850,
          0,
          18,
          4354,
          4291,
          265,
          1243,
          2079,
          396,
          803,
          2203,
          199,
          3532,
          477,
          26,
          999,
          13883,
          17,
          87,
          72,
          61,
          655,
          1025,
          592,
          361,
          2110,
          1872,
          166,
          29,
          2604,
          14,
          3189,
          63,
          124,
          35,
          3,
          17015,
          124,
          245,
          144,
          98,
          202,
          366,
          31,
          206,
          96,
          244,
          168,
          119,
          10106,
          1961,
          525,
          70,
          787,
          29,
          197,
          5816,
          30739,
          173,
          6168,
          1097,
          39,
          15,
          2792,
          2100,
          3679,
          159,
          26,
          1207,
          1,
          2109,
          74,
          209,
          35,
          79,
          14003,
          3,
          1475,
          86,
          1258,
          330,
          2950,
          62,
          387,
          22,
          2543,
          7,
          562,
          132,
          104,
          44,
          2152,
          715,
          18,
          283,
          41,
          386,
          183,
          8477,
          393,
          270,
          113,
          128,
          161,
          8908,
          314,
          43,
          186,
          23,
          864,
          20595,
          465,
          168,
          4179,
          571,
          175,
          13,
          1397,
          406,
          23,
          536,
          2447,
          4041,
          16,
          1610,
          719,
          1336,
          302,
          14420,
          2639,
          533,
          4170,
          1273,
          655,
          771,
          10,
          238,
          874,
          608,
          1226,
          1659,
          275,
          479,
          152,
          168,
          259,
          2681,
          710,
          104,
          1754,
          176,
          724,
          10,
          38,
          48323,
          805,
          510,
          21,
          690,
          1537,
          244,
          2436,
          18940,
          218,
          664,
          2312,
          998,
          28,
          294,
          105,
          1026,
          58,
          13,
          6870,
          222,
          700,
          95,
          741,
          69,
          781,
          15,
          4910,
          415,
          74,
          3420,
          380,
          192,
          808,
          11091,
          51,
          1807,
          24,
          1778,
          823,
          3035,
          514,
          2413,
          1065,
          133,
          681,
          6,
          13,
          68,
          423,
          1030,
          263,
          6,
          141,
          148,
          530,
          838,
          3644,
          2,
          549,
          1729,
          896,
          36,
          8736,
          1,
          384,
          452,
          2869,
          14139,
          1697,
          4788,
          585,
          874,
          171,
          259,
          0,
          1,
          9577,
          5019,
          56,
          512,
          2585,
          70,
          5,
          0,
          591,
          1650,
          42,
          15245,
          349,
          243,
          424,
          162,
          20,
          214,
          6777,
          19,
          707,
          7001,
          650,
          346,
          1986,
          275,
          1172,
          34,
          801,
          31,
          11,
          301,
          44,
          64,
          418,
          147,
          2645,
          1096,
          477,
          592,
          2292,
          1626,
          453,
          723,
          631,
          399,
          150,
          70,
          165,
          1455,
          1782,
          98,
          56,
          173,
          131,
          406,
          16,
          63,
          12,
          109,
          754,
          2965,
          6276,
          52,
          72,
          680,
          3467,
          139,
          283,
          83,
          369,
          2609,
          205,
          339,
          39,
          882,
          543,
          1453,
          265,
          263,
          12,
          10,
          3758,
          717,
          7911,
          2390,
          31,
          0,
          1656,
          7532,
          2691,
          627,
          12,
          2633,
          14,
          10315,
          192,
          124,
          0,
          353,
          2662,
          2582,
          382,
          39,
          535,
          38,
          597,
          188,
          3438,
          29,
          2818,
          1800,
          9591,
          3481,
          1832,
          134,
          751,
          138,
          1420,
          2928,
          526,
          331,
          238,
          53,
          1195,
          8,
          261,
          4128,
          1703,
          309,
          1,
          109,
          29,
          60,
          0,
          2932,
          3,
          663,
          439,
          191,
          5098,
          298,
          114,
          176,
          691,
          19284,
          11040,
          48,
          193,
          14847,
          1416,
          517,
          89,
          677,
          775,
          206,
          2491,
          675,
          158,
          279,
          155,
          617,
          65,
          768,
          365,
          2,
          2227,
          1707,
          49,
          5622,
          134,
          9708,
          698,
          1288,
          1722,
          34,
          404,
          78,
          288,
          183,
          93,
          188,
          1137,
          361,
          71,
          114,
          527,
          1364,
          11916,
          10132,
          185,
          243,
          216,
          5,
          13,
          513,
          5847,
          278,
          1984,
          1338,
          429,
          3093,
          182,
          238,
          1858,
          256,
          4156,
          1205,
          1662,
          4429,
          268,
          10,
          4990,
          9,
          1052,
          270,
          915,
          543,
          15989,
          3124,
          229,
          40,
          594,
          402,
          249,
          20,
          118,
          439,
          21,
          216,
          1292,
          671,
          8014,
          357,
          224,
          256,
          14601,
          1,
          7,
          10,
          522,
          2192,
          9,
          20,
          1286,
          695,
          284,
          4238,
          84,
          301,
          387,
          62,
          465,
          127,
          6,
          424,
          1172,
          412,
          256,
          321,
          1686,
          283,
          218,
          543,
          6,
          2074,
          211,
          146,
          460,
          862,
          397,
          647,
          126,
          160,
          508,
          46,
          6487,
          310,
          1071,
          418,
          97,
          1368,
          20,
          267,
          2612,
          25,
          468,
          2941,
          8035,
          2542,
          4739,
          781,
          2150,
          2936,
          66,
          802,
          143,
          323,
          370,
          51,
          18,
          170,
          32,
          360,
          3,
          22,
          16811,
          717,
          3135,
          84,
          343,
          53,
          12,
          436,
          57,
          2730,
          134,
          0,
          0,
          809,
          1005,
          144,
          592,
          794,
          117,
          171,
          107,
          82,
          8433,
          165,
          3905,
          280,
          1899,
          4,
          192
         ],
         "y0": " ",
         "yaxis": "y"
        }
       ],
       "layout": {
        "boxmode": "group",
        "legend": {
         "tracegroupgap": 0
        },
        "margin": {
         "t": 60
        },
        "template": {
         "data": {
          "bar": [
           {
            "error_x": {
             "color": "#2a3f5f"
            },
            "error_y": {
             "color": "#2a3f5f"
            },
            "marker": {
             "line": {
              "color": "#E5ECF6",
              "width": 0.5
             },
             "pattern": {
              "fillmode": "overlay",
              "size": 10,
              "solidity": 0.2
             }
            },
            "type": "bar"
           }
          ],
          "barpolar": [
           {
            "marker": {
             "line": {
              "color": "#E5ECF6",
              "width": 0.5
             },
             "pattern": {
              "fillmode": "overlay",
              "size": 10,
              "solidity": 0.2
             }
            },
            "type": "barpolar"
           }
          ],
          "carpet": [
           {
            "aaxis": {
             "endlinecolor": "#2a3f5f",
             "gridcolor": "white",
             "linecolor": "white",
             "minorgridcolor": "white",
             "startlinecolor": "#2a3f5f"
            },
            "baxis": {
             "endlinecolor": "#2a3f5f",
             "gridcolor": "white",
             "linecolor": "white",
             "minorgridcolor": "white",
             "startlinecolor": "#2a3f5f"
            },
            "type": "carpet"
           }
          ],
          "choropleth": [
           {
            "colorbar": {
             "outlinewidth": 0,
             "ticks": ""
            },
            "type": "choropleth"
           }
          ],
          "contour": [
           {
            "colorbar": {
             "outlinewidth": 0,
             "ticks": ""
            },
            "colorscale": [
             [
              0,
              "#0d0887"
             ],
             [
              0.1111111111111111,
              "#46039f"
             ],
             [
              0.2222222222222222,
              "#7201a8"
             ],
             [
              0.3333333333333333,
              "#9c179e"
             ],
             [
              0.4444444444444444,
              "#bd3786"
             ],
             [
              0.5555555555555556,
              "#d8576b"
             ],
             [
              0.6666666666666666,
              "#ed7953"
             ],
             [
              0.7777777777777778,
              "#fb9f3a"
             ],
             [
              0.8888888888888888,
              "#fdca26"
             ],
             [
              1,
              "#f0f921"
             ]
            ],
            "type": "contour"
           }
          ],
          "contourcarpet": [
           {
            "colorbar": {
             "outlinewidth": 0,
             "ticks": ""
            },
            "type": "contourcarpet"
           }
          ],
          "heatmap": [
           {
            "colorbar": {
             "outlinewidth": 0,
             "ticks": ""
            },
            "colorscale": [
             [
              0,
              "#0d0887"
             ],
             [
              0.1111111111111111,
              "#46039f"
             ],
             [
              0.2222222222222222,
              "#7201a8"
             ],
             [
              0.3333333333333333,
              "#9c179e"
             ],
             [
              0.4444444444444444,
              "#bd3786"
             ],
             [
              0.5555555555555556,
              "#d8576b"
             ],
             [
              0.6666666666666666,
              "#ed7953"
             ],
             [
              0.7777777777777778,
              "#fb9f3a"
             ],
             [
              0.8888888888888888,
              "#fdca26"
             ],
             [
              1,
              "#f0f921"
             ]
            ],
            "type": "heatmap"
           }
          ],
          "heatmapgl": [
           {
            "colorbar": {
             "outlinewidth": 0,
             "ticks": ""
            },
            "colorscale": [
             [
              0,
              "#0d0887"
             ],
             [
              0.1111111111111111,
              "#46039f"
             ],
             [
              0.2222222222222222,
              "#7201a8"
             ],
             [
              0.3333333333333333,
              "#9c179e"
             ],
             [
              0.4444444444444444,
              "#bd3786"
             ],
             [
              0.5555555555555556,
              "#d8576b"
             ],
             [
              0.6666666666666666,
              "#ed7953"
             ],
             [
              0.7777777777777778,
              "#fb9f3a"
             ],
             [
              0.8888888888888888,
              "#fdca26"
             ],
             [
              1,
              "#f0f921"
             ]
            ],
            "type": "heatmapgl"
           }
          ],
          "histogram": [
           {
            "marker": {
             "pattern": {
              "fillmode": "overlay",
              "size": 10,
              "solidity": 0.2
             }
            },
            "type": "histogram"
           }
          ],
          "histogram2d": [
           {
            "colorbar": {
             "outlinewidth": 0,
             "ticks": ""
            },
            "colorscale": [
             [
              0,
              "#0d0887"
             ],
             [
              0.1111111111111111,
              "#46039f"
             ],
             [
              0.2222222222222222,
              "#7201a8"
             ],
             [
              0.3333333333333333,
              "#9c179e"
             ],
             [
              0.4444444444444444,
              "#bd3786"
             ],
             [
              0.5555555555555556,
              "#d8576b"
             ],
             [
              0.6666666666666666,
              "#ed7953"
             ],
             [
              0.7777777777777778,
              "#fb9f3a"
             ],
             [
              0.8888888888888888,
              "#fdca26"
             ],
             [
              1,
              "#f0f921"
             ]
            ],
            "type": "histogram2d"
           }
          ],
          "histogram2dcontour": [
           {
            "colorbar": {
             "outlinewidth": 0,
             "ticks": ""
            },
            "colorscale": [
             [
              0,
              "#0d0887"
             ],
             [
              0.1111111111111111,
              "#46039f"
             ],
             [
              0.2222222222222222,
              "#7201a8"
             ],
             [
              0.3333333333333333,
              "#9c179e"
             ],
             [
              0.4444444444444444,
              "#bd3786"
             ],
             [
              0.5555555555555556,
              "#d8576b"
             ],
             [
              0.6666666666666666,
              "#ed7953"
             ],
             [
              0.7777777777777778,
              "#fb9f3a"
             ],
             [
              0.8888888888888888,
              "#fdca26"
             ],
             [
              1,
              "#f0f921"
             ]
            ],
            "type": "histogram2dcontour"
           }
          ],
          "mesh3d": [
           {
            "colorbar": {
             "outlinewidth": 0,
             "ticks": ""
            },
            "type": "mesh3d"
           }
          ],
          "parcoords": [
           {
            "line": {
             "colorbar": {
              "outlinewidth": 0,
              "ticks": ""
             }
            },
            "type": "parcoords"
           }
          ],
          "pie": [
           {
            "automargin": true,
            "type": "pie"
           }
          ],
          "scatter": [
           {
            "fillpattern": {
             "fillmode": "overlay",
             "size": 10,
             "solidity": 0.2
            },
            "type": "scatter"
           }
          ],
          "scatter3d": [
           {
            "line": {
             "colorbar": {
              "outlinewidth": 0,
              "ticks": ""
             }
            },
            "marker": {
             "colorbar": {
              "outlinewidth": 0,
              "ticks": ""
             }
            },
            "type": "scatter3d"
           }
          ],
          "scattercarpet": [
           {
            "marker": {
             "colorbar": {
              "outlinewidth": 0,
              "ticks": ""
             }
            },
            "type": "scattercarpet"
           }
          ],
          "scattergeo": [
           {
            "marker": {
             "colorbar": {
              "outlinewidth": 0,
              "ticks": ""
             }
            },
            "type": "scattergeo"
           }
          ],
          "scattergl": [
           {
            "marker": {
             "colorbar": {
              "outlinewidth": 0,
              "ticks": ""
             }
            },
            "type": "scattergl"
           }
          ],
          "scattermapbox": [
           {
            "marker": {
             "colorbar": {
              "outlinewidth": 0,
              "ticks": ""
             }
            },
            "type": "scattermapbox"
           }
          ],
          "scatterpolar": [
           {
            "marker": {
             "colorbar": {
              "outlinewidth": 0,
              "ticks": ""
             }
            },
            "type": "scatterpolar"
           }
          ],
          "scatterpolargl": [
           {
            "marker": {
             "colorbar": {
              "outlinewidth": 0,
              "ticks": ""
             }
            },
            "type": "scatterpolargl"
           }
          ],
          "scatterternary": [
           {
            "marker": {
             "colorbar": {
              "outlinewidth": 0,
              "ticks": ""
             }
            },
            "type": "scatterternary"
           }
          ],
          "surface": [
           {
            "colorbar": {
             "outlinewidth": 0,
             "ticks": ""
            },
            "colorscale": [
             [
              0,
              "#0d0887"
             ],
             [
              0.1111111111111111,
              "#46039f"
             ],
             [
              0.2222222222222222,
              "#7201a8"
             ],
             [
              0.3333333333333333,
              "#9c179e"
             ],
             [
              0.4444444444444444,
              "#bd3786"
             ],
             [
              0.5555555555555556,
              "#d8576b"
             ],
             [
              0.6666666666666666,
              "#ed7953"
             ],
             [
              0.7777777777777778,
              "#fb9f3a"
             ],
             [
              0.8888888888888888,
              "#fdca26"
             ],
             [
              1,
              "#f0f921"
             ]
            ],
            "type": "surface"
           }
          ],
          "table": [
           {
            "cells": {
             "fill": {
              "color": "#EBF0F8"
             },
             "line": {
              "color": "white"
             }
            },
            "header": {
             "fill": {
              "color": "#C8D4E3"
             },
             "line": {
              "color": "white"
             }
            },
            "type": "table"
           }
          ]
         },
         "layout": {
          "annotationdefaults": {
           "arrowcolor": "#2a3f5f",
           "arrowhead": 0,
           "arrowwidth": 1
          },
          "autotypenumbers": "strict",
          "coloraxis": {
           "colorbar": {
            "outlinewidth": 0,
            "ticks": ""
           }
          },
          "colorscale": {
           "diverging": [
            [
             0,
             "#8e0152"
            ],
            [
             0.1,
             "#c51b7d"
            ],
            [
             0.2,
             "#de77ae"
            ],
            [
             0.3,
             "#f1b6da"
            ],
            [
             0.4,
             "#fde0ef"
            ],
            [
             0.5,
             "#f7f7f7"
            ],
            [
             0.6,
             "#e6f5d0"
            ],
            [
             0.7,
             "#b8e186"
            ],
            [
             0.8,
             "#7fbc41"
            ],
            [
             0.9,
             "#4d9221"
            ],
            [
             1,
             "#276419"
            ]
           ],
           "sequential": [
            [
             0,
             "#0d0887"
            ],
            [
             0.1111111111111111,
             "#46039f"
            ],
            [
             0.2222222222222222,
             "#7201a8"
            ],
            [
             0.3333333333333333,
             "#9c179e"
            ],
            [
             0.4444444444444444,
             "#bd3786"
            ],
            [
             0.5555555555555556,
             "#d8576b"
            ],
            [
             0.6666666666666666,
             "#ed7953"
            ],
            [
             0.7777777777777778,
             "#fb9f3a"
            ],
            [
             0.8888888888888888,
             "#fdca26"
            ],
            [
             1,
             "#f0f921"
            ]
           ],
           "sequentialminus": [
            [
             0,
             "#0d0887"
            ],
            [
             0.1111111111111111,
             "#46039f"
            ],
            [
             0.2222222222222222,
             "#7201a8"
            ],
            [
             0.3333333333333333,
             "#9c179e"
            ],
            [
             0.4444444444444444,
             "#bd3786"
            ],
            [
             0.5555555555555556,
             "#d8576b"
            ],
            [
             0.6666666666666666,
             "#ed7953"
            ],
            [
             0.7777777777777778,
             "#fb9f3a"
            ],
            [
             0.8888888888888888,
             "#fdca26"
            ],
            [
             1,
             "#f0f921"
            ]
           ]
          },
          "colorway": [
           "#636efa",
           "#EF553B",
           "#00cc96",
           "#ab63fa",
           "#FFA15A",
           "#19d3f3",
           "#FF6692",
           "#B6E880",
           "#FF97FF",
           "#FECB52"
          ],
          "font": {
           "color": "#2a3f5f"
          },
          "geo": {
           "bgcolor": "white",
           "lakecolor": "white",
           "landcolor": "#E5ECF6",
           "showlakes": true,
           "showland": true,
           "subunitcolor": "white"
          },
          "hoverlabel": {
           "align": "left"
          },
          "hovermode": "closest",
          "mapbox": {
           "style": "light"
          },
          "paper_bgcolor": "white",
          "plot_bgcolor": "#E5ECF6",
          "polar": {
           "angularaxis": {
            "gridcolor": "white",
            "linecolor": "white",
            "ticks": ""
           },
           "bgcolor": "#E5ECF6",
           "radialaxis": {
            "gridcolor": "white",
            "linecolor": "white",
            "ticks": ""
           }
          },
          "scene": {
           "xaxis": {
            "backgroundcolor": "#E5ECF6",
            "gridcolor": "white",
            "gridwidth": 2,
            "linecolor": "white",
            "showbackground": true,
            "ticks": "",
            "zerolinecolor": "white"
           },
           "yaxis": {
            "backgroundcolor": "#E5ECF6",
            "gridcolor": "white",
            "gridwidth": 2,
            "linecolor": "white",
            "showbackground": true,
            "ticks": "",
            "zerolinecolor": "white"
           },
           "zaxis": {
            "backgroundcolor": "#E5ECF6",
            "gridcolor": "white",
            "gridwidth": 2,
            "linecolor": "white",
            "showbackground": true,
            "ticks": "",
            "zerolinecolor": "white"
           }
          },
          "shapedefaults": {
           "line": {
            "color": "#2a3f5f"
           }
          },
          "ternary": {
           "aaxis": {
            "gridcolor": "white",
            "linecolor": "white",
            "ticks": ""
           },
           "baxis": {
            "gridcolor": "white",
            "linecolor": "white",
            "ticks": ""
           },
           "bgcolor": "#E5ECF6",
           "caxis": {
            "gridcolor": "white",
            "linecolor": "white",
            "ticks": ""
           }
          },
          "title": {
           "x": 0.05
          },
          "xaxis": {
           "automargin": true,
           "gridcolor": "white",
           "linecolor": "white",
           "ticks": "",
           "title": {
            "standoff": 15
           },
           "zerolinecolor": "white",
           "zerolinewidth": 2
          },
          "yaxis": {
           "automargin": true,
           "gridcolor": "white",
           "linecolor": "white",
           "ticks": "",
           "title": {
            "standoff": 15
           },
           "zerolinecolor": "white",
           "zerolinewidth": 2
          }
         }
        },
        "xaxis": {
         "anchor": "y",
         "domain": [
          0,
          1
         ]
        },
        "yaxis": {
         "anchor": "x",
         "domain": [
          0,
          1
         ],
         "title": {
          "text": "pullRequests"
         }
        }
       }
      }
     },
     "metadata": {},
     "output_type": "display_data"
    }
   ],
   "source": [
    "table = df.drop(['id', 'createdAt', 'updatedAt', 'primaryLanguage'], axis=1)\n",
    "print(table)\n",
    "fig = px.box(table, y='pullRequests')\n",
    "fig.show()"
   ]
  }
 ],
 "metadata": {
  "kernelspec": {
   "display_name": "Python 3",
   "language": "python",
   "name": "python3"
  },
  "language_info": {
   "codemirror_mode": {
    "name": "ipython",
    "version": 3
   },
   "file_extension": ".py",
   "mimetype": "text/x-python",
   "name": "python",
   "nbconvert_exporter": "python",
   "pygments_lexer": "ipython3",
   "version": "3.9.6"
  },
  "orig_nbformat": 4
 },
 "nbformat": 4,
 "nbformat_minor": 2
}

{
 "cells": [
  {
   "cell_type": "code",
   "execution_count": 64,
   "metadata": {},
   "outputs": [],
   "source": [
    "import pandas as pd\n",
    "import plotly.express as px\n",
    "import plotly.graph_objs as go"
   ]
  },
  {
   "cell_type": "code",
   "execution_count": 65,
   "metadata": {},
   "outputs": [],
   "source": [
    "df = pd.read_csv('../data/lab_1.main_data.csv')\n"
   ]
  },
  {
   "cell_type": "code",
   "execution_count": 66,
   "metadata": {},
   "outputs": [],
   "source": [
    "def format_date(date):\n",
    "    return date.replace('T', ' ').replace('Z', '')\n"
   ]
  },
  {
   "cell_type": "code",
   "execution_count": 67,
   "metadata": {},
   "outputs": [],
   "source": [
    "# def format_count(str):\n",
    "#     return str.replace(\"{'totalCount': \", '').replace('}', '')\n"
   ]
  },
  {
   "cell_type": "code",
   "execution_count": 68,
   "metadata": {},
   "outputs": [],
   "source": [
    "lst = ['createdAt', 'updatedAt']\n",
    "for i in lst:\n",
    "    df[i] = pd.to_datetime(df[i].apply(format_date))\n",
    "\n",
    "df['age'] = df['age'].apply(func={lambda x: x//365})\n",
    "\n",
    "# lst = ['releases', 'pullRequests', 'issues', 'IssuesClosed']\n",
    "# for i in lst:\n",
    "#     df[i] = df[i].apply(format_count).astype('int')\n",
    "\n",
    "# df['primaryLanguage'] = df['primaryLanguage'].fillna('-')\n",
    "\n",
    "# df\n"
   ]
  },
  {
   "cell_type": "code",
   "execution_count": 69,
   "metadata": {},
   "outputs": [
    {
     "data": {
      "text/html": [
       "<div>\n",
       "<style scoped>\n",
       "    .dataframe tbody tr th:only-of-type {\n",
       "        vertical-align: middle;\n",
       "    }\n",
       "\n",
       "    .dataframe tbody tr th {\n",
       "        vertical-align: top;\n",
       "    }\n",
       "\n",
       "    .dataframe thead th {\n",
       "        text-align: right;\n",
       "    }\n",
       "</style>\n",
       "<table border=\"1\" class=\"dataframe\">\n",
       "  <thead>\n",
       "    <tr style=\"text-align: right;\">\n",
       "      <th></th>\n",
       "      <th>id</th>\n",
       "      <th>nameWithOwner</th>\n",
       "      <th>url</th>\n",
       "      <th>createdAt</th>\n",
       "      <th>updatedAt</th>\n",
       "      <th>primaryLanguage</th>\n",
       "      <th>releases</th>\n",
       "      <th>pullRequests</th>\n",
       "      <th>issues</th>\n",
       "      <th>IssuesClosed</th>\n",
       "      <th>age</th>\n",
       "      <th>timeSinceLastUpdate</th>\n",
       "      <th>reasonIssuesIssuesClosed</th>\n",
       "    </tr>\n",
       "  </thead>\n",
       "  <tbody>\n",
       "    <tr>\n",
       "      <th>0</th>\n",
       "      <td>MDEwOlJlcG9zaXRvcnkyODQ1NzgyMw==</td>\n",
       "      <td>freeCodeCamp/freeCodeCamp</td>\n",
       "      <td>https://github.com/freeCodeCamp/freeCodeCamp</td>\n",
       "      <td>2014-12-24 17:49:19</td>\n",
       "      <td>2023-09-06 18:53:52</td>\n",
       "      <td>TypeScript</td>\n",
       "      <td>0</td>\n",
       "      <td>20490</td>\n",
       "      <td>17035</td>\n",
       "      <td>16839</td>\n",
       "      <td>8</td>\n",
       "      <td>0.476111</td>\n",
       "      <td>0.988494</td>\n",
       "    </tr>\n",
       "    <tr>\n",
       "      <th>1</th>\n",
       "      <td>MDEwOlJlcG9zaXRvcnkxMzQ5MTg5NQ==</td>\n",
       "      <td>EbookFoundation/free-programming-books</td>\n",
       "      <td>https://github.com/EbookFoundation/free-progra...</td>\n",
       "      <td>2013-10-11 06:50:37</td>\n",
       "      <td>2023-09-06 18:46:36</td>\n",
       "      <td>NaN</td>\n",
       "      <td>0</td>\n",
       "      <td>5680</td>\n",
       "      <td>959</td>\n",
       "      <td>926</td>\n",
       "      <td>9</td>\n",
       "      <td>0.597222</td>\n",
       "      <td>0.965589</td>\n",
       "    </tr>\n",
       "    <tr>\n",
       "      <th>2</th>\n",
       "      <td>MDEwOlJlcG9zaXRvcnkyMTczNzQ2NQ==</td>\n",
       "      <td>sindresorhus/awesome</td>\n",
       "      <td>https://github.com/sindresorhus/awesome</td>\n",
       "      <td>2014-07-11 13:42:37</td>\n",
       "      <td>2023-09-06 19:18:02</td>\n",
       "      <td>NaN</td>\n",
       "      <td>0</td>\n",
       "      <td>624</td>\n",
       "      <td>331</td>\n",
       "      <td>306</td>\n",
       "      <td>9</td>\n",
       "      <td>0.073333</td>\n",
       "      <td>0.924471</td>\n",
       "    </tr>\n",
       "    <tr>\n",
       "      <th>3</th>\n",
       "      <td>MDEwOlJlcG9zaXRvcnkxNzc3MzY1MzM=</td>\n",
       "      <td>996icu/996.ICU</td>\n",
       "      <td>https://github.com/996icu/996.ICU</td>\n",
       "      <td>2019-03-26 07:31:14</td>\n",
       "      <td>2023-09-06 17:37:37</td>\n",
       "      <td>NaN</td>\n",
       "      <td>0</td>\n",
       "      <td>1063</td>\n",
       "      <td>0</td>\n",
       "      <td>0</td>\n",
       "      <td>4</td>\n",
       "      <td>1.746944</td>\n",
       "      <td>0.000000</td>\n",
       "    </tr>\n",
       "    <tr>\n",
       "      <th>4</th>\n",
       "      <td>MDEwOlJlcG9zaXRvcnk2MDQ5MzEwMQ==</td>\n",
       "      <td>jwasham/coding-interview-university</td>\n",
       "      <td>https://github.com/jwasham/coding-interview-un...</td>\n",
       "      <td>2016-06-06 02:34:12</td>\n",
       "      <td>2023-09-06 19:12:51</td>\n",
       "      <td>NaN</td>\n",
       "      <td>0</td>\n",
       "      <td>372</td>\n",
       "      <td>402</td>\n",
       "      <td>358</td>\n",
       "      <td>7</td>\n",
       "      <td>0.159722</td>\n",
       "      <td>0.890547</td>\n",
       "    </tr>\n",
       "  </tbody>\n",
       "</table>\n",
       "</div>"
      ],
      "text/plain": [
       "                                 id                           nameWithOwner  \\\n",
       "0  MDEwOlJlcG9zaXRvcnkyODQ1NzgyMw==               freeCodeCamp/freeCodeCamp   \n",
       "1  MDEwOlJlcG9zaXRvcnkxMzQ5MTg5NQ==  EbookFoundation/free-programming-books   \n",
       "2  MDEwOlJlcG9zaXRvcnkyMTczNzQ2NQ==                    sindresorhus/awesome   \n",
       "3  MDEwOlJlcG9zaXRvcnkxNzc3MzY1MzM=                          996icu/996.ICU   \n",
       "4  MDEwOlJlcG9zaXRvcnk2MDQ5MzEwMQ==     jwasham/coding-interview-university   \n",
       "\n",
       "                                                 url           createdAt  \\\n",
       "0       https://github.com/freeCodeCamp/freeCodeCamp 2014-12-24 17:49:19   \n",
       "1  https://github.com/EbookFoundation/free-progra... 2013-10-11 06:50:37   \n",
       "2            https://github.com/sindresorhus/awesome 2014-07-11 13:42:37   \n",
       "3                  https://github.com/996icu/996.ICU 2019-03-26 07:31:14   \n",
       "4  https://github.com/jwasham/coding-interview-un... 2016-06-06 02:34:12   \n",
       "\n",
       "            updatedAt primaryLanguage  releases  pullRequests  issues  \\\n",
       "0 2023-09-06 18:53:52      TypeScript         0         20490   17035   \n",
       "1 2023-09-06 18:46:36             NaN         0          5680     959   \n",
       "2 2023-09-06 19:18:02             NaN         0           624     331   \n",
       "3 2023-09-06 17:37:37             NaN         0          1063       0   \n",
       "4 2023-09-06 19:12:51             NaN         0           372     402   \n",
       "\n",
       "   IssuesClosed  age  timeSinceLastUpdate  reasonIssuesIssuesClosed  \n",
       "0         16839    8             0.476111                  0.988494  \n",
       "1           926    9             0.597222                  0.965589  \n",
       "2           306    9             0.073333                  0.924471  \n",
       "3             0    4             1.746944                  0.000000  \n",
       "4           358    7             0.159722                  0.890547  "
      ]
     },
     "execution_count": 69,
     "metadata": {},
     "output_type": "execute_result"
    }
   ],
   "source": [
    "df.head()\n"
   ]
  },
  {
   "cell_type": "code",
   "execution_count": 70,
   "metadata": {},
   "outputs": [
    {
     "data": {
      "text/html": [
       "<div>\n",
       "<style scoped>\n",
       "    .dataframe tbody tr th:only-of-type {\n",
       "        vertical-align: middle;\n",
       "    }\n",
       "\n",
       "    .dataframe tbody tr th {\n",
       "        vertical-align: top;\n",
       "    }\n",
       "\n",
       "    .dataframe thead th {\n",
       "        text-align: right;\n",
       "    }\n",
       "</style>\n",
       "<table border=\"1\" class=\"dataframe\">\n",
       "  <thead>\n",
       "    <tr style=\"text-align: right;\">\n",
       "      <th></th>\n",
       "      <th>releases</th>\n",
       "      <th>pullRequests</th>\n",
       "      <th>issues</th>\n",
       "      <th>IssuesClosed</th>\n",
       "      <th>age</th>\n",
       "      <th>timeSinceLastUpdate</th>\n",
       "      <th>reasonIssuesIssuesClosed</th>\n",
       "    </tr>\n",
       "  </thead>\n",
       "  <tbody>\n",
       "    <tr>\n",
       "      <th>0</th>\n",
       "      <td>0</td>\n",
       "      <td>20490</td>\n",
       "      <td>17035</td>\n",
       "      <td>16839</td>\n",
       "      <td>8</td>\n",
       "      <td>0.476111</td>\n",
       "      <td>0.988494</td>\n",
       "    </tr>\n",
       "    <tr>\n",
       "      <th>1</th>\n",
       "      <td>0</td>\n",
       "      <td>5680</td>\n",
       "      <td>959</td>\n",
       "      <td>926</td>\n",
       "      <td>9</td>\n",
       "      <td>0.597222</td>\n",
       "      <td>0.965589</td>\n",
       "    </tr>\n",
       "    <tr>\n",
       "      <th>2</th>\n",
       "      <td>0</td>\n",
       "      <td>624</td>\n",
       "      <td>331</td>\n",
       "      <td>306</td>\n",
       "      <td>9</td>\n",
       "      <td>0.073333</td>\n",
       "      <td>0.924471</td>\n",
       "    </tr>\n",
       "    <tr>\n",
       "      <th>3</th>\n",
       "      <td>0</td>\n",
       "      <td>1063</td>\n",
       "      <td>0</td>\n",
       "      <td>0</td>\n",
       "      <td>4</td>\n",
       "      <td>1.746944</td>\n",
       "      <td>0.000000</td>\n",
       "    </tr>\n",
       "    <tr>\n",
       "      <th>4</th>\n",
       "      <td>0</td>\n",
       "      <td>372</td>\n",
       "      <td>402</td>\n",
       "      <td>358</td>\n",
       "      <td>7</td>\n",
       "      <td>0.159722</td>\n",
       "      <td>0.890547</td>\n",
       "    </tr>\n",
       "    <tr>\n",
       "      <th>...</th>\n",
       "      <td>...</td>\n",
       "      <td>...</td>\n",
       "      <td>...</td>\n",
       "      <td>...</td>\n",
       "      <td>...</td>\n",
       "      <td>...</td>\n",
       "      <td>...</td>\n",
       "    </tr>\n",
       "    <tr>\n",
       "      <th>995</th>\n",
       "      <td>38</td>\n",
       "      <td>117</td>\n",
       "      <td>602</td>\n",
       "      <td>567</td>\n",
       "      <td>6</td>\n",
       "      <td>2.470833</td>\n",
       "      <td>0.941860</td>\n",
       "    </tr>\n",
       "    <tr>\n",
       "      <th>996</th>\n",
       "      <td>90</td>\n",
       "      <td>93</td>\n",
       "      <td>64154</td>\n",
       "      <td>44807</td>\n",
       "      <td>6</td>\n",
       "      <td>0.088333</td>\n",
       "      <td>0.698429</td>\n",
       "    </tr>\n",
       "    <tr>\n",
       "      <th>997</th>\n",
       "      <td>980</td>\n",
       "      <td>8489</td>\n",
       "      <td>31757</td>\n",
       "      <td>29242</td>\n",
       "      <td>8</td>\n",
       "      <td>4.725278</td>\n",
       "      <td>0.920805</td>\n",
       "    </tr>\n",
       "    <tr>\n",
       "      <th>998</th>\n",
       "      <td>157</td>\n",
       "      <td>392</td>\n",
       "      <td>1027</td>\n",
       "      <td>933</td>\n",
       "      <td>5</td>\n",
       "      <td>1.408333</td>\n",
       "      <td>0.908471</td>\n",
       "    </tr>\n",
       "    <tr>\n",
       "      <th>999</th>\n",
       "      <td>0</td>\n",
       "      <td>165</td>\n",
       "      <td>20</td>\n",
       "      <td>14</td>\n",
       "      <td>8</td>\n",
       "      <td>10.234444</td>\n",
       "      <td>0.700000</td>\n",
       "    </tr>\n",
       "  </tbody>\n",
       "</table>\n",
       "<p>1000 rows × 7 columns</p>\n",
       "</div>"
      ],
      "text/plain": [
       "     releases  pullRequests  issues  IssuesClosed  age  timeSinceLastUpdate  \\\n",
       "0           0         20490   17035         16839    8             0.476111   \n",
       "1           0          5680     959           926    9             0.597222   \n",
       "2           0           624     331           306    9             0.073333   \n",
       "3           0          1063       0             0    4             1.746944   \n",
       "4           0           372     402           358    7             0.159722   \n",
       "..        ...           ...     ...           ...  ...                  ...   \n",
       "995        38           117     602           567    6             2.470833   \n",
       "996        90            93   64154         44807    6             0.088333   \n",
       "997       980          8489   31757         29242    8             4.725278   \n",
       "998       157           392    1027           933    5             1.408333   \n",
       "999         0           165      20            14    8            10.234444   \n",
       "\n",
       "     reasonIssuesIssuesClosed  \n",
       "0                    0.988494  \n",
       "1                    0.965589  \n",
       "2                    0.924471  \n",
       "3                    0.000000  \n",
       "4                    0.890547  \n",
       "..                        ...  \n",
       "995                  0.941860  \n",
       "996                  0.698429  \n",
       "997                  0.920805  \n",
       "998                  0.908471  \n",
       "999                  0.700000  \n",
       "\n",
       "[1000 rows x 7 columns]"
      ]
     },
     "execution_count": 70,
     "metadata": {},
     "output_type": "execute_result"
    }
   ],
   "source": [
    "table = df.drop(['id', 'nameWithOwner', 'url', 'createdAt', 'updatedAt', 'primaryLanguage'], axis=1)\n",
    "table"
   ]
  },
  {
   "cell_type": "code",
   "execution_count": 71,
   "metadata": {},
   "outputs": [
    {
     "data": {
      "application/vnd.plotly.v1+json": {
       "config": {
        "plotlyServerURL": "https://plot.ly"
       },
       "data": [
        {
         "alignmentgroup": "True",
         "hovertemplate": "Idade=%{y}<extra></extra>",
         "legendgroup": "",
         "marker": {
          "color": "#636efa"
         },
         "name": "",
         "notched": false,
         "offsetgroup": "",
         "orientation": "v",
         "showlegend": false,
         "type": "box",
         "x0": " ",
         "xaxis": "x",
         "y": [
          8,
          9,
          9,
          4,
          7,
          7,
          6,
          6,
          5,
          10,
          10,
          9,
          7,
          5,
          9,
          7,
          5,
          12,
          14,
          12,
          8,
          12,
          8,
          9,
          0,
          8,
          5,
          8,
          5,
          10,
          12,
          3,
          5,
          6,
          9,
          8,
          4,
          6,
          10,
          9,
          5,
          12,
          9,
          9,
          9,
          1,
          7,
          8,
          4,
          7,
          13,
          9,
          5,
          5,
          5,
          6,
          8,
          9,
          0,
          8,
          6,
          13,
          6,
          6,
          9,
          7,
          8,
          11,
          7,
          9,
          7,
          2,
          7,
          12,
          4,
          11,
          6,
          8,
          6,
          8,
          11,
          5,
          7,
          4,
          9,
          12,
          11,
          7,
          13,
          5,
          7,
          10,
          9,
          10,
          7,
          9,
          4,
          4,
          4,
          10,
          5,
          4,
          13,
          10,
          12,
          13,
          9,
          7,
          11,
          7,
          0,
          9,
          4,
          4,
          14,
          10,
          14,
          0,
          9,
          8,
          12,
          4,
          6,
          9,
          8,
          0,
          1,
          11,
          6,
          3,
          6,
          8,
          11,
          13,
          13,
          3,
          11,
          5,
          9,
          11,
          14,
          3,
          5,
          5,
          7,
          11,
          9,
          10,
          5,
          3,
          10,
          7,
          4,
          7,
          8,
          3,
          13,
          6,
          9,
          2,
          13,
          8,
          3,
          3,
          4,
          9,
          9,
          8,
          7,
          15,
          7,
          2,
          8,
          9,
          3,
          12,
          9,
          3,
          5,
          6,
          0,
          5,
          9,
          12,
          10,
          6,
          6,
          12,
          9,
          9,
          10,
          8,
          10,
          6,
          8,
          9,
          11,
          8,
          7,
          13,
          6,
          6,
          9,
          5,
          11,
          12,
          7,
          1,
          6,
          6,
          15,
          8,
          10,
          14,
          7,
          5,
          6,
          4,
          7,
          2,
          6,
          5,
          7,
          8,
          11,
          9,
          8,
          10,
          8,
          8,
          7,
          0,
          3,
          4,
          7,
          6,
          11,
          10,
          0,
          7,
          5,
          10,
          7,
          9,
          12,
          2,
          11,
          9,
          0,
          9,
          7,
          12,
          4,
          8,
          7,
          4,
          9,
          9,
          10,
          5,
          0,
          6,
          0,
          9,
          6,
          8,
          4,
          5,
          5,
          11,
          9,
          5,
          6,
          13,
          6,
          5,
          3,
          5,
          7,
          3,
          8,
          6,
          7,
          3,
          7,
          5,
          9,
          7,
          0,
          10,
          0,
          5,
          0,
          8,
          7,
          6,
          0,
          9,
          5,
          4,
          7,
          11,
          9,
          13,
          10,
          7,
          7,
          11,
          10,
          10,
          8,
          8,
          8,
          9,
          10,
          5,
          5,
          5,
          6,
          6,
          2,
          4,
          12,
          2,
          6,
          3,
          12,
          5,
          5,
          6,
          0,
          11,
          2,
          4,
          6,
          6,
          5,
          9,
          8,
          6,
          10,
          11,
          8,
          9,
          0,
          7,
          7,
          3,
          8,
          11,
          9,
          9,
          5,
          9,
          4,
          6,
          7,
          10,
          6,
          11,
          8,
          6,
          4,
          3,
          3,
          13,
          10,
          4,
          12,
          7,
          6,
          8,
          7,
          4,
          3,
          7,
          9,
          0,
          8,
          4,
          5,
          4,
          10,
          11,
          0,
          13,
          7,
          7,
          6,
          10,
          4,
          8,
          9,
          5,
          14,
          5,
          7,
          2,
          4,
          3,
          6,
          10,
          9,
          4,
          6,
          8,
          6,
          6,
          4,
          0,
          10,
          8,
          0,
          10,
          0,
          4,
          6,
          7,
          1,
          9,
          5,
          10,
          9,
          9,
          5,
          7,
          11,
          10,
          11,
          7,
          4,
          12,
          5,
          8,
          5,
          3,
          10,
          11,
          3,
          6,
          4,
          4,
          3,
          7,
          10,
          0,
          10,
          6,
          7,
          3,
          9,
          7,
          4,
          8,
          9,
          7,
          1,
          9,
          8,
          8,
          13,
          8,
          5,
          2,
          7,
          9,
          12,
          7,
          6,
          8,
          10,
          5,
          8,
          11,
          3,
          8,
          9,
          12,
          9,
          6,
          10,
          13,
          12,
          3,
          3,
          12,
          6,
          2,
          8,
          4,
          5,
          7,
          9,
          9,
          7,
          2,
          6,
          4,
          12,
          9,
          5,
          4,
          8,
          5,
          8,
          8,
          9,
          11,
          8,
          10,
          5,
          0,
          6,
          2,
          2,
          13,
          7,
          7,
          0,
          6,
          11,
          4,
          4,
          8,
          6,
          12,
          11,
          12,
          4,
          8,
          3,
          9,
          6,
          9,
          11,
          6,
          7,
          3,
          5,
          6,
          6,
          8,
          5,
          12,
          1,
          9,
          6,
          8,
          4,
          13,
          6,
          5,
          3,
          12,
          2,
          7,
          8,
          9,
          7,
          9,
          6,
          10,
          7,
          9,
          2,
          5,
          5,
          6,
          9,
          6,
          9,
          7,
          6,
          9,
          1,
          0,
          7,
          11,
          6,
          13,
          8,
          0,
          4,
          3,
          9,
          7,
          5,
          4,
          9,
          4,
          8,
          6,
          8,
          7,
          9,
          11,
          4,
          11,
          8,
          12,
          9,
          6,
          9,
          7,
          6,
          9,
          1,
          0,
          7,
          11,
          6,
          13,
          8,
          14,
          0,
          9,
          4,
          3,
          13,
          9,
          7,
          5,
          4,
          9,
          4,
          8,
          6,
          8,
          7,
          9,
          11,
          4,
          11,
          8,
          12,
          2,
          4,
          0,
          5,
          10,
          0,
          8,
          7,
          9,
          8,
          8,
          5,
          7,
          7,
          9,
          5,
          5,
          5,
          13,
          12,
          8,
          4,
          4,
          10,
          8,
          7,
          0,
          8,
          4,
          0,
          10,
          12,
          5,
          5,
          9,
          8,
          3,
          11,
          13,
          3,
          10,
          4,
          12,
          5,
          11,
          5,
          5,
          10,
          7,
          9,
          8,
          12,
          13,
          3,
          11,
          1,
          12,
          8,
          3,
          10,
          7,
          10,
          8,
          13,
          8,
          4,
          12,
          7,
          0,
          11,
          5,
          13,
          3,
          8,
          5,
          7,
          7,
          9,
          12,
          6,
          6,
          11,
          6,
          8,
          7,
          8,
          5,
          7,
          10,
          2,
          5,
          1,
          7,
          8,
          3,
          10,
          11,
          7,
          4,
          10,
          6,
          3,
          8,
          6,
          3,
          5,
          7,
          3,
          5,
          7,
          7,
          2,
          13,
          5,
          4,
          8,
          9,
          4,
          9,
          4,
          4,
          2,
          11,
          3,
          5,
          11,
          0,
          2,
          12,
          2,
          6,
          12,
          6,
          6,
          5,
          11,
          14,
          7,
          3,
          7,
          7,
          6,
          8,
          8,
          6,
          7,
          7,
          4,
          12,
          2,
          7,
          2,
          6,
          7,
          11,
          9,
          8,
          6,
          9,
          4,
          12,
          8,
          8,
          8,
          9,
          4,
          7,
          6,
          11,
          9,
          1,
          11,
          4,
          7,
          6,
          7,
          7,
          11,
          4,
          10,
          11,
          9,
          7,
          9,
          7,
          12,
          10,
          8,
          5,
          4,
          6,
          12,
          11,
          10,
          4,
          5,
          2,
          13,
          3,
          5,
          11,
          10,
          6,
          5,
          5,
          4,
          10,
          0,
          3,
          10,
          10,
          9,
          7,
          12,
          4,
          7,
          9,
          9,
          10,
          9,
          3,
          4,
          12,
          9,
          7,
          10,
          9,
          0,
          7,
          8,
          6,
          10,
          8,
          7,
          2,
          8,
          2,
          6,
          4,
          7,
          10,
          9,
          6,
          7,
          9,
          0,
          7,
          1,
          6,
          3,
          8,
          1,
          7,
          12,
          2,
          11,
          9,
          7,
          7,
          10,
          9,
          4,
          4,
          8,
          9,
          13,
          6,
          9,
          2,
          7,
          7,
          5,
          12,
          9,
          2,
          6,
          8,
          6,
          6,
          7,
          7,
          0,
          0,
          8,
          8,
          7,
          9,
          6,
          10,
          11,
          7,
          0,
          12,
          1,
          10,
          4,
          4,
          4,
          14,
          4,
          9,
          4,
          9,
          9,
          12,
          2,
          1,
          10,
          12,
          4,
          8,
          6,
          12,
          6,
          9,
          5,
          11,
          12,
          4,
          9,
          9,
          5,
          6,
          11,
          5,
          5,
          4,
          11,
          10,
          8,
          9,
          9,
          7,
          0,
          11,
          6,
          6,
          7,
          9,
          4,
          9,
          6,
          9,
          4,
          12,
          8,
          10,
          7,
          1,
          8,
          8,
          9,
          8,
          4,
          6,
          7,
          6,
          8,
          10,
          8,
          6,
          6,
          8,
          5,
          8
         ],
         "y0": " ",
         "yaxis": "y"
        }
       ],
       "layout": {
        "boxmode": "group",
        "legend": {
         "tracegroupgap": 0
        },
        "template": {
         "data": {
          "bar": [
           {
            "error_x": {
             "color": "#2a3f5f"
            },
            "error_y": {
             "color": "#2a3f5f"
            },
            "marker": {
             "line": {
              "color": "#E5ECF6",
              "width": 0.5
             },
             "pattern": {
              "fillmode": "overlay",
              "size": 10,
              "solidity": 0.2
             }
            },
            "type": "bar"
           }
          ],
          "barpolar": [
           {
            "marker": {
             "line": {
              "color": "#E5ECF6",
              "width": 0.5
             },
             "pattern": {
              "fillmode": "overlay",
              "size": 10,
              "solidity": 0.2
             }
            },
            "type": "barpolar"
           }
          ],
          "carpet": [
           {
            "aaxis": {
             "endlinecolor": "#2a3f5f",
             "gridcolor": "white",
             "linecolor": "white",
             "minorgridcolor": "white",
             "startlinecolor": "#2a3f5f"
            },
            "baxis": {
             "endlinecolor": "#2a3f5f",
             "gridcolor": "white",
             "linecolor": "white",
             "minorgridcolor": "white",
             "startlinecolor": "#2a3f5f"
            },
            "type": "carpet"
           }
          ],
          "choropleth": [
           {
            "colorbar": {
             "outlinewidth": 0,
             "ticks": ""
            },
            "type": "choropleth"
           }
          ],
          "contour": [
           {
            "colorbar": {
             "outlinewidth": 0,
             "ticks": ""
            },
            "colorscale": [
             [
              0,
              "#0d0887"
             ],
             [
              0.1111111111111111,
              "#46039f"
             ],
             [
              0.2222222222222222,
              "#7201a8"
             ],
             [
              0.3333333333333333,
              "#9c179e"
             ],
             [
              0.4444444444444444,
              "#bd3786"
             ],
             [
              0.5555555555555556,
              "#d8576b"
             ],
             [
              0.6666666666666666,
              "#ed7953"
             ],
             [
              0.7777777777777778,
              "#fb9f3a"
             ],
             [
              0.8888888888888888,
              "#fdca26"
             ],
             [
              1,
              "#f0f921"
             ]
            ],
            "type": "contour"
           }
          ],
          "contourcarpet": [
           {
            "colorbar": {
             "outlinewidth": 0,
             "ticks": ""
            },
            "type": "contourcarpet"
           }
          ],
          "heatmap": [
           {
            "colorbar": {
             "outlinewidth": 0,
             "ticks": ""
            },
            "colorscale": [
             [
              0,
              "#0d0887"
             ],
             [
              0.1111111111111111,
              "#46039f"
             ],
             [
              0.2222222222222222,
              "#7201a8"
             ],
             [
              0.3333333333333333,
              "#9c179e"
             ],
             [
              0.4444444444444444,
              "#bd3786"
             ],
             [
              0.5555555555555556,
              "#d8576b"
             ],
             [
              0.6666666666666666,
              "#ed7953"
             ],
             [
              0.7777777777777778,
              "#fb9f3a"
             ],
             [
              0.8888888888888888,
              "#fdca26"
             ],
             [
              1,
              "#f0f921"
             ]
            ],
            "type": "heatmap"
           }
          ],
          "heatmapgl": [
           {
            "colorbar": {
             "outlinewidth": 0,
             "ticks": ""
            },
            "colorscale": [
             [
              0,
              "#0d0887"
             ],
             [
              0.1111111111111111,
              "#46039f"
             ],
             [
              0.2222222222222222,
              "#7201a8"
             ],
             [
              0.3333333333333333,
              "#9c179e"
             ],
             [
              0.4444444444444444,
              "#bd3786"
             ],
             [
              0.5555555555555556,
              "#d8576b"
             ],
             [
              0.6666666666666666,
              "#ed7953"
             ],
             [
              0.7777777777777778,
              "#fb9f3a"
             ],
             [
              0.8888888888888888,
              "#fdca26"
             ],
             [
              1,
              "#f0f921"
             ]
            ],
            "type": "heatmapgl"
           }
          ],
          "histogram": [
           {
            "marker": {
             "pattern": {
              "fillmode": "overlay",
              "size": 10,
              "solidity": 0.2
             }
            },
            "type": "histogram"
           }
          ],
          "histogram2d": [
           {
            "colorbar": {
             "outlinewidth": 0,
             "ticks": ""
            },
            "colorscale": [
             [
              0,
              "#0d0887"
             ],
             [
              0.1111111111111111,
              "#46039f"
             ],
             [
              0.2222222222222222,
              "#7201a8"
             ],
             [
              0.3333333333333333,
              "#9c179e"
             ],
             [
              0.4444444444444444,
              "#bd3786"
             ],
             [
              0.5555555555555556,
              "#d8576b"
             ],
             [
              0.6666666666666666,
              "#ed7953"
             ],
             [
              0.7777777777777778,
              "#fb9f3a"
             ],
             [
              0.8888888888888888,
              "#fdca26"
             ],
             [
              1,
              "#f0f921"
             ]
            ],
            "type": "histogram2d"
           }
          ],
          "histogram2dcontour": [
           {
            "colorbar": {
             "outlinewidth": 0,
             "ticks": ""
            },
            "colorscale": [
             [
              0,
              "#0d0887"
             ],
             [
              0.1111111111111111,
              "#46039f"
             ],
             [
              0.2222222222222222,
              "#7201a8"
             ],
             [
              0.3333333333333333,
              "#9c179e"
             ],
             [
              0.4444444444444444,
              "#bd3786"
             ],
             [
              0.5555555555555556,
              "#d8576b"
             ],
             [
              0.6666666666666666,
              "#ed7953"
             ],
             [
              0.7777777777777778,
              "#fb9f3a"
             ],
             [
              0.8888888888888888,
              "#fdca26"
             ],
             [
              1,
              "#f0f921"
             ]
            ],
            "type": "histogram2dcontour"
           }
          ],
          "mesh3d": [
           {
            "colorbar": {
             "outlinewidth": 0,
             "ticks": ""
            },
            "type": "mesh3d"
           }
          ],
          "parcoords": [
           {
            "line": {
             "colorbar": {
              "outlinewidth": 0,
              "ticks": ""
             }
            },
            "type": "parcoords"
           }
          ],
          "pie": [
           {
            "automargin": true,
            "type": "pie"
           }
          ],
          "scatter": [
           {
            "fillpattern": {
             "fillmode": "overlay",
             "size": 10,
             "solidity": 0.2
            },
            "type": "scatter"
           }
          ],
          "scatter3d": [
           {
            "line": {
             "colorbar": {
              "outlinewidth": 0,
              "ticks": ""
             }
            },
            "marker": {
             "colorbar": {
              "outlinewidth": 0,
              "ticks": ""
             }
            },
            "type": "scatter3d"
           }
          ],
          "scattercarpet": [
           {
            "marker": {
             "colorbar": {
              "outlinewidth": 0,
              "ticks": ""
             }
            },
            "type": "scattercarpet"
           }
          ],
          "scattergeo": [
           {
            "marker": {
             "colorbar": {
              "outlinewidth": 0,
              "ticks": ""
             }
            },
            "type": "scattergeo"
           }
          ],
          "scattergl": [
           {
            "marker": {
             "colorbar": {
              "outlinewidth": 0,
              "ticks": ""
             }
            },
            "type": "scattergl"
           }
          ],
          "scattermapbox": [
           {
            "marker": {
             "colorbar": {
              "outlinewidth": 0,
              "ticks": ""
             }
            },
            "type": "scattermapbox"
           }
          ],
          "scatterpolar": [
           {
            "marker": {
             "colorbar": {
              "outlinewidth": 0,
              "ticks": ""
             }
            },
            "type": "scatterpolar"
           }
          ],
          "scatterpolargl": [
           {
            "marker": {
             "colorbar": {
              "outlinewidth": 0,
              "ticks": ""
             }
            },
            "type": "scatterpolargl"
           }
          ],
          "scatterternary": [
           {
            "marker": {
             "colorbar": {
              "outlinewidth": 0,
              "ticks": ""
             }
            },
            "type": "scatterternary"
           }
          ],
          "surface": [
           {
            "colorbar": {
             "outlinewidth": 0,
             "ticks": ""
            },
            "colorscale": [
             [
              0,
              "#0d0887"
             ],
             [
              0.1111111111111111,
              "#46039f"
             ],
             [
              0.2222222222222222,
              "#7201a8"
             ],
             [
              0.3333333333333333,
              "#9c179e"
             ],
             [
              0.4444444444444444,
              "#bd3786"
             ],
             [
              0.5555555555555556,
              "#d8576b"
             ],
             [
              0.6666666666666666,
              "#ed7953"
             ],
             [
              0.7777777777777778,
              "#fb9f3a"
             ],
             [
              0.8888888888888888,
              "#fdca26"
             ],
             [
              1,
              "#f0f921"
             ]
            ],
            "type": "surface"
           }
          ],
          "table": [
           {
            "cells": {
             "fill": {
              "color": "#EBF0F8"
             },
             "line": {
              "color": "white"
             }
            },
            "header": {
             "fill": {
              "color": "#C8D4E3"
             },
             "line": {
              "color": "white"
             }
            },
            "type": "table"
           }
          ]
         },
         "layout": {
          "annotationdefaults": {
           "arrowcolor": "#2a3f5f",
           "arrowhead": 0,
           "arrowwidth": 1
          },
          "autotypenumbers": "strict",
          "coloraxis": {
           "colorbar": {
            "outlinewidth": 0,
            "ticks": ""
           }
          },
          "colorscale": {
           "diverging": [
            [
             0,
             "#8e0152"
            ],
            [
             0.1,
             "#c51b7d"
            ],
            [
             0.2,
             "#de77ae"
            ],
            [
             0.3,
             "#f1b6da"
            ],
            [
             0.4,
             "#fde0ef"
            ],
            [
             0.5,
             "#f7f7f7"
            ],
            [
             0.6,
             "#e6f5d0"
            ],
            [
             0.7,
             "#b8e186"
            ],
            [
             0.8,
             "#7fbc41"
            ],
            [
             0.9,
             "#4d9221"
            ],
            [
             1,
             "#276419"
            ]
           ],
           "sequential": [
            [
             0,
             "#0d0887"
            ],
            [
             0.1111111111111111,
             "#46039f"
            ],
            [
             0.2222222222222222,
             "#7201a8"
            ],
            [
             0.3333333333333333,
             "#9c179e"
            ],
            [
             0.4444444444444444,
             "#bd3786"
            ],
            [
             0.5555555555555556,
             "#d8576b"
            ],
            [
             0.6666666666666666,
             "#ed7953"
            ],
            [
             0.7777777777777778,
             "#fb9f3a"
            ],
            [
             0.8888888888888888,
             "#fdca26"
            ],
            [
             1,
             "#f0f921"
            ]
           ],
           "sequentialminus": [
            [
             0,
             "#0d0887"
            ],
            [
             0.1111111111111111,
             "#46039f"
            ],
            [
             0.2222222222222222,
             "#7201a8"
            ],
            [
             0.3333333333333333,
             "#9c179e"
            ],
            [
             0.4444444444444444,
             "#bd3786"
            ],
            [
             0.5555555555555556,
             "#d8576b"
            ],
            [
             0.6666666666666666,
             "#ed7953"
            ],
            [
             0.7777777777777778,
             "#fb9f3a"
            ],
            [
             0.8888888888888888,
             "#fdca26"
            ],
            [
             1,
             "#f0f921"
            ]
           ]
          },
          "colorway": [
           "#636efa",
           "#EF553B",
           "#00cc96",
           "#ab63fa",
           "#FFA15A",
           "#19d3f3",
           "#FF6692",
           "#B6E880",
           "#FF97FF",
           "#FECB52"
          ],
          "font": {
           "color": "#2a3f5f"
          },
          "geo": {
           "bgcolor": "white",
           "lakecolor": "white",
           "landcolor": "#E5ECF6",
           "showlakes": true,
           "showland": true,
           "subunitcolor": "white"
          },
          "hoverlabel": {
           "align": "left"
          },
          "hovermode": "closest",
          "mapbox": {
           "style": "light"
          },
          "paper_bgcolor": "white",
          "plot_bgcolor": "#E5ECF6",
          "polar": {
           "angularaxis": {
            "gridcolor": "white",
            "linecolor": "white",
            "ticks": ""
           },
           "bgcolor": "#E5ECF6",
           "radialaxis": {
            "gridcolor": "white",
            "linecolor": "white",
            "ticks": ""
           }
          },
          "scene": {
           "xaxis": {
            "backgroundcolor": "#E5ECF6",
            "gridcolor": "white",
            "gridwidth": 2,
            "linecolor": "white",
            "showbackground": true,
            "ticks": "",
            "zerolinecolor": "white"
           },
           "yaxis": {
            "backgroundcolor": "#E5ECF6",
            "gridcolor": "white",
            "gridwidth": 2,
            "linecolor": "white",
            "showbackground": true,
            "ticks": "",
            "zerolinecolor": "white"
           },
           "zaxis": {
            "backgroundcolor": "#E5ECF6",
            "gridcolor": "white",
            "gridwidth": 2,
            "linecolor": "white",
            "showbackground": true,
            "ticks": "",
            "zerolinecolor": "white"
           }
          },
          "shapedefaults": {
           "line": {
            "color": "#2a3f5f"
           }
          },
          "ternary": {
           "aaxis": {
            "gridcolor": "white",
            "linecolor": "white",
            "ticks": ""
           },
           "baxis": {
            "gridcolor": "white",
            "linecolor": "white",
            "ticks": ""
           },
           "bgcolor": "#E5ECF6",
           "caxis": {
            "gridcolor": "white",
            "linecolor": "white",
            "ticks": ""
           }
          },
          "title": {
           "x": 0.05
          },
          "xaxis": {
           "automargin": true,
           "gridcolor": "white",
           "linecolor": "white",
           "ticks": "",
           "title": {
            "standoff": 15
           },
           "zerolinecolor": "white",
           "zerolinewidth": 2
          },
          "yaxis": {
           "automargin": true,
           "gridcolor": "white",
           "linecolor": "white",
           "ticks": "",
           "title": {
            "standoff": 15
           },
           "zerolinecolor": "white",
           "zerolinewidth": 2
          }
         }
        },
        "title": {
         "text": "Idade"
        },
        "xaxis": {
         "anchor": "y",
         "domain": [
          0,
          1
         ]
        },
        "yaxis": {
         "anchor": "x",
         "domain": [
          0,
          1
         ],
         "title": {
          "text": "Idade"
         }
        }
       }
      }
     },
     "metadata": {},
     "output_type": "display_data"
    },
    {
     "data": {
      "application/vnd.plotly.v1+json": {
       "config": {
        "plotlyServerURL": "https://plot.ly"
       },
       "data": [
        {
         "cells": {
          "align": [
           "left",
           "center"
          ],
          "fill": {
           "color": [
            [
             "white",
             "lightgrey",
             "white",
             "lightgrey",
             "white",
             "lightgrey",
             "white",
             "lightgrey",
             "white",
             "lightgrey",
             "white",
             "lightgrey",
             "white",
             "lightgrey",
             "white",
             "lightgrey",
             "white",
             "lightgrey",
             "white",
             "lightgrey"
            ]
           ]
          },
          "font": {
           "color": "darkslategray",
           "size": 11
          },
          "line": {
           "color": "darkslategray"
          },
          "values": [
           [
            "min",
            "q1",
            "median",
            "q3",
            "max"
           ],
           [
            0,
            5,
            7,
            9,
            15
           ]
          ]
         },
         "header": {
          "align": [
           "left",
           "center"
          ],
          "fill": {
           "color": "grey"
          },
          "font": {
           "color": "white",
           "size": 12
          },
          "line": {
           "color": "darkslategray"
          },
          "values": [
           "Título",
           "Idade"
          ]
         },
         "type": "table"
        }
       ],
       "layout": {
        "height": 180,
        "margin": {
         "b": 10,
         "l": 10,
         "r": 10,
         "t": 10
        },
        "paper_bgcolor": "rgba(0,0,0,0)",
        "plot_bgcolor": "rgba(0,0,0,0)",
        "template": {
         "data": {
          "bar": [
           {
            "error_x": {
             "color": "#2a3f5f"
            },
            "error_y": {
             "color": "#2a3f5f"
            },
            "marker": {
             "line": {
              "color": "#E5ECF6",
              "width": 0.5
             },
             "pattern": {
              "fillmode": "overlay",
              "size": 10,
              "solidity": 0.2
             }
            },
            "type": "bar"
           }
          ],
          "barpolar": [
           {
            "marker": {
             "line": {
              "color": "#E5ECF6",
              "width": 0.5
             },
             "pattern": {
              "fillmode": "overlay",
              "size": 10,
              "solidity": 0.2
             }
            },
            "type": "barpolar"
           }
          ],
          "carpet": [
           {
            "aaxis": {
             "endlinecolor": "#2a3f5f",
             "gridcolor": "white",
             "linecolor": "white",
             "minorgridcolor": "white",
             "startlinecolor": "#2a3f5f"
            },
            "baxis": {
             "endlinecolor": "#2a3f5f",
             "gridcolor": "white",
             "linecolor": "white",
             "minorgridcolor": "white",
             "startlinecolor": "#2a3f5f"
            },
            "type": "carpet"
           }
          ],
          "choropleth": [
           {
            "colorbar": {
             "outlinewidth": 0,
             "ticks": ""
            },
            "type": "choropleth"
           }
          ],
          "contour": [
           {
            "colorbar": {
             "outlinewidth": 0,
             "ticks": ""
            },
            "colorscale": [
             [
              0,
              "#0d0887"
             ],
             [
              0.1111111111111111,
              "#46039f"
             ],
             [
              0.2222222222222222,
              "#7201a8"
             ],
             [
              0.3333333333333333,
              "#9c179e"
             ],
             [
              0.4444444444444444,
              "#bd3786"
             ],
             [
              0.5555555555555556,
              "#d8576b"
             ],
             [
              0.6666666666666666,
              "#ed7953"
             ],
             [
              0.7777777777777778,
              "#fb9f3a"
             ],
             [
              0.8888888888888888,
              "#fdca26"
             ],
             [
              1,
              "#f0f921"
             ]
            ],
            "type": "contour"
           }
          ],
          "contourcarpet": [
           {
            "colorbar": {
             "outlinewidth": 0,
             "ticks": ""
            },
            "type": "contourcarpet"
           }
          ],
          "heatmap": [
           {
            "colorbar": {
             "outlinewidth": 0,
             "ticks": ""
            },
            "colorscale": [
             [
              0,
              "#0d0887"
             ],
             [
              0.1111111111111111,
              "#46039f"
             ],
             [
              0.2222222222222222,
              "#7201a8"
             ],
             [
              0.3333333333333333,
              "#9c179e"
             ],
             [
              0.4444444444444444,
              "#bd3786"
             ],
             [
              0.5555555555555556,
              "#d8576b"
             ],
             [
              0.6666666666666666,
              "#ed7953"
             ],
             [
              0.7777777777777778,
              "#fb9f3a"
             ],
             [
              0.8888888888888888,
              "#fdca26"
             ],
             [
              1,
              "#f0f921"
             ]
            ],
            "type": "heatmap"
           }
          ],
          "heatmapgl": [
           {
            "colorbar": {
             "outlinewidth": 0,
             "ticks": ""
            },
            "colorscale": [
             [
              0,
              "#0d0887"
             ],
             [
              0.1111111111111111,
              "#46039f"
             ],
             [
              0.2222222222222222,
              "#7201a8"
             ],
             [
              0.3333333333333333,
              "#9c179e"
             ],
             [
              0.4444444444444444,
              "#bd3786"
             ],
             [
              0.5555555555555556,
              "#d8576b"
             ],
             [
              0.6666666666666666,
              "#ed7953"
             ],
             [
              0.7777777777777778,
              "#fb9f3a"
             ],
             [
              0.8888888888888888,
              "#fdca26"
             ],
             [
              1,
              "#f0f921"
             ]
            ],
            "type": "heatmapgl"
           }
          ],
          "histogram": [
           {
            "marker": {
             "pattern": {
              "fillmode": "overlay",
              "size": 10,
              "solidity": 0.2
             }
            },
            "type": "histogram"
           }
          ],
          "histogram2d": [
           {
            "colorbar": {
             "outlinewidth": 0,
             "ticks": ""
            },
            "colorscale": [
             [
              0,
              "#0d0887"
             ],
             [
              0.1111111111111111,
              "#46039f"
             ],
             [
              0.2222222222222222,
              "#7201a8"
             ],
             [
              0.3333333333333333,
              "#9c179e"
             ],
             [
              0.4444444444444444,
              "#bd3786"
             ],
             [
              0.5555555555555556,
              "#d8576b"
             ],
             [
              0.6666666666666666,
              "#ed7953"
             ],
             [
              0.7777777777777778,
              "#fb9f3a"
             ],
             [
              0.8888888888888888,
              "#fdca26"
             ],
             [
              1,
              "#f0f921"
             ]
            ],
            "type": "histogram2d"
           }
          ],
          "histogram2dcontour": [
           {
            "colorbar": {
             "outlinewidth": 0,
             "ticks": ""
            },
            "colorscale": [
             [
              0,
              "#0d0887"
             ],
             [
              0.1111111111111111,
              "#46039f"
             ],
             [
              0.2222222222222222,
              "#7201a8"
             ],
             [
              0.3333333333333333,
              "#9c179e"
             ],
             [
              0.4444444444444444,
              "#bd3786"
             ],
             [
              0.5555555555555556,
              "#d8576b"
             ],
             [
              0.6666666666666666,
              "#ed7953"
             ],
             [
              0.7777777777777778,
              "#fb9f3a"
             ],
             [
              0.8888888888888888,
              "#fdca26"
             ],
             [
              1,
              "#f0f921"
             ]
            ],
            "type": "histogram2dcontour"
           }
          ],
          "mesh3d": [
           {
            "colorbar": {
             "outlinewidth": 0,
             "ticks": ""
            },
            "type": "mesh3d"
           }
          ],
          "parcoords": [
           {
            "line": {
             "colorbar": {
              "outlinewidth": 0,
              "ticks": ""
             }
            },
            "type": "parcoords"
           }
          ],
          "pie": [
           {
            "automargin": true,
            "type": "pie"
           }
          ],
          "scatter": [
           {
            "fillpattern": {
             "fillmode": "overlay",
             "size": 10,
             "solidity": 0.2
            },
            "type": "scatter"
           }
          ],
          "scatter3d": [
           {
            "line": {
             "colorbar": {
              "outlinewidth": 0,
              "ticks": ""
             }
            },
            "marker": {
             "colorbar": {
              "outlinewidth": 0,
              "ticks": ""
             }
            },
            "type": "scatter3d"
           }
          ],
          "scattercarpet": [
           {
            "marker": {
             "colorbar": {
              "outlinewidth": 0,
              "ticks": ""
             }
            },
            "type": "scattercarpet"
           }
          ],
          "scattergeo": [
           {
            "marker": {
             "colorbar": {
              "outlinewidth": 0,
              "ticks": ""
             }
            },
            "type": "scattergeo"
           }
          ],
          "scattergl": [
           {
            "marker": {
             "colorbar": {
              "outlinewidth": 0,
              "ticks": ""
             }
            },
            "type": "scattergl"
           }
          ],
          "scattermapbox": [
           {
            "marker": {
             "colorbar": {
              "outlinewidth": 0,
              "ticks": ""
             }
            },
            "type": "scattermapbox"
           }
          ],
          "scatterpolar": [
           {
            "marker": {
             "colorbar": {
              "outlinewidth": 0,
              "ticks": ""
             }
            },
            "type": "scatterpolar"
           }
          ],
          "scatterpolargl": [
           {
            "marker": {
             "colorbar": {
              "outlinewidth": 0,
              "ticks": ""
             }
            },
            "type": "scatterpolargl"
           }
          ],
          "scatterternary": [
           {
            "marker": {
             "colorbar": {
              "outlinewidth": 0,
              "ticks": ""
             }
            },
            "type": "scatterternary"
           }
          ],
          "surface": [
           {
            "colorbar": {
             "outlinewidth": 0,
             "ticks": ""
            },
            "colorscale": [
             [
              0,
              "#0d0887"
             ],
             [
              0.1111111111111111,
              "#46039f"
             ],
             [
              0.2222222222222222,
              "#7201a8"
             ],
             [
              0.3333333333333333,
              "#9c179e"
             ],
             [
              0.4444444444444444,
              "#bd3786"
             ],
             [
              0.5555555555555556,
              "#d8576b"
             ],
             [
              0.6666666666666666,
              "#ed7953"
             ],
             [
              0.7777777777777778,
              "#fb9f3a"
             ],
             [
              0.8888888888888888,
              "#fdca26"
             ],
             [
              1,
              "#f0f921"
             ]
            ],
            "type": "surface"
           }
          ],
          "table": [
           {
            "cells": {
             "fill": {
              "color": "#EBF0F8"
             },
             "line": {
              "color": "white"
             }
            },
            "header": {
             "fill": {
              "color": "#C8D4E3"
             },
             "line": {
              "color": "white"
             }
            },
            "type": "table"
           }
          ]
         },
         "layout": {
          "annotationdefaults": {
           "arrowcolor": "#2a3f5f",
           "arrowhead": 0,
           "arrowwidth": 1
          },
          "autotypenumbers": "strict",
          "coloraxis": {
           "colorbar": {
            "outlinewidth": 0,
            "ticks": ""
           }
          },
          "colorscale": {
           "diverging": [
            [
             0,
             "#8e0152"
            ],
            [
             0.1,
             "#c51b7d"
            ],
            [
             0.2,
             "#de77ae"
            ],
            [
             0.3,
             "#f1b6da"
            ],
            [
             0.4,
             "#fde0ef"
            ],
            [
             0.5,
             "#f7f7f7"
            ],
            [
             0.6,
             "#e6f5d0"
            ],
            [
             0.7,
             "#b8e186"
            ],
            [
             0.8,
             "#7fbc41"
            ],
            [
             0.9,
             "#4d9221"
            ],
            [
             1,
             "#276419"
            ]
           ],
           "sequential": [
            [
             0,
             "#0d0887"
            ],
            [
             0.1111111111111111,
             "#46039f"
            ],
            [
             0.2222222222222222,
             "#7201a8"
            ],
            [
             0.3333333333333333,
             "#9c179e"
            ],
            [
             0.4444444444444444,
             "#bd3786"
            ],
            [
             0.5555555555555556,
             "#d8576b"
            ],
            [
             0.6666666666666666,
             "#ed7953"
            ],
            [
             0.7777777777777778,
             "#fb9f3a"
            ],
            [
             0.8888888888888888,
             "#fdca26"
            ],
            [
             1,
             "#f0f921"
            ]
           ],
           "sequentialminus": [
            [
             0,
             "#0d0887"
            ],
            [
             0.1111111111111111,
             "#46039f"
            ],
            [
             0.2222222222222222,
             "#7201a8"
            ],
            [
             0.3333333333333333,
             "#9c179e"
            ],
            [
             0.4444444444444444,
             "#bd3786"
            ],
            [
             0.5555555555555556,
             "#d8576b"
            ],
            [
             0.6666666666666666,
             "#ed7953"
            ],
            [
             0.7777777777777778,
             "#fb9f3a"
            ],
            [
             0.8888888888888888,
             "#fdca26"
            ],
            [
             1,
             "#f0f921"
            ]
           ]
          },
          "colorway": [
           "#636efa",
           "#EF553B",
           "#00cc96",
           "#ab63fa",
           "#FFA15A",
           "#19d3f3",
           "#FF6692",
           "#B6E880",
           "#FF97FF",
           "#FECB52"
          ],
          "font": {
           "color": "#2a3f5f"
          },
          "geo": {
           "bgcolor": "white",
           "lakecolor": "white",
           "landcolor": "#E5ECF6",
           "showlakes": true,
           "showland": true,
           "subunitcolor": "white"
          },
          "hoverlabel": {
           "align": "left"
          },
          "hovermode": "closest",
          "mapbox": {
           "style": "light"
          },
          "paper_bgcolor": "white",
          "plot_bgcolor": "#E5ECF6",
          "polar": {
           "angularaxis": {
            "gridcolor": "white",
            "linecolor": "white",
            "ticks": ""
           },
           "bgcolor": "#E5ECF6",
           "radialaxis": {
            "gridcolor": "white",
            "linecolor": "white",
            "ticks": ""
           }
          },
          "scene": {
           "xaxis": {
            "backgroundcolor": "#E5ECF6",
            "gridcolor": "white",
            "gridwidth": 2,
            "linecolor": "white",
            "showbackground": true,
            "ticks": "",
            "zerolinecolor": "white"
           },
           "yaxis": {
            "backgroundcolor": "#E5ECF6",
            "gridcolor": "white",
            "gridwidth": 2,
            "linecolor": "white",
            "showbackground": true,
            "ticks": "",
            "zerolinecolor": "white"
           },
           "zaxis": {
            "backgroundcolor": "#E5ECF6",
            "gridcolor": "white",
            "gridwidth": 2,
            "linecolor": "white",
            "showbackground": true,
            "ticks": "",
            "zerolinecolor": "white"
           }
          },
          "shapedefaults": {
           "line": {
            "color": "#2a3f5f"
           }
          },
          "ternary": {
           "aaxis": {
            "gridcolor": "white",
            "linecolor": "white",
            "ticks": ""
           },
           "baxis": {
            "gridcolor": "white",
            "linecolor": "white",
            "ticks": ""
           },
           "bgcolor": "#E5ECF6",
           "caxis": {
            "gridcolor": "white",
            "linecolor": "white",
            "ticks": ""
           }
          },
          "title": {
           "x": 0.05
          },
          "xaxis": {
           "automargin": true,
           "gridcolor": "white",
           "linecolor": "white",
           "ticks": "",
           "title": {
            "standoff": 15
           },
           "zerolinecolor": "white",
           "zerolinewidth": 2
          },
          "yaxis": {
           "automargin": true,
           "gridcolor": "white",
           "linecolor": "white",
           "ticks": "",
           "title": {
            "standoff": 15
           },
           "zerolinecolor": "white",
           "zerolinewidth": 2
          }
         }
        }
       }
      }
     },
     "metadata": {},
     "output_type": "display_data"
    }
   ],
   "source": [
    "fig = px.box(table, y='age', labels={'age': 'Idade'}, title='Idade')\n",
    "fig.write_image('../data/age_boxplot.png')\n",
    "fig.show()\n",
    "\n",
    "table1 = table.age.describe().to_frame().drop(['count', 'mean', 'std']).rename({'25%': 'q1', '50%': 'median', '75%': 'q3'}).astype('int').reset_index().rename(columns={'index': 'title'})\n",
    "table1 = table1.rename(columns={'title': 'Título', 'age': 'Idade'})\n",
    "layout = go.Layout(\n",
    "    paper_bgcolor='rgba(0,0,0,0)',\n",
    "    plot_bgcolor='rgba(0,0,0,0)',\n",
    "    height=180,\n",
    "    margin={\"l\":10,\"r\":10,\"t\":10,\"b\":10}\n",
    ")\n",
    "fig = go.Figure(data=[go.Table(\n",
    "    header=dict(values=list(table1.columns),\n",
    "                line_color='darkslategray',\n",
    "                fill_color='grey',\n",
    "                align=['left','center'],\n",
    "                font=dict(color='white', size=12)),\n",
    "    cells=dict(values=[table1.Título, table1.Idade],\n",
    "               line_color='darkslategray',\n",
    "                fill_color = [['white','lightgrey','white', 'lightgrey']*5],\n",
    "                align = ['left', 'center'],\n",
    "                font = dict(color = 'darkslategray', size = 11))\n",
    "    )\n",
    "],\n",
    "layout=layout)\n",
    "fig.write_image('../data/age_table.png')\n",
    "fig.show()"
   ]
  },
  {
   "cell_type": "code",
   "execution_count": 72,
   "metadata": {},
   "outputs": [
    {
     "data": {
      "application/vnd.plotly.v1+json": {
       "config": {
        "plotlyServerURL": "https://plot.ly"
       },
       "data": [
        {
         "alignmentgroup": "True",
         "hovertemplate": "Última Atualização (em horas)=%{y}<extra></extra>",
         "legendgroup": "",
         "marker": {
          "color": "#636efa"
         },
         "name": "",
         "notched": false,
         "offsetgroup": "",
         "orientation": "v",
         "showlegend": false,
         "type": "box",
         "x0": " ",
         "xaxis": "x",
         "y": [
          0.4761111111111111,
          0.5972222222222222,
          0.0733333333333333,
          1.7469444444444444,
          0.1597222222222222,
          0.5947222222222223,
          0.4369444444444444,
          0.3272222222222222,
          0.0819444444444444,
          0.3233333333333333,
          0.3172222222222222,
          0.1436111111111111,
          0.5455555555555556,
          0.2908333333333333,
          0.1525,
          0.12,
          0.555,
          0.4786111111111111,
          0.5725,
          0.1797222222222222,
          0.5502777777777778,
          1.1094444444444445,
          0.3402777777777778,
          0.9075,
          0.1227777777777777,
          0.11,
          3.444166666666667,
          0.1833333333333333,
          0.8830555555555556,
          0.0905555555555555,
          1.179722222222222,
          0.2211111111111111,
          1.1819444444444445,
          0.835,
          0.0877777777777777,
          0.5188888888888888,
          0.0955555555555555,
          0.4008333333333333,
          2.353055555555556,
          0.5286111111111111,
          0.1391666666666666,
          2.263611111111111,
          2.2919444444444443,
          0.7252777777777778,
          0.6344444444444445,
          0.1427777777777777,
          1.6697222222222223,
          0.335,
          1.148611111111111,
          0.1180555555555555,
          2.073888888888889,
          0.6830555555555555,
          2.027222222222222,
          1.0269444444444444,
          0.3561111111111111,
          3.4047222222222224,
          0.1713888888888889,
          0.9480555555555557,
          0.0561111111111111,
          2.585833333333333,
          0.3255555555555555,
          1.0052777777777775,
          0.6275,
          2.1419444444444444,
          1.1872222222222222,
          0.7138888888888889,
          0.4344444444444444,
          0.7294444444444445,
          1.6222222222222222,
          0.0633333333333333,
          6.451111111111112,
          0.7075,
          0.5494444444444444,
          0.0677777777777777,
          2.266388888888889,
          1.0611111111111111,
          0.7269444444444444,
          0.2952777777777777,
          2.178333333333333,
          3.111388888888889,
          1.8483333333333332,
          0.6452777777777777,
          1.2427777777777778,
          2.0727777777777776,
          0.2813888888888889,
          0.5986111111111111,
          0.5019444444444444,
          0.0819444444444444,
          0.4216666666666667,
          1.9841666666666664,
          4.194444444444445,
          1.3811111111111112,
          1.6519444444444444,
          3.386388888888889,
          1.054722222222222,
          3.737222222222222,
          1.9177777777777776,
          0.4066666666666667,
          1.0316666666666667,
          0.6213888888888889,
          2.174166666666667,
          1.9413888888888888,
          1.975833333333333,
          1.0591666666666666,
          2.0105555555555554,
          0.1597222222222222,
          0.9027777777777778,
          2.758611111111111,
          0.1775,
          0.1930555555555555,
          2.4566666666666666,
          0.8075,
          0.1813888888888888,
          0.5,
          0.3736111111111111,
          0.1463888888888889,
          0.8969444444444444,
          0.5697222222222222,
          0.6341666666666667,
          0.0538888888888888,
          0.3827777777777778,
          0.7275,
          3.277222222222222,
          0.96,
          9.936944444444444,
          0.2002777777777777,
          3.0394444444444444,
          4.31,
          0.5238888888888888,
          0.3683333333333333,
          2.750277777777778,
          0.1069444444444444,
          4.147777777777778,
          11.312222222222225,
          0.7236111111111111,
          0.2486111111111111,
          3.741388888888889,
          2.841666666666667,
          1.0522222222222222,
          0.5202777777777777,
          2.843611111111111,
          0.4144444444444444,
          4.06,
          1.488611111111111,
          1.051111111111111,
          0.3722222222222222,
          1.939722222222222,
          0.0994444444444444,
          2.676388888888889,
          0.2061111111111111,
          2.7144444444444447,
          0.0975,
          0.6744444444444444,
          0.04,
          0.0519444444444444,
          2.8294444444444444,
          0.0841666666666666,
          0.0830555555555555,
          3.4225,
          0.0486111111111111,
          1.0486111111111112,
          1.2897222222222222,
          0.3533333333333333,
          0.3355555555555555,
          3.1366666666666667,
          0.3077777777777777,
          0.0544444444444444,
          0.6458333333333334,
          0.8888888888888888,
          2.6283333333333334,
          0.6294444444444445,
          1.2566666666666666,
          0.7419444444444444,
          2.810277777777778,
          1.103611111111111,
          2.0997222222222223,
          1.050277777777778,
          2.1197222222222223,
          3.6019444444444444,
          4.1402777777777775,
          0.1430555555555555,
          3.852777777777778,
          0.1805555555555555,
          2.091388888888889,
          4.229166666666667,
          0.2325,
          0.9038888888888889,
          0.0586111111111111,
          0.1255555555555555,
          0.1525,
          1.5627777777777778,
          0.1569444444444444,
          0.1375,
          1.0752777777777778,
          0.7686111111111111,
          1.048888888888889,
          3.941388888888889,
          1.9516666666666669,
          0.2569444444444444,
          1.3130555555555556,
          3.661388888888889,
          1.0483333333333331,
          3.3713888888888888,
          0.5397222222222222,
          5.538888888888889,
          0.6475,
          6.73,
          2.128055555555556,
          1.1583333333333334,
          2.46,
          0.44,
          1.45,
          3.800833333333333,
          3.806944444444445,
          1.5841666666666667,
          3.3575,
          1.4691666666666667,
          0.9683333333333334,
          6.511388888888889,
          1.4155555555555557,
          1.8375,
          0.2097222222222222,
          0.4505555555555555,
          0.0652777777777777,
          0.6338888888888888,
          1.209722222222222,
          9.131666666666666,
          1.0361111111111112,
          10.046666666666669,
          0.3527777777777778,
          4.38,
          0.6955555555555556,
          0.095,
          1.871388888888889,
          1.788333333333333,
          2.2422222222222223,
          4.0325,
          3.2180555555555554,
          0.2319444444444444,
          7.750555555555556,
          0.0388888888888888,
          4.947777777777778,
          2.594444444444445,
          1.0461111111111112,
          1.185277777777778,
          0.1044444444444444,
          6.785,
          1.9333333333333331,
          0.0636111111111111,
          6.8925,
          1.5158333333333334,
          1.5205555555555557,
          1.9111111111111112,
          0.9366666666666666,
          0.4425,
          0.0302777777777777,
          10.321111111111112,
          4.436111111111111,
          2.426944444444445,
          0.2863888888888889,
          0.6605555555555556,
          7.341388888888889,
          1.4341666666666666,
          0.5522222222222222,
          1.4430555555555555,
          0.0386111111111111,
          0.2633333333333333,
          1.691111111111111,
          1.2583333333333333,
          4.02,
          1.0458333333333334,
          2.138055555555556,
          1.936388888888889,
          5.438611111111111,
          0.2211111111111111,
          3.874722222222222,
          3.344444444444445,
          2.142777777777778,
          0.0594444444444444,
          0.2861111111111111,
          2.1152777777777776,
          2.077777777777778,
          1.8008333333333333,
          0.7636111111111111,
          10.51722222222222,
          0.0594444444444444,
          7.033611111111111,
          1.5394444444444444,
          0.0358333333333333,
          6.445833333333334,
          2.5172222222222222,
          1.1558333333333333,
          1.7244444444444444,
          0.0536111111111111,
          1.0816666666666668,
          6.109444444444445,
          0.2830555555555555,
          0.0588888888888888,
          0.3619444444444444,
          0.7355555555555555,
          4.068611111111111,
          4.2125,
          0.1177777777777777,
          0.0525,
          1.3080555555555555,
          2.004722222222222,
          2.091111111111111,
          5.594444444444444,
          0.0472222222222222,
          1.0447222222222223,
          0.3694444444444444,
          8.9575,
          0.7175,
          2.861388888888889,
          3.229722222222222,
          2.6980555555555554,
          0.8302777777777778,
          11.038611111111113,
          0.4466666666666666,
          0.6630555555555555,
          1.471666666666667,
          0.9322222222222222,
          3.4125,
          0.505,
          1.3705555555555555,
          0.3688888888888889,
          0.1436111111111111,
          1.8386111111111112,
          0.5691666666666667,
          1.0819444444444444,
          0.9333333333333332,
          1.6791666666666667,
          0.1655555555555555,
          5.433055555555556,
          5.503611111111111,
          0.1230555555555555,
          0.2727777777777778,
          0.1158333333333333,
          9.411111111111111,
          0.0794444444444444,
          1.8769444444444443,
          1.336111111111111,
          2.325277777777778,
          4.5375,
          0.6341666666666667,
          1.0438888888888889,
          0.3936111111111111,
          0.9425,
          0.64,
          1.1827777777777777,
          0.0844444444444444,
          8.426666666666666,
          1.0427777777777778,
          0.0361111111111111,
          0.0616666666666666,
          3.647777777777778,
          0.0855555555555555,
          0.3680555555555556,
          3.250277777777778,
          1.1144444444444443,
          1.0422222222222222,
          1.9508333333333332,
          0.1305555555555555,
          0.2291666666666666,
          1.655,
          0.7941666666666667,
          3.723333333333333,
          5.188055555555556,
          6.226944444444444,
          2.966666666666667,
          0.4277777777777777,
          1.4319444444444445,
          0.6516666666666666,
          6.887777777777778,
          1.418611111111111,
          1.1905555555555556,
          10.785555555555556,
          0.8633333333333333,
          1.9722222222222223,
          1.825555555555556,
          3.995833333333333,
          5.470555555555555,
          0.1836111111111111,
          0.4805555555555555,
          0.1961111111111111,
          0.5702777777777778,
          11.475833333333334,
          4.620555555555556,
          3.803333333333333,
          4.594722222222222,
          0.1297222222222222,
          4.094444444444444,
          5.552222222222222,
          2.2647222222222223,
          11.098888888888888,
          1.7516666666666667,
          2.725555555555556,
          0.0891666666666666,
          5.848055555555556,
          4.4191666666666665,
          0.2408333333333333,
          8.973055555555556,
          0.4183333333333333,
          0.4566666666666666,
          4.351666666666667,
          0.7438888888888889,
          1.4561111111111111,
          0.9658333333333332,
          2.596388888888889,
          5.732222222222222,
          1.7369444444444444,
          0.2363888888888889,
          3.4547222222222222,
          0.1452777777777777,
          0.1244444444444444,
          2.6172222222222223,
          5.735,
          0.4997222222222222,
          3.18,
          3.388055555555556,
          4.065555555555555,
          2.6908333333333334,
          1.1980555555555557,
          0.2016666666666666,
          4.872777777777777,
          4.105,
          8.991388888888888,
          3.7847222222222223,
          7.878611111111111,
          1.061388888888889,
          0.1102777777777777,
          1.4230555555555555,
          0.465,
          6.634444444444444,
          4.6375,
          1.0208333333333333,
          2.1955555555555555,
          1.1408333333333334,
          1.4608333333333334,
          7.093611111111112,
          1.675,
          0.165,
          3.9383333333333335,
          7.753888888888889,
          4.863611111111111,
          0.5825,
          7.181111111111111,
          0.7530555555555556,
          8.761388888888888,
          3.7488888888888887,
          1.0377777777777777,
          7.649166666666667,
          2.9125,
          6.469722222222222,
          0.8066666666666666,
          1.9241666666666664,
          0.0413888888888888,
          1.8697222222222225,
          0.0330555555555555,
          6.018055555555556,
          1.323611111111111,
          4.813055555555556,
          1.0419444444444443,
          2.3313888888888887,
          8.726666666666667,
          4.2877777777777775,
          0.6158333333333333,
          1.3280555555555555,
          0.5261111111111111,
          2.960833333333333,
          7.541111111111111,
          1.4533333333333334,
          0.5933333333333334,
          1.9225,
          1.6205555555555555,
          3.126388888888889,
          1.9211111111111112,
          2.318888888888889,
          5.343333333333334,
          3.435555555555556,
          3.0277777777777777,
          2.2827777777777776,
          0.2538888888888889,
          5.455,
          2.0705555555555555,
          11.098055555555556,
          1.4025,
          5.925277777777778,
          1.5086111111111111,
          0.9733333333333334,
          0.0688888888888888,
          1.2361111111111112,
          1.9561111111111111,
          4.126666666666667,
          2.1422222222222222,
          0.5947222222222223,
          4.706111111111111,
          2.156111111111111,
          0.2205555555555555,
          1.025,
          1.5130555555555556,
          0.9258333333333332,
          0.0266666666666666,
          1.015,
          2.105277777777778,
          0.0263888888888888,
          1.0205555555555557,
          4.121388888888889,
          3.373055555555556,
          0.1169444444444444,
          9.772777777777778,
          0.02,
          10.589166666666667,
          1.5033333333333334,
          1.4808333333333332,
          1.3447222222222222,
          8.44361111111111,
          8.949444444444444,
          1.3688888888888888,
          5.931388888888889,
          0.05,
          4.952222222222222,
          2.540277777777778,
          1.2397222222222222,
          4.4425,
          11.098055555555556,
          2.6372222222222224,
          19.746388888888887,
          1.041388888888889,
          7.637222222222222,
          5.725555555555555,
          5.701666666666667,
          0.7513888888888889,
          1.0408333333333333,
          0.0877777777777777,
          0.8061111111111111,
          3.1019444444444444,
          4.678611111111112,
          4.97,
          1.9177777777777776,
          8.409166666666666,
          1.7280555555555557,
          2.489444444444445,
          5.251111111111111,
          6.541944444444445,
          10.248333333333331,
          1.168611111111111,
          3.119166666666666,
          0.7388888888888889,
          1.8591666666666664,
          0.4802777777777778,
          1.4516666666666669,
          2.950277777777778,
          7.2972222222222225,
          6.632222222222223,
          5.361944444444444,
          4.992222222222222,
          1.0855555555555556,
          6.9688888888888885,
          0.2861111111111111,
          0.1172222222222222,
          1.556111111111111,
          5.801111111111111,
          2.483888888888889,
          0.6225,
          0.1502777777777778,
          1.5202777777777778,
          0.5525,
          6.621666666666667,
          1.4622222222222223,
          0.2927777777777778,
          3.4008333333333334,
          5.424444444444444,
          0.2947222222222222,
          4.340833333333333,
          2.5719444444444446,
          3.163611111111111,
          3.641388888888889,
          3.7816666666666663,
          0.3094444444444444,
          2.182777777777778,
          0.1291666666666666,
          1.1180555555555556,
          1.0494444444444444,
          7.295555555555556,
          0.8222222222222222,
          4.592222222222222,
          9.413055555555555,
          2.879166666666667,
          0.0294444444444444,
          6.102777777777778,
          2.7041666666666666,
          2.183333333333333,
          1.8305555555555555,
          6.9575,
          0.3283333333333333,
          3.6886111111111113,
          10.9275,
          6.894166666666667,
          12.6825,
          6.621666666666667,
          1.4622222222222223,
          0.2927777777777778,
          3.4008333333333334,
          5.424444444444444,
          0.2947222222222222,
          4.340833333333333,
          2.5719444444444446,
          3.163611111111111,
          3.641388888888889,
          3.7816666666666663,
          0.3094444444444444,
          2.182777777777778,
          16.038055555555555,
          0.1291666666666666,
          4.298611111111111,
          1.1180555555555556,
          1.0494444444444444,
          4.974166666666667,
          7.295555555555556,
          0.8222222222222222,
          4.592222222222222,
          9.413055555555555,
          2.879166666666667,
          0.0294444444444444,
          6.102777777777778,
          2.7041666666666666,
          2.183333333333333,
          1.8305555555555555,
          6.9575,
          0.3283333333333333,
          3.6886111111111113,
          10.9275,
          6.894166666666667,
          12.6825,
          4.332222222222223,
          4.067222222222222,
          0.0713888888888888,
          10.6375,
          4.188611111111111,
          1.5483333333333331,
          7.026944444444444,
          1.8797222222222223,
          5.108611111111111,
          2.26,
          9.735555555555557,
          0.8716666666666667,
          4.931666666666667,
          1.0833333333333333,
          5.564722222222223,
          4.349722222222222,
          10.854444444444445,
          5.535555555555556,
          5.886111111111111,
          2.286666666666666,
          0.2391666666666666,
          1.1869444444444444,
          3.729722222222222,
          1.4833333333333334,
          0.7019444444444445,
          0.2472222222222222,
          2.392777777777778,
          4.7027777777777775,
          2.8275,
          0.7086111111111111,
          5.8225,
          4.020555555555555,
          1.8747222222222224,
          8.220277777777778,
          2.1566666666666667,
          2.6952777777777777,
          0.9708333333333332,
          1.3530555555555557,
          0.0744444444444444,
          4.196666666666666,
          1.0097222222222222,
          0.6811111111111111,
          11.098055555555556,
          16.816666666666666,
          0.3488888888888889,
          6.193055555555556,
          2.765,
          1.7961111111111112,
          4.188888888888889,
          5.502222222222223,
          1.3716666666666666,
          0.0580555555555555,
          1.8322222222222224,
          1.008888888888889,
          2.99,
          3.125555555555556,
          17.039722222222224,
          1.7972222222222225,
          0.5663888888888889,
          23.087777777777777,
          2.379166666666667,
          13.758055555555556,
          1.211111111111111,
          12.588611111111112,
          0.4808333333333333,
          0.7286111111111111,
          10.748333333333331,
          1.7494444444444444,
          0.2708333333333333,
          7.756111111111111,
          3.856388888888889,
          10.626111111111111,
          0.7558333333333334,
          5.8758333333333335,
          2.7016666666666667,
          0.6244444444444445,
          1.1841666666666666,
          1.093611111111111,
          0.9711111111111111,
          1.2405555555555556,
          5.364166666666667,
          2.281944444444445,
          0.2411111111111111,
          0.5744444444444444,
          9.047222222222222,
          2.0775,
          16.767222222222223,
          4.0713888888888885,
          5.233055555555556,
          2.9430555555555555,
          7.798888888888888,
          9.863888888888887,
          16.091666666666665,
          3.3777777777777778,
          1.0375,
          2.656111111111111,
          4.589166666666666,
          3.0116666666666667,
          3.0244444444444443,
          0.6713888888888889,
          2.524722222222222,
          1.4247222222222222,
          16.026666666666667,
          2.1469444444444443,
          4.588333333333333,
          3.9591666666666665,
          0.665,
          2.631388888888889,
          0.0677777777777777,
          10.230277777777776,
          11.426666666666666,
          0.4825,
          5.560833333333333,
          1.69,
          1.7072222222222222,
          0.8019444444444445,
          0.2675,
          2.875833333333333,
          11.807777777777778,
          4.573055555555555,
          0.9319444444444444,
          1.208611111111111,
          3.731944444444444,
          1.1105555555555555,
          4.281666666666666,
          10.578888888888889,
          0.2197222222222222,
          10.7375,
          0.0336111111111111,
          0.1897222222222222,
          1.7072222222222222,
          1.5597222222222222,
          0.6561111111111111,
          4.651111111111111,
          1.2975,
          1.8777777777777775,
          2.3341666666666665,
          7.928333333333334,
          0.7713888888888889,
          0.6225,
          0.9322222222222222,
          0.69,
          3.319166666666667,
          2.0744444444444445,
          2.306666666666666,
          1.070277777777778,
          5.988611111111111,
          5.581388888888889,
          5.856111111111111,
          0.8822222222222222,
          0.2902777777777778,
          0.1216666666666666,
          7.443333333333333,
          3.7225,
          0.1930555555555555,
          12.462777777777776,
          1.3675,
          1.0447222222222223,
          3.6347222222222224,
          5.322777777777778,
          5.885,
          8.922777777777778,
          4.772222222222222,
          6.9127777777777775,
          1.2347222222222225,
          0.18,
          4.171111111111111,
          3.1491666666666664,
          2.533611111111111,
          4.118055555555555,
          5.698333333333333,
          8.588611111111112,
          0.9386111111111112,
          7.436666666666666,
          2.733888888888889,
          0.3697222222222222,
          2.182777777777778,
          0.8447222222222223,
          3.3241666666666667,
          2.991111111111111,
          13.445833333333333,
          1.0316666666666667,
          5.069166666666667,
          3.64,
          0.7013888888888888,
          10.511944444444444,
          2.96,
          4.343333333333334,
          4.336388888888889,
          1.3580555555555556,
          3.769444444444445,
          11.0975,
          1.765,
          4.109166666666667,
          5.490833333333334,
          8.847222222222221,
          2.160277777777778,
          8.744722222222222,
          5.613611111111111,
          8.898333333333333,
          0.9408333333333332,
          3.9066666666666663,
          3.891111111111111,
          0.7797222222222222,
          0.5202777777777777,
          1.3375,
          2.676944444444445,
          3.520555555555556,
          0.2227777777777777,
          0.3544444444444444,
          11.806944444444444,
          3.4722222222222223,
          0.5402777777777777,
          0.0508333333333333,
          0.1622222222222222,
          3.923055555555556,
          3.758888888888889,
          6.658611111111111,
          0.7338888888888889,
          0.7711111111111111,
          0.2827777777777778,
          3.190555555555556,
          1.7166666666666666,
          0.3638888888888889,
          8.358333333333333,
          0.4347222222222222,
          11.478055555555557,
          0.525,
          4.031666666666666,
          1.6119444444444444,
          12.499166666666667,
          21.336944444444445,
          13.098055555555556,
          3.3291666666666666,
          0.2016666666666666,
          0.1108333333333333,
          4.223611111111111,
          8.835555555555555,
          0.1691666666666666,
          0.8325,
          5.913333333333333,
          4.015,
          1.843888888888889,
          2.483888888888889,
          0.5441666666666667,
          1.4944444444444445,
          4.469722222222222,
          6.860555555555556,
          3.5769444444444445,
          1.086666666666667,
          0.8425,
          2.0725,
          5.120833333333334,
          0.7161111111111111,
          5.695277777777778,
          1.38,
          0.5480555555555555,
          4.9238888888888885,
          5.316666666666666,
          5.700833333333334,
          0.3494444444444444,
          2.430833333333333,
          6.963888888888889,
          4.5125,
          2.543333333333333,
          12.482222222222225,
          2.879166666666667,
          11.38888888888889,
          0.8238888888888889,
          22.06222222222222,
          9.045,
          3.358611111111111,
          14.8125,
          4.641111111111111,
          1.268888888888889,
          0.835,
          3.1552777777777776,
          0.6783333333333333,
          2.330833333333333,
          3.731944444444444,
          2.751388888888889,
          9.643888888888888,
          0.0186111111111111,
          15.007777777777775,
          1.4997222222222222,
          8.6375,
          11.09361111111111,
          10.083055555555555,
          4.923611111111111,
          3.9347222222222222,
          4.200833333333334,
          1.8694444444444445,
          4.7444444444444445,
          1.0244444444444445,
          12.589444444444444,
          1.5530555555555556,
          8.394444444444444,
          6.4816666666666665,
          1.1202777777777777,
          4.279722222222222,
          11.829166666666667,
          5.63,
          0.7711111111111111,
          2.4575,
          0.6119444444444444,
          1.225833333333333,
          2.832222222222222,
          4.446111111111111,
          3.283611111111111,
          5.335277777777778,
          4.0725,
          2.846388888888889,
          3.3313888888888887,
          1.9975,
          9.76388888888889,
          4.204166666666667,
          7.204166666666667,
          5.338611111111111,
          0.5752777777777778,
          3.096111111111111,
          3.081111111111111,
          14.565555555555555,
          8.40638888888889,
          0.8986111111111111,
          10.560555555555556,
          2.8041666666666667,
          0.5586111111111111,
          0.5608333333333333,
          0.8919444444444444,
          2.502222222222222,
          5.503055555555555,
          1.899166666666667,
          5.077222222222222,
          0.6841666666666667,
          5.226944444444444,
          0.9597222222222224,
          1.1733333333333331,
          5.333055555555555,
          2.832777777777778,
          9.482222222222225,
          1.5133333333333334,
          6.737222222222222,
          2.966388888888889,
          9.68,
          4.994166666666667,
          3.02,
          1.3802777777777775,
          1.7886111111111112,
          0.6297222222222222,
          7.996944444444445,
          0.1255555555555555,
          0.7791666666666667,
          4.625277777777778,
          0.2305555555555555,
          1.291388888888889,
          6.0008333333333335,
          2.1369444444444445,
          2.9611111111111112,
          0.2483333333333333,
          7.323888888888889,
          2.470833333333333,
          0.0883333333333333,
          4.7252777777777775,
          1.4083333333333334,
          10.234444444444444
         ],
         "y0": " ",
         "yaxis": "y"
        }
       ],
       "layout": {
        "boxmode": "group",
        "legend": {
         "tracegroupgap": 0
        },
        "template": {
         "data": {
          "bar": [
           {
            "error_x": {
             "color": "#2a3f5f"
            },
            "error_y": {
             "color": "#2a3f5f"
            },
            "marker": {
             "line": {
              "color": "#E5ECF6",
              "width": 0.5
             },
             "pattern": {
              "fillmode": "overlay",
              "size": 10,
              "solidity": 0.2
             }
            },
            "type": "bar"
           }
          ],
          "barpolar": [
           {
            "marker": {
             "line": {
              "color": "#E5ECF6",
              "width": 0.5
             },
             "pattern": {
              "fillmode": "overlay",
              "size": 10,
              "solidity": 0.2
             }
            },
            "type": "barpolar"
           }
          ],
          "carpet": [
           {
            "aaxis": {
             "endlinecolor": "#2a3f5f",
             "gridcolor": "white",
             "linecolor": "white",
             "minorgridcolor": "white",
             "startlinecolor": "#2a3f5f"
            },
            "baxis": {
             "endlinecolor": "#2a3f5f",
             "gridcolor": "white",
             "linecolor": "white",
             "minorgridcolor": "white",
             "startlinecolor": "#2a3f5f"
            },
            "type": "carpet"
           }
          ],
          "choropleth": [
           {
            "colorbar": {
             "outlinewidth": 0,
             "ticks": ""
            },
            "type": "choropleth"
           }
          ],
          "contour": [
           {
            "colorbar": {
             "outlinewidth": 0,
             "ticks": ""
            },
            "colorscale": [
             [
              0,
              "#0d0887"
             ],
             [
              0.1111111111111111,
              "#46039f"
             ],
             [
              0.2222222222222222,
              "#7201a8"
             ],
             [
              0.3333333333333333,
              "#9c179e"
             ],
             [
              0.4444444444444444,
              "#bd3786"
             ],
             [
              0.5555555555555556,
              "#d8576b"
             ],
             [
              0.6666666666666666,
              "#ed7953"
             ],
             [
              0.7777777777777778,
              "#fb9f3a"
             ],
             [
              0.8888888888888888,
              "#fdca26"
             ],
             [
              1,
              "#f0f921"
             ]
            ],
            "type": "contour"
           }
          ],
          "contourcarpet": [
           {
            "colorbar": {
             "outlinewidth": 0,
             "ticks": ""
            },
            "type": "contourcarpet"
           }
          ],
          "heatmap": [
           {
            "colorbar": {
             "outlinewidth": 0,
             "ticks": ""
            },
            "colorscale": [
             [
              0,
              "#0d0887"
             ],
             [
              0.1111111111111111,
              "#46039f"
             ],
             [
              0.2222222222222222,
              "#7201a8"
             ],
             [
              0.3333333333333333,
              "#9c179e"
             ],
             [
              0.4444444444444444,
              "#bd3786"
             ],
             [
              0.5555555555555556,
              "#d8576b"
             ],
             [
              0.6666666666666666,
              "#ed7953"
             ],
             [
              0.7777777777777778,
              "#fb9f3a"
             ],
             [
              0.8888888888888888,
              "#fdca26"
             ],
             [
              1,
              "#f0f921"
             ]
            ],
            "type": "heatmap"
           }
          ],
          "heatmapgl": [
           {
            "colorbar": {
             "outlinewidth": 0,
             "ticks": ""
            },
            "colorscale": [
             [
              0,
              "#0d0887"
             ],
             [
              0.1111111111111111,
              "#46039f"
             ],
             [
              0.2222222222222222,
              "#7201a8"
             ],
             [
              0.3333333333333333,
              "#9c179e"
             ],
             [
              0.4444444444444444,
              "#bd3786"
             ],
             [
              0.5555555555555556,
              "#d8576b"
             ],
             [
              0.6666666666666666,
              "#ed7953"
             ],
             [
              0.7777777777777778,
              "#fb9f3a"
             ],
             [
              0.8888888888888888,
              "#fdca26"
             ],
             [
              1,
              "#f0f921"
             ]
            ],
            "type": "heatmapgl"
           }
          ],
          "histogram": [
           {
            "marker": {
             "pattern": {
              "fillmode": "overlay",
              "size": 10,
              "solidity": 0.2
             }
            },
            "type": "histogram"
           }
          ],
          "histogram2d": [
           {
            "colorbar": {
             "outlinewidth": 0,
             "ticks": ""
            },
            "colorscale": [
             [
              0,
              "#0d0887"
             ],
             [
              0.1111111111111111,
              "#46039f"
             ],
             [
              0.2222222222222222,
              "#7201a8"
             ],
             [
              0.3333333333333333,
              "#9c179e"
             ],
             [
              0.4444444444444444,
              "#bd3786"
             ],
             [
              0.5555555555555556,
              "#d8576b"
             ],
             [
              0.6666666666666666,
              "#ed7953"
             ],
             [
              0.7777777777777778,
              "#fb9f3a"
             ],
             [
              0.8888888888888888,
              "#fdca26"
             ],
             [
              1,
              "#f0f921"
             ]
            ],
            "type": "histogram2d"
           }
          ],
          "histogram2dcontour": [
           {
            "colorbar": {
             "outlinewidth": 0,
             "ticks": ""
            },
            "colorscale": [
             [
              0,
              "#0d0887"
             ],
             [
              0.1111111111111111,
              "#46039f"
             ],
             [
              0.2222222222222222,
              "#7201a8"
             ],
             [
              0.3333333333333333,
              "#9c179e"
             ],
             [
              0.4444444444444444,
              "#bd3786"
             ],
             [
              0.5555555555555556,
              "#d8576b"
             ],
             [
              0.6666666666666666,
              "#ed7953"
             ],
             [
              0.7777777777777778,
              "#fb9f3a"
             ],
             [
              0.8888888888888888,
              "#fdca26"
             ],
             [
              1,
              "#f0f921"
             ]
            ],
            "type": "histogram2dcontour"
           }
          ],
          "mesh3d": [
           {
            "colorbar": {
             "outlinewidth": 0,
             "ticks": ""
            },
            "type": "mesh3d"
           }
          ],
          "parcoords": [
           {
            "line": {
             "colorbar": {
              "outlinewidth": 0,
              "ticks": ""
             }
            },
            "type": "parcoords"
           }
          ],
          "pie": [
           {
            "automargin": true,
            "type": "pie"
           }
          ],
          "scatter": [
           {
            "fillpattern": {
             "fillmode": "overlay",
             "size": 10,
             "solidity": 0.2
            },
            "type": "scatter"
           }
          ],
          "scatter3d": [
           {
            "line": {
             "colorbar": {
              "outlinewidth": 0,
              "ticks": ""
             }
            },
            "marker": {
             "colorbar": {
              "outlinewidth": 0,
              "ticks": ""
             }
            },
            "type": "scatter3d"
           }
          ],
          "scattercarpet": [
           {
            "marker": {
             "colorbar": {
              "outlinewidth": 0,
              "ticks": ""
             }
            },
            "type": "scattercarpet"
           }
          ],
          "scattergeo": [
           {
            "marker": {
             "colorbar": {
              "outlinewidth": 0,
              "ticks": ""
             }
            },
            "type": "scattergeo"
           }
          ],
          "scattergl": [
           {
            "marker": {
             "colorbar": {
              "outlinewidth": 0,
              "ticks": ""
             }
            },
            "type": "scattergl"
           }
          ],
          "scattermapbox": [
           {
            "marker": {
             "colorbar": {
              "outlinewidth": 0,
              "ticks": ""
             }
            },
            "type": "scattermapbox"
           }
          ],
          "scatterpolar": [
           {
            "marker": {
             "colorbar": {
              "outlinewidth": 0,
              "ticks": ""
             }
            },
            "type": "scatterpolar"
           }
          ],
          "scatterpolargl": [
           {
            "marker": {
             "colorbar": {
              "outlinewidth": 0,
              "ticks": ""
             }
            },
            "type": "scatterpolargl"
           }
          ],
          "scatterternary": [
           {
            "marker": {
             "colorbar": {
              "outlinewidth": 0,
              "ticks": ""
             }
            },
            "type": "scatterternary"
           }
          ],
          "surface": [
           {
            "colorbar": {
             "outlinewidth": 0,
             "ticks": ""
            },
            "colorscale": [
             [
              0,
              "#0d0887"
             ],
             [
              0.1111111111111111,
              "#46039f"
             ],
             [
              0.2222222222222222,
              "#7201a8"
             ],
             [
              0.3333333333333333,
              "#9c179e"
             ],
             [
              0.4444444444444444,
              "#bd3786"
             ],
             [
              0.5555555555555556,
              "#d8576b"
             ],
             [
              0.6666666666666666,
              "#ed7953"
             ],
             [
              0.7777777777777778,
              "#fb9f3a"
             ],
             [
              0.8888888888888888,
              "#fdca26"
             ],
             [
              1,
              "#f0f921"
             ]
            ],
            "type": "surface"
           }
          ],
          "table": [
           {
            "cells": {
             "fill": {
              "color": "#EBF0F8"
             },
             "line": {
              "color": "white"
             }
            },
            "header": {
             "fill": {
              "color": "#C8D4E3"
             },
             "line": {
              "color": "white"
             }
            },
            "type": "table"
           }
          ]
         },
         "layout": {
          "annotationdefaults": {
           "arrowcolor": "#2a3f5f",
           "arrowhead": 0,
           "arrowwidth": 1
          },
          "autotypenumbers": "strict",
          "coloraxis": {
           "colorbar": {
            "outlinewidth": 0,
            "ticks": ""
           }
          },
          "colorscale": {
           "diverging": [
            [
             0,
             "#8e0152"
            ],
            [
             0.1,
             "#c51b7d"
            ],
            [
             0.2,
             "#de77ae"
            ],
            [
             0.3,
             "#f1b6da"
            ],
            [
             0.4,
             "#fde0ef"
            ],
            [
             0.5,
             "#f7f7f7"
            ],
            [
             0.6,
             "#e6f5d0"
            ],
            [
             0.7,
             "#b8e186"
            ],
            [
             0.8,
             "#7fbc41"
            ],
            [
             0.9,
             "#4d9221"
            ],
            [
             1,
             "#276419"
            ]
           ],
           "sequential": [
            [
             0,
             "#0d0887"
            ],
            [
             0.1111111111111111,
             "#46039f"
            ],
            [
             0.2222222222222222,
             "#7201a8"
            ],
            [
             0.3333333333333333,
             "#9c179e"
            ],
            [
             0.4444444444444444,
             "#bd3786"
            ],
            [
             0.5555555555555556,
             "#d8576b"
            ],
            [
             0.6666666666666666,
             "#ed7953"
            ],
            [
             0.7777777777777778,
             "#fb9f3a"
            ],
            [
             0.8888888888888888,
             "#fdca26"
            ],
            [
             1,
             "#f0f921"
            ]
           ],
           "sequentialminus": [
            [
             0,
             "#0d0887"
            ],
            [
             0.1111111111111111,
             "#46039f"
            ],
            [
             0.2222222222222222,
             "#7201a8"
            ],
            [
             0.3333333333333333,
             "#9c179e"
            ],
            [
             0.4444444444444444,
             "#bd3786"
            ],
            [
             0.5555555555555556,
             "#d8576b"
            ],
            [
             0.6666666666666666,
             "#ed7953"
            ],
            [
             0.7777777777777778,
             "#fb9f3a"
            ],
            [
             0.8888888888888888,
             "#fdca26"
            ],
            [
             1,
             "#f0f921"
            ]
           ]
          },
          "colorway": [
           "#636efa",
           "#EF553B",
           "#00cc96",
           "#ab63fa",
           "#FFA15A",
           "#19d3f3",
           "#FF6692",
           "#B6E880",
           "#FF97FF",
           "#FECB52"
          ],
          "font": {
           "color": "#2a3f5f"
          },
          "geo": {
           "bgcolor": "white",
           "lakecolor": "white",
           "landcolor": "#E5ECF6",
           "showlakes": true,
           "showland": true,
           "subunitcolor": "white"
          },
          "hoverlabel": {
           "align": "left"
          },
          "hovermode": "closest",
          "mapbox": {
           "style": "light"
          },
          "paper_bgcolor": "white",
          "plot_bgcolor": "#E5ECF6",
          "polar": {
           "angularaxis": {
            "gridcolor": "white",
            "linecolor": "white",
            "ticks": ""
           },
           "bgcolor": "#E5ECF6",
           "radialaxis": {
            "gridcolor": "white",
            "linecolor": "white",
            "ticks": ""
           }
          },
          "scene": {
           "xaxis": {
            "backgroundcolor": "#E5ECF6",
            "gridcolor": "white",
            "gridwidth": 2,
            "linecolor": "white",
            "showbackground": true,
            "ticks": "",
            "zerolinecolor": "white"
           },
           "yaxis": {
            "backgroundcolor": "#E5ECF6",
            "gridcolor": "white",
            "gridwidth": 2,
            "linecolor": "white",
            "showbackground": true,
            "ticks": "",
            "zerolinecolor": "white"
           },
           "zaxis": {
            "backgroundcolor": "#E5ECF6",
            "gridcolor": "white",
            "gridwidth": 2,
            "linecolor": "white",
            "showbackground": true,
            "ticks": "",
            "zerolinecolor": "white"
           }
          },
          "shapedefaults": {
           "line": {
            "color": "#2a3f5f"
           }
          },
          "ternary": {
           "aaxis": {
            "gridcolor": "white",
            "linecolor": "white",
            "ticks": ""
           },
           "baxis": {
            "gridcolor": "white",
            "linecolor": "white",
            "ticks": ""
           },
           "bgcolor": "#E5ECF6",
           "caxis": {
            "gridcolor": "white",
            "linecolor": "white",
            "ticks": ""
           }
          },
          "title": {
           "x": 0.05
          },
          "xaxis": {
           "automargin": true,
           "gridcolor": "white",
           "linecolor": "white",
           "ticks": "",
           "title": {
            "standoff": 15
           },
           "zerolinecolor": "white",
           "zerolinewidth": 2
          },
          "yaxis": {
           "automargin": true,
           "gridcolor": "white",
           "linecolor": "white",
           "ticks": "",
           "title": {
            "standoff": 15
           },
           "zerolinecolor": "white",
           "zerolinewidth": 2
          }
         }
        },
        "title": {
         "text": "Última Atualização"
        },
        "xaxis": {
         "anchor": "y",
         "domain": [
          0,
          1
         ]
        },
        "yaxis": {
         "anchor": "x",
         "domain": [
          0,
          1
         ],
         "title": {
          "text": "Última Atualização (em horas)"
         }
        }
       }
      }
     },
     "metadata": {},
     "output_type": "display_data"
    },
    {
     "data": {
      "application/vnd.plotly.v1+json": {
       "config": {
        "plotlyServerURL": "https://plot.ly"
       },
       "data": [
        {
         "cells": {
          "align": [
           "left",
           "center"
          ],
          "fill": {
           "color": [
            [
             "white",
             "lightgrey",
             "white",
             "lightgrey",
             "white",
             "lightgrey",
             "white",
             "lightgrey",
             "white",
             "lightgrey",
             "white",
             "lightgrey",
             "white",
             "lightgrey",
             "white",
             "lightgrey",
             "white",
             "lightgrey",
             "white",
             "lightgrey"
            ]
           ]
          },
          "font": {
           "color": "darkslategray",
           "size": 11
          },
          "line": {
           "color": "darkslategray"
          },
          "values": [
           [
            "min",
            "q1",
            "median",
            "q3",
            "max"
           ],
           [
            "0.02 horas",
            "0.65 horas",
            "1.85 horas",
            "4.20 horas",
            "23.09 horas"
           ]
          ]
         },
         "header": {
          "align": [
           "left",
           "center"
          ],
          "fill": {
           "color": "grey"
          },
          "font": {
           "color": "white",
           "size": 12
          },
          "line": {
           "color": "darkslategray"
          },
          "values": [
           "Título",
           "Última Atualização"
          ]
         },
         "type": "table"
        }
       ],
       "layout": {
        "height": 180,
        "margin": {
         "b": 10,
         "l": 10,
         "r": 10,
         "t": 10
        },
        "paper_bgcolor": "rgba(0,0,0,0)",
        "plot_bgcolor": "rgba(0,0,0,0)",
        "template": {
         "data": {
          "bar": [
           {
            "error_x": {
             "color": "#2a3f5f"
            },
            "error_y": {
             "color": "#2a3f5f"
            },
            "marker": {
             "line": {
              "color": "#E5ECF6",
              "width": 0.5
             },
             "pattern": {
              "fillmode": "overlay",
              "size": 10,
              "solidity": 0.2
             }
            },
            "type": "bar"
           }
          ],
          "barpolar": [
           {
            "marker": {
             "line": {
              "color": "#E5ECF6",
              "width": 0.5
             },
             "pattern": {
              "fillmode": "overlay",
              "size": 10,
              "solidity": 0.2
             }
            },
            "type": "barpolar"
           }
          ],
          "carpet": [
           {
            "aaxis": {
             "endlinecolor": "#2a3f5f",
             "gridcolor": "white",
             "linecolor": "white",
             "minorgridcolor": "white",
             "startlinecolor": "#2a3f5f"
            },
            "baxis": {
             "endlinecolor": "#2a3f5f",
             "gridcolor": "white",
             "linecolor": "white",
             "minorgridcolor": "white",
             "startlinecolor": "#2a3f5f"
            },
            "type": "carpet"
           }
          ],
          "choropleth": [
           {
            "colorbar": {
             "outlinewidth": 0,
             "ticks": ""
            },
            "type": "choropleth"
           }
          ],
          "contour": [
           {
            "colorbar": {
             "outlinewidth": 0,
             "ticks": ""
            },
            "colorscale": [
             [
              0,
              "#0d0887"
             ],
             [
              0.1111111111111111,
              "#46039f"
             ],
             [
              0.2222222222222222,
              "#7201a8"
             ],
             [
              0.3333333333333333,
              "#9c179e"
             ],
             [
              0.4444444444444444,
              "#bd3786"
             ],
             [
              0.5555555555555556,
              "#d8576b"
             ],
             [
              0.6666666666666666,
              "#ed7953"
             ],
             [
              0.7777777777777778,
              "#fb9f3a"
             ],
             [
              0.8888888888888888,
              "#fdca26"
             ],
             [
              1,
              "#f0f921"
             ]
            ],
            "type": "contour"
           }
          ],
          "contourcarpet": [
           {
            "colorbar": {
             "outlinewidth": 0,
             "ticks": ""
            },
            "type": "contourcarpet"
           }
          ],
          "heatmap": [
           {
            "colorbar": {
             "outlinewidth": 0,
             "ticks": ""
            },
            "colorscale": [
             [
              0,
              "#0d0887"
             ],
             [
              0.1111111111111111,
              "#46039f"
             ],
             [
              0.2222222222222222,
              "#7201a8"
             ],
             [
              0.3333333333333333,
              "#9c179e"
             ],
             [
              0.4444444444444444,
              "#bd3786"
             ],
             [
              0.5555555555555556,
              "#d8576b"
             ],
             [
              0.6666666666666666,
              "#ed7953"
             ],
             [
              0.7777777777777778,
              "#fb9f3a"
             ],
             [
              0.8888888888888888,
              "#fdca26"
             ],
             [
              1,
              "#f0f921"
             ]
            ],
            "type": "heatmap"
           }
          ],
          "heatmapgl": [
           {
            "colorbar": {
             "outlinewidth": 0,
             "ticks": ""
            },
            "colorscale": [
             [
              0,
              "#0d0887"
             ],
             [
              0.1111111111111111,
              "#46039f"
             ],
             [
              0.2222222222222222,
              "#7201a8"
             ],
             [
              0.3333333333333333,
              "#9c179e"
             ],
             [
              0.4444444444444444,
              "#bd3786"
             ],
             [
              0.5555555555555556,
              "#d8576b"
             ],
             [
              0.6666666666666666,
              "#ed7953"
             ],
             [
              0.7777777777777778,
              "#fb9f3a"
             ],
             [
              0.8888888888888888,
              "#fdca26"
             ],
             [
              1,
              "#f0f921"
             ]
            ],
            "type": "heatmapgl"
           }
          ],
          "histogram": [
           {
            "marker": {
             "pattern": {
              "fillmode": "overlay",
              "size": 10,
              "solidity": 0.2
             }
            },
            "type": "histogram"
           }
          ],
          "histogram2d": [
           {
            "colorbar": {
             "outlinewidth": 0,
             "ticks": ""
            },
            "colorscale": [
             [
              0,
              "#0d0887"
             ],
             [
              0.1111111111111111,
              "#46039f"
             ],
             [
              0.2222222222222222,
              "#7201a8"
             ],
             [
              0.3333333333333333,
              "#9c179e"
             ],
             [
              0.4444444444444444,
              "#bd3786"
             ],
             [
              0.5555555555555556,
              "#d8576b"
             ],
             [
              0.6666666666666666,
              "#ed7953"
             ],
             [
              0.7777777777777778,
              "#fb9f3a"
             ],
             [
              0.8888888888888888,
              "#fdca26"
             ],
             [
              1,
              "#f0f921"
             ]
            ],
            "type": "histogram2d"
           }
          ],
          "histogram2dcontour": [
           {
            "colorbar": {
             "outlinewidth": 0,
             "ticks": ""
            },
            "colorscale": [
             [
              0,
              "#0d0887"
             ],
             [
              0.1111111111111111,
              "#46039f"
             ],
             [
              0.2222222222222222,
              "#7201a8"
             ],
             [
              0.3333333333333333,
              "#9c179e"
             ],
             [
              0.4444444444444444,
              "#bd3786"
             ],
             [
              0.5555555555555556,
              "#d8576b"
             ],
             [
              0.6666666666666666,
              "#ed7953"
             ],
             [
              0.7777777777777778,
              "#fb9f3a"
             ],
             [
              0.8888888888888888,
              "#fdca26"
             ],
             [
              1,
              "#f0f921"
             ]
            ],
            "type": "histogram2dcontour"
           }
          ],
          "mesh3d": [
           {
            "colorbar": {
             "outlinewidth": 0,
             "ticks": ""
            },
            "type": "mesh3d"
           }
          ],
          "parcoords": [
           {
            "line": {
             "colorbar": {
              "outlinewidth": 0,
              "ticks": ""
             }
            },
            "type": "parcoords"
           }
          ],
          "pie": [
           {
            "automargin": true,
            "type": "pie"
           }
          ],
          "scatter": [
           {
            "fillpattern": {
             "fillmode": "overlay",
             "size": 10,
             "solidity": 0.2
            },
            "type": "scatter"
           }
          ],
          "scatter3d": [
           {
            "line": {
             "colorbar": {
              "outlinewidth": 0,
              "ticks": ""
             }
            },
            "marker": {
             "colorbar": {
              "outlinewidth": 0,
              "ticks": ""
             }
            },
            "type": "scatter3d"
           }
          ],
          "scattercarpet": [
           {
            "marker": {
             "colorbar": {
              "outlinewidth": 0,
              "ticks": ""
             }
            },
            "type": "scattercarpet"
           }
          ],
          "scattergeo": [
           {
            "marker": {
             "colorbar": {
              "outlinewidth": 0,
              "ticks": ""
             }
            },
            "type": "scattergeo"
           }
          ],
          "scattergl": [
           {
            "marker": {
             "colorbar": {
              "outlinewidth": 0,
              "ticks": ""
             }
            },
            "type": "scattergl"
           }
          ],
          "scattermapbox": [
           {
            "marker": {
             "colorbar": {
              "outlinewidth": 0,
              "ticks": ""
             }
            },
            "type": "scattermapbox"
           }
          ],
          "scatterpolar": [
           {
            "marker": {
             "colorbar": {
              "outlinewidth": 0,
              "ticks": ""
             }
            },
            "type": "scatterpolar"
           }
          ],
          "scatterpolargl": [
           {
            "marker": {
             "colorbar": {
              "outlinewidth": 0,
              "ticks": ""
             }
            },
            "type": "scatterpolargl"
           }
          ],
          "scatterternary": [
           {
            "marker": {
             "colorbar": {
              "outlinewidth": 0,
              "ticks": ""
             }
            },
            "type": "scatterternary"
           }
          ],
          "surface": [
           {
            "colorbar": {
             "outlinewidth": 0,
             "ticks": ""
            },
            "colorscale": [
             [
              0,
              "#0d0887"
             ],
             [
              0.1111111111111111,
              "#46039f"
             ],
             [
              0.2222222222222222,
              "#7201a8"
             ],
             [
              0.3333333333333333,
              "#9c179e"
             ],
             [
              0.4444444444444444,
              "#bd3786"
             ],
             [
              0.5555555555555556,
              "#d8576b"
             ],
             [
              0.6666666666666666,
              "#ed7953"
             ],
             [
              0.7777777777777778,
              "#fb9f3a"
             ],
             [
              0.8888888888888888,
              "#fdca26"
             ],
             [
              1,
              "#f0f921"
             ]
            ],
            "type": "surface"
           }
          ],
          "table": [
           {
            "cells": {
             "fill": {
              "color": "#EBF0F8"
             },
             "line": {
              "color": "white"
             }
            },
            "header": {
             "fill": {
              "color": "#C8D4E3"
             },
             "line": {
              "color": "white"
             }
            },
            "type": "table"
           }
          ]
         },
         "layout": {
          "annotationdefaults": {
           "arrowcolor": "#2a3f5f",
           "arrowhead": 0,
           "arrowwidth": 1
          },
          "autotypenumbers": "strict",
          "coloraxis": {
           "colorbar": {
            "outlinewidth": 0,
            "ticks": ""
           }
          },
          "colorscale": {
           "diverging": [
            [
             0,
             "#8e0152"
            ],
            [
             0.1,
             "#c51b7d"
            ],
            [
             0.2,
             "#de77ae"
            ],
            [
             0.3,
             "#f1b6da"
            ],
            [
             0.4,
             "#fde0ef"
            ],
            [
             0.5,
             "#f7f7f7"
            ],
            [
             0.6,
             "#e6f5d0"
            ],
            [
             0.7,
             "#b8e186"
            ],
            [
             0.8,
             "#7fbc41"
            ],
            [
             0.9,
             "#4d9221"
            ],
            [
             1,
             "#276419"
            ]
           ],
           "sequential": [
            [
             0,
             "#0d0887"
            ],
            [
             0.1111111111111111,
             "#46039f"
            ],
            [
             0.2222222222222222,
             "#7201a8"
            ],
            [
             0.3333333333333333,
             "#9c179e"
            ],
            [
             0.4444444444444444,
             "#bd3786"
            ],
            [
             0.5555555555555556,
             "#d8576b"
            ],
            [
             0.6666666666666666,
             "#ed7953"
            ],
            [
             0.7777777777777778,
             "#fb9f3a"
            ],
            [
             0.8888888888888888,
             "#fdca26"
            ],
            [
             1,
             "#f0f921"
            ]
           ],
           "sequentialminus": [
            [
             0,
             "#0d0887"
            ],
            [
             0.1111111111111111,
             "#46039f"
            ],
            [
             0.2222222222222222,
             "#7201a8"
            ],
            [
             0.3333333333333333,
             "#9c179e"
            ],
            [
             0.4444444444444444,
             "#bd3786"
            ],
            [
             0.5555555555555556,
             "#d8576b"
            ],
            [
             0.6666666666666666,
             "#ed7953"
            ],
            [
             0.7777777777777778,
             "#fb9f3a"
            ],
            [
             0.8888888888888888,
             "#fdca26"
            ],
            [
             1,
             "#f0f921"
            ]
           ]
          },
          "colorway": [
           "#636efa",
           "#EF553B",
           "#00cc96",
           "#ab63fa",
           "#FFA15A",
           "#19d3f3",
           "#FF6692",
           "#B6E880",
           "#FF97FF",
           "#FECB52"
          ],
          "font": {
           "color": "#2a3f5f"
          },
          "geo": {
           "bgcolor": "white",
           "lakecolor": "white",
           "landcolor": "#E5ECF6",
           "showlakes": true,
           "showland": true,
           "subunitcolor": "white"
          },
          "hoverlabel": {
           "align": "left"
          },
          "hovermode": "closest",
          "mapbox": {
           "style": "light"
          },
          "paper_bgcolor": "white",
          "plot_bgcolor": "#E5ECF6",
          "polar": {
           "angularaxis": {
            "gridcolor": "white",
            "linecolor": "white",
            "ticks": ""
           },
           "bgcolor": "#E5ECF6",
           "radialaxis": {
            "gridcolor": "white",
            "linecolor": "white",
            "ticks": ""
           }
          },
          "scene": {
           "xaxis": {
            "backgroundcolor": "#E5ECF6",
            "gridcolor": "white",
            "gridwidth": 2,
            "linecolor": "white",
            "showbackground": true,
            "ticks": "",
            "zerolinecolor": "white"
           },
           "yaxis": {
            "backgroundcolor": "#E5ECF6",
            "gridcolor": "white",
            "gridwidth": 2,
            "linecolor": "white",
            "showbackground": true,
            "ticks": "",
            "zerolinecolor": "white"
           },
           "zaxis": {
            "backgroundcolor": "#E5ECF6",
            "gridcolor": "white",
            "gridwidth": 2,
            "linecolor": "white",
            "showbackground": true,
            "ticks": "",
            "zerolinecolor": "white"
           }
          },
          "shapedefaults": {
           "line": {
            "color": "#2a3f5f"
           }
          },
          "ternary": {
           "aaxis": {
            "gridcolor": "white",
            "linecolor": "white",
            "ticks": ""
           },
           "baxis": {
            "gridcolor": "white",
            "linecolor": "white",
            "ticks": ""
           },
           "bgcolor": "#E5ECF6",
           "caxis": {
            "gridcolor": "white",
            "linecolor": "white",
            "ticks": ""
           }
          },
          "title": {
           "x": 0.05
          },
          "xaxis": {
           "automargin": true,
           "gridcolor": "white",
           "linecolor": "white",
           "ticks": "",
           "title": {
            "standoff": 15
           },
           "zerolinecolor": "white",
           "zerolinewidth": 2
          },
          "yaxis": {
           "automargin": true,
           "gridcolor": "white",
           "linecolor": "white",
           "ticks": "",
           "title": {
            "standoff": 15
           },
           "zerolinecolor": "white",
           "zerolinewidth": 2
          }
         }
        }
       }
      }
     },
     "metadata": {},
     "output_type": "display_data"
    }
   ],
   "source": [
    "fig = px.box(table, y='timeSinceLastUpdate', labels={'timeSinceLastUpdate': 'Última Atualização (em horas)'}, title='Última Atualização')\n",
    "fig.write_image('../data/update_boxplot.png')\n",
    "fig.show()\n",
    "\n",
    "table1 = table.timeSinceLastUpdate.describe().to_frame().drop(['count', 'mean', 'std']).rename({'25%': 'q1', '50%': 'median', '75%': 'q3'}).reset_index().rename(columns={'index': 'title'})\n",
    "table1 = table1.rename(columns={'title': 'Título', 'timeSinceLastUpdate': 'Última Atualização'})\n",
    "table1['Última Atualização'] = table1['Última Atualização'].apply(func={lambda x: f'{x:.2f} horas'})\n",
    "layout = go.Layout(\n",
    "    paper_bgcolor='rgba(0,0,0,0)',\n",
    "    plot_bgcolor='rgba(0,0,0,0)',\n",
    "    height=180,\n",
    "    margin={\"l\":10,\"r\":10,\"t\":10,\"b\":10}\n",
    ")\n",
    "fig = go.Figure(data=[go.Table(\n",
    "    header=dict(values=list(table1.columns),\n",
    "                line_color='darkslategray',\n",
    "                fill_color='grey',\n",
    "                align=['left','center'],\n",
    "                font=dict(color='white', size=12)),\n",
    "    cells=dict(values=[table1.Título, table1['Última Atualização']],\n",
    "               line_color='darkslategray',\n",
    "                fill_color = [['white','lightgrey','white', 'lightgrey']*5],\n",
    "                align = ['left', 'center'],\n",
    "                font = dict(color = 'darkslategray', size = 11))\n",
    "    )\n",
    "],\n",
    "layout=layout)\n",
    "fig.write_image('../data/update_table.png')\n",
    "fig.show()"
   ]
  },
  {
   "cell_type": "code",
   "execution_count": 73,
   "metadata": {},
   "outputs": [
    {
     "data": {
      "application/vnd.plotly.v1+json": {
       "config": {
        "plotlyServerURL": "https://plot.ly"
       },
       "data": [
        {
         "alignmentgroup": "True",
         "hovertemplate": "Pull Requests=%{y}<extra></extra>",
         "legendgroup": "",
         "marker": {
          "color": "#636efa"
         },
         "name": "",
         "notched": false,
         "offsetgroup": "",
         "orientation": "v",
         "showlegend": false,
         "type": "box",
         "x0": " ",
         "xaxis": "x",
         "y": [
          20490,
          5680,
          624,
          1063,
          372,
          1871,
          1629,
          196,
          121,
          9213,
          1119,
          535,
          16193,
          282,
          360,
          2337,
          375,
          8485,
          2938,
          9,
          33018,
          1523,
          19475,
          240,
          960,
          2395,
          12,
          317,
          887,
          801,
          1608,
          232,
          777,
          182,
          1,
          723,
          10438,
          13869,
          17919,
          3009,
          122,
          463,
          280,
          756,
          56232,
          1390,
          1944,
          6727,
          4142,
          445,
          11230,
          13281,
          761,
          69,
          8971,
          3348,
          3428,
          16308,
          105,
          11946,
          149,
          49661,
          3605,
          313,
          1123,
          8780,
          481,
          313,
          410,
          425,
          2304,
          473,
          16,
          1509,
          63,
          8367,
          98,
          2269,
          2900,
          131,
          198,
          1834,
          483,
          75,
          941,
          13240,
          11407,
          5459,
          690,
          1,
          3438,
          42,
          10652,
          2137,
          27,
          110,
          5767,
          3311,
          149,
          18869,
          173,
          0,
          57266,
          7190,
          386,
          1516,
          28759,
          44372,
          4436,
          771,
          51,
          49369,
          1402,
          1337,
          269,
          2905,
          3439,
          4690,
          4306,
          1778,
          84,
          7,
          42,
          804,
          1626,
          2,
          5,
          3937,
          130,
          3574,
          5463,
          2872,
          20,
          789,
          418,
          840,
          37199,
          49,
          772,
          449,
          640,
          244,
          169,
          1,
          175,
          573,
          34657,
          278,
          14,
          6025,
          1209,
          335,
          316,
          6800,
          188,
          470,
          11006,
          35956,
          321,
          1553,
          702,
          17928,
          11084,
          3064,
          1190,
          396,
          2374,
          11170,
          3229,
          21914,
          1079,
          351,
          562,
          1324,
          860,
          787,
          401,
          260,
          255,
          375,
          305,
          302,
          1961,
          56,
          356,
          482,
          1414,
          1504,
          4127,
          315,
          5420,
          1668,
          4943,
          94,
          194,
          570,
          503,
          44,
          1614,
          2010,
          3831,
          420,
          374,
          31,
          570,
          712,
          605,
          267,
          4763,
          3602,
          3,
          90,
          3142,
          3092,
          72,
          353,
          1020,
          102,
          63,
          1812,
          7507,
          313,
          0,
          358,
          2053,
          8436,
          90,
          47286,
          4469,
          5586,
          128,
          192,
          715,
          48,
          3841,
          124,
          3188,
          7899,
          82,
          182,
          666,
          8864,
          12536,
          2203,
          6601,
          1454,
          1934,
          6520,
          28,
          1690,
          222,
          21722,
          524,
          203,
          88,
          771,
          1408,
          1609,
          19,
          1159,
          109,
          2189,
          377,
          5216,
          18,
          5374,
          385,
          52,
          32,
          757,
          129,
          330,
          275,
          843,
          49,
          6,
          1854,
          74,
          742,
          2,
          635,
          7833,
          2989,
          1991,
          1652,
          936,
          219,
          1,
          26,
          2832,
          118,
          132,
          78,
          8522,
          6417,
          21,
          949,
          1639,
          2038,
          192,
          470,
          572,
          600,
          23363,
          540,
          28,
          911,
          4571,
          977,
          129,
          18588,
          449,
          778,
          10918,
          20187,
          1421,
          1101,
          216,
          1197,
          2270,
          113,
          143,
          2869,
          1508,
          13303,
          98,
          16,
          135,
          229,
          399,
          16,
          262,
          869,
          1494,
          3536,
          1316,
          2030,
          657,
          6011,
          60775,
          857,
          115,
          221,
          108,
          39,
          306,
          9681,
          52,
          10960,
          283,
          1223,
          190,
          516,
          5,
          1834,
          55,
          69,
          675,
          475,
          550,
          857,
          28,
          2406,
          515,
          1558,
          1649,
          413,
          68,
          1782,
          218,
          122,
          4688,
          36,
          18,
          80,
          376,
          291,
          170,
          150,
          35,
          421,
          32,
          1599,
          0,
          1612,
          41397,
          1511,
          876,
          939,
          10188,
          516,
          24710,
          299,
          28,
          218,
          160,
          498,
          4381,
          9071,
          2,
          568,
          469,
          317,
          2203,
          623,
          261,
          96,
          16,
          144,
          21,
          250,
          16579,
          48,
          509,
          704,
          4366,
          22565,
          3819,
          201,
          1087,
          2783,
          106,
          656,
          61,
          1211,
          117,
          70,
          592,
          4333,
          192,
          4431,
          710,
          14,
          912,
          468,
          0,
          542,
          791,
          1864,
          646,
          18,
          2134,
          2218,
          1252,
          265,
          17,
          396,
          806,
          3532,
          26,
          482,
          999,
          61,
          89,
          13950,
          87,
          2683,
          594,
          1025,
          655,
          2114,
          361,
          29,
          14,
          1874,
          166,
          3203,
          63,
          124,
          3,
          35,
          124,
          17229,
          248,
          98,
          149,
          202,
          206,
          366,
          31,
          96,
          169,
          10115,
          244,
          1987,
          119,
          525,
          73,
          787,
          29,
          5842,
          31034,
          197,
          6168,
          2119,
          39,
          173,
          26,
          1112,
          2801,
          15,
          160,
          1,
          35,
          79,
          3679,
          209,
          1209,
          74,
          14035,
          2109,
          184,
          3,
          399,
          339,
          1480,
          86,
          1258,
          18,
          62,
          2950,
          22,
          132,
          2543,
          7,
          562,
          104,
          44,
          283,
          715,
          2152,
          41,
          24,
          386,
          393,
          8532,
          270,
          9019,
          163,
          43,
          113,
          128,
          314,
          186,
          168,
          23,
          471,
          864,
          4206,
          20610,
          168,
          38,
          724,
          2700,
          10,
          1757,
          176,
          712,
          104,
          48576,
          690,
          1558,
          510,
          21,
          2431,
          822,
          2458,
          19117,
          244,
          218,
          108,
          2321,
          28,
          998,
          13,
          294,
          6896,
          1027,
          58,
          700,
          95,
          530,
          74,
          24,
          3431,
          4927,
          69,
          15,
          380,
          3061,
          415,
          1810,
          192,
          51,
          11161,
          1793,
          133,
          823,
          1067,
          681,
          244,
          218,
          108,
          2321,
          28,
          998,
          13,
          294,
          6896,
          1027,
          58,
          700,
          95,
          222,
          530,
          781,
          74,
          24,
          741,
          3431,
          4927,
          69,
          15,
          380,
          3061,
          415,
          1810,
          192,
          51,
          11161,
          1793,
          133,
          823,
          1067,
          681,
          13,
          265,
          6,
          6,
          425,
          148,
          68,
          845,
          1030,
          530,
          549,
          1736,
          141,
          3687,
          2,
          896,
          386,
          1,
          36,
          2870,
          8786,
          4805,
          5066,
          452,
          14224,
          1697,
          512,
          875,
          0,
          19,
          259,
          585,
          171,
          1,
          9577,
          56,
          42,
          5,
          2605,
          70,
          593,
          15386,
          1654,
          0,
          428,
          6835,
          349,
          243,
          20,
          214,
          164,
          7049,
          1993,
          1245,
          707,
          44,
          650,
          275,
          147,
          346,
          593,
          34,
          31,
          801,
          11,
          64,
          301,
          1106,
          69,
          418,
          2298,
          2645,
          1634,
          477,
          165,
          1804,
          453,
          724,
          632,
          150,
          131,
          399,
          70,
          1456,
          98,
          6312,
          173,
          56,
          406,
          110,
          16,
          63,
          12,
          680,
          369,
          2995,
          754,
          3476,
          52,
          72,
          283,
          2629,
          139,
          602,
          547,
          83,
          1474,
          205,
          2595,
          39,
          339,
          263,
          884,
          12,
          3447,
          265,
          10,
          7949,
          3780,
          724,
          7558,
          2431,
          0,
          2722,
          1658,
          31,
          39,
          14,
          10378,
          191,
          194,
          2647,
          629,
          12,
          2672,
          0,
          124,
          353,
          2821,
          138,
          1837,
          134,
          382,
          38,
          536,
          3482,
          29,
          1820,
          9612,
          2957,
          753,
          2552,
          1437,
          526,
          238,
          331,
          53,
          1195,
          309,
          8,
          1,
          261,
          4136,
          1707,
          109,
          3,
          30,
          0,
          441,
          2953,
          302,
          663,
          693,
          191,
          5100,
          19387,
          176,
          14922,
          522,
          48,
          114,
          193,
          11066,
          1416,
          206,
          89,
          677,
          775,
          156,
          139,
          675,
          280,
          617,
          1735,
          158,
          65,
          2,
          768,
          49,
          365,
          2227,
          5630,
          9709,
          188,
          715,
          98,
          1288,
          5,
          1663,
          34,
          1723,
          404,
          10210,
          79,
          1419,
          1140,
          288,
          183,
          364,
          185,
          12055,
          71,
          114,
          278,
          243,
          5868,
          527,
          521,
          2013,
          1211,
          216,
          13,
          513,
          1338,
          5086,
          3096,
          1286,
          429,
          182,
          1882,
          238,
          256,
          4456,
          4175,
          268,
          278,
          10,
          9,
          1065,
          14712,
          270,
          3168,
          16091,
          915,
          21,
          544,
          229,
          597,
          40,
          118,
          20,
          7,
          439,
          363,
          1301,
          402,
          227,
          249,
          10,
          216,
          671,
          2200,
          8015,
          1,
          284,
          387,
          526,
          697,
          9,
          20,
          4251,
          6,
          408,
          301,
          84,
          62,
          127,
          465,
          424,
          1692,
          256,
          6,
          1172,
          503,
          412,
          211,
          321,
          285,
          2088,
          397,
          218,
          146,
          864,
          544,
          649,
          427,
          2290,
          127,
          6502,
          46,
          160,
          97,
          1369,
          2949,
          5313,
          267,
          1071,
          310,
          25,
          2613,
          8083,
          20,
          4749,
          2543,
          468,
          781,
          2957,
          3148,
          143,
          802,
          323,
          66,
          360,
          22,
          51,
          53,
          18,
          172,
          32,
          3,
          343,
          12,
          84,
          16956,
          717,
          1005,
          436,
          2742,
          857,
          0,
          57,
          134,
          0,
          2075,
          794,
          107,
          171,
          592,
          82,
          144,
          117,
          93,
          8489,
          392,
          165
         ],
         "y0": " ",
         "yaxis": "y"
        }
       ],
       "layout": {
        "boxmode": "group",
        "legend": {
         "tracegroupgap": 0
        },
        "template": {
         "data": {
          "bar": [
           {
            "error_x": {
             "color": "#2a3f5f"
            },
            "error_y": {
             "color": "#2a3f5f"
            },
            "marker": {
             "line": {
              "color": "#E5ECF6",
              "width": 0.5
             },
             "pattern": {
              "fillmode": "overlay",
              "size": 10,
              "solidity": 0.2
             }
            },
            "type": "bar"
           }
          ],
          "barpolar": [
           {
            "marker": {
             "line": {
              "color": "#E5ECF6",
              "width": 0.5
             },
             "pattern": {
              "fillmode": "overlay",
              "size": 10,
              "solidity": 0.2
             }
            },
            "type": "barpolar"
           }
          ],
          "carpet": [
           {
            "aaxis": {
             "endlinecolor": "#2a3f5f",
             "gridcolor": "white",
             "linecolor": "white",
             "minorgridcolor": "white",
             "startlinecolor": "#2a3f5f"
            },
            "baxis": {
             "endlinecolor": "#2a3f5f",
             "gridcolor": "white",
             "linecolor": "white",
             "minorgridcolor": "white",
             "startlinecolor": "#2a3f5f"
            },
            "type": "carpet"
           }
          ],
          "choropleth": [
           {
            "colorbar": {
             "outlinewidth": 0,
             "ticks": ""
            },
            "type": "choropleth"
           }
          ],
          "contour": [
           {
            "colorbar": {
             "outlinewidth": 0,
             "ticks": ""
            },
            "colorscale": [
             [
              0,
              "#0d0887"
             ],
             [
              0.1111111111111111,
              "#46039f"
             ],
             [
              0.2222222222222222,
              "#7201a8"
             ],
             [
              0.3333333333333333,
              "#9c179e"
             ],
             [
              0.4444444444444444,
              "#bd3786"
             ],
             [
              0.5555555555555556,
              "#d8576b"
             ],
             [
              0.6666666666666666,
              "#ed7953"
             ],
             [
              0.7777777777777778,
              "#fb9f3a"
             ],
             [
              0.8888888888888888,
              "#fdca26"
             ],
             [
              1,
              "#f0f921"
             ]
            ],
            "type": "contour"
           }
          ],
          "contourcarpet": [
           {
            "colorbar": {
             "outlinewidth": 0,
             "ticks": ""
            },
            "type": "contourcarpet"
           }
          ],
          "heatmap": [
           {
            "colorbar": {
             "outlinewidth": 0,
             "ticks": ""
            },
            "colorscale": [
             [
              0,
              "#0d0887"
             ],
             [
              0.1111111111111111,
              "#46039f"
             ],
             [
              0.2222222222222222,
              "#7201a8"
             ],
             [
              0.3333333333333333,
              "#9c179e"
             ],
             [
              0.4444444444444444,
              "#bd3786"
             ],
             [
              0.5555555555555556,
              "#d8576b"
             ],
             [
              0.6666666666666666,
              "#ed7953"
             ],
             [
              0.7777777777777778,
              "#fb9f3a"
             ],
             [
              0.8888888888888888,
              "#fdca26"
             ],
             [
              1,
              "#f0f921"
             ]
            ],
            "type": "heatmap"
           }
          ],
          "heatmapgl": [
           {
            "colorbar": {
             "outlinewidth": 0,
             "ticks": ""
            },
            "colorscale": [
             [
              0,
              "#0d0887"
             ],
             [
              0.1111111111111111,
              "#46039f"
             ],
             [
              0.2222222222222222,
              "#7201a8"
             ],
             [
              0.3333333333333333,
              "#9c179e"
             ],
             [
              0.4444444444444444,
              "#bd3786"
             ],
             [
              0.5555555555555556,
              "#d8576b"
             ],
             [
              0.6666666666666666,
              "#ed7953"
             ],
             [
              0.7777777777777778,
              "#fb9f3a"
             ],
             [
              0.8888888888888888,
              "#fdca26"
             ],
             [
              1,
              "#f0f921"
             ]
            ],
            "type": "heatmapgl"
           }
          ],
          "histogram": [
           {
            "marker": {
             "pattern": {
              "fillmode": "overlay",
              "size": 10,
              "solidity": 0.2
             }
            },
            "type": "histogram"
           }
          ],
          "histogram2d": [
           {
            "colorbar": {
             "outlinewidth": 0,
             "ticks": ""
            },
            "colorscale": [
             [
              0,
              "#0d0887"
             ],
             [
              0.1111111111111111,
              "#46039f"
             ],
             [
              0.2222222222222222,
              "#7201a8"
             ],
             [
              0.3333333333333333,
              "#9c179e"
             ],
             [
              0.4444444444444444,
              "#bd3786"
             ],
             [
              0.5555555555555556,
              "#d8576b"
             ],
             [
              0.6666666666666666,
              "#ed7953"
             ],
             [
              0.7777777777777778,
              "#fb9f3a"
             ],
             [
              0.8888888888888888,
              "#fdca26"
             ],
             [
              1,
              "#f0f921"
             ]
            ],
            "type": "histogram2d"
           }
          ],
          "histogram2dcontour": [
           {
            "colorbar": {
             "outlinewidth": 0,
             "ticks": ""
            },
            "colorscale": [
             [
              0,
              "#0d0887"
             ],
             [
              0.1111111111111111,
              "#46039f"
             ],
             [
              0.2222222222222222,
              "#7201a8"
             ],
             [
              0.3333333333333333,
              "#9c179e"
             ],
             [
              0.4444444444444444,
              "#bd3786"
             ],
             [
              0.5555555555555556,
              "#d8576b"
             ],
             [
              0.6666666666666666,
              "#ed7953"
             ],
             [
              0.7777777777777778,
              "#fb9f3a"
             ],
             [
              0.8888888888888888,
              "#fdca26"
             ],
             [
              1,
              "#f0f921"
             ]
            ],
            "type": "histogram2dcontour"
           }
          ],
          "mesh3d": [
           {
            "colorbar": {
             "outlinewidth": 0,
             "ticks": ""
            },
            "type": "mesh3d"
           }
          ],
          "parcoords": [
           {
            "line": {
             "colorbar": {
              "outlinewidth": 0,
              "ticks": ""
             }
            },
            "type": "parcoords"
           }
          ],
          "pie": [
           {
            "automargin": true,
            "type": "pie"
           }
          ],
          "scatter": [
           {
            "fillpattern": {
             "fillmode": "overlay",
             "size": 10,
             "solidity": 0.2
            },
            "type": "scatter"
           }
          ],
          "scatter3d": [
           {
            "line": {
             "colorbar": {
              "outlinewidth": 0,
              "ticks": ""
             }
            },
            "marker": {
             "colorbar": {
              "outlinewidth": 0,
              "ticks": ""
             }
            },
            "type": "scatter3d"
           }
          ],
          "scattercarpet": [
           {
            "marker": {
             "colorbar": {
              "outlinewidth": 0,
              "ticks": ""
             }
            },
            "type": "scattercarpet"
           }
          ],
          "scattergeo": [
           {
            "marker": {
             "colorbar": {
              "outlinewidth": 0,
              "ticks": ""
             }
            },
            "type": "scattergeo"
           }
          ],
          "scattergl": [
           {
            "marker": {
             "colorbar": {
              "outlinewidth": 0,
              "ticks": ""
             }
            },
            "type": "scattergl"
           }
          ],
          "scattermapbox": [
           {
            "marker": {
             "colorbar": {
              "outlinewidth": 0,
              "ticks": ""
             }
            },
            "type": "scattermapbox"
           }
          ],
          "scatterpolar": [
           {
            "marker": {
             "colorbar": {
              "outlinewidth": 0,
              "ticks": ""
             }
            },
            "type": "scatterpolar"
           }
          ],
          "scatterpolargl": [
           {
            "marker": {
             "colorbar": {
              "outlinewidth": 0,
              "ticks": ""
             }
            },
            "type": "scatterpolargl"
           }
          ],
          "scatterternary": [
           {
            "marker": {
             "colorbar": {
              "outlinewidth": 0,
              "ticks": ""
             }
            },
            "type": "scatterternary"
           }
          ],
          "surface": [
           {
            "colorbar": {
             "outlinewidth": 0,
             "ticks": ""
            },
            "colorscale": [
             [
              0,
              "#0d0887"
             ],
             [
              0.1111111111111111,
              "#46039f"
             ],
             [
              0.2222222222222222,
              "#7201a8"
             ],
             [
              0.3333333333333333,
              "#9c179e"
             ],
             [
              0.4444444444444444,
              "#bd3786"
             ],
             [
              0.5555555555555556,
              "#d8576b"
             ],
             [
              0.6666666666666666,
              "#ed7953"
             ],
             [
              0.7777777777777778,
              "#fb9f3a"
             ],
             [
              0.8888888888888888,
              "#fdca26"
             ],
             [
              1,
              "#f0f921"
             ]
            ],
            "type": "surface"
           }
          ],
          "table": [
           {
            "cells": {
             "fill": {
              "color": "#EBF0F8"
             },
             "line": {
              "color": "white"
             }
            },
            "header": {
             "fill": {
              "color": "#C8D4E3"
             },
             "line": {
              "color": "white"
             }
            },
            "type": "table"
           }
          ]
         },
         "layout": {
          "annotationdefaults": {
           "arrowcolor": "#2a3f5f",
           "arrowhead": 0,
           "arrowwidth": 1
          },
          "autotypenumbers": "strict",
          "coloraxis": {
           "colorbar": {
            "outlinewidth": 0,
            "ticks": ""
           }
          },
          "colorscale": {
           "diverging": [
            [
             0,
             "#8e0152"
            ],
            [
             0.1,
             "#c51b7d"
            ],
            [
             0.2,
             "#de77ae"
            ],
            [
             0.3,
             "#f1b6da"
            ],
            [
             0.4,
             "#fde0ef"
            ],
            [
             0.5,
             "#f7f7f7"
            ],
            [
             0.6,
             "#e6f5d0"
            ],
            [
             0.7,
             "#b8e186"
            ],
            [
             0.8,
             "#7fbc41"
            ],
            [
             0.9,
             "#4d9221"
            ],
            [
             1,
             "#276419"
            ]
           ],
           "sequential": [
            [
             0,
             "#0d0887"
            ],
            [
             0.1111111111111111,
             "#46039f"
            ],
            [
             0.2222222222222222,
             "#7201a8"
            ],
            [
             0.3333333333333333,
             "#9c179e"
            ],
            [
             0.4444444444444444,
             "#bd3786"
            ],
            [
             0.5555555555555556,
             "#d8576b"
            ],
            [
             0.6666666666666666,
             "#ed7953"
            ],
            [
             0.7777777777777778,
             "#fb9f3a"
            ],
            [
             0.8888888888888888,
             "#fdca26"
            ],
            [
             1,
             "#f0f921"
            ]
           ],
           "sequentialminus": [
            [
             0,
             "#0d0887"
            ],
            [
             0.1111111111111111,
             "#46039f"
            ],
            [
             0.2222222222222222,
             "#7201a8"
            ],
            [
             0.3333333333333333,
             "#9c179e"
            ],
            [
             0.4444444444444444,
             "#bd3786"
            ],
            [
             0.5555555555555556,
             "#d8576b"
            ],
            [
             0.6666666666666666,
             "#ed7953"
            ],
            [
             0.7777777777777778,
             "#fb9f3a"
            ],
            [
             0.8888888888888888,
             "#fdca26"
            ],
            [
             1,
             "#f0f921"
            ]
           ]
          },
          "colorway": [
           "#636efa",
           "#EF553B",
           "#00cc96",
           "#ab63fa",
           "#FFA15A",
           "#19d3f3",
           "#FF6692",
           "#B6E880",
           "#FF97FF",
           "#FECB52"
          ],
          "font": {
           "color": "#2a3f5f"
          },
          "geo": {
           "bgcolor": "white",
           "lakecolor": "white",
           "landcolor": "#E5ECF6",
           "showlakes": true,
           "showland": true,
           "subunitcolor": "white"
          },
          "hoverlabel": {
           "align": "left"
          },
          "hovermode": "closest",
          "mapbox": {
           "style": "light"
          },
          "paper_bgcolor": "white",
          "plot_bgcolor": "#E5ECF6",
          "polar": {
           "angularaxis": {
            "gridcolor": "white",
            "linecolor": "white",
            "ticks": ""
           },
           "bgcolor": "#E5ECF6",
           "radialaxis": {
            "gridcolor": "white",
            "linecolor": "white",
            "ticks": ""
           }
          },
          "scene": {
           "xaxis": {
            "backgroundcolor": "#E5ECF6",
            "gridcolor": "white",
            "gridwidth": 2,
            "linecolor": "white",
            "showbackground": true,
            "ticks": "",
            "zerolinecolor": "white"
           },
           "yaxis": {
            "backgroundcolor": "#E5ECF6",
            "gridcolor": "white",
            "gridwidth": 2,
            "linecolor": "white",
            "showbackground": true,
            "ticks": "",
            "zerolinecolor": "white"
           },
           "zaxis": {
            "backgroundcolor": "#E5ECF6",
            "gridcolor": "white",
            "gridwidth": 2,
            "linecolor": "white",
            "showbackground": true,
            "ticks": "",
            "zerolinecolor": "white"
           }
          },
          "shapedefaults": {
           "line": {
            "color": "#2a3f5f"
           }
          },
          "ternary": {
           "aaxis": {
            "gridcolor": "white",
            "linecolor": "white",
            "ticks": ""
           },
           "baxis": {
            "gridcolor": "white",
            "linecolor": "white",
            "ticks": ""
           },
           "bgcolor": "#E5ECF6",
           "caxis": {
            "gridcolor": "white",
            "linecolor": "white",
            "ticks": ""
           }
          },
          "title": {
           "x": 0.05
          },
          "xaxis": {
           "automargin": true,
           "gridcolor": "white",
           "linecolor": "white",
           "ticks": "",
           "title": {
            "standoff": 15
           },
           "zerolinecolor": "white",
           "zerolinewidth": 2
          },
          "yaxis": {
           "automargin": true,
           "gridcolor": "white",
           "linecolor": "white",
           "ticks": "",
           "title": {
            "standoff": 15
           },
           "zerolinecolor": "white",
           "zerolinewidth": 2
          }
         }
        },
        "title": {
         "text": "Pull Requests"
        },
        "xaxis": {
         "anchor": "y",
         "domain": [
          0,
          1
         ]
        },
        "yaxis": {
         "anchor": "x",
         "domain": [
          0,
          1
         ],
         "title": {
          "text": "Pull Requests"
         }
        }
       }
      }
     },
     "metadata": {},
     "output_type": "display_data"
    },
    {
     "data": {
      "application/vnd.plotly.v1+json": {
       "config": {
        "plotlyServerURL": "https://plot.ly"
       },
       "data": [
        {
         "cells": {
          "align": [
           "left",
           "center"
          ],
          "fill": {
           "color": [
            [
             "white",
             "lightgrey",
             "white",
             "lightgrey",
             "white",
             "lightgrey",
             "white",
             "lightgrey",
             "white",
             "lightgrey",
             "white",
             "lightgrey",
             "white",
             "lightgrey",
             "white",
             "lightgrey",
             "white",
             "lightgrey",
             "white",
             "lightgrey"
            ]
           ]
          },
          "font": {
           "color": "darkslategray",
           "size": 11
          },
          "line": {
           "color": "darkslategray"
          },
          "values": [
           [
            "min",
            "q1",
            "median",
            "q3",
            "max"
           ],
           [
            0,
            124,
            470,
            1856,
            60775
           ]
          ]
         },
         "header": {
          "align": [
           "left",
           "center"
          ],
          "fill": {
           "color": "grey"
          },
          "font": {
           "color": "white",
           "size": 12
          },
          "line": {
           "color": "darkslategray"
          },
          "values": [
           "Título",
           "Pull Requests"
          ]
         },
         "type": "table"
        }
       ],
       "layout": {
        "height": 180,
        "margin": {
         "b": 10,
         "l": 10,
         "r": 10,
         "t": 10
        },
        "paper_bgcolor": "rgba(0,0,0,0)",
        "plot_bgcolor": "rgba(0,0,0,0)",
        "template": {
         "data": {
          "bar": [
           {
            "error_x": {
             "color": "#2a3f5f"
            },
            "error_y": {
             "color": "#2a3f5f"
            },
            "marker": {
             "line": {
              "color": "#E5ECF6",
              "width": 0.5
             },
             "pattern": {
              "fillmode": "overlay",
              "size": 10,
              "solidity": 0.2
             }
            },
            "type": "bar"
           }
          ],
          "barpolar": [
           {
            "marker": {
             "line": {
              "color": "#E5ECF6",
              "width": 0.5
             },
             "pattern": {
              "fillmode": "overlay",
              "size": 10,
              "solidity": 0.2
             }
            },
            "type": "barpolar"
           }
          ],
          "carpet": [
           {
            "aaxis": {
             "endlinecolor": "#2a3f5f",
             "gridcolor": "white",
             "linecolor": "white",
             "minorgridcolor": "white",
             "startlinecolor": "#2a3f5f"
            },
            "baxis": {
             "endlinecolor": "#2a3f5f",
             "gridcolor": "white",
             "linecolor": "white",
             "minorgridcolor": "white",
             "startlinecolor": "#2a3f5f"
            },
            "type": "carpet"
           }
          ],
          "choropleth": [
           {
            "colorbar": {
             "outlinewidth": 0,
             "ticks": ""
            },
            "type": "choropleth"
           }
          ],
          "contour": [
           {
            "colorbar": {
             "outlinewidth": 0,
             "ticks": ""
            },
            "colorscale": [
             [
              0,
              "#0d0887"
             ],
             [
              0.1111111111111111,
              "#46039f"
             ],
             [
              0.2222222222222222,
              "#7201a8"
             ],
             [
              0.3333333333333333,
              "#9c179e"
             ],
             [
              0.4444444444444444,
              "#bd3786"
             ],
             [
              0.5555555555555556,
              "#d8576b"
             ],
             [
              0.6666666666666666,
              "#ed7953"
             ],
             [
              0.7777777777777778,
              "#fb9f3a"
             ],
             [
              0.8888888888888888,
              "#fdca26"
             ],
             [
              1,
              "#f0f921"
             ]
            ],
            "type": "contour"
           }
          ],
          "contourcarpet": [
           {
            "colorbar": {
             "outlinewidth": 0,
             "ticks": ""
            },
            "type": "contourcarpet"
           }
          ],
          "heatmap": [
           {
            "colorbar": {
             "outlinewidth": 0,
             "ticks": ""
            },
            "colorscale": [
             [
              0,
              "#0d0887"
             ],
             [
              0.1111111111111111,
              "#46039f"
             ],
             [
              0.2222222222222222,
              "#7201a8"
             ],
             [
              0.3333333333333333,
              "#9c179e"
             ],
             [
              0.4444444444444444,
              "#bd3786"
             ],
             [
              0.5555555555555556,
              "#d8576b"
             ],
             [
              0.6666666666666666,
              "#ed7953"
             ],
             [
              0.7777777777777778,
              "#fb9f3a"
             ],
             [
              0.8888888888888888,
              "#fdca26"
             ],
             [
              1,
              "#f0f921"
             ]
            ],
            "type": "heatmap"
           }
          ],
          "heatmapgl": [
           {
            "colorbar": {
             "outlinewidth": 0,
             "ticks": ""
            },
            "colorscale": [
             [
              0,
              "#0d0887"
             ],
             [
              0.1111111111111111,
              "#46039f"
             ],
             [
              0.2222222222222222,
              "#7201a8"
             ],
             [
              0.3333333333333333,
              "#9c179e"
             ],
             [
              0.4444444444444444,
              "#bd3786"
             ],
             [
              0.5555555555555556,
              "#d8576b"
             ],
             [
              0.6666666666666666,
              "#ed7953"
             ],
             [
              0.7777777777777778,
              "#fb9f3a"
             ],
             [
              0.8888888888888888,
              "#fdca26"
             ],
             [
              1,
              "#f0f921"
             ]
            ],
            "type": "heatmapgl"
           }
          ],
          "histogram": [
           {
            "marker": {
             "pattern": {
              "fillmode": "overlay",
              "size": 10,
              "solidity": 0.2
             }
            },
            "type": "histogram"
           }
          ],
          "histogram2d": [
           {
            "colorbar": {
             "outlinewidth": 0,
             "ticks": ""
            },
            "colorscale": [
             [
              0,
              "#0d0887"
             ],
             [
              0.1111111111111111,
              "#46039f"
             ],
             [
              0.2222222222222222,
              "#7201a8"
             ],
             [
              0.3333333333333333,
              "#9c179e"
             ],
             [
              0.4444444444444444,
              "#bd3786"
             ],
             [
              0.5555555555555556,
              "#d8576b"
             ],
             [
              0.6666666666666666,
              "#ed7953"
             ],
             [
              0.7777777777777778,
              "#fb9f3a"
             ],
             [
              0.8888888888888888,
              "#fdca26"
             ],
             [
              1,
              "#f0f921"
             ]
            ],
            "type": "histogram2d"
           }
          ],
          "histogram2dcontour": [
           {
            "colorbar": {
             "outlinewidth": 0,
             "ticks": ""
            },
            "colorscale": [
             [
              0,
              "#0d0887"
             ],
             [
              0.1111111111111111,
              "#46039f"
             ],
             [
              0.2222222222222222,
              "#7201a8"
             ],
             [
              0.3333333333333333,
              "#9c179e"
             ],
             [
              0.4444444444444444,
              "#bd3786"
             ],
             [
              0.5555555555555556,
              "#d8576b"
             ],
             [
              0.6666666666666666,
              "#ed7953"
             ],
             [
              0.7777777777777778,
              "#fb9f3a"
             ],
             [
              0.8888888888888888,
              "#fdca26"
             ],
             [
              1,
              "#f0f921"
             ]
            ],
            "type": "histogram2dcontour"
           }
          ],
          "mesh3d": [
           {
            "colorbar": {
             "outlinewidth": 0,
             "ticks": ""
            },
            "type": "mesh3d"
           }
          ],
          "parcoords": [
           {
            "line": {
             "colorbar": {
              "outlinewidth": 0,
              "ticks": ""
             }
            },
            "type": "parcoords"
           }
          ],
          "pie": [
           {
            "automargin": true,
            "type": "pie"
           }
          ],
          "scatter": [
           {
            "fillpattern": {
             "fillmode": "overlay",
             "size": 10,
             "solidity": 0.2
            },
            "type": "scatter"
           }
          ],
          "scatter3d": [
           {
            "line": {
             "colorbar": {
              "outlinewidth": 0,
              "ticks": ""
             }
            },
            "marker": {
             "colorbar": {
              "outlinewidth": 0,
              "ticks": ""
             }
            },
            "type": "scatter3d"
           }
          ],
          "scattercarpet": [
           {
            "marker": {
             "colorbar": {
              "outlinewidth": 0,
              "ticks": ""
             }
            },
            "type": "scattercarpet"
           }
          ],
          "scattergeo": [
           {
            "marker": {
             "colorbar": {
              "outlinewidth": 0,
              "ticks": ""
             }
            },
            "type": "scattergeo"
           }
          ],
          "scattergl": [
           {
            "marker": {
             "colorbar": {
              "outlinewidth": 0,
              "ticks": ""
             }
            },
            "type": "scattergl"
           }
          ],
          "scattermapbox": [
           {
            "marker": {
             "colorbar": {
              "outlinewidth": 0,
              "ticks": ""
             }
            },
            "type": "scattermapbox"
           }
          ],
          "scatterpolar": [
           {
            "marker": {
             "colorbar": {
              "outlinewidth": 0,
              "ticks": ""
             }
            },
            "type": "scatterpolar"
           }
          ],
          "scatterpolargl": [
           {
            "marker": {
             "colorbar": {
              "outlinewidth": 0,
              "ticks": ""
             }
            },
            "type": "scatterpolargl"
           }
          ],
          "scatterternary": [
           {
            "marker": {
             "colorbar": {
              "outlinewidth": 0,
              "ticks": ""
             }
            },
            "type": "scatterternary"
           }
          ],
          "surface": [
           {
            "colorbar": {
             "outlinewidth": 0,
             "ticks": ""
            },
            "colorscale": [
             [
              0,
              "#0d0887"
             ],
             [
              0.1111111111111111,
              "#46039f"
             ],
             [
              0.2222222222222222,
              "#7201a8"
             ],
             [
              0.3333333333333333,
              "#9c179e"
             ],
             [
              0.4444444444444444,
              "#bd3786"
             ],
             [
              0.5555555555555556,
              "#d8576b"
             ],
             [
              0.6666666666666666,
              "#ed7953"
             ],
             [
              0.7777777777777778,
              "#fb9f3a"
             ],
             [
              0.8888888888888888,
              "#fdca26"
             ],
             [
              1,
              "#f0f921"
             ]
            ],
            "type": "surface"
           }
          ],
          "table": [
           {
            "cells": {
             "fill": {
              "color": "#EBF0F8"
             },
             "line": {
              "color": "white"
             }
            },
            "header": {
             "fill": {
              "color": "#C8D4E3"
             },
             "line": {
              "color": "white"
             }
            },
            "type": "table"
           }
          ]
         },
         "layout": {
          "annotationdefaults": {
           "arrowcolor": "#2a3f5f",
           "arrowhead": 0,
           "arrowwidth": 1
          },
          "autotypenumbers": "strict",
          "coloraxis": {
           "colorbar": {
            "outlinewidth": 0,
            "ticks": ""
           }
          },
          "colorscale": {
           "diverging": [
            [
             0,
             "#8e0152"
            ],
            [
             0.1,
             "#c51b7d"
            ],
            [
             0.2,
             "#de77ae"
            ],
            [
             0.3,
             "#f1b6da"
            ],
            [
             0.4,
             "#fde0ef"
            ],
            [
             0.5,
             "#f7f7f7"
            ],
            [
             0.6,
             "#e6f5d0"
            ],
            [
             0.7,
             "#b8e186"
            ],
            [
             0.8,
             "#7fbc41"
            ],
            [
             0.9,
             "#4d9221"
            ],
            [
             1,
             "#276419"
            ]
           ],
           "sequential": [
            [
             0,
             "#0d0887"
            ],
            [
             0.1111111111111111,
             "#46039f"
            ],
            [
             0.2222222222222222,
             "#7201a8"
            ],
            [
             0.3333333333333333,
             "#9c179e"
            ],
            [
             0.4444444444444444,
             "#bd3786"
            ],
            [
             0.5555555555555556,
             "#d8576b"
            ],
            [
             0.6666666666666666,
             "#ed7953"
            ],
            [
             0.7777777777777778,
             "#fb9f3a"
            ],
            [
             0.8888888888888888,
             "#fdca26"
            ],
            [
             1,
             "#f0f921"
            ]
           ],
           "sequentialminus": [
            [
             0,
             "#0d0887"
            ],
            [
             0.1111111111111111,
             "#46039f"
            ],
            [
             0.2222222222222222,
             "#7201a8"
            ],
            [
             0.3333333333333333,
             "#9c179e"
            ],
            [
             0.4444444444444444,
             "#bd3786"
            ],
            [
             0.5555555555555556,
             "#d8576b"
            ],
            [
             0.6666666666666666,
             "#ed7953"
            ],
            [
             0.7777777777777778,
             "#fb9f3a"
            ],
            [
             0.8888888888888888,
             "#fdca26"
            ],
            [
             1,
             "#f0f921"
            ]
           ]
          },
          "colorway": [
           "#636efa",
           "#EF553B",
           "#00cc96",
           "#ab63fa",
           "#FFA15A",
           "#19d3f3",
           "#FF6692",
           "#B6E880",
           "#FF97FF",
           "#FECB52"
          ],
          "font": {
           "color": "#2a3f5f"
          },
          "geo": {
           "bgcolor": "white",
           "lakecolor": "white",
           "landcolor": "#E5ECF6",
           "showlakes": true,
           "showland": true,
           "subunitcolor": "white"
          },
          "hoverlabel": {
           "align": "left"
          },
          "hovermode": "closest",
          "mapbox": {
           "style": "light"
          },
          "paper_bgcolor": "white",
          "plot_bgcolor": "#E5ECF6",
          "polar": {
           "angularaxis": {
            "gridcolor": "white",
            "linecolor": "white",
            "ticks": ""
           },
           "bgcolor": "#E5ECF6",
           "radialaxis": {
            "gridcolor": "white",
            "linecolor": "white",
            "ticks": ""
           }
          },
          "scene": {
           "xaxis": {
            "backgroundcolor": "#E5ECF6",
            "gridcolor": "white",
            "gridwidth": 2,
            "linecolor": "white",
            "showbackground": true,
            "ticks": "",
            "zerolinecolor": "white"
           },
           "yaxis": {
            "backgroundcolor": "#E5ECF6",
            "gridcolor": "white",
            "gridwidth": 2,
            "linecolor": "white",
            "showbackground": true,
            "ticks": "",
            "zerolinecolor": "white"
           },
           "zaxis": {
            "backgroundcolor": "#E5ECF6",
            "gridcolor": "white",
            "gridwidth": 2,
            "linecolor": "white",
            "showbackground": true,
            "ticks": "",
            "zerolinecolor": "white"
           }
          },
          "shapedefaults": {
           "line": {
            "color": "#2a3f5f"
           }
          },
          "ternary": {
           "aaxis": {
            "gridcolor": "white",
            "linecolor": "white",
            "ticks": ""
           },
           "baxis": {
            "gridcolor": "white",
            "linecolor": "white",
            "ticks": ""
           },
           "bgcolor": "#E5ECF6",
           "caxis": {
            "gridcolor": "white",
            "linecolor": "white",
            "ticks": ""
           }
          },
          "title": {
           "x": 0.05
          },
          "xaxis": {
           "automargin": true,
           "gridcolor": "white",
           "linecolor": "white",
           "ticks": "",
           "title": {
            "standoff": 15
           },
           "zerolinecolor": "white",
           "zerolinewidth": 2
          },
          "yaxis": {
           "automargin": true,
           "gridcolor": "white",
           "linecolor": "white",
           "ticks": "",
           "title": {
            "standoff": 15
           },
           "zerolinecolor": "white",
           "zerolinewidth": 2
          }
         }
        }
       }
      }
     },
     "metadata": {},
     "output_type": "display_data"
    }
   ],
   "source": [
    "# fig = px.bar(table.sort_values(by='pullRequests').reset_index(), y='pullRequests')\n",
    "fig = px.box(table, y='pullRequests', labels={'pullRequests': 'Pull Requests'}, title='Pull Requests')\n",
    "fig.write_image('../data/pullRequests_boxplot.png')\n",
    "fig.show()\n",
    "\n",
    "table1 = table.pullRequests.describe().to_frame().drop(['count', 'mean', 'std']).rename({'25%': 'q1', '50%': 'median', '75%': 'q3'}).astype('int').reset_index().rename(columns={'index': 'title'})\n",
    "table1 = table1.rename(columns={'title': 'Título', 'pullRequests': 'Pull Requests'})\n",
    "layout = go.Layout(\n",
    "    paper_bgcolor='rgba(0,0,0,0)',\n",
    "    plot_bgcolor='rgba(0,0,0,0)',\n",
    "    height=180,\n",
    "    margin={\"l\":10,\"r\":10,\"t\":10,\"b\":10}\n",
    ")\n",
    "fig = go.Figure(data=[go.Table(\n",
    "    header=dict(values=list(table1.columns),\n",
    "                line_color='darkslategray',\n",
    "                fill_color='grey',\n",
    "                align=['left','center'],\n",
    "                font=dict(color='white', size=12)),\n",
    "    cells=dict(values=[table1.Título, table1['Pull Requests']],\n",
    "               line_color='darkslategray',\n",
    "                fill_color = [['white','lightgrey','white', 'lightgrey']*5],\n",
    "                align = ['left', 'center'],\n",
    "                font = dict(color = 'darkslategray', size = 11))\n",
    "    )\n",
    "],\n",
    "layout=layout)\n",
    "fig.write_image('../data/pullRequests_table.png')\n",
    "fig.show()"
   ]
  },
  {
   "cell_type": "code",
   "execution_count": 74,
   "metadata": {},
   "outputs": [
    {
     "data": {
      "application/vnd.plotly.v1+json": {
       "config": {
        "plotlyServerURL": "https://plot.ly"
       },
       "data": [
        {
         "alignmentgroup": "True",
         "hovertemplate": "Releases=%{y}<extra></extra>",
         "legendgroup": "",
         "marker": {
          "color": "#636efa"
         },
         "name": "",
         "notched": false,
         "offsetgroup": "",
         "orientation": "v",
         "showlegend": false,
         "type": "box",
         "x0": " ",
         "xaxis": "x",
         "y": [
          0,
          0,
          0,
          0,
          0,
          0,
          1,
          0,
          0,
          99,
          245,
          0,
          195,
          0,
          0,
          0,
          0,
          87,
          0,
          0,
          2,
          0,
          109,
          0,
          18,
          1,
          0,
          0,
          0,
          0,
          341,
          1,
          5,
          0,
          0,
          274,
          125,
          1986,
          1269,
          0,
          0,
          193,
          3,
          61,
          623,
          16,
          83,
          353,
          84,
          0,
          148,
          182,
          0,
          32,
          241,
          93,
          307,
          423,
          0,
          602,
          0,
          115,
          289,
          49,
          0,
          1272,
          17,
          22,
          0,
          0,
          36,
          0,
          34,
          147,
          0,
          0,
          0,
          0,
          13,
          29,
          52,
          213,
          84,
          1,
          25,
          43,
          60,
          45,
          64,
          2,
          0,
          186,
          33,
          240,
          0,
          13,
          0,
          607,
          0,
          140,
          1,
          0,
          118,
          69,
          40,
          30,
          49,
          48,
          405,
          6,
          15,
          1151,
          166,
          120,
          147,
          106,
          59,
          228,
          140,
          113,
          0,
          207,
          0,
          0,
          74,
          0,
          0,
          538,
          0,
          326,
          89,
          51,
          11,
          0,
          59,
          0,
          33,
          0,
          0,
          0,
          8,
          0,
          0,
          1,
          0,
          2,
          381,
          55,
          0,
          28,
          111,
          0,
          0,
          298,
          1,
          1,
          34,
          0,
          0,
          72,
          32,
          133,
          111,
          9,
          26,
          30,
          341,
          141,
          145,
          102,
          0,
          0,
          10,
          26,
          0,
          265,
          0,
          93,
          40,
          0,
          0,
          0,
          255,
          0,
          154,
          2,
          178,
          8,
          186,
          89,
          269,
          110,
          734,
          2,
          0,
          0,
          21,
          16,
          84,
          34,
          65,
          0,
          40,
          0,
          118,
          0,
          17,
          0,
          128,
          196,
          0,
          0,
          232,
          107,
          14,
          4,
          16,
          159,
          0,
          11,
          104,
          55,
          0,
          32,
          208,
          2,
          0,
          1,
          367,
          316,
          1,
          7,
          157,
          0,
          397,
          0,
          0,
          225,
          6,
          0,
          115,
          702,
          210,
          0,
          55,
          92,
          0,
          175,
          0,
          100,
          0,
          145,
          0,
          247,
          0,
          58,
          72,
          78,
          0,
          39,
          8,
          29,
          45,
          195,
          114,
          366,
          30,
          14,
          2,
          0,
          0,
          0,
          0,
          0,
          0,
          0,
          0,
          0,
          38,
          7,
          3,
          52,
          88,
          10,
          150,
          36,
          0,
          0,
          0,
          206,
          34,
          33,
          22,
          417,
          146,
          0,
          739,
          95,
          156,
          21,
          66,
          0,
          96,
          100,
          120,
          0,
          154,
          88,
          1,
          1,
          266,
          41,
          4,
          262,
          0,
          150,
          148,
          0,
          0,
          300,
          58,
          32,
          31,
          43,
          174,
          0,
          0,
          25,
          0,
          29,
          0,
          0,
          91,
          249,
          499,
          130,
          115,
          0,
          533,
          0,
          109,
          15,
          288,
          0,
          0,
          0,
          326,
          0,
          813,
          82,
          0,
          44,
          0,
          0,
          532,
          0,
          0,
          43,
          2,
          52,
          37,
          0,
          122,
          0,
          648,
          292,
          28,
          0,
          0,
          266,
          0,
          132,
          761,
          29,
          0,
          0,
          28,
          0,
          0,
          0,
          42,
          0,
          140,
          0,
          124,
          112,
          189,
          221,
          26,
          0,
          72,
          176,
          88,
          0,
          0,
          0,
          0,
          1426,
          167,
          0,
          42,
          0,
          15,
          3158,
          46,
          99,
          2,
          7,
          0,
          0,
          184,
          390,
          0,
          46,
          0,
          164,
          307,
          183,
          3,
          14,
          155,
          0,
          2,
          21,
          28,
          42,
          2,
          0,
          69,
          0,
          77,
          40,
          0,
          0,
          51,
          0,
          20,
          81,
          133,
          215,
          0,
          66,
          6,
          40,
          28,
          0,
          22,
          190,
          0,
          0,
          75,
          19,
          0,
          0,
          192,
          117,
          32,
          0,
          106,
          14,
          49,
          380,
          0,
          8,
          29,
          5,
          0,
          29,
          25,
          2,
          0,
          0,
          69,
          30,
          0,
          45,
          0,
          23,
          0,
          1,
          9,
          72,
          0,
          39,
          0,
          0,
          68,
          1,
          7,
          0,
          0,
          490,
          0,
          0,
          372,
          0,
          4,
          101,
          108,
          204,
          0,
          37,
          34,
          0,
          19,
          43,
          60,
          23,
          57,
          651,
          230,
          10,
          0,
          102,
          58,
          124,
          0,
          177,
          0,
          0,
          78,
          0,
          0,
          0,
          0,
          0,
          0,
          0,
          0,
          16,
          0,
          0,
          0,
          0,
          45,
          1,
          178,
          182,
          8,
          24,
          0,
          0,
          33,
          45,
          0,
          10,
          35,
          33,
          96,
          446,
          15,
          37,
          108,
          184,
          0,
          147,
          0,
          241,
          0,
          0,
          0,
          85,
          2,
          6,
          115,
          26,
          58,
          71,
          24,
          16,
          0,
          64,
          0,
          29,
          0,
          277,
          143,
          48,
          0,
          32,
          0,
          7,
          59,
          90,
          118,
          101,
          0,
          0,
          134,
          63,
          37,
          6,
          42,
          0,
          146,
          57,
          45,
          12,
          92,
          0,
          24,
          16,
          0,
          64,
          0,
          29,
          0,
          277,
          143,
          48,
          0,
          32,
          0,
          0,
          7,
          10,
          59,
          90,
          0,
          118,
          101,
          0,
          0,
          134,
          63,
          37,
          6,
          42,
          0,
          146,
          57,
          45,
          12,
          92,
          0,
          0,
          49,
          0,
          0,
          26,
          42,
          3,
          354,
          50,
          100,
          0,
          127,
          1,
          107,
          0,
          35,
          48,
          0,
          0,
          17,
          628,
          1,
          78,
          71,
          380,
          260,
          11,
          1,
          10,
          0,
          61,
          170,
          0,
          0,
          78,
          0,
          0,
          151,
          104,
          0,
          176,
          0,
          50,
          0,
          11,
          226,
          105,
          0,
          0,
          0,
          54,
          0,
          131,
          17,
          29,
          93,
          0,
          124,
          0,
          0,
          0,
          7,
          0,
          25,
          0,
          0,
          90,
          0,
          2,
          84,
          51,
          76,
          93,
          13,
          0,
          875,
          5,
          76,
          74,
          0,
          185,
          0,
          9,
          126,
          32,
          15,
          1,
          0,
          33,
          0,
          49,
          19,
          4,
          0,
          77,
          249,
          0,
          177,
          0,
          1,
          26,
          133,
          53,
          14,
          117,
          0,
          255,
          0,
          0,
          0,
          18,
          27,
          130,
          0,
          63,
          0,
          0,
          140,
          52,
          0,
          81,
          120,
          77,
          23,
          49,
          7,
          0,
          0,
          103,
          0,
          49,
          294,
          58,
          11,
          589,
          0,
          0,
          17,
          117,
          89,
          75,
          15,
          88,
          0,
          11,
          805,
          13,
          37,
          0,
          28,
          57,
          30,
          90,
          85,
          0,
          0,
          1,
          85,
          23,
          2,
          4,
          84,
          198,
          418,
          52,
          0,
          0,
          0,
          571,
          98,
          2,
          30,
          69,
          202,
          113,
          147,
          41,
          0,
          69,
          0,
          0,
          31,
          401,
          0,
          0,
          0,
          79,
          72,
          140,
          155,
          3,
          0,
          34,
          83,
          4,
          3,
          0,
          19,
          2,
          127,
          0,
          300,
          11,
          23,
          82,
          47,
          27,
          0,
          0,
          0,
          158,
          19,
          8,
          19,
          19,
          496,
          38,
          0,
          27,
          91,
          259,
          17,
          0,
          0,
          0,
          275,
          0,
          9,
          36,
          106,
          0,
          4,
          121,
          105,
          170,
          144,
          1373,
          1,
          0,
          79,
          228,
          15,
          75,
          305,
          26,
          7,
          0,
          0,
          1344,
          352,
          1,
          267,
          136,
          61,
          10,
          42,
          12,
          33,
          0,
          12,
          81,
          16,
          0,
          52,
          639,
          60,
          273,
          0,
          0,
          26,
          70,
          66,
          503,
          0,
          0,
          427,
          6,
          203,
          0,
          15,
          57,
          0,
          68,
          34,
          13,
          0,
          0,
          8,
          87,
          39,
          0,
          0,
          76,
          13,
          36,
          74,
          0,
          40,
          43,
          195,
          21,
          0,
          7,
          5,
          94,
          88,
          168,
          24,
          138,
          7,
          310,
          0,
          36,
          105,
          191,
          80,
          115,
          34,
          20,
          55,
          0,
          14,
          241,
          10,
          3,
          22,
          192,
          0,
          66,
          58,
          5,
          2,
          115,
          0,
          0,
          0,
          1,
          0,
          0,
          0,
          132,
          0,
          24,
          104,
          11,
          56,
          3,
          118,
          0,
          0,
          0,
          0,
          0,
          139,
          25,
          3,
          1,
          178,
          11,
          4,
          38,
          90,
          980,
          157,
          0
         ],
         "y0": " ",
         "yaxis": "y"
        }
       ],
       "layout": {
        "boxmode": "group",
        "legend": {
         "tracegroupgap": 0
        },
        "template": {
         "data": {
          "bar": [
           {
            "error_x": {
             "color": "#2a3f5f"
            },
            "error_y": {
             "color": "#2a3f5f"
            },
            "marker": {
             "line": {
              "color": "#E5ECF6",
              "width": 0.5
             },
             "pattern": {
              "fillmode": "overlay",
              "size": 10,
              "solidity": 0.2
             }
            },
            "type": "bar"
           }
          ],
          "barpolar": [
           {
            "marker": {
             "line": {
              "color": "#E5ECF6",
              "width": 0.5
             },
             "pattern": {
              "fillmode": "overlay",
              "size": 10,
              "solidity": 0.2
             }
            },
            "type": "barpolar"
           }
          ],
          "carpet": [
           {
            "aaxis": {
             "endlinecolor": "#2a3f5f",
             "gridcolor": "white",
             "linecolor": "white",
             "minorgridcolor": "white",
             "startlinecolor": "#2a3f5f"
            },
            "baxis": {
             "endlinecolor": "#2a3f5f",
             "gridcolor": "white",
             "linecolor": "white",
             "minorgridcolor": "white",
             "startlinecolor": "#2a3f5f"
            },
            "type": "carpet"
           }
          ],
          "choropleth": [
           {
            "colorbar": {
             "outlinewidth": 0,
             "ticks": ""
            },
            "type": "choropleth"
           }
          ],
          "contour": [
           {
            "colorbar": {
             "outlinewidth": 0,
             "ticks": ""
            },
            "colorscale": [
             [
              0,
              "#0d0887"
             ],
             [
              0.1111111111111111,
              "#46039f"
             ],
             [
              0.2222222222222222,
              "#7201a8"
             ],
             [
              0.3333333333333333,
              "#9c179e"
             ],
             [
              0.4444444444444444,
              "#bd3786"
             ],
             [
              0.5555555555555556,
              "#d8576b"
             ],
             [
              0.6666666666666666,
              "#ed7953"
             ],
             [
              0.7777777777777778,
              "#fb9f3a"
             ],
             [
              0.8888888888888888,
              "#fdca26"
             ],
             [
              1,
              "#f0f921"
             ]
            ],
            "type": "contour"
           }
          ],
          "contourcarpet": [
           {
            "colorbar": {
             "outlinewidth": 0,
             "ticks": ""
            },
            "type": "contourcarpet"
           }
          ],
          "heatmap": [
           {
            "colorbar": {
             "outlinewidth": 0,
             "ticks": ""
            },
            "colorscale": [
             [
              0,
              "#0d0887"
             ],
             [
              0.1111111111111111,
              "#46039f"
             ],
             [
              0.2222222222222222,
              "#7201a8"
             ],
             [
              0.3333333333333333,
              "#9c179e"
             ],
             [
              0.4444444444444444,
              "#bd3786"
             ],
             [
              0.5555555555555556,
              "#d8576b"
             ],
             [
              0.6666666666666666,
              "#ed7953"
             ],
             [
              0.7777777777777778,
              "#fb9f3a"
             ],
             [
              0.8888888888888888,
              "#fdca26"
             ],
             [
              1,
              "#f0f921"
             ]
            ],
            "type": "heatmap"
           }
          ],
          "heatmapgl": [
           {
            "colorbar": {
             "outlinewidth": 0,
             "ticks": ""
            },
            "colorscale": [
             [
              0,
              "#0d0887"
             ],
             [
              0.1111111111111111,
              "#46039f"
             ],
             [
              0.2222222222222222,
              "#7201a8"
             ],
             [
              0.3333333333333333,
              "#9c179e"
             ],
             [
              0.4444444444444444,
              "#bd3786"
             ],
             [
              0.5555555555555556,
              "#d8576b"
             ],
             [
              0.6666666666666666,
              "#ed7953"
             ],
             [
              0.7777777777777778,
              "#fb9f3a"
             ],
             [
              0.8888888888888888,
              "#fdca26"
             ],
             [
              1,
              "#f0f921"
             ]
            ],
            "type": "heatmapgl"
           }
          ],
          "histogram": [
           {
            "marker": {
             "pattern": {
              "fillmode": "overlay",
              "size": 10,
              "solidity": 0.2
             }
            },
            "type": "histogram"
           }
          ],
          "histogram2d": [
           {
            "colorbar": {
             "outlinewidth": 0,
             "ticks": ""
            },
            "colorscale": [
             [
              0,
              "#0d0887"
             ],
             [
              0.1111111111111111,
              "#46039f"
             ],
             [
              0.2222222222222222,
              "#7201a8"
             ],
             [
              0.3333333333333333,
              "#9c179e"
             ],
             [
              0.4444444444444444,
              "#bd3786"
             ],
             [
              0.5555555555555556,
              "#d8576b"
             ],
             [
              0.6666666666666666,
              "#ed7953"
             ],
             [
              0.7777777777777778,
              "#fb9f3a"
             ],
             [
              0.8888888888888888,
              "#fdca26"
             ],
             [
              1,
              "#f0f921"
             ]
            ],
            "type": "histogram2d"
           }
          ],
          "histogram2dcontour": [
           {
            "colorbar": {
             "outlinewidth": 0,
             "ticks": ""
            },
            "colorscale": [
             [
              0,
              "#0d0887"
             ],
             [
              0.1111111111111111,
              "#46039f"
             ],
             [
              0.2222222222222222,
              "#7201a8"
             ],
             [
              0.3333333333333333,
              "#9c179e"
             ],
             [
              0.4444444444444444,
              "#bd3786"
             ],
             [
              0.5555555555555556,
              "#d8576b"
             ],
             [
              0.6666666666666666,
              "#ed7953"
             ],
             [
              0.7777777777777778,
              "#fb9f3a"
             ],
             [
              0.8888888888888888,
              "#fdca26"
             ],
             [
              1,
              "#f0f921"
             ]
            ],
            "type": "histogram2dcontour"
           }
          ],
          "mesh3d": [
           {
            "colorbar": {
             "outlinewidth": 0,
             "ticks": ""
            },
            "type": "mesh3d"
           }
          ],
          "parcoords": [
           {
            "line": {
             "colorbar": {
              "outlinewidth": 0,
              "ticks": ""
             }
            },
            "type": "parcoords"
           }
          ],
          "pie": [
           {
            "automargin": true,
            "type": "pie"
           }
          ],
          "scatter": [
           {
            "fillpattern": {
             "fillmode": "overlay",
             "size": 10,
             "solidity": 0.2
            },
            "type": "scatter"
           }
          ],
          "scatter3d": [
           {
            "line": {
             "colorbar": {
              "outlinewidth": 0,
              "ticks": ""
             }
            },
            "marker": {
             "colorbar": {
              "outlinewidth": 0,
              "ticks": ""
             }
            },
            "type": "scatter3d"
           }
          ],
          "scattercarpet": [
           {
            "marker": {
             "colorbar": {
              "outlinewidth": 0,
              "ticks": ""
             }
            },
            "type": "scattercarpet"
           }
          ],
          "scattergeo": [
           {
            "marker": {
             "colorbar": {
              "outlinewidth": 0,
              "ticks": ""
             }
            },
            "type": "scattergeo"
           }
          ],
          "scattergl": [
           {
            "marker": {
             "colorbar": {
              "outlinewidth": 0,
              "ticks": ""
             }
            },
            "type": "scattergl"
           }
          ],
          "scattermapbox": [
           {
            "marker": {
             "colorbar": {
              "outlinewidth": 0,
              "ticks": ""
             }
            },
            "type": "scattermapbox"
           }
          ],
          "scatterpolar": [
           {
            "marker": {
             "colorbar": {
              "outlinewidth": 0,
              "ticks": ""
             }
            },
            "type": "scatterpolar"
           }
          ],
          "scatterpolargl": [
           {
            "marker": {
             "colorbar": {
              "outlinewidth": 0,
              "ticks": ""
             }
            },
            "type": "scatterpolargl"
           }
          ],
          "scatterternary": [
           {
            "marker": {
             "colorbar": {
              "outlinewidth": 0,
              "ticks": ""
             }
            },
            "type": "scatterternary"
           }
          ],
          "surface": [
           {
            "colorbar": {
             "outlinewidth": 0,
             "ticks": ""
            },
            "colorscale": [
             [
              0,
              "#0d0887"
             ],
             [
              0.1111111111111111,
              "#46039f"
             ],
             [
              0.2222222222222222,
              "#7201a8"
             ],
             [
              0.3333333333333333,
              "#9c179e"
             ],
             [
              0.4444444444444444,
              "#bd3786"
             ],
             [
              0.5555555555555556,
              "#d8576b"
             ],
             [
              0.6666666666666666,
              "#ed7953"
             ],
             [
              0.7777777777777778,
              "#fb9f3a"
             ],
             [
              0.8888888888888888,
              "#fdca26"
             ],
             [
              1,
              "#f0f921"
             ]
            ],
            "type": "surface"
           }
          ],
          "table": [
           {
            "cells": {
             "fill": {
              "color": "#EBF0F8"
             },
             "line": {
              "color": "white"
             }
            },
            "header": {
             "fill": {
              "color": "#C8D4E3"
             },
             "line": {
              "color": "white"
             }
            },
            "type": "table"
           }
          ]
         },
         "layout": {
          "annotationdefaults": {
           "arrowcolor": "#2a3f5f",
           "arrowhead": 0,
           "arrowwidth": 1
          },
          "autotypenumbers": "strict",
          "coloraxis": {
           "colorbar": {
            "outlinewidth": 0,
            "ticks": ""
           }
          },
          "colorscale": {
           "diverging": [
            [
             0,
             "#8e0152"
            ],
            [
             0.1,
             "#c51b7d"
            ],
            [
             0.2,
             "#de77ae"
            ],
            [
             0.3,
             "#f1b6da"
            ],
            [
             0.4,
             "#fde0ef"
            ],
            [
             0.5,
             "#f7f7f7"
            ],
            [
             0.6,
             "#e6f5d0"
            ],
            [
             0.7,
             "#b8e186"
            ],
            [
             0.8,
             "#7fbc41"
            ],
            [
             0.9,
             "#4d9221"
            ],
            [
             1,
             "#276419"
            ]
           ],
           "sequential": [
            [
             0,
             "#0d0887"
            ],
            [
             0.1111111111111111,
             "#46039f"
            ],
            [
             0.2222222222222222,
             "#7201a8"
            ],
            [
             0.3333333333333333,
             "#9c179e"
            ],
            [
             0.4444444444444444,
             "#bd3786"
            ],
            [
             0.5555555555555556,
             "#d8576b"
            ],
            [
             0.6666666666666666,
             "#ed7953"
            ],
            [
             0.7777777777777778,
             "#fb9f3a"
            ],
            [
             0.8888888888888888,
             "#fdca26"
            ],
            [
             1,
             "#f0f921"
            ]
           ],
           "sequentialminus": [
            [
             0,
             "#0d0887"
            ],
            [
             0.1111111111111111,
             "#46039f"
            ],
            [
             0.2222222222222222,
             "#7201a8"
            ],
            [
             0.3333333333333333,
             "#9c179e"
            ],
            [
             0.4444444444444444,
             "#bd3786"
            ],
            [
             0.5555555555555556,
             "#d8576b"
            ],
            [
             0.6666666666666666,
             "#ed7953"
            ],
            [
             0.7777777777777778,
             "#fb9f3a"
            ],
            [
             0.8888888888888888,
             "#fdca26"
            ],
            [
             1,
             "#f0f921"
            ]
           ]
          },
          "colorway": [
           "#636efa",
           "#EF553B",
           "#00cc96",
           "#ab63fa",
           "#FFA15A",
           "#19d3f3",
           "#FF6692",
           "#B6E880",
           "#FF97FF",
           "#FECB52"
          ],
          "font": {
           "color": "#2a3f5f"
          },
          "geo": {
           "bgcolor": "white",
           "lakecolor": "white",
           "landcolor": "#E5ECF6",
           "showlakes": true,
           "showland": true,
           "subunitcolor": "white"
          },
          "hoverlabel": {
           "align": "left"
          },
          "hovermode": "closest",
          "mapbox": {
           "style": "light"
          },
          "paper_bgcolor": "white",
          "plot_bgcolor": "#E5ECF6",
          "polar": {
           "angularaxis": {
            "gridcolor": "white",
            "linecolor": "white",
            "ticks": ""
           },
           "bgcolor": "#E5ECF6",
           "radialaxis": {
            "gridcolor": "white",
            "linecolor": "white",
            "ticks": ""
           }
          },
          "scene": {
           "xaxis": {
            "backgroundcolor": "#E5ECF6",
            "gridcolor": "white",
            "gridwidth": 2,
            "linecolor": "white",
            "showbackground": true,
            "ticks": "",
            "zerolinecolor": "white"
           },
           "yaxis": {
            "backgroundcolor": "#E5ECF6",
            "gridcolor": "white",
            "gridwidth": 2,
            "linecolor": "white",
            "showbackground": true,
            "ticks": "",
            "zerolinecolor": "white"
           },
           "zaxis": {
            "backgroundcolor": "#E5ECF6",
            "gridcolor": "white",
            "gridwidth": 2,
            "linecolor": "white",
            "showbackground": true,
            "ticks": "",
            "zerolinecolor": "white"
           }
          },
          "shapedefaults": {
           "line": {
            "color": "#2a3f5f"
           }
          },
          "ternary": {
           "aaxis": {
            "gridcolor": "white",
            "linecolor": "white",
            "ticks": ""
           },
           "baxis": {
            "gridcolor": "white",
            "linecolor": "white",
            "ticks": ""
           },
           "bgcolor": "#E5ECF6",
           "caxis": {
            "gridcolor": "white",
            "linecolor": "white",
            "ticks": ""
           }
          },
          "title": {
           "x": 0.05
          },
          "xaxis": {
           "automargin": true,
           "gridcolor": "white",
           "linecolor": "white",
           "ticks": "",
           "title": {
            "standoff": 15
           },
           "zerolinecolor": "white",
           "zerolinewidth": 2
          },
          "yaxis": {
           "automargin": true,
           "gridcolor": "white",
           "linecolor": "white",
           "ticks": "",
           "title": {
            "standoff": 15
           },
           "zerolinecolor": "white",
           "zerolinewidth": 2
          }
         }
        },
        "title": {
         "text": "Releases"
        },
        "xaxis": {
         "anchor": "y",
         "domain": [
          0,
          1
         ]
        },
        "yaxis": {
         "anchor": "x",
         "domain": [
          0,
          1
         ],
         "title": {
          "text": "Releases"
         }
        }
       }
      }
     },
     "metadata": {},
     "output_type": "display_data"
    },
    {
     "data": {
      "application/vnd.plotly.v1+json": {
       "config": {
        "plotlyServerURL": "https://plot.ly"
       },
       "data": [
        {
         "cells": {
          "align": [
           "left",
           "center"
          ],
          "fill": {
           "color": [
            [
             "white",
             "lightgrey",
             "white",
             "lightgrey",
             "white",
             "lightgrey",
             "white",
             "lightgrey",
             "white",
             "lightgrey",
             "white",
             "lightgrey",
             "white",
             "lightgrey",
             "white",
             "lightgrey",
             "white",
             "lightgrey",
             "white",
             "lightgrey"
            ]
           ]
          },
          "font": {
           "color": "darkslategray",
           "size": 11
          },
          "line": {
           "color": "darkslategray"
          },
          "values": [
           [
            "min",
            "q1",
            "median",
            "q3",
            "max"
           ],
           [
            0,
            0,
            23.5,
            93,
            3158
           ]
          ]
         },
         "header": {
          "align": [
           "left",
           "center"
          ],
          "fill": {
           "color": "grey"
          },
          "font": {
           "color": "white",
           "size": 12
          },
          "line": {
           "color": "darkslategray"
          },
          "values": [
           "Título",
           "Releases"
          ]
         },
         "type": "table"
        }
       ],
       "layout": {
        "height": 180,
        "margin": {
         "b": 10,
         "l": 10,
         "r": 10,
         "t": 10
        },
        "paper_bgcolor": "rgba(0,0,0,0)",
        "plot_bgcolor": "rgba(0,0,0,0)",
        "template": {
         "data": {
          "bar": [
           {
            "error_x": {
             "color": "#2a3f5f"
            },
            "error_y": {
             "color": "#2a3f5f"
            },
            "marker": {
             "line": {
              "color": "#E5ECF6",
              "width": 0.5
             },
             "pattern": {
              "fillmode": "overlay",
              "size": 10,
              "solidity": 0.2
             }
            },
            "type": "bar"
           }
          ],
          "barpolar": [
           {
            "marker": {
             "line": {
              "color": "#E5ECF6",
              "width": 0.5
             },
             "pattern": {
              "fillmode": "overlay",
              "size": 10,
              "solidity": 0.2
             }
            },
            "type": "barpolar"
           }
          ],
          "carpet": [
           {
            "aaxis": {
             "endlinecolor": "#2a3f5f",
             "gridcolor": "white",
             "linecolor": "white",
             "minorgridcolor": "white",
             "startlinecolor": "#2a3f5f"
            },
            "baxis": {
             "endlinecolor": "#2a3f5f",
             "gridcolor": "white",
             "linecolor": "white",
             "minorgridcolor": "white",
             "startlinecolor": "#2a3f5f"
            },
            "type": "carpet"
           }
          ],
          "choropleth": [
           {
            "colorbar": {
             "outlinewidth": 0,
             "ticks": ""
            },
            "type": "choropleth"
           }
          ],
          "contour": [
           {
            "colorbar": {
             "outlinewidth": 0,
             "ticks": ""
            },
            "colorscale": [
             [
              0,
              "#0d0887"
             ],
             [
              0.1111111111111111,
              "#46039f"
             ],
             [
              0.2222222222222222,
              "#7201a8"
             ],
             [
              0.3333333333333333,
              "#9c179e"
             ],
             [
              0.4444444444444444,
              "#bd3786"
             ],
             [
              0.5555555555555556,
              "#d8576b"
             ],
             [
              0.6666666666666666,
              "#ed7953"
             ],
             [
              0.7777777777777778,
              "#fb9f3a"
             ],
             [
              0.8888888888888888,
              "#fdca26"
             ],
             [
              1,
              "#f0f921"
             ]
            ],
            "type": "contour"
           }
          ],
          "contourcarpet": [
           {
            "colorbar": {
             "outlinewidth": 0,
             "ticks": ""
            },
            "type": "contourcarpet"
           }
          ],
          "heatmap": [
           {
            "colorbar": {
             "outlinewidth": 0,
             "ticks": ""
            },
            "colorscale": [
             [
              0,
              "#0d0887"
             ],
             [
              0.1111111111111111,
              "#46039f"
             ],
             [
              0.2222222222222222,
              "#7201a8"
             ],
             [
              0.3333333333333333,
              "#9c179e"
             ],
             [
              0.4444444444444444,
              "#bd3786"
             ],
             [
              0.5555555555555556,
              "#d8576b"
             ],
             [
              0.6666666666666666,
              "#ed7953"
             ],
             [
              0.7777777777777778,
              "#fb9f3a"
             ],
             [
              0.8888888888888888,
              "#fdca26"
             ],
             [
              1,
              "#f0f921"
             ]
            ],
            "type": "heatmap"
           }
          ],
          "heatmapgl": [
           {
            "colorbar": {
             "outlinewidth": 0,
             "ticks": ""
            },
            "colorscale": [
             [
              0,
              "#0d0887"
             ],
             [
              0.1111111111111111,
              "#46039f"
             ],
             [
              0.2222222222222222,
              "#7201a8"
             ],
             [
              0.3333333333333333,
              "#9c179e"
             ],
             [
              0.4444444444444444,
              "#bd3786"
             ],
             [
              0.5555555555555556,
              "#d8576b"
             ],
             [
              0.6666666666666666,
              "#ed7953"
             ],
             [
              0.7777777777777778,
              "#fb9f3a"
             ],
             [
              0.8888888888888888,
              "#fdca26"
             ],
             [
              1,
              "#f0f921"
             ]
            ],
            "type": "heatmapgl"
           }
          ],
          "histogram": [
           {
            "marker": {
             "pattern": {
              "fillmode": "overlay",
              "size": 10,
              "solidity": 0.2
             }
            },
            "type": "histogram"
           }
          ],
          "histogram2d": [
           {
            "colorbar": {
             "outlinewidth": 0,
             "ticks": ""
            },
            "colorscale": [
             [
              0,
              "#0d0887"
             ],
             [
              0.1111111111111111,
              "#46039f"
             ],
             [
              0.2222222222222222,
              "#7201a8"
             ],
             [
              0.3333333333333333,
              "#9c179e"
             ],
             [
              0.4444444444444444,
              "#bd3786"
             ],
             [
              0.5555555555555556,
              "#d8576b"
             ],
             [
              0.6666666666666666,
              "#ed7953"
             ],
             [
              0.7777777777777778,
              "#fb9f3a"
             ],
             [
              0.8888888888888888,
              "#fdca26"
             ],
             [
              1,
              "#f0f921"
             ]
            ],
            "type": "histogram2d"
           }
          ],
          "histogram2dcontour": [
           {
            "colorbar": {
             "outlinewidth": 0,
             "ticks": ""
            },
            "colorscale": [
             [
              0,
              "#0d0887"
             ],
             [
              0.1111111111111111,
              "#46039f"
             ],
             [
              0.2222222222222222,
              "#7201a8"
             ],
             [
              0.3333333333333333,
              "#9c179e"
             ],
             [
              0.4444444444444444,
              "#bd3786"
             ],
             [
              0.5555555555555556,
              "#d8576b"
             ],
             [
              0.6666666666666666,
              "#ed7953"
             ],
             [
              0.7777777777777778,
              "#fb9f3a"
             ],
             [
              0.8888888888888888,
              "#fdca26"
             ],
             [
              1,
              "#f0f921"
             ]
            ],
            "type": "histogram2dcontour"
           }
          ],
          "mesh3d": [
           {
            "colorbar": {
             "outlinewidth": 0,
             "ticks": ""
            },
            "type": "mesh3d"
           }
          ],
          "parcoords": [
           {
            "line": {
             "colorbar": {
              "outlinewidth": 0,
              "ticks": ""
             }
            },
            "type": "parcoords"
           }
          ],
          "pie": [
           {
            "automargin": true,
            "type": "pie"
           }
          ],
          "scatter": [
           {
            "fillpattern": {
             "fillmode": "overlay",
             "size": 10,
             "solidity": 0.2
            },
            "type": "scatter"
           }
          ],
          "scatter3d": [
           {
            "line": {
             "colorbar": {
              "outlinewidth": 0,
              "ticks": ""
             }
            },
            "marker": {
             "colorbar": {
              "outlinewidth": 0,
              "ticks": ""
             }
            },
            "type": "scatter3d"
           }
          ],
          "scattercarpet": [
           {
            "marker": {
             "colorbar": {
              "outlinewidth": 0,
              "ticks": ""
             }
            },
            "type": "scattercarpet"
           }
          ],
          "scattergeo": [
           {
            "marker": {
             "colorbar": {
              "outlinewidth": 0,
              "ticks": ""
             }
            },
            "type": "scattergeo"
           }
          ],
          "scattergl": [
           {
            "marker": {
             "colorbar": {
              "outlinewidth": 0,
              "ticks": ""
             }
            },
            "type": "scattergl"
           }
          ],
          "scattermapbox": [
           {
            "marker": {
             "colorbar": {
              "outlinewidth": 0,
              "ticks": ""
             }
            },
            "type": "scattermapbox"
           }
          ],
          "scatterpolar": [
           {
            "marker": {
             "colorbar": {
              "outlinewidth": 0,
              "ticks": ""
             }
            },
            "type": "scatterpolar"
           }
          ],
          "scatterpolargl": [
           {
            "marker": {
             "colorbar": {
              "outlinewidth": 0,
              "ticks": ""
             }
            },
            "type": "scatterpolargl"
           }
          ],
          "scatterternary": [
           {
            "marker": {
             "colorbar": {
              "outlinewidth": 0,
              "ticks": ""
             }
            },
            "type": "scatterternary"
           }
          ],
          "surface": [
           {
            "colorbar": {
             "outlinewidth": 0,
             "ticks": ""
            },
            "colorscale": [
             [
              0,
              "#0d0887"
             ],
             [
              0.1111111111111111,
              "#46039f"
             ],
             [
              0.2222222222222222,
              "#7201a8"
             ],
             [
              0.3333333333333333,
              "#9c179e"
             ],
             [
              0.4444444444444444,
              "#bd3786"
             ],
             [
              0.5555555555555556,
              "#d8576b"
             ],
             [
              0.6666666666666666,
              "#ed7953"
             ],
             [
              0.7777777777777778,
              "#fb9f3a"
             ],
             [
              0.8888888888888888,
              "#fdca26"
             ],
             [
              1,
              "#f0f921"
             ]
            ],
            "type": "surface"
           }
          ],
          "table": [
           {
            "cells": {
             "fill": {
              "color": "#EBF0F8"
             },
             "line": {
              "color": "white"
             }
            },
            "header": {
             "fill": {
              "color": "#C8D4E3"
             },
             "line": {
              "color": "white"
             }
            },
            "type": "table"
           }
          ]
         },
         "layout": {
          "annotationdefaults": {
           "arrowcolor": "#2a3f5f",
           "arrowhead": 0,
           "arrowwidth": 1
          },
          "autotypenumbers": "strict",
          "coloraxis": {
           "colorbar": {
            "outlinewidth": 0,
            "ticks": ""
           }
          },
          "colorscale": {
           "diverging": [
            [
             0,
             "#8e0152"
            ],
            [
             0.1,
             "#c51b7d"
            ],
            [
             0.2,
             "#de77ae"
            ],
            [
             0.3,
             "#f1b6da"
            ],
            [
             0.4,
             "#fde0ef"
            ],
            [
             0.5,
             "#f7f7f7"
            ],
            [
             0.6,
             "#e6f5d0"
            ],
            [
             0.7,
             "#b8e186"
            ],
            [
             0.8,
             "#7fbc41"
            ],
            [
             0.9,
             "#4d9221"
            ],
            [
             1,
             "#276419"
            ]
           ],
           "sequential": [
            [
             0,
             "#0d0887"
            ],
            [
             0.1111111111111111,
             "#46039f"
            ],
            [
             0.2222222222222222,
             "#7201a8"
            ],
            [
             0.3333333333333333,
             "#9c179e"
            ],
            [
             0.4444444444444444,
             "#bd3786"
            ],
            [
             0.5555555555555556,
             "#d8576b"
            ],
            [
             0.6666666666666666,
             "#ed7953"
            ],
            [
             0.7777777777777778,
             "#fb9f3a"
            ],
            [
             0.8888888888888888,
             "#fdca26"
            ],
            [
             1,
             "#f0f921"
            ]
           ],
           "sequentialminus": [
            [
             0,
             "#0d0887"
            ],
            [
             0.1111111111111111,
             "#46039f"
            ],
            [
             0.2222222222222222,
             "#7201a8"
            ],
            [
             0.3333333333333333,
             "#9c179e"
            ],
            [
             0.4444444444444444,
             "#bd3786"
            ],
            [
             0.5555555555555556,
             "#d8576b"
            ],
            [
             0.6666666666666666,
             "#ed7953"
            ],
            [
             0.7777777777777778,
             "#fb9f3a"
            ],
            [
             0.8888888888888888,
             "#fdca26"
            ],
            [
             1,
             "#f0f921"
            ]
           ]
          },
          "colorway": [
           "#636efa",
           "#EF553B",
           "#00cc96",
           "#ab63fa",
           "#FFA15A",
           "#19d3f3",
           "#FF6692",
           "#B6E880",
           "#FF97FF",
           "#FECB52"
          ],
          "font": {
           "color": "#2a3f5f"
          },
          "geo": {
           "bgcolor": "white",
           "lakecolor": "white",
           "landcolor": "#E5ECF6",
           "showlakes": true,
           "showland": true,
           "subunitcolor": "white"
          },
          "hoverlabel": {
           "align": "left"
          },
          "hovermode": "closest",
          "mapbox": {
           "style": "light"
          },
          "paper_bgcolor": "white",
          "plot_bgcolor": "#E5ECF6",
          "polar": {
           "angularaxis": {
            "gridcolor": "white",
            "linecolor": "white",
            "ticks": ""
           },
           "bgcolor": "#E5ECF6",
           "radialaxis": {
            "gridcolor": "white",
            "linecolor": "white",
            "ticks": ""
           }
          },
          "scene": {
           "xaxis": {
            "backgroundcolor": "#E5ECF6",
            "gridcolor": "white",
            "gridwidth": 2,
            "linecolor": "white",
            "showbackground": true,
            "ticks": "",
            "zerolinecolor": "white"
           },
           "yaxis": {
            "backgroundcolor": "#E5ECF6",
            "gridcolor": "white",
            "gridwidth": 2,
            "linecolor": "white",
            "showbackground": true,
            "ticks": "",
            "zerolinecolor": "white"
           },
           "zaxis": {
            "backgroundcolor": "#E5ECF6",
            "gridcolor": "white",
            "gridwidth": 2,
            "linecolor": "white",
            "showbackground": true,
            "ticks": "",
            "zerolinecolor": "white"
           }
          },
          "shapedefaults": {
           "line": {
            "color": "#2a3f5f"
           }
          },
          "ternary": {
           "aaxis": {
            "gridcolor": "white",
            "linecolor": "white",
            "ticks": ""
           },
           "baxis": {
            "gridcolor": "white",
            "linecolor": "white",
            "ticks": ""
           },
           "bgcolor": "#E5ECF6",
           "caxis": {
            "gridcolor": "white",
            "linecolor": "white",
            "ticks": ""
           }
          },
          "title": {
           "x": 0.05
          },
          "xaxis": {
           "automargin": true,
           "gridcolor": "white",
           "linecolor": "white",
           "ticks": "",
           "title": {
            "standoff": 15
           },
           "zerolinecolor": "white",
           "zerolinewidth": 2
          },
          "yaxis": {
           "automargin": true,
           "gridcolor": "white",
           "linecolor": "white",
           "ticks": "",
           "title": {
            "standoff": 15
           },
           "zerolinecolor": "white",
           "zerolinewidth": 2
          }
         }
        }
       }
      }
     },
     "metadata": {},
     "output_type": "display_data"
    }
   ],
   "source": [
    "# fig = px.bar(table.sort_values(by='pullRequests').reset_index(), y='pullRequests')\n",
    "fig = px.box(table, y='releases', labels={'releases': 'Releases'}, title='Releases')\n",
    "fig.write_image('../data/releases_boxplot.png')\n",
    "fig.show()\n",
    "\n",
    "table1 = table.releases.describe().to_frame().drop(['count', 'mean', 'std']).rename({'25%': 'q1', '50%': 'median', '75%': 'q3'}).reset_index().rename(columns={'index': 'title'})\n",
    "table1 = table1.rename(columns={'title': 'Título', 'releases': 'Releases'})\n",
    "layout = go.Layout(\n",
    "    paper_bgcolor='rgba(0,0,0,0)',\n",
    "    plot_bgcolor='rgba(0,0,0,0)',\n",
    "    height=180,\n",
    "    margin={\"l\":10,\"r\":10,\"t\":10,\"b\":10}\n",
    ")\n",
    "fig = go.Figure(data=[go.Table(\n",
    "    header=dict(values=list(table1.columns),\n",
    "                line_color='darkslategray',\n",
    "                fill_color='grey',\n",
    "                align=['left','center'],\n",
    "                font=dict(color='white', size=12)),\n",
    "    cells=dict(values=[table1.Título, table1.Releases],\n",
    "               line_color='darkslategray',\n",
    "                fill_color = [['white','lightgrey','white', 'lightgrey']*5],\n",
    "                align = ['left', 'center'],\n",
    "                font = dict(color = 'darkslategray', size = 11))\n",
    "    )\n",
    "],\n",
    "layout=layout)\n",
    "fig.write_image('../data/releases_table.png')\n",
    "fig.show()"
   ]
  },
  {
   "cell_type": "code",
   "execution_count": 75,
   "metadata": {},
   "outputs": [
    {
     "data": {
      "application/vnd.plotly.v1+json": {
       "config": {
        "plotlyServerURL": "https://plot.ly"
       },
       "data": [
        {
         "alignmentgroup": "True",
         "hovertemplate": "Issues/Issues Closed=%{y}<extra></extra>",
         "legendgroup": "",
         "marker": {
          "color": "#636efa"
         },
         "name": "",
         "notched": false,
         "offsetgroup": "",
         "orientation": "v",
         "showlegend": false,
         "type": "box",
         "x0": " ",
         "xaxis": "x",
         "y": [
          0.9884942764895804,
          0.9655891553701772,
          0.9244712990936556,
          0,
          0.8905472636815921,
          0.9959758551307848,
          0.6315412186379928,
          0.2895752895752895,
          0.7053571428571429,
          0.9123752816221437,
          0.9618694955964772,
          0,
          0.9500554645819028,
          0.6363636363636364,
          0.9123767798466592,
          0.9799537393986122,
          0.7777777777777778,
          0.9845311863946808,
          0.956090026478376,
          0,
          0.8668001945029754,
          0,
          0.9544074256208508,
          0.9722675367047308,
          0.6800618238021638,
          1,
          0.1694078947368421,
          0.5527426160337553,
          0.9349240780911064,
          0.9272727272727272,
          0.8542117861620883,
          0.5690747782002535,
          0.9860627177700348,
          0.7125,
          0.857518101854252,
          0.9418206707734428,
          0.9532149901380672,
          0.8804587311451331,
          0.9571878503176212,
          0.9982905982905984,
          0,
          0.9981498612395928,
          0,
          0.9110851808634772,
          0.9582933625690924,
          0.7788952745849298,
          0.797743162026248,
          0.917065487368995,
          0.7811166053843878,
          0.7435897435897436,
          0.9683794466403162,
          0.8522751155947877,
          0.9035369774919614,
          0.6187256176853055,
          0.8315236845245197,
          0.8769615450939817,
          0.9488797973894408,
          0.921631146165464,
          0,
          0.9663342553501236,
          0.5510204081632653,
          0.8192007405022537,
          0.954406315450298,
          0.6606538895152199,
          0.7862149532710281,
          0.8542713567839196,
          0.6686131386861314,
          0.972972972972973,
          0.8982725527831094,
          0.9422222222222222,
          0.8543350989684974,
          0.8854961832061069,
          0.9545273234942162,
          0,
          0.711864406779661,
          0,
          0.4285714285714285,
          0,
          0.8494480395888847,
          0.7178487918939984,
          0.7162986330178759,
          0.999327505043712,
          0.9731894150417828,
          0.9787234042553192,
          0.739277108433735,
          0.953903051116101,
          0.7589043844687469,
          0.6766652818169229,
          0.834493041749503,
          0.9466950959488272,
          0.8617511520737328,
          0.980533944539497,
          0.8625886524822695,
          0.9139479197844956,
          0,
          0.4556603773584906,
          0.9724475738558088,
          0.8253113429821609,
          0.3304347826086956,
          0.8340945059914086,
          0.9930555555555556,
          0.5625,
          0.8832090120261836,
          0.9635854341736696,
          0.7072630646589902,
          1,
          0.810857311027098,
          0.5741493687138883,
          0.9792250960839306,
          0.7222222222222222,
          0.7608695652173914,
          0.9496130613037044,
          0.9934328358208956,
          0.9098360655737704,
          0.9661874334398296,
          0.958815028901734,
          0.6859047309380588,
          0.3301024646912213,
          0.8647705461525039,
          0.6810961080222399,
          0.5315315315315315,
          0.9596026490066224,
          0.4230769230769231,
          1,
          0.9811133200795228,
          0.7861409796893668,
          0.2751159196290572,
          0.94374671417723,
          0,
          0.9285250162443144,
          0.991889699918897,
          0.9766081871345028,
          0.5074135090609555,
          0.9567430025445292,
          0.9756748739246516,
          0.9109461966604824,
          0.9824766355140186,
          0.3188405797101449,
          0.96875,
          0.9699248120300752,
          0.9695632995147772,
          0.7681159420289855,
          0.6607142857142857,
          0.1387232162580075,
          0.8108108108108109,
          0.9135772749157438,
          0.8857685009487666,
          0.9498607242339832,
          0.7704918032786885,
          0.9086614173228348,
          0.8694271194271195,
          0.8731343283582089,
          0.9774774774774776,
          0.9589974449446405,
          0.4234234234234234,
          0.434640522875817,
          0.8451314648945392,
          0.8928981415407526,
          0.8381962864721485,
          0.8022499560555458,
          0.9969488939740656,
          0.9929723915381856,
          0.9393634534479604,
          0.6342007434944238,
          0.8771454381210478,
          0.8857142857142857,
          0.9409038238702202,
          0.8723291728368945,
          0.8663211254770177,
          0.9764307729497794,
          0.9928994082840236,
          0,
          0.65466297322253,
          0.847123719464145,
          1,
          0.9529328386209196,
          1,
          0.7475221700573813,
          0.9678714859437751,
          0.6574074074074074,
          0.7634854771784232,
          0.4371584699453552,
          0.9949452401010952,
          0.9101796407185628,
          0.8453243199742475,
          0,
          0.6565610859728507,
          0.9479768786127168,
          0.8814432989690721,
          0.8474006720695789,
          0.868243893056357,
          0.973876404494382,
          0.9803921568627452,
          0.4505409582689335,
          0.5416666666666666,
          0.3975265017667844,
          0.8878923766816144,
          0.8112480739599384,
          0.9421667656961774,
          0.8323395299894774,
          0.9283903675538656,
          0,
          0.819118488838008,
          0,
          0,
          0.9432571849668386,
          0.917102615694165,
          0.6229508196721312,
          0.9049723756906076,
          0.9278770774537471,
          0,
          0.8846153846153846,
          0.9952107279693486,
          0.9815873015873016,
          0.7259475218658892,
          0.9757575757575756,
          0,
          0.9504429678848284,
          0.5064935064935064,
          0.9696119682094436,
          0.8398254404396315,
          0.9766536964980544,
          0.7520661157024794,
          0.9655172413793104,
          0,
          0.8589398023360287,
          0.3333333333333333,
          0.9118241536129358,
          0.8342201529763884,
          0.9004768031484145,
          0.453551912568306,
          0.6766355140186916,
          0.8908145580589255,
          0.8545101842870999,
          0.8871376811594203,
          0.4166666666666667,
          0.9784061696658096,
          0.9752655779292848,
          0,
          0.6915887850467289,
          0.542043085476025,
          0.9933754893104486,
          0.6229656419529838,
          1,
          0.9640790479309967,
          0.6053259141494436,
          0.9775533108866442,
          0.9661628995586464,
          0.6091954022988506,
          0.9893695014662756,
          0.7161290322580646,
          0.8391940615058324,
          0.944920440636475,
          0.9929133858267716,
          0.2987012987012987,
          0.8366492146596859,
          0.970556552962298,
          0.8320382546323969,
          0.4507042253521127,
          0.8376,
          0.9134615384615384,
          0.8725928807624975,
          0.9897342995169082,
          0.9493400879882682,
          0.8680033416875522,
          0.9244118332168648,
          0.694580078125,
          0.709480122324159,
          0.5989425981873112,
          0.6127946127946128,
          0.7142857142857143,
          0.9947643979057592,
          0,
          0.9414873537183844,
          0.94,
          0,
          0.3060109289617486,
          0.3627450980392157,
          0.7915057915057915,
          0.9891304347826086,
          0.7620263942103023,
          0.9051126516464472,
          0.77052289352479,
          0.9798881351898132,
          0.7177829099307159,
          0.6189926951172626,
          0.75,
          0.9796954314720812,
          0.56,
          0.9686843612755396,
          0.3918053777208706,
          1,
          0.7169398907103826,
          0.9962836331202616,
          0.6998071190601438,
          0.8193548387096774,
          0.6412151067323482,
          0.841,
          0.8371177015755329,
          0.4669456066945606,
          0.9086021505376344,
          0.8779543883897719,
          0.9874167283493708,
          0.8620867974064204,
          0.835245046923879,
          0.4143646408839779,
          0.929009009009009,
          0.8582738280037255,
          0.7057115198451114,
          0.8118811881188119,
          0.946225723708318,
          0.8806284728875263,
          0.7936936936936937,
          0.9146383953013788,
          0,
          0.929153605015674,
          0.6644250168123739,
          0.7130905511811023,
          0,
          0.9413971770591388,
          0.8696883852691218,
          0.9863945578231292,
          0.9275419545903256,
          0.664218958611482,
          0.815660263588595,
          0.3795620437956204,
          0,
          0.5567010309278351,
          0.8172043010752689,
          0.9892665474060824,
          0.2636165577342048,
          0.8690476190476191,
          0.6708611875737318,
          0.4145454545454545,
          0.9203052474234916,
          0.9962502466942964,
          0.7976830781961108,
          1,
          0.9717674970344008,
          0.959807073954984,
          0.9834325653637068,
          0.8773784355179705,
          0.996231884057971,
          0.1871657754010695,
          0.3027210884353741,
          0.9777777777777776,
          0.9941846377513932,
          0.9527027027027029,
          0.8425713348638898,
          0.6053853296193129,
          0.9206349206349206,
          0.5886321815579636,
          0.7712765957446809,
          0,
          0.9962387161484454,
          0.7602739726027398,
          0.7786666666666666,
          0.966046511627907,
          0.97196261682243,
          0.96588693957115,
          1,
          0.0754716981132075,
          0.7629668049792531,
          0.100588678212061,
          0.9822190611664297,
          0.9121912975303802,
          0.7771164021164021,
          0.1950998185117967,
          0.7718157181571815,
          0.8967611336032388,
          0.5387931034482759,
          0.9535946140899254,
          0.8778481012658228,
          0.9918752744839702,
          0.7722772277227723,
          0.8937387116195064,
          0.91900826446281,
          0.3125,
          0.3875,
          0.4,
          0.9147869674185464,
          0.3117229129662522,
          0.9734513274336284,
          0.6649616368286445,
          0.8632958801498127,
          0.8518476791347454,
          0.912507339988256,
          0.871057884231537,
          0.960708534621578,
          0.9696092619392184,
          0.9950331125827816,
          0.7873106060606061,
          0.9582608695652174,
          0.44,
          1,
          0.6428571428571429,
          0.3839285714285714,
          0.960551033187226,
          0.8924843423799582,
          0.9836065573770492,
          0.5595606871303858,
          0.9584269662921348,
          0.9889589905362776,
          0.9523386619301362,
          0.981549815498155,
          0.7939983779399837,
          0.6740331491712708,
          0.69,
          1,
          0.3898809523809524,
          0.9846029173419774,
          0.8004200257435133,
          0.603448275862069,
          0.8980064904960593,
          0.4736842105263157,
          0.696697695035461,
          0.9705216671266906,
          0.8825394728149567,
          0.5,
          0.8132832080200502,
          0.9008420009905894,
          0.95132186319765,
          0.953514739229025,
          0.7227586206896551,
          0.853927813163482,
          0.9902597402597404,
          0,
          0,
          0.729609746025191,
          0.8888888888888888,
          0.9172185430463576,
          0,
          0.8870967741935484,
          0.5147058823529411,
          0.8710382513661202,
          0.3048327137546468,
          0.8520263901979265,
          0.982252141982864,
          0.8862031504617056,
          0.9198767334360556,
          0.3008130081300813,
          0.8394160583941606,
          0.913904761904762,
          0.6901004304160688,
          0.6264717823792123,
          0.2611464968152866,
          0.9872746553552492,
          0.6963064295485636,
          1,
          0.8205128205128205,
          0.9178193653376728,
          0.9624017957351292,
          0.9855072463768116,
          0.8210583007943988,
          0.9087830061490908,
          0.8252427184466019,
          0.799847792998478,
          0.8757932910244787,
          0.7235576923076923,
          0.8314193844740468,
          0.9113395438483778,
          0.4047295255364158,
          0.3636363636363636,
          0.3111111111111111,
          0.7302270947533281,
          0.8853955375253549,
          0.9129734085414988,
          0.7776946107784432,
          0.897196261682243,
          0.5983026874115983,
          0.4767749244712991,
          0.9213483146067416,
          0.9126471705279148,
          0.9967051070840196,
          0.4621212121212121,
          0.9770114942528736,
          0.8433734939759037,
          0.4468571428571428,
          0.976470588235294,
          0.6832844574780058,
          0.2635379061371841,
          0.993846911149397,
          0.9315213554535828,
          0.3956043956043956,
          0.7518382352941176,
          0.9851874244256348,
          0.6668810289389068,
          0.4762470308788598,
          0.8824626865671642,
          0.2729857819905213,
          0.6990072202166066,
          0.8185986362567599,
          0.8095238095238095,
          0.8696649562330214,
          0.8220177664974619,
          0,
          0.8108108108108109,
          0.7201438848920864,
          0.982532751091703,
          0.9748472360380844,
          0.4493670886075949,
          0.6325757575757576,
          0.9932519280205656,
          0.7142857142857143,
          0.9077922077922078,
          0.9604933513201002,
          0.9671412924424972,
          0.9966442953020134,
          0.9927378358750908,
          0.9995373048004628,
          0.6478306508047585,
          0.3694516971279373,
          0.315112540192926,
          0.9721780604133544,
          0.8048192771084337,
          0.8674458380843786,
          0.8021978021978022,
          0.8314113124656782,
          0.2581967213114754,
          0.8273809523809523,
          0.9935310631026486,
          0.7560975609756098,
          0.9629629629629628,
          0.9336767546683836,
          0.9519230769230768,
          0.9970495258166492,
          0.9900793650793652,
          0.6398963730569949,
          0.78125,
          0.9599578503688092,
          0.553072625698324,
          0.631578947368421,
          0.7380952380952381,
          0.984,
          0.8258766626360339,
          0.9127926328636414,
          0.9034003091190108,
          0.7744003046071837,
          0.9100826446280992,
          0.4041141340411413,
          0.7631578947368421,
          0.7559224694903087,
          0.945611866501854,
          0.6538308852719333,
          0.8625,
          0.7830188679245284,
          0.8851174934725848,
          0.9500324464633356,
          0.950943849945894,
          0.9723885738512904,
          0.8656167979002625,
          0,
          0.9348894348894348,
          0.9823877386394192,
          0.1617647058823529,
          0.8063033486539725,
          0.4769230769230769,
          0.9808306709265175,
          0,
          0.9010414783206162,
          0.9662921348314608,
          0.9812005981627856,
          0.903660886319846,
          0.26,
          0.76,
          0.572987721691678,
          0.9664617851416356,
          0.8034518965743536,
          0.7560975609756098,
          0.753185111166625,
          0.7906137184115524,
          0.9354375896700144,
          0.6384180790960452,
          0.9602649006622516,
          0.8211382113821138,
          0.9864532019704434,
          0.9085414528452505,
          0.3618339529120198,
          0.375,
          0.9444212285833682,
          0.75,
          0.669683257918552,
          0.6086956521739131,
          0.8520263901979265,
          0.986283833211412,
          0.9351936218678816,
          0.6629213483146067,
          0.5340501792114696,
          0.9975389663658736,
          0.8211060948081265,
          0.8037808088059344,
          0.923601464831418,
          0.928895612708018,
          0.6428571428571429,
          0.7916428162564396,
          0.9814487632508834,
          0.7838452787258248,
          0.8666666666666667,
          0.9857218402961396,
          0.6433823529411765,
          0.7560975609756098,
          0.753185111166625,
          0.7906137184115524,
          0.9354375896700144,
          0.6384180790960452,
          0.9602649006622516,
          0.8211382113821138,
          0.9864532019704434,
          0.9085414528452505,
          0.3618339529120198,
          0.375,
          0.9444212285833682,
          0.75,
          1,
          0.669683257918552,
          0.7266081871345029,
          0.6086956521739131,
          0.8520263901979265,
          0.9781073446327684,
          0.986283833211412,
          0.9351936218678816,
          0.6629213483146067,
          0.5340501792114696,
          0.9975389663658736,
          0.8211060948081265,
          0.8037808088059344,
          0.923601464831418,
          0.928895612708018,
          0.6428571428571429,
          0.7916428162564396,
          0.9814487632508834,
          0.7838452787258248,
          0.8666666666666667,
          0.9857218402961396,
          0.6433823529411765,
          0.75,
          0.9201520912547528,
          0.373015873015873,
          0.3287671232876712,
          0.7861230329041488,
          0.989821882951654,
          0.5807365439093485,
          0.9823083403538332,
          0.924159724217179,
          0.961029411764706,
          0.8723404255319149,
          0.8924524678317649,
          0.3780741975823259,
          0.9371020644414432,
          0,
          0.8176361957525392,
          0.9322033898305084,
          0.38,
          0.3509749303621169,
          0.9820078226857888,
          0.9819110742888704,
          0.9017857142857144,
          0.7869123553035672,
          0.7899529042386185,
          0.9195112232700224,
          0.8383204633204633,
          0.7578692493946732,
          1,
          0.898239331542823,
          0.6822429906542056,
          0.9644222287562482,
          0.9045673076923076,
          0.7954545454545454,
          0.6136363636363636,
          0.865048693770289,
          0.9090909090909092,
          0.7875,
          0.6777251184834123,
          0.9744210832283692,
          0.68,
          0.8107923497267759,
          0.826536312849162,
          0.9649831649831648,
          0.6691891891891892,
          0.8129807692307692,
          0.9425113464447806,
          0.9483870967741936,
          0.3662551440329218,
          0,
          0,
          0.998447204968944,
          0,
          0.9507740476604628,
          0.6586651053864169,
          0.9828020134228188,
          0.956043956043956,
          0.9610619469026548,
          0.6197636949516648,
          0.3541666666666667,
          0.9180050718512256,
          0.9622641509433962,
          0.3377483443708609,
          0.5789473684210527,
          0.887466307277628,
          0.593939393939394,
          0.5975855130784709,
          0.9956304619225969,
          0.9251700680272108,
          0.3646408839779005,
          0.4721829991527817,
          0.878894133513149,
          0.9342133276559506,
          0.7712609970674487,
          0.9371633752244164,
          0.9759036144578314,
          0.6554433221099888,
          0.6271186440677966,
          0.9106276150627616,
          0.9792284866468842,
          0,
          0.9943502824858758,
          0.4892086330935252,
          0.5910652920962199,
          0.8539119804400978,
          0.6170662905500706,
          0.7366105795666996,
          0.3448275862068966,
          0.7815884476534296,
          0.9847053531264056,
          0.9054054054054054,
          0,
          0.8072916666666666,
          0.5723684210526315,
          0.8409090909090909,
          0.8344827586206897,
          0.9926356589147288,
          0.9962488277586746,
          0.962815039250792,
          0.5634920634920635,
          0.3861788617886179,
          0.6296296296296297,
          0.8053861032584437,
          0.7137426900584796,
          0.8240740740740741,
          1,
          0.82,
          0.9075770191507078,
          0.8695652173913043,
          0.7694944301628106,
          0.4230769230769231,
          0.7650115473441108,
          0.6996884735202492,
          0.9714158106297456,
          0.6441717791411042,
          0.8595121951219512,
          1,
          0.2348678601875533,
          0.8984265461909955,
          0.9371556825137728,
          0.9022346368715084,
          0.7264594050547976,
          0.95747062115277,
          0.9942829919009052,
          0.7543221110100091,
          0.9048710601719198,
          0.8310104529616724,
          0.336322869955157,
          0,
          0.8291311754684838,
          0.9740566037735848,
          0.8714733542319749,
          0.8173762280870738,
          0.9858156028368794,
          0.8029294274300932,
          0.9793163509688656,
          0.1527777777777778,
          0,
          0.9065817409766456,
          0.940236275191105,
          0.8713987473903967,
          0.9398576990200028,
          0.8458698661744347,
          0.5969261279127417,
          0.5328358208955224,
          0.9695024077046548,
          0.9422004623963008,
          0.7068965517241379,
          0.7944877171959257,
          0.8298073513769058,
          0.8927444794952681,
          0.6352395672333848,
          0.8254410399257196,
          0.957178217821782,
          0.8005728607232366,
          0.9695828505214368,
          0.8537735849056604,
          0,
          0.9636979670861568,
          0.5347394540942928,
          0.0045462811420258,
          0.9753593429158112,
          0.7126288659793815,
          0.9751059322033898,
          0.852400902352562,
          0.3912337662337662,
          0.4952978056426332,
          0.9473684210526316,
          0.8131868131868132,
          0.9744927536231884,
          0.7730769230769231,
          0.945945945945946,
          0.9211356466876972,
          0.945879458794588,
          0.8976624857468644,
          0.7220447284345048,
          0.8769585813190818,
          0.969241773962804,
          0.7201807985268268,
          0.9840546697038725,
          0.9387755102040816,
          0.7343599615014437,
          0.9965841161400512,
          0.8749826074857381,
          0.9847328244274808,
          0.6015037593984962,
          0.7706293706293706,
          0.6647173489278753,
          0.9819524200164068,
          0.7161458333333334,
          0.8605769230769231,
          0.96256038647343,
          0.82,
          0.8785545023696683,
          0.9071266968325792,
          0,
          0.3128014842300556,
          0.1944444444444444,
          0.9667145593869731,
          0.7493261455525606,
          0.9132530120481928,
          0,
          0.9890222632604904,
          0.8549172346640701,
          0.9265255292652552,
          0.9921923797626484,
          0.9565612917898568,
          0.917391304347826,
          0.2595419847328244,
          0.9875583203732504,
          0.7311827956989247,
          0.9664764621968616,
          0.9940476190476192,
          0.97153413384835,
          0.6634938409854423,
          1,
          0.9353015075376884,
          0.7013929193267556,
          0.2653061224489796,
          0.9930313588850174,
          0.5902310617139515,
          0.9099079351161772,
          0.7927461139896373,
          0.5853658536585366,
          0.8688085676037484,
          0.5434782608695652,
          0.9658773349021916,
          0.8149122807017544,
          0.8175182481751825,
          0.7744165946413137,
          0.9923391215526048,
          0.7816593886462883,
          0.634375,
          0.9846278317152104,
          0.9455327281414238,
          0.8806003089825646,
          0.8611953883495146,
          0.7382413087934561,
          0.6410256410256411,
          0.9967845659163987,
          0.9170533642691416,
          0.9623477297895904,
          0.9804878048780488,
          0.991130820399113,
          0.9825800376647834,
          0.7073863636363636,
          0.527027027027027,
          0.4333333333333333,
          0,
          0.9291553133514986,
          0.9271545827633378,
          0.7381818181818182,
          0.6855151045701007,
          0.8563883810684542,
          0.9917718047174986,
          0.2574074074074074,
          0.920862177470107,
          0.685290763968073,
          0.650125313283208,
          1,
          0.7710148206810725,
          0,
          0.9203703703703704,
          0.6410256410256411,
          0.8955453149001537,
          0.939389241977988,
          0.8815071888943976,
          0.7141935483870968,
          0.9501312335958004,
          0.234375,
          0.5509859154929577,
          0.9851150202976996,
          0.9229041916167664,
          0.9597003745318352,
          0.3333333333333333,
          0.8425925925925926,
          0.6438188494492044,
          0.8139085640695428,
          0.9438103599648816,
          0.5441176470588235,
          0.4269819193324061,
          0.9910478128179044,
          0.2712418300653594,
          0.768352365415987,
          0.992,
          0.7740112994350282,
          0.5789473684210527,
          0.976851851851852,
          0.8365160689333955,
          0.9898700726712178,
          0.9346041055718476,
          0.5505050505050505,
          0.303030303030303,
          0.9077720207253888,
          0.6683738796414853,
          0.9429657794676806,
          0.828996282527881,
          0.1774193548387097,
          0.7277227722772277,
          0.8835267766239056,
          0.7135171486213854,
          0.8412698412698413,
          0.2419354838709677,
          0.9288833437305052,
          0.997470489038786,
          0.9897959183673468,
          0.995959595959596,
          0.8508371385083714,
          0.7687776141384389,
          0.9944979367262724,
          0.7681159420289855,
          0.7819004524886878,
          0.9285714285714286,
          0.9575971731448764,
          0.8710644677661169,
          0.9539144919489172,
          0.5281837160751566,
          0.9884939913065712,
          0.8947368421052632,
          0.568738229755179,
          0.9654972455784284,
          0,
          0.4568965517241379,
          0.996067006554989,
          0.9401263389178796,
          0.65,
          0.7393782383419689,
          0.8839314581312642,
          0.8029306017230853,
          0.8686868686868687,
          0.9579288025889968,
          1,
          0.7727272727272727,
          0.975767366720517,
          0.6,
          0.5570291777188329,
          0.5142857142857142,
          0.9387755102040816,
          0.4835680751173709,
          0.9416666666666668,
          0.56,
          0.9402021940202194,
          1,
          0.9939485627836612,
          0.7339759036144579,
          0.8485148514851485,
          0.9879939969984992,
          0.8054054054054054,
          0.9666295884315906,
          0.8009259259259259,
          0,
          0.7933723196881092,
          0.8148148148148148,
          0.8122124634044333,
          0.8529520980319346,
          0.7882618510158014,
          0.9322033898305084,
          0.9680365296803652,
          0.9132075471698112,
          0.3314065510597302,
          0.6256281407035176,
          0.9418604651162792,
          0.6984287807463292,
          0.9208048619202066,
          0.9084712755598832,
          0.7
         ],
         "y0": " ",
         "yaxis": "y"
        }
       ],
       "layout": {
        "boxmode": "group",
        "legend": {
         "tracegroupgap": 0
        },
        "template": {
         "data": {
          "bar": [
           {
            "error_x": {
             "color": "#2a3f5f"
            },
            "error_y": {
             "color": "#2a3f5f"
            },
            "marker": {
             "line": {
              "color": "#E5ECF6",
              "width": 0.5
             },
             "pattern": {
              "fillmode": "overlay",
              "size": 10,
              "solidity": 0.2
             }
            },
            "type": "bar"
           }
          ],
          "barpolar": [
           {
            "marker": {
             "line": {
              "color": "#E5ECF6",
              "width": 0.5
             },
             "pattern": {
              "fillmode": "overlay",
              "size": 10,
              "solidity": 0.2
             }
            },
            "type": "barpolar"
           }
          ],
          "carpet": [
           {
            "aaxis": {
             "endlinecolor": "#2a3f5f",
             "gridcolor": "white",
             "linecolor": "white",
             "minorgridcolor": "white",
             "startlinecolor": "#2a3f5f"
            },
            "baxis": {
             "endlinecolor": "#2a3f5f",
             "gridcolor": "white",
             "linecolor": "white",
             "minorgridcolor": "white",
             "startlinecolor": "#2a3f5f"
            },
            "type": "carpet"
           }
          ],
          "choropleth": [
           {
            "colorbar": {
             "outlinewidth": 0,
             "ticks": ""
            },
            "type": "choropleth"
           }
          ],
          "contour": [
           {
            "colorbar": {
             "outlinewidth": 0,
             "ticks": ""
            },
            "colorscale": [
             [
              0,
              "#0d0887"
             ],
             [
              0.1111111111111111,
              "#46039f"
             ],
             [
              0.2222222222222222,
              "#7201a8"
             ],
             [
              0.3333333333333333,
              "#9c179e"
             ],
             [
              0.4444444444444444,
              "#bd3786"
             ],
             [
              0.5555555555555556,
              "#d8576b"
             ],
             [
              0.6666666666666666,
              "#ed7953"
             ],
             [
              0.7777777777777778,
              "#fb9f3a"
             ],
             [
              0.8888888888888888,
              "#fdca26"
             ],
             [
              1,
              "#f0f921"
             ]
            ],
            "type": "contour"
           }
          ],
          "contourcarpet": [
           {
            "colorbar": {
             "outlinewidth": 0,
             "ticks": ""
            },
            "type": "contourcarpet"
           }
          ],
          "heatmap": [
           {
            "colorbar": {
             "outlinewidth": 0,
             "ticks": ""
            },
            "colorscale": [
             [
              0,
              "#0d0887"
             ],
             [
              0.1111111111111111,
              "#46039f"
             ],
             [
              0.2222222222222222,
              "#7201a8"
             ],
             [
              0.3333333333333333,
              "#9c179e"
             ],
             [
              0.4444444444444444,
              "#bd3786"
             ],
             [
              0.5555555555555556,
              "#d8576b"
             ],
             [
              0.6666666666666666,
              "#ed7953"
             ],
             [
              0.7777777777777778,
              "#fb9f3a"
             ],
             [
              0.8888888888888888,
              "#fdca26"
             ],
             [
              1,
              "#f0f921"
             ]
            ],
            "type": "heatmap"
           }
          ],
          "heatmapgl": [
           {
            "colorbar": {
             "outlinewidth": 0,
             "ticks": ""
            },
            "colorscale": [
             [
              0,
              "#0d0887"
             ],
             [
              0.1111111111111111,
              "#46039f"
             ],
             [
              0.2222222222222222,
              "#7201a8"
             ],
             [
              0.3333333333333333,
              "#9c179e"
             ],
             [
              0.4444444444444444,
              "#bd3786"
             ],
             [
              0.5555555555555556,
              "#d8576b"
             ],
             [
              0.6666666666666666,
              "#ed7953"
             ],
             [
              0.7777777777777778,
              "#fb9f3a"
             ],
             [
              0.8888888888888888,
              "#fdca26"
             ],
             [
              1,
              "#f0f921"
             ]
            ],
            "type": "heatmapgl"
           }
          ],
          "histogram": [
           {
            "marker": {
             "pattern": {
              "fillmode": "overlay",
              "size": 10,
              "solidity": 0.2
             }
            },
            "type": "histogram"
           }
          ],
          "histogram2d": [
           {
            "colorbar": {
             "outlinewidth": 0,
             "ticks": ""
            },
            "colorscale": [
             [
              0,
              "#0d0887"
             ],
             [
              0.1111111111111111,
              "#46039f"
             ],
             [
              0.2222222222222222,
              "#7201a8"
             ],
             [
              0.3333333333333333,
              "#9c179e"
             ],
             [
              0.4444444444444444,
              "#bd3786"
             ],
             [
              0.5555555555555556,
              "#d8576b"
             ],
             [
              0.6666666666666666,
              "#ed7953"
             ],
             [
              0.7777777777777778,
              "#fb9f3a"
             ],
             [
              0.8888888888888888,
              "#fdca26"
             ],
             [
              1,
              "#f0f921"
             ]
            ],
            "type": "histogram2d"
           }
          ],
          "histogram2dcontour": [
           {
            "colorbar": {
             "outlinewidth": 0,
             "ticks": ""
            },
            "colorscale": [
             [
              0,
              "#0d0887"
             ],
             [
              0.1111111111111111,
              "#46039f"
             ],
             [
              0.2222222222222222,
              "#7201a8"
             ],
             [
              0.3333333333333333,
              "#9c179e"
             ],
             [
              0.4444444444444444,
              "#bd3786"
             ],
             [
              0.5555555555555556,
              "#d8576b"
             ],
             [
              0.6666666666666666,
              "#ed7953"
             ],
             [
              0.7777777777777778,
              "#fb9f3a"
             ],
             [
              0.8888888888888888,
              "#fdca26"
             ],
             [
              1,
              "#f0f921"
             ]
            ],
            "type": "histogram2dcontour"
           }
          ],
          "mesh3d": [
           {
            "colorbar": {
             "outlinewidth": 0,
             "ticks": ""
            },
            "type": "mesh3d"
           }
          ],
          "parcoords": [
           {
            "line": {
             "colorbar": {
              "outlinewidth": 0,
              "ticks": ""
             }
            },
            "type": "parcoords"
           }
          ],
          "pie": [
           {
            "automargin": true,
            "type": "pie"
           }
          ],
          "scatter": [
           {
            "fillpattern": {
             "fillmode": "overlay",
             "size": 10,
             "solidity": 0.2
            },
            "type": "scatter"
           }
          ],
          "scatter3d": [
           {
            "line": {
             "colorbar": {
              "outlinewidth": 0,
              "ticks": ""
             }
            },
            "marker": {
             "colorbar": {
              "outlinewidth": 0,
              "ticks": ""
             }
            },
            "type": "scatter3d"
           }
          ],
          "scattercarpet": [
           {
            "marker": {
             "colorbar": {
              "outlinewidth": 0,
              "ticks": ""
             }
            },
            "type": "scattercarpet"
           }
          ],
          "scattergeo": [
           {
            "marker": {
             "colorbar": {
              "outlinewidth": 0,
              "ticks": ""
             }
            },
            "type": "scattergeo"
           }
          ],
          "scattergl": [
           {
            "marker": {
             "colorbar": {
              "outlinewidth": 0,
              "ticks": ""
             }
            },
            "type": "scattergl"
           }
          ],
          "scattermapbox": [
           {
            "marker": {
             "colorbar": {
              "outlinewidth": 0,
              "ticks": ""
             }
            },
            "type": "scattermapbox"
           }
          ],
          "scatterpolar": [
           {
            "marker": {
             "colorbar": {
              "outlinewidth": 0,
              "ticks": ""
             }
            },
            "type": "scatterpolar"
           }
          ],
          "scatterpolargl": [
           {
            "marker": {
             "colorbar": {
              "outlinewidth": 0,
              "ticks": ""
             }
            },
            "type": "scatterpolargl"
           }
          ],
          "scatterternary": [
           {
            "marker": {
             "colorbar": {
              "outlinewidth": 0,
              "ticks": ""
             }
            },
            "type": "scatterternary"
           }
          ],
          "surface": [
           {
            "colorbar": {
             "outlinewidth": 0,
             "ticks": ""
            },
            "colorscale": [
             [
              0,
              "#0d0887"
             ],
             [
              0.1111111111111111,
              "#46039f"
             ],
             [
              0.2222222222222222,
              "#7201a8"
             ],
             [
              0.3333333333333333,
              "#9c179e"
             ],
             [
              0.4444444444444444,
              "#bd3786"
             ],
             [
              0.5555555555555556,
              "#d8576b"
             ],
             [
              0.6666666666666666,
              "#ed7953"
             ],
             [
              0.7777777777777778,
              "#fb9f3a"
             ],
             [
              0.8888888888888888,
              "#fdca26"
             ],
             [
              1,
              "#f0f921"
             ]
            ],
            "type": "surface"
           }
          ],
          "table": [
           {
            "cells": {
             "fill": {
              "color": "#EBF0F8"
             },
             "line": {
              "color": "white"
             }
            },
            "header": {
             "fill": {
              "color": "#C8D4E3"
             },
             "line": {
              "color": "white"
             }
            },
            "type": "table"
           }
          ]
         },
         "layout": {
          "annotationdefaults": {
           "arrowcolor": "#2a3f5f",
           "arrowhead": 0,
           "arrowwidth": 1
          },
          "autotypenumbers": "strict",
          "coloraxis": {
           "colorbar": {
            "outlinewidth": 0,
            "ticks": ""
           }
          },
          "colorscale": {
           "diverging": [
            [
             0,
             "#8e0152"
            ],
            [
             0.1,
             "#c51b7d"
            ],
            [
             0.2,
             "#de77ae"
            ],
            [
             0.3,
             "#f1b6da"
            ],
            [
             0.4,
             "#fde0ef"
            ],
            [
             0.5,
             "#f7f7f7"
            ],
            [
             0.6,
             "#e6f5d0"
            ],
            [
             0.7,
             "#b8e186"
            ],
            [
             0.8,
             "#7fbc41"
            ],
            [
             0.9,
             "#4d9221"
            ],
            [
             1,
             "#276419"
            ]
           ],
           "sequential": [
            [
             0,
             "#0d0887"
            ],
            [
             0.1111111111111111,
             "#46039f"
            ],
            [
             0.2222222222222222,
             "#7201a8"
            ],
            [
             0.3333333333333333,
             "#9c179e"
            ],
            [
             0.4444444444444444,
             "#bd3786"
            ],
            [
             0.5555555555555556,
             "#d8576b"
            ],
            [
             0.6666666666666666,
             "#ed7953"
            ],
            [
             0.7777777777777778,
             "#fb9f3a"
            ],
            [
             0.8888888888888888,
             "#fdca26"
            ],
            [
             1,
             "#f0f921"
            ]
           ],
           "sequentialminus": [
            [
             0,
             "#0d0887"
            ],
            [
             0.1111111111111111,
             "#46039f"
            ],
            [
             0.2222222222222222,
             "#7201a8"
            ],
            [
             0.3333333333333333,
             "#9c179e"
            ],
            [
             0.4444444444444444,
             "#bd3786"
            ],
            [
             0.5555555555555556,
             "#d8576b"
            ],
            [
             0.6666666666666666,
             "#ed7953"
            ],
            [
             0.7777777777777778,
             "#fb9f3a"
            ],
            [
             0.8888888888888888,
             "#fdca26"
            ],
            [
             1,
             "#f0f921"
            ]
           ]
          },
          "colorway": [
           "#636efa",
           "#EF553B",
           "#00cc96",
           "#ab63fa",
           "#FFA15A",
           "#19d3f3",
           "#FF6692",
           "#B6E880",
           "#FF97FF",
           "#FECB52"
          ],
          "font": {
           "color": "#2a3f5f"
          },
          "geo": {
           "bgcolor": "white",
           "lakecolor": "white",
           "landcolor": "#E5ECF6",
           "showlakes": true,
           "showland": true,
           "subunitcolor": "white"
          },
          "hoverlabel": {
           "align": "left"
          },
          "hovermode": "closest",
          "mapbox": {
           "style": "light"
          },
          "paper_bgcolor": "white",
          "plot_bgcolor": "#E5ECF6",
          "polar": {
           "angularaxis": {
            "gridcolor": "white",
            "linecolor": "white",
            "ticks": ""
           },
           "bgcolor": "#E5ECF6",
           "radialaxis": {
            "gridcolor": "white",
            "linecolor": "white",
            "ticks": ""
           }
          },
          "scene": {
           "xaxis": {
            "backgroundcolor": "#E5ECF6",
            "gridcolor": "white",
            "gridwidth": 2,
            "linecolor": "white",
            "showbackground": true,
            "ticks": "",
            "zerolinecolor": "white"
           },
           "yaxis": {
            "backgroundcolor": "#E5ECF6",
            "gridcolor": "white",
            "gridwidth": 2,
            "linecolor": "white",
            "showbackground": true,
            "ticks": "",
            "zerolinecolor": "white"
           },
           "zaxis": {
            "backgroundcolor": "#E5ECF6",
            "gridcolor": "white",
            "gridwidth": 2,
            "linecolor": "white",
            "showbackground": true,
            "ticks": "",
            "zerolinecolor": "white"
           }
          },
          "shapedefaults": {
           "line": {
            "color": "#2a3f5f"
           }
          },
          "ternary": {
           "aaxis": {
            "gridcolor": "white",
            "linecolor": "white",
            "ticks": ""
           },
           "baxis": {
            "gridcolor": "white",
            "linecolor": "white",
            "ticks": ""
           },
           "bgcolor": "#E5ECF6",
           "caxis": {
            "gridcolor": "white",
            "linecolor": "white",
            "ticks": ""
           }
          },
          "title": {
           "x": 0.05
          },
          "xaxis": {
           "automargin": true,
           "gridcolor": "white",
           "linecolor": "white",
           "ticks": "",
           "title": {
            "standoff": 15
           },
           "zerolinecolor": "white",
           "zerolinewidth": 2
          },
          "yaxis": {
           "automargin": true,
           "gridcolor": "white",
           "linecolor": "white",
           "ticks": "",
           "title": {
            "standoff": 15
           },
           "zerolinecolor": "white",
           "zerolinewidth": 2
          }
         }
        },
        "title": {
         "text": "Issues/Issues Closed"
        },
        "xaxis": {
         "anchor": "y",
         "domain": [
          0,
          1
         ]
        },
        "yaxis": {
         "anchor": "x",
         "domain": [
          0,
          1
         ],
         "title": {
          "text": "Issues/Issues Closed"
         }
        }
       }
      }
     },
     "metadata": {},
     "output_type": "display_data"
    },
    {
     "data": {
      "application/vnd.plotly.v1+json": {
       "config": {
        "plotlyServerURL": "https://plot.ly"
       },
       "data": [
        {
         "cells": {
          "align": [
           "left",
           "center"
          ],
          "fill": {
           "color": [
            [
             "white",
             "lightgrey",
             "white",
             "lightgrey",
             "white",
             "lightgrey",
             "white",
             "lightgrey",
             "white",
             "lightgrey",
             "white",
             "lightgrey",
             "white",
             "lightgrey",
             "white",
             "lightgrey",
             "white",
             "lightgrey",
             "white",
             "lightgrey"
            ]
           ]
          },
          "font": {
           "color": "darkslategray",
           "size": 11
          },
          "line": {
           "color": "darkslategray"
          },
          "values": [
           [
            "min",
            "q1",
            "median",
            "q3",
            "max"
           ],
           [
            "0.00",
            "0.66",
            "0.85",
            "0.95",
            "1.00"
           ]
          ]
         },
         "header": {
          "align": [
           "left",
           "center"
          ],
          "fill": {
           "color": "grey"
          },
          "font": {
           "color": "white",
           "size": 12
          },
          "line": {
           "color": "darkslategray"
          },
          "values": [
           "Título",
           "Issues/Issues Closed"
          ]
         },
         "type": "table"
        }
       ],
       "layout": {
        "height": 180,
        "margin": {
         "b": 10,
         "l": 10,
         "r": 10,
         "t": 10
        },
        "paper_bgcolor": "rgba(0,0,0,0)",
        "plot_bgcolor": "rgba(0,0,0,0)",
        "template": {
         "data": {
          "bar": [
           {
            "error_x": {
             "color": "#2a3f5f"
            },
            "error_y": {
             "color": "#2a3f5f"
            },
            "marker": {
             "line": {
              "color": "#E5ECF6",
              "width": 0.5
             },
             "pattern": {
              "fillmode": "overlay",
              "size": 10,
              "solidity": 0.2
             }
            },
            "type": "bar"
           }
          ],
          "barpolar": [
           {
            "marker": {
             "line": {
              "color": "#E5ECF6",
              "width": 0.5
             },
             "pattern": {
              "fillmode": "overlay",
              "size": 10,
              "solidity": 0.2
             }
            },
            "type": "barpolar"
           }
          ],
          "carpet": [
           {
            "aaxis": {
             "endlinecolor": "#2a3f5f",
             "gridcolor": "white",
             "linecolor": "white",
             "minorgridcolor": "white",
             "startlinecolor": "#2a3f5f"
            },
            "baxis": {
             "endlinecolor": "#2a3f5f",
             "gridcolor": "white",
             "linecolor": "white",
             "minorgridcolor": "white",
             "startlinecolor": "#2a3f5f"
            },
            "type": "carpet"
           }
          ],
          "choropleth": [
           {
            "colorbar": {
             "outlinewidth": 0,
             "ticks": ""
            },
            "type": "choropleth"
           }
          ],
          "contour": [
           {
            "colorbar": {
             "outlinewidth": 0,
             "ticks": ""
            },
            "colorscale": [
             [
              0,
              "#0d0887"
             ],
             [
              0.1111111111111111,
              "#46039f"
             ],
             [
              0.2222222222222222,
              "#7201a8"
             ],
             [
              0.3333333333333333,
              "#9c179e"
             ],
             [
              0.4444444444444444,
              "#bd3786"
             ],
             [
              0.5555555555555556,
              "#d8576b"
             ],
             [
              0.6666666666666666,
              "#ed7953"
             ],
             [
              0.7777777777777778,
              "#fb9f3a"
             ],
             [
              0.8888888888888888,
              "#fdca26"
             ],
             [
              1,
              "#f0f921"
             ]
            ],
            "type": "contour"
           }
          ],
          "contourcarpet": [
           {
            "colorbar": {
             "outlinewidth": 0,
             "ticks": ""
            },
            "type": "contourcarpet"
           }
          ],
          "heatmap": [
           {
            "colorbar": {
             "outlinewidth": 0,
             "ticks": ""
            },
            "colorscale": [
             [
              0,
              "#0d0887"
             ],
             [
              0.1111111111111111,
              "#46039f"
             ],
             [
              0.2222222222222222,
              "#7201a8"
             ],
             [
              0.3333333333333333,
              "#9c179e"
             ],
             [
              0.4444444444444444,
              "#bd3786"
             ],
             [
              0.5555555555555556,
              "#d8576b"
             ],
             [
              0.6666666666666666,
              "#ed7953"
             ],
             [
              0.7777777777777778,
              "#fb9f3a"
             ],
             [
              0.8888888888888888,
              "#fdca26"
             ],
             [
              1,
              "#f0f921"
             ]
            ],
            "type": "heatmap"
           }
          ],
          "heatmapgl": [
           {
            "colorbar": {
             "outlinewidth": 0,
             "ticks": ""
            },
            "colorscale": [
             [
              0,
              "#0d0887"
             ],
             [
              0.1111111111111111,
              "#46039f"
             ],
             [
              0.2222222222222222,
              "#7201a8"
             ],
             [
              0.3333333333333333,
              "#9c179e"
             ],
             [
              0.4444444444444444,
              "#bd3786"
             ],
             [
              0.5555555555555556,
              "#d8576b"
             ],
             [
              0.6666666666666666,
              "#ed7953"
             ],
             [
              0.7777777777777778,
              "#fb9f3a"
             ],
             [
              0.8888888888888888,
              "#fdca26"
             ],
             [
              1,
              "#f0f921"
             ]
            ],
            "type": "heatmapgl"
           }
          ],
          "histogram": [
           {
            "marker": {
             "pattern": {
              "fillmode": "overlay",
              "size": 10,
              "solidity": 0.2
             }
            },
            "type": "histogram"
           }
          ],
          "histogram2d": [
           {
            "colorbar": {
             "outlinewidth": 0,
             "ticks": ""
            },
            "colorscale": [
             [
              0,
              "#0d0887"
             ],
             [
              0.1111111111111111,
              "#46039f"
             ],
             [
              0.2222222222222222,
              "#7201a8"
             ],
             [
              0.3333333333333333,
              "#9c179e"
             ],
             [
              0.4444444444444444,
              "#bd3786"
             ],
             [
              0.5555555555555556,
              "#d8576b"
             ],
             [
              0.6666666666666666,
              "#ed7953"
             ],
             [
              0.7777777777777778,
              "#fb9f3a"
             ],
             [
              0.8888888888888888,
              "#fdca26"
             ],
             [
              1,
              "#f0f921"
             ]
            ],
            "type": "histogram2d"
           }
          ],
          "histogram2dcontour": [
           {
            "colorbar": {
             "outlinewidth": 0,
             "ticks": ""
            },
            "colorscale": [
             [
              0,
              "#0d0887"
             ],
             [
              0.1111111111111111,
              "#46039f"
             ],
             [
              0.2222222222222222,
              "#7201a8"
             ],
             [
              0.3333333333333333,
              "#9c179e"
             ],
             [
              0.4444444444444444,
              "#bd3786"
             ],
             [
              0.5555555555555556,
              "#d8576b"
             ],
             [
              0.6666666666666666,
              "#ed7953"
             ],
             [
              0.7777777777777778,
              "#fb9f3a"
             ],
             [
              0.8888888888888888,
              "#fdca26"
             ],
             [
              1,
              "#f0f921"
             ]
            ],
            "type": "histogram2dcontour"
           }
          ],
          "mesh3d": [
           {
            "colorbar": {
             "outlinewidth": 0,
             "ticks": ""
            },
            "type": "mesh3d"
           }
          ],
          "parcoords": [
           {
            "line": {
             "colorbar": {
              "outlinewidth": 0,
              "ticks": ""
             }
            },
            "type": "parcoords"
           }
          ],
          "pie": [
           {
            "automargin": true,
            "type": "pie"
           }
          ],
          "scatter": [
           {
            "fillpattern": {
             "fillmode": "overlay",
             "size": 10,
             "solidity": 0.2
            },
            "type": "scatter"
           }
          ],
          "scatter3d": [
           {
            "line": {
             "colorbar": {
              "outlinewidth": 0,
              "ticks": ""
             }
            },
            "marker": {
             "colorbar": {
              "outlinewidth": 0,
              "ticks": ""
             }
            },
            "type": "scatter3d"
           }
          ],
          "scattercarpet": [
           {
            "marker": {
             "colorbar": {
              "outlinewidth": 0,
              "ticks": ""
             }
            },
            "type": "scattercarpet"
           }
          ],
          "scattergeo": [
           {
            "marker": {
             "colorbar": {
              "outlinewidth": 0,
              "ticks": ""
             }
            },
            "type": "scattergeo"
           }
          ],
          "scattergl": [
           {
            "marker": {
             "colorbar": {
              "outlinewidth": 0,
              "ticks": ""
             }
            },
            "type": "scattergl"
           }
          ],
          "scattermapbox": [
           {
            "marker": {
             "colorbar": {
              "outlinewidth": 0,
              "ticks": ""
             }
            },
            "type": "scattermapbox"
           }
          ],
          "scatterpolar": [
           {
            "marker": {
             "colorbar": {
              "outlinewidth": 0,
              "ticks": ""
             }
            },
            "type": "scatterpolar"
           }
          ],
          "scatterpolargl": [
           {
            "marker": {
             "colorbar": {
              "outlinewidth": 0,
              "ticks": ""
             }
            },
            "type": "scatterpolargl"
           }
          ],
          "scatterternary": [
           {
            "marker": {
             "colorbar": {
              "outlinewidth": 0,
              "ticks": ""
             }
            },
            "type": "scatterternary"
           }
          ],
          "surface": [
           {
            "colorbar": {
             "outlinewidth": 0,
             "ticks": ""
            },
            "colorscale": [
             [
              0,
              "#0d0887"
             ],
             [
              0.1111111111111111,
              "#46039f"
             ],
             [
              0.2222222222222222,
              "#7201a8"
             ],
             [
              0.3333333333333333,
              "#9c179e"
             ],
             [
              0.4444444444444444,
              "#bd3786"
             ],
             [
              0.5555555555555556,
              "#d8576b"
             ],
             [
              0.6666666666666666,
              "#ed7953"
             ],
             [
              0.7777777777777778,
              "#fb9f3a"
             ],
             [
              0.8888888888888888,
              "#fdca26"
             ],
             [
              1,
              "#f0f921"
             ]
            ],
            "type": "surface"
           }
          ],
          "table": [
           {
            "cells": {
             "fill": {
              "color": "#EBF0F8"
             },
             "line": {
              "color": "white"
             }
            },
            "header": {
             "fill": {
              "color": "#C8D4E3"
             },
             "line": {
              "color": "white"
             }
            },
            "type": "table"
           }
          ]
         },
         "layout": {
          "annotationdefaults": {
           "arrowcolor": "#2a3f5f",
           "arrowhead": 0,
           "arrowwidth": 1
          },
          "autotypenumbers": "strict",
          "coloraxis": {
           "colorbar": {
            "outlinewidth": 0,
            "ticks": ""
           }
          },
          "colorscale": {
           "diverging": [
            [
             0,
             "#8e0152"
            ],
            [
             0.1,
             "#c51b7d"
            ],
            [
             0.2,
             "#de77ae"
            ],
            [
             0.3,
             "#f1b6da"
            ],
            [
             0.4,
             "#fde0ef"
            ],
            [
             0.5,
             "#f7f7f7"
            ],
            [
             0.6,
             "#e6f5d0"
            ],
            [
             0.7,
             "#b8e186"
            ],
            [
             0.8,
             "#7fbc41"
            ],
            [
             0.9,
             "#4d9221"
            ],
            [
             1,
             "#276419"
            ]
           ],
           "sequential": [
            [
             0,
             "#0d0887"
            ],
            [
             0.1111111111111111,
             "#46039f"
            ],
            [
             0.2222222222222222,
             "#7201a8"
            ],
            [
             0.3333333333333333,
             "#9c179e"
            ],
            [
             0.4444444444444444,
             "#bd3786"
            ],
            [
             0.5555555555555556,
             "#d8576b"
            ],
            [
             0.6666666666666666,
             "#ed7953"
            ],
            [
             0.7777777777777778,
             "#fb9f3a"
            ],
            [
             0.8888888888888888,
             "#fdca26"
            ],
            [
             1,
             "#f0f921"
            ]
           ],
           "sequentialminus": [
            [
             0,
             "#0d0887"
            ],
            [
             0.1111111111111111,
             "#46039f"
            ],
            [
             0.2222222222222222,
             "#7201a8"
            ],
            [
             0.3333333333333333,
             "#9c179e"
            ],
            [
             0.4444444444444444,
             "#bd3786"
            ],
            [
             0.5555555555555556,
             "#d8576b"
            ],
            [
             0.6666666666666666,
             "#ed7953"
            ],
            [
             0.7777777777777778,
             "#fb9f3a"
            ],
            [
             0.8888888888888888,
             "#fdca26"
            ],
            [
             1,
             "#f0f921"
            ]
           ]
          },
          "colorway": [
           "#636efa",
           "#EF553B",
           "#00cc96",
           "#ab63fa",
           "#FFA15A",
           "#19d3f3",
           "#FF6692",
           "#B6E880",
           "#FF97FF",
           "#FECB52"
          ],
          "font": {
           "color": "#2a3f5f"
          },
          "geo": {
           "bgcolor": "white",
           "lakecolor": "white",
           "landcolor": "#E5ECF6",
           "showlakes": true,
           "showland": true,
           "subunitcolor": "white"
          },
          "hoverlabel": {
           "align": "left"
          },
          "hovermode": "closest",
          "mapbox": {
           "style": "light"
          },
          "paper_bgcolor": "white",
          "plot_bgcolor": "#E5ECF6",
          "polar": {
           "angularaxis": {
            "gridcolor": "white",
            "linecolor": "white",
            "ticks": ""
           },
           "bgcolor": "#E5ECF6",
           "radialaxis": {
            "gridcolor": "white",
            "linecolor": "white",
            "ticks": ""
           }
          },
          "scene": {
           "xaxis": {
            "backgroundcolor": "#E5ECF6",
            "gridcolor": "white",
            "gridwidth": 2,
            "linecolor": "white",
            "showbackground": true,
            "ticks": "",
            "zerolinecolor": "white"
           },
           "yaxis": {
            "backgroundcolor": "#E5ECF6",
            "gridcolor": "white",
            "gridwidth": 2,
            "linecolor": "white",
            "showbackground": true,
            "ticks": "",
            "zerolinecolor": "white"
           },
           "zaxis": {
            "backgroundcolor": "#E5ECF6",
            "gridcolor": "white",
            "gridwidth": 2,
            "linecolor": "white",
            "showbackground": true,
            "ticks": "",
            "zerolinecolor": "white"
           }
          },
          "shapedefaults": {
           "line": {
            "color": "#2a3f5f"
           }
          },
          "ternary": {
           "aaxis": {
            "gridcolor": "white",
            "linecolor": "white",
            "ticks": ""
           },
           "baxis": {
            "gridcolor": "white",
            "linecolor": "white",
            "ticks": ""
           },
           "bgcolor": "#E5ECF6",
           "caxis": {
            "gridcolor": "white",
            "linecolor": "white",
            "ticks": ""
           }
          },
          "title": {
           "x": 0.05
          },
          "xaxis": {
           "automargin": true,
           "gridcolor": "white",
           "linecolor": "white",
           "ticks": "",
           "title": {
            "standoff": 15
           },
           "zerolinecolor": "white",
           "zerolinewidth": 2
          },
          "yaxis": {
           "automargin": true,
           "gridcolor": "white",
           "linecolor": "white",
           "ticks": "",
           "title": {
            "standoff": 15
           },
           "zerolinecolor": "white",
           "zerolinewidth": 2
          }
         }
        }
       }
      }
     },
     "metadata": {},
     "output_type": "display_data"
    }
   ],
   "source": [
    "# fig = px.bar(table.sort_values(by='pullRequests').reset_index(), y='pullRequests')\n",
    "fig = px.box(table, y='reasonIssuesIssuesClosed', labels={'reasonIssuesIssuesClosed': 'Issues/Issues Closed'}, title='Issues/Issues Closed')\n",
    "fig.write_image('../data/reasonIssuesIssuesClosed_boxplot.png')\n",
    "fig.show()\n",
    "\n",
    "table1 = table.reasonIssuesIssuesClosed.describe().to_frame().drop(['count', 'mean', 'std']).rename({'25%': 'q1', '50%': 'median', '75%': 'q3'}).reset_index().rename(columns={'index': 'title'})\n",
    "table1.reasonIssuesIssuesClosed = table1.reasonIssuesIssuesClosed.apply(func={lambda x: f'{x:.2f}'})\n",
    "table1 = table1.rename(columns={'title': 'Título', 'reasonIssuesIssuesClosed': 'Issues/Issues Closed'})\n",
    "layout = go.Layout(\n",
    "    paper_bgcolor='rgba(0,0,0,0)',\n",
    "    plot_bgcolor='rgba(0,0,0,0)',\n",
    "    height=180,\n",
    "    margin={\"l\":10,\"r\":10,\"t\":10,\"b\":10}\n",
    ")\n",
    "fig = go.Figure(data=[go.Table(\n",
    "    header=dict(values=list(table1.columns),\n",
    "                line_color='darkslategray',\n",
    "                fill_color='grey',\n",
    "                align=['left','center'],\n",
    "                font=dict(color='white', size=12)),\n",
    "    cells=dict(values=[table1.Título, table1['Issues/Issues Closed']],\n",
    "               line_color='darkslategray',\n",
    "                fill_color = [['white','lightgrey','white', 'lightgrey']*5],\n",
    "                align = ['left', 'center'],\n",
    "                font = dict(color = 'darkslategray', size = 11))\n",
    "    )\n",
    "],\n",
    "layout=layout)\n",
    "fig.write_image('../data/reasonIssuesIssuesClosed_table.png')\n",
    "fig.show()"
   ]
  },
  {
   "cell_type": "code",
   "execution_count": 76,
   "metadata": {},
   "outputs": [],
   "source": [
    "table = df['primaryLanguage'].value_counts().reset_index()\n",
    "table = table.rename(columns={'index': 'language', 'primaryLanguage': 'values'})\n",
    "total = table['values'].sum()\n",
    "table['percent'] = table['values'].apply(func={lambda x: f'{(x/total)*100:.2f}%'})\n"
   ]
  },
  {
   "cell_type": "code",
   "execution_count": 77,
   "metadata": {},
   "outputs": [
    {
     "data": {
      "application/vnd.plotly.v1+json": {
       "config": {
        "plotlyServerURL": "https://plot.ly"
       },
       "data": [
        {
         "alignmentgroup": "True",
         "hovertemplate": "Linguagens=%{y}<br>Volume=%{x}<br>percent=%{text}<extra></extra>",
         "legendgroup": "JavaScript",
         "marker": {
          "color": "#636efa",
          "pattern": {
           "shape": ""
          }
         },
         "name": "JavaScript",
         "offsetgroup": "JavaScript",
         "orientation": "h",
         "showlegend": true,
         "text": [
          "20.18%"
         ],
         "textposition": "outside",
         "type": "bar",
         "x": [
          179
         ],
         "xaxis": "x",
         "y": [
          "JavaScript"
         ],
         "yaxis": "y"
        },
        {
         "alignmentgroup": "True",
         "hovertemplate": "Linguagens=%{y}<br>Volume=%{x}<br>percent=%{text}<extra></extra>",
         "legendgroup": "Python",
         "marker": {
          "color": "#EF553B",
          "pattern": {
           "shape": ""
          }
         },
         "name": "Python",
         "offsetgroup": "Python",
         "orientation": "h",
         "showlegend": true,
         "text": [
          "15.90%"
         ],
         "textposition": "outside",
         "type": "bar",
         "x": [
          141
         ],
         "xaxis": "x",
         "y": [
          "Python"
         ],
         "yaxis": "y"
        },
        {
         "alignmentgroup": "True",
         "hovertemplate": "Linguagens=%{y}<br>Volume=%{x}<br>percent=%{text}<extra></extra>",
         "legendgroup": "TypeScript",
         "marker": {
          "color": "#00cc96",
          "pattern": {
           "shape": ""
          }
         },
         "name": "TypeScript",
         "offsetgroup": "TypeScript",
         "orientation": "h",
         "showlegend": true,
         "text": [
          "13.53%"
         ],
         "textposition": "outside",
         "type": "bar",
         "x": [
          120
         ],
         "xaxis": "x",
         "y": [
          "TypeScript"
         ],
         "yaxis": "y"
        },
        {
         "alignmentgroup": "True",
         "hovertemplate": "Linguagens=%{y}<br>Volume=%{x}<br>percent=%{text}<extra></extra>",
         "legendgroup": "Go",
         "marker": {
          "color": "#ab63fa",
          "pattern": {
           "shape": ""
          }
         },
         "name": "Go",
         "offsetgroup": "Go",
         "orientation": "h",
         "showlegend": true,
         "text": [
          "8.34%"
         ],
         "textposition": "outside",
         "type": "bar",
         "x": [
          74
         ],
         "xaxis": "x",
         "y": [
          "Go"
         ],
         "yaxis": "y"
        },
        {
         "alignmentgroup": "True",
         "hovertemplate": "Linguagens=%{y}<br>Volume=%{x}<br>percent=%{text}<extra></extra>",
         "legendgroup": "Java",
         "marker": {
          "color": "#FFA15A",
          "pattern": {
           "shape": ""
          }
         },
         "name": "Java",
         "offsetgroup": "Java",
         "orientation": "h",
         "showlegend": true,
         "text": [
          "7.10%"
         ],
         "textposition": "outside",
         "type": "bar",
         "x": [
          63
         ],
         "xaxis": "x",
         "y": [
          "Java"
         ],
         "yaxis": "y"
        },
        {
         "alignmentgroup": "True",
         "hovertemplate": "Linguagens=%{y}<br>Volume=%{x}<br>percent=%{text}<extra></extra>",
         "legendgroup": "C++",
         "marker": {
          "color": "#19d3f3",
          "pattern": {
           "shape": ""
          }
         },
         "name": "C++",
         "offsetgroup": "C++",
         "orientation": "h",
         "showlegend": true,
         "text": [
          "5.86%"
         ],
         "textposition": "outside",
         "type": "bar",
         "x": [
          52
         ],
         "xaxis": "x",
         "y": [
          "C++"
         ],
         "yaxis": "y"
        },
        {
         "alignmentgroup": "True",
         "hovertemplate": "Linguagens=%{y}<br>Volume=%{x}<br>percent=%{text}<extra></extra>",
         "legendgroup": "C",
         "marker": {
          "color": "#FF6692",
          "pattern": {
           "shape": ""
          }
         },
         "name": "C",
         "offsetgroup": "C",
         "orientation": "h",
         "showlegend": true,
         "text": [
          "3.27%"
         ],
         "textposition": "outside",
         "type": "bar",
         "x": [
          29
         ],
         "xaxis": "x",
         "y": [
          "C"
         ],
         "yaxis": "y"
        },
        {
         "alignmentgroup": "True",
         "hovertemplate": "Linguagens=%{y}<br>Volume=%{x}<br>percent=%{text}<extra></extra>",
         "legendgroup": "Shell",
         "marker": {
          "color": "#B6E880",
          "pattern": {
           "shape": ""
          }
         },
         "name": "Shell",
         "offsetgroup": "Shell",
         "orientation": "h",
         "showlegend": true,
         "text": [
          "2.82%"
         ],
         "textposition": "outside",
         "type": "bar",
         "x": [
          25
         ],
         "xaxis": "x",
         "y": [
          "Shell"
         ],
         "yaxis": "y"
        },
        {
         "alignmentgroup": "True",
         "hovertemplate": "Linguagens=%{y}<br>Volume=%{x}<br>percent=%{text}<extra></extra>",
         "legendgroup": "Rust",
         "marker": {
          "color": "#FF97FF",
          "pattern": {
           "shape": ""
          }
         },
         "name": "Rust",
         "offsetgroup": "Rust",
         "orientation": "h",
         "showlegend": true,
         "text": [
          "2.82%"
         ],
         "textposition": "outside",
         "type": "bar",
         "x": [
          25
         ],
         "xaxis": "x",
         "y": [
          "Rust"
         ],
         "yaxis": "y"
        },
        {
         "alignmentgroup": "True",
         "hovertemplate": "Linguagens=%{y}<br>Volume=%{x}<br>percent=%{text}<extra></extra>",
         "legendgroup": "HTML",
         "marker": {
          "color": "#FECB52",
          "pattern": {
           "shape": ""
          }
         },
         "name": "HTML",
         "offsetgroup": "HTML",
         "orientation": "h",
         "showlegend": true,
         "text": [
          "2.48%"
         ],
         "textposition": "outside",
         "type": "bar",
         "x": [
          22
         ],
         "xaxis": "x",
         "y": [
          "HTML"
         ],
         "yaxis": "y"
        },
        {
         "alignmentgroup": "True",
         "hovertemplate": "Linguagens=%{y}<br>Volume=%{x}<br>percent=%{text}<extra></extra>",
         "legendgroup": "Jupyter Notebook",
         "marker": {
          "color": "#636efa",
          "pattern": {
           "shape": ""
          }
         },
         "name": "Jupyter Notebook",
         "offsetgroup": "Jupyter Notebook",
         "orientation": "h",
         "showlegend": true,
         "text": [
          "2.14%"
         ],
         "textposition": "outside",
         "type": "bar",
         "x": [
          19
         ],
         "xaxis": "x",
         "y": [
          "Jupyter Notebook"
         ],
         "yaxis": "y"
        },
        {
         "alignmentgroup": "True",
         "hovertemplate": "Linguagens=%{y}<br>Volume=%{x}<br>percent=%{text}<extra></extra>",
         "legendgroup": "Swift",
         "marker": {
          "color": "#EF553B",
          "pattern": {
           "shape": ""
          }
         },
         "name": "Swift",
         "offsetgroup": "Swift",
         "orientation": "h",
         "showlegend": true,
         "text": [
          "1.69%"
         ],
         "textposition": "outside",
         "type": "bar",
         "x": [
          15
         ],
         "xaxis": "x",
         "y": [
          "Swift"
         ],
         "yaxis": "y"
        },
        {
         "alignmentgroup": "True",
         "hovertemplate": "Linguagens=%{y}<br>Volume=%{x}<br>percent=%{text}<extra></extra>",
         "legendgroup": "C#",
         "marker": {
          "color": "#00cc96",
          "pattern": {
           "shape": ""
          }
         },
         "name": "C#",
         "offsetgroup": "C#",
         "orientation": "h",
         "showlegend": true,
         "text": [
          "1.69%"
         ],
         "textposition": "outside",
         "type": "bar",
         "x": [
          15
         ],
         "xaxis": "x",
         "y": [
          "C#"
         ],
         "yaxis": "y"
        },
        {
         "alignmentgroup": "True",
         "hovertemplate": "Linguagens=%{y}<br>Volume=%{x}<br>percent=%{text}<extra></extra>",
         "legendgroup": "Ruby",
         "marker": {
          "color": "#ab63fa",
          "pattern": {
           "shape": ""
          }
         },
         "name": "Ruby",
         "offsetgroup": "Ruby",
         "orientation": "h",
         "showlegend": true,
         "text": [
          "1.69%"
         ],
         "textposition": "outside",
         "type": "bar",
         "x": [
          15
         ],
         "xaxis": "x",
         "y": [
          "Ruby"
         ],
         "yaxis": "y"
        },
        {
         "alignmentgroup": "True",
         "hovertemplate": "Linguagens=%{y}<br>Volume=%{x}<br>percent=%{text}<extra></extra>",
         "legendgroup": "Kotlin",
         "marker": {
          "color": "#FFA15A",
          "pattern": {
           "shape": ""
          }
         },
         "name": "Kotlin",
         "offsetgroup": "Kotlin",
         "orientation": "h",
         "showlegend": true,
         "text": [
          "1.58%"
         ],
         "textposition": "outside",
         "type": "bar",
         "x": [
          14
         ],
         "xaxis": "x",
         "y": [
          "Kotlin"
         ],
         "yaxis": "y"
        },
        {
         "alignmentgroup": "True",
         "hovertemplate": "Linguagens=%{y}<br>Volume=%{x}<br>percent=%{text}<extra></extra>",
         "legendgroup": "PHP",
         "marker": {
          "color": "#19d3f3",
          "pattern": {
           "shape": ""
          }
         },
         "name": "PHP",
         "offsetgroup": "PHP",
         "orientation": "h",
         "showlegend": true,
         "text": [
          "1.13%"
         ],
         "textposition": "outside",
         "type": "bar",
         "x": [
          10
         ],
         "xaxis": "x",
         "y": [
          "PHP"
         ],
         "yaxis": "y"
        },
        {
         "alignmentgroup": "True",
         "hovertemplate": "Linguagens=%{y}<br>Volume=%{x}<br>percent=%{text}<extra></extra>",
         "legendgroup": "Vue",
         "marker": {
          "color": "#FF6692",
          "pattern": {
           "shape": ""
          }
         },
         "name": "Vue",
         "offsetgroup": "Vue",
         "orientation": "h",
         "showlegend": true,
         "text": [
          "0.79%"
         ],
         "textposition": "outside",
         "type": "bar",
         "x": [
          7
         ],
         "xaxis": "x",
         "y": [
          "Vue"
         ],
         "yaxis": "y"
        },
        {
         "alignmentgroup": "True",
         "hovertemplate": "Linguagens=%{y}<br>Volume=%{x}<br>percent=%{text}<extra></extra>",
         "legendgroup": "CSS",
         "marker": {
          "color": "#B6E880",
          "pattern": {
           "shape": ""
          }
         },
         "name": "CSS",
         "offsetgroup": "CSS",
         "orientation": "h",
         "showlegend": true,
         "text": [
          "0.79%"
         ],
         "textposition": "outside",
         "type": "bar",
         "x": [
          7
         ],
         "xaxis": "x",
         "y": [
          "CSS"
         ],
         "yaxis": "y"
        },
        {
         "alignmentgroup": "True",
         "hovertemplate": "Linguagens=%{y}<br>Volume=%{x}<br>percent=%{text}<extra></extra>",
         "legendgroup": "Vim Script",
         "marker": {
          "color": "#FF97FF",
          "pattern": {
           "shape": ""
          }
         },
         "name": "Vim Script",
         "offsetgroup": "Vim Script",
         "orientation": "h",
         "showlegend": true,
         "text": [
          "0.56%"
         ],
         "textposition": "outside",
         "type": "bar",
         "x": [
          5
         ],
         "xaxis": "x",
         "y": [
          "Vim Script"
         ],
         "yaxis": "y"
        },
        {
         "alignmentgroup": "True",
         "hovertemplate": "Linguagens=%{y}<br>Volume=%{x}<br>percent=%{text}<extra></extra>",
         "legendgroup": "Clojure",
         "marker": {
          "color": "#FECB52",
          "pattern": {
           "shape": ""
          }
         },
         "name": "Clojure",
         "offsetgroup": "Clojure",
         "orientation": "h",
         "showlegend": true,
         "text": [
          "0.45%"
         ],
         "textposition": "outside",
         "type": "bar",
         "x": [
          4
         ],
         "xaxis": "x",
         "y": [
          "Clojure"
         ],
         "yaxis": "y"
        },
        {
         "alignmentgroup": "True",
         "hovertemplate": "Linguagens=%{y}<br>Volume=%{x}<br>percent=%{text}<extra></extra>",
         "legendgroup": "Dart",
         "marker": {
          "color": "#636efa",
          "pattern": {
           "shape": ""
          }
         },
         "name": "Dart",
         "offsetgroup": "Dart",
         "orientation": "h",
         "showlegend": true,
         "text": [
          "0.45%"
         ],
         "textposition": "outside",
         "type": "bar",
         "x": [
          4
         ],
         "xaxis": "x",
         "y": [
          "Dart"
         ],
         "yaxis": "y"
        },
        {
         "alignmentgroup": "True",
         "hovertemplate": "Linguagens=%{y}<br>Volume=%{x}<br>percent=%{text}<extra></extra>",
         "legendgroup": "Markdown",
         "marker": {
          "color": "#EF553B",
          "pattern": {
           "shape": ""
          }
         },
         "name": "Markdown",
         "offsetgroup": "Markdown",
         "orientation": "h",
         "showlegend": true,
         "text": [
          "0.34%"
         ],
         "textposition": "outside",
         "type": "bar",
         "x": [
          3
         ],
         "xaxis": "x",
         "y": [
          "Markdown"
         ],
         "yaxis": "y"
        },
        {
         "alignmentgroup": "True",
         "hovertemplate": "Linguagens=%{y}<br>Volume=%{x}<br>percent=%{text}<extra></extra>",
         "legendgroup": "TeX",
         "marker": {
          "color": "#00cc96",
          "pattern": {
           "shape": ""
          }
         },
         "name": "TeX",
         "offsetgroup": "TeX",
         "orientation": "h",
         "showlegend": true,
         "text": [
          "0.34%"
         ],
         "textposition": "outside",
         "type": "bar",
         "x": [
          3
         ],
         "xaxis": "x",
         "y": [
          "TeX"
         ],
         "yaxis": "y"
        },
        {
         "alignmentgroup": "True",
         "hovertemplate": "Linguagens=%{y}<br>Volume=%{x}<br>percent=%{text}<extra></extra>",
         "legendgroup": "Makefile",
         "marker": {
          "color": "#ab63fa",
          "pattern": {
           "shape": ""
          }
         },
         "name": "Makefile",
         "offsetgroup": "Makefile",
         "orientation": "h",
         "showlegend": true,
         "text": [
          "0.34%"
         ],
         "textposition": "outside",
         "type": "bar",
         "x": [
          3
         ],
         "xaxis": "x",
         "y": [
          "Makefile"
         ],
         "yaxis": "y"
        },
        {
         "alignmentgroup": "True",
         "hovertemplate": "Linguagens=%{y}<br>Volume=%{x}<br>percent=%{text}<extra></extra>",
         "legendgroup": "Batchfile",
         "marker": {
          "color": "#FFA15A",
          "pattern": {
           "shape": ""
          }
         },
         "name": "Batchfile",
         "offsetgroup": "Batchfile",
         "orientation": "h",
         "showlegend": true,
         "text": [
          "0.34%"
         ],
         "textposition": "outside",
         "type": "bar",
         "x": [
          3
         ],
         "xaxis": "x",
         "y": [
          "Batchfile"
         ],
         "yaxis": "y"
        },
        {
         "alignmentgroup": "True",
         "hovertemplate": "Linguagens=%{y}<br>Volume=%{x}<br>percent=%{text}<extra></extra>",
         "legendgroup": "MDX",
         "marker": {
          "color": "#19d3f3",
          "pattern": {
           "shape": ""
          }
         },
         "name": "MDX",
         "offsetgroup": "MDX",
         "orientation": "h",
         "showlegend": true,
         "text": [
          "0.34%"
         ],
         "textposition": "outside",
         "type": "bar",
         "x": [
          3
         ],
         "xaxis": "x",
         "y": [
          "MDX"
         ],
         "yaxis": "y"
        },
        {
         "alignmentgroup": "True",
         "hovertemplate": "Linguagens=%{y}<br>Volume=%{x}<br>percent=%{text}<extra></extra>",
         "legendgroup": "SCSS",
         "marker": {
          "color": "#FF6692",
          "pattern": {
           "shape": ""
          }
         },
         "name": "SCSS",
         "offsetgroup": "SCSS",
         "orientation": "h",
         "showlegend": true,
         "text": [
          "0.34%"
         ],
         "textposition": "outside",
         "type": "bar",
         "x": [
          3
         ],
         "xaxis": "x",
         "y": [
          "SCSS"
         ],
         "yaxis": "y"
        },
        {
         "alignmentgroup": "True",
         "hovertemplate": "Linguagens=%{y}<br>Volume=%{x}<br>percent=%{text}<extra></extra>",
         "legendgroup": "Haskell",
         "marker": {
          "color": "#B6E880",
          "pattern": {
           "shape": ""
          }
         },
         "name": "Haskell",
         "offsetgroup": "Haskell",
         "orientation": "h",
         "showlegend": true,
         "text": [
          "0.23%"
         ],
         "textposition": "outside",
         "type": "bar",
         "x": [
          2
         ],
         "xaxis": "x",
         "y": [
          "Haskell"
         ],
         "yaxis": "y"
        },
        {
         "alignmentgroup": "True",
         "hovertemplate": "Linguagens=%{y}<br>Volume=%{x}<br>percent=%{text}<extra></extra>",
         "legendgroup": "Objective-C",
         "marker": {
          "color": "#FF97FF",
          "pattern": {
           "shape": ""
          }
         },
         "name": "Objective-C",
         "offsetgroup": "Objective-C",
         "orientation": "h",
         "showlegend": true,
         "text": [
          "0.23%"
         ],
         "textposition": "outside",
         "type": "bar",
         "x": [
          2
         ],
         "xaxis": "x",
         "y": [
          "Objective-C"
         ],
         "yaxis": "y"
        },
        {
         "alignmentgroup": "True",
         "hovertemplate": "Linguagens=%{y}<br>Volume=%{x}<br>percent=%{text}<extra></extra>",
         "legendgroup": "Dockerfile",
         "marker": {
          "color": "#FECB52",
          "pattern": {
           "shape": ""
          }
         },
         "name": "Dockerfile",
         "offsetgroup": "Dockerfile",
         "orientation": "h",
         "showlegend": true,
         "text": [
          "0.23%"
         ],
         "textposition": "outside",
         "type": "bar",
         "x": [
          2
         ],
         "xaxis": "x",
         "y": [
          "Dockerfile"
         ],
         "yaxis": "y"
        },
        {
         "alignmentgroup": "True",
         "hovertemplate": "Linguagens=%{y}<br>Volume=%{x}<br>percent=%{text}<extra></extra>",
         "legendgroup": "Zig",
         "marker": {
          "color": "#636efa",
          "pattern": {
           "shape": ""
          }
         },
         "name": "Zig",
         "offsetgroup": "Zig",
         "orientation": "h",
         "showlegend": true,
         "text": [
          "0.23%"
         ],
         "textposition": "outside",
         "type": "bar",
         "x": [
          2
         ],
         "xaxis": "x",
         "y": [
          "Zig"
         ],
         "yaxis": "y"
        },
        {
         "alignmentgroup": "True",
         "hovertemplate": "Linguagens=%{y}<br>Volume=%{x}<br>percent=%{text}<extra></extra>",
         "legendgroup": "Scala",
         "marker": {
          "color": "#EF553B",
          "pattern": {
           "shape": ""
          }
         },
         "name": "Scala",
         "offsetgroup": "Scala",
         "orientation": "h",
         "showlegend": true,
         "text": [
          "0.23%"
         ],
         "textposition": "outside",
         "type": "bar",
         "x": [
          2
         ],
         "xaxis": "x",
         "y": [
          "Scala"
         ],
         "yaxis": "y"
        },
        {
         "alignmentgroup": "True",
         "hovertemplate": "Linguagens=%{y}<br>Volume=%{x}<br>percent=%{text}<extra></extra>",
         "legendgroup": "Lua",
         "marker": {
          "color": "#00cc96",
          "pattern": {
           "shape": ""
          }
         },
         "name": "Lua",
         "offsetgroup": "Lua",
         "orientation": "h",
         "showlegend": true,
         "text": [
          "0.23%"
         ],
         "textposition": "outside",
         "type": "bar",
         "x": [
          2
         ],
         "xaxis": "x",
         "y": [
          "Lua"
         ],
         "yaxis": "y"
        },
        {
         "alignmentgroup": "True",
         "hovertemplate": "Linguagens=%{y}<br>Volume=%{x}<br>percent=%{text}<extra></extra>",
         "legendgroup": "Svelte",
         "marker": {
          "color": "#ab63fa",
          "pattern": {
           "shape": ""
          }
         },
         "name": "Svelte",
         "offsetgroup": "Svelte",
         "orientation": "h",
         "showlegend": true,
         "text": [
          "0.11%"
         ],
         "textposition": "outside",
         "type": "bar",
         "x": [
          1
         ],
         "xaxis": "x",
         "y": [
          "Svelte"
         ],
         "yaxis": "y"
        },
        {
         "alignmentgroup": "True",
         "hovertemplate": "Linguagens=%{y}<br>Volume=%{x}<br>percent=%{text}<extra></extra>",
         "legendgroup": "Emacs Lisp",
         "marker": {
          "color": "#FFA15A",
          "pattern": {
           "shape": ""
          }
         },
         "name": "Emacs Lisp",
         "offsetgroup": "Emacs Lisp",
         "orientation": "h",
         "showlegend": true,
         "text": [
          "0.11%"
         ],
         "textposition": "outside",
         "type": "bar",
         "x": [
          1
         ],
         "xaxis": "x",
         "y": [
          "Emacs Lisp"
         ],
         "yaxis": "y"
        },
        {
         "alignmentgroup": "True",
         "hovertemplate": "Linguagens=%{y}<br>Volume=%{x}<br>percent=%{text}<extra></extra>",
         "legendgroup": "Elixir",
         "marker": {
          "color": "#19d3f3",
          "pattern": {
           "shape": ""
          }
         },
         "name": "Elixir",
         "offsetgroup": "Elixir",
         "orientation": "h",
         "showlegend": true,
         "text": [
          "0.11%"
         ],
         "textposition": "outside",
         "type": "bar",
         "x": [
          1
         ],
         "xaxis": "x",
         "y": [
          "Elixir"
         ],
         "yaxis": "y"
        },
        {
         "alignmentgroup": "True",
         "hovertemplate": "Linguagens=%{y}<br>Volume=%{x}<br>percent=%{text}<extra></extra>",
         "legendgroup": "OCaml",
         "marker": {
          "color": "#FF6692",
          "pattern": {
           "shape": ""
          }
         },
         "name": "OCaml",
         "offsetgroup": "OCaml",
         "orientation": "h",
         "showlegend": true,
         "text": [
          "0.11%"
         ],
         "textposition": "outside",
         "type": "bar",
         "x": [
          1
         ],
         "xaxis": "x",
         "y": [
          "OCaml"
         ],
         "yaxis": "y"
        },
        {
         "alignmentgroup": "True",
         "hovertemplate": "Linguagens=%{y}<br>Volume=%{x}<br>percent=%{text}<extra></extra>",
         "legendgroup": "Jinja",
         "marker": {
          "color": "#B6E880",
          "pattern": {
           "shape": ""
          }
         },
         "name": "Jinja",
         "offsetgroup": "Jinja",
         "orientation": "h",
         "showlegend": true,
         "text": [
          "0.11%"
         ],
         "textposition": "outside",
         "type": "bar",
         "x": [
          1
         ],
         "xaxis": "x",
         "y": [
          "Jinja"
         ],
         "yaxis": "y"
        },
        {
         "alignmentgroup": "True",
         "hovertemplate": "Linguagens=%{y}<br>Volume=%{x}<br>percent=%{text}<extra></extra>",
         "legendgroup": "Assembly",
         "marker": {
          "color": "#FF97FF",
          "pattern": {
           "shape": ""
          }
         },
         "name": "Assembly",
         "offsetgroup": "Assembly",
         "orientation": "h",
         "showlegend": true,
         "text": [
          "0.11%"
         ],
         "textposition": "outside",
         "type": "bar",
         "x": [
          1
         ],
         "xaxis": "x",
         "y": [
          "Assembly"
         ],
         "yaxis": "y"
        },
        {
         "alignmentgroup": "True",
         "hovertemplate": "Linguagens=%{y}<br>Volume=%{x}<br>percent=%{text}<extra></extra>",
         "legendgroup": "Roff",
         "marker": {
          "color": "#FECB52",
          "pattern": {
           "shape": ""
          }
         },
         "name": "Roff",
         "offsetgroup": "Roff",
         "orientation": "h",
         "showlegend": true,
         "text": [
          "0.11%"
         ],
         "textposition": "outside",
         "type": "bar",
         "x": [
          1
         ],
         "xaxis": "x",
         "y": [
          "Roff"
         ],
         "yaxis": "y"
        },
        {
         "alignmentgroup": "True",
         "hovertemplate": "Linguagens=%{y}<br>Volume=%{x}<br>percent=%{text}<extra></extra>",
         "legendgroup": "V",
         "marker": {
          "color": "#636efa",
          "pattern": {
           "shape": ""
          }
         },
         "name": "V",
         "offsetgroup": "V",
         "orientation": "h",
         "showlegend": true,
         "text": [
          "0.11%"
         ],
         "textposition": "outside",
         "type": "bar",
         "x": [
          1
         ],
         "xaxis": "x",
         "y": [
          "V"
         ],
         "yaxis": "y"
        },
        {
         "alignmentgroup": "True",
         "hovertemplate": "Linguagens=%{y}<br>Volume=%{x}<br>percent=%{text}<extra></extra>",
         "legendgroup": "Astro",
         "marker": {
          "color": "#EF553B",
          "pattern": {
           "shape": ""
          }
         },
         "name": "Astro",
         "offsetgroup": "Astro",
         "orientation": "h",
         "showlegend": true,
         "text": [
          "0.11%"
         ],
         "textposition": "outside",
         "type": "bar",
         "x": [
          1
         ],
         "xaxis": "x",
         "y": [
          "Astro"
         ],
         "yaxis": "y"
        },
        {
         "alignmentgroup": "True",
         "hovertemplate": "Linguagens=%{y}<br>Volume=%{x}<br>percent=%{text}<extra></extra>",
         "legendgroup": "Julia",
         "marker": {
          "color": "#00cc96",
          "pattern": {
           "shape": ""
          }
         },
         "name": "Julia",
         "offsetgroup": "Julia",
         "orientation": "h",
         "showlegend": true,
         "text": [
          "0.11%"
         ],
         "textposition": "outside",
         "type": "bar",
         "x": [
          1
         ],
         "xaxis": "x",
         "y": [
          "Julia"
         ],
         "yaxis": "y"
        },
        {
         "alignmentgroup": "True",
         "hovertemplate": "Linguagens=%{y}<br>Volume=%{x}<br>percent=%{text}<extra></extra>",
         "legendgroup": "Nunjucks",
         "marker": {
          "color": "#ab63fa",
          "pattern": {
           "shape": ""
          }
         },
         "name": "Nunjucks",
         "offsetgroup": "Nunjucks",
         "orientation": "h",
         "showlegend": true,
         "text": [
          "0.11%"
         ],
         "textposition": "outside",
         "type": "bar",
         "x": [
          1
         ],
         "xaxis": "x",
         "y": [
          "Nunjucks"
         ],
         "yaxis": "y"
        },
        {
         "alignmentgroup": "True",
         "hovertemplate": "Linguagens=%{y}<br>Volume=%{x}<br>percent=%{text}<extra></extra>",
         "legendgroup": "AsciiDoc",
         "marker": {
          "color": "#FFA15A",
          "pattern": {
           "shape": ""
          }
         },
         "name": "AsciiDoc",
         "offsetgroup": "AsciiDoc",
         "orientation": "h",
         "showlegend": true,
         "text": [
          "0.11%"
         ],
         "textposition": "outside",
         "type": "bar",
         "x": [
          1
         ],
         "xaxis": "x",
         "y": [
          "AsciiDoc"
         ],
         "yaxis": "y"
        }
       ],
       "layout": {
        "barmode": "relative",
        "font": {
         "size": 13
        },
        "height": 800,
        "legend": {
         "title": {
          "text": "Linguagens"
         },
         "tracegroupgap": 0
        },
        "template": {
         "data": {
          "bar": [
           {
            "error_x": {
             "color": "#2a3f5f"
            },
            "error_y": {
             "color": "#2a3f5f"
            },
            "marker": {
             "line": {
              "color": "#E5ECF6",
              "width": 0.5
             },
             "pattern": {
              "fillmode": "overlay",
              "size": 10,
              "solidity": 0.2
             }
            },
            "type": "bar"
           }
          ],
          "barpolar": [
           {
            "marker": {
             "line": {
              "color": "#E5ECF6",
              "width": 0.5
             },
             "pattern": {
              "fillmode": "overlay",
              "size": 10,
              "solidity": 0.2
             }
            },
            "type": "barpolar"
           }
          ],
          "carpet": [
           {
            "aaxis": {
             "endlinecolor": "#2a3f5f",
             "gridcolor": "white",
             "linecolor": "white",
             "minorgridcolor": "white",
             "startlinecolor": "#2a3f5f"
            },
            "baxis": {
             "endlinecolor": "#2a3f5f",
             "gridcolor": "white",
             "linecolor": "white",
             "minorgridcolor": "white",
             "startlinecolor": "#2a3f5f"
            },
            "type": "carpet"
           }
          ],
          "choropleth": [
           {
            "colorbar": {
             "outlinewidth": 0,
             "ticks": ""
            },
            "type": "choropleth"
           }
          ],
          "contour": [
           {
            "colorbar": {
             "outlinewidth": 0,
             "ticks": ""
            },
            "colorscale": [
             [
              0,
              "#0d0887"
             ],
             [
              0.1111111111111111,
              "#46039f"
             ],
             [
              0.2222222222222222,
              "#7201a8"
             ],
             [
              0.3333333333333333,
              "#9c179e"
             ],
             [
              0.4444444444444444,
              "#bd3786"
             ],
             [
              0.5555555555555556,
              "#d8576b"
             ],
             [
              0.6666666666666666,
              "#ed7953"
             ],
             [
              0.7777777777777778,
              "#fb9f3a"
             ],
             [
              0.8888888888888888,
              "#fdca26"
             ],
             [
              1,
              "#f0f921"
             ]
            ],
            "type": "contour"
           }
          ],
          "contourcarpet": [
           {
            "colorbar": {
             "outlinewidth": 0,
             "ticks": ""
            },
            "type": "contourcarpet"
           }
          ],
          "heatmap": [
           {
            "colorbar": {
             "outlinewidth": 0,
             "ticks": ""
            },
            "colorscale": [
             [
              0,
              "#0d0887"
             ],
             [
              0.1111111111111111,
              "#46039f"
             ],
             [
              0.2222222222222222,
              "#7201a8"
             ],
             [
              0.3333333333333333,
              "#9c179e"
             ],
             [
              0.4444444444444444,
              "#bd3786"
             ],
             [
              0.5555555555555556,
              "#d8576b"
             ],
             [
              0.6666666666666666,
              "#ed7953"
             ],
             [
              0.7777777777777778,
              "#fb9f3a"
             ],
             [
              0.8888888888888888,
              "#fdca26"
             ],
             [
              1,
              "#f0f921"
             ]
            ],
            "type": "heatmap"
           }
          ],
          "heatmapgl": [
           {
            "colorbar": {
             "outlinewidth": 0,
             "ticks": ""
            },
            "colorscale": [
             [
              0,
              "#0d0887"
             ],
             [
              0.1111111111111111,
              "#46039f"
             ],
             [
              0.2222222222222222,
              "#7201a8"
             ],
             [
              0.3333333333333333,
              "#9c179e"
             ],
             [
              0.4444444444444444,
              "#bd3786"
             ],
             [
              0.5555555555555556,
              "#d8576b"
             ],
             [
              0.6666666666666666,
              "#ed7953"
             ],
             [
              0.7777777777777778,
              "#fb9f3a"
             ],
             [
              0.8888888888888888,
              "#fdca26"
             ],
             [
              1,
              "#f0f921"
             ]
            ],
            "type": "heatmapgl"
           }
          ],
          "histogram": [
           {
            "marker": {
             "pattern": {
              "fillmode": "overlay",
              "size": 10,
              "solidity": 0.2
             }
            },
            "type": "histogram"
           }
          ],
          "histogram2d": [
           {
            "colorbar": {
             "outlinewidth": 0,
             "ticks": ""
            },
            "colorscale": [
             [
              0,
              "#0d0887"
             ],
             [
              0.1111111111111111,
              "#46039f"
             ],
             [
              0.2222222222222222,
              "#7201a8"
             ],
             [
              0.3333333333333333,
              "#9c179e"
             ],
             [
              0.4444444444444444,
              "#bd3786"
             ],
             [
              0.5555555555555556,
              "#d8576b"
             ],
             [
              0.6666666666666666,
              "#ed7953"
             ],
             [
              0.7777777777777778,
              "#fb9f3a"
             ],
             [
              0.8888888888888888,
              "#fdca26"
             ],
             [
              1,
              "#f0f921"
             ]
            ],
            "type": "histogram2d"
           }
          ],
          "histogram2dcontour": [
           {
            "colorbar": {
             "outlinewidth": 0,
             "ticks": ""
            },
            "colorscale": [
             [
              0,
              "#0d0887"
             ],
             [
              0.1111111111111111,
              "#46039f"
             ],
             [
              0.2222222222222222,
              "#7201a8"
             ],
             [
              0.3333333333333333,
              "#9c179e"
             ],
             [
              0.4444444444444444,
              "#bd3786"
             ],
             [
              0.5555555555555556,
              "#d8576b"
             ],
             [
              0.6666666666666666,
              "#ed7953"
             ],
             [
              0.7777777777777778,
              "#fb9f3a"
             ],
             [
              0.8888888888888888,
              "#fdca26"
             ],
             [
              1,
              "#f0f921"
             ]
            ],
            "type": "histogram2dcontour"
           }
          ],
          "mesh3d": [
           {
            "colorbar": {
             "outlinewidth": 0,
             "ticks": ""
            },
            "type": "mesh3d"
           }
          ],
          "parcoords": [
           {
            "line": {
             "colorbar": {
              "outlinewidth": 0,
              "ticks": ""
             }
            },
            "type": "parcoords"
           }
          ],
          "pie": [
           {
            "automargin": true,
            "type": "pie"
           }
          ],
          "scatter": [
           {
            "fillpattern": {
             "fillmode": "overlay",
             "size": 10,
             "solidity": 0.2
            },
            "type": "scatter"
           }
          ],
          "scatter3d": [
           {
            "line": {
             "colorbar": {
              "outlinewidth": 0,
              "ticks": ""
             }
            },
            "marker": {
             "colorbar": {
              "outlinewidth": 0,
              "ticks": ""
             }
            },
            "type": "scatter3d"
           }
          ],
          "scattercarpet": [
           {
            "marker": {
             "colorbar": {
              "outlinewidth": 0,
              "ticks": ""
             }
            },
            "type": "scattercarpet"
           }
          ],
          "scattergeo": [
           {
            "marker": {
             "colorbar": {
              "outlinewidth": 0,
              "ticks": ""
             }
            },
            "type": "scattergeo"
           }
          ],
          "scattergl": [
           {
            "marker": {
             "colorbar": {
              "outlinewidth": 0,
              "ticks": ""
             }
            },
            "type": "scattergl"
           }
          ],
          "scattermapbox": [
           {
            "marker": {
             "colorbar": {
              "outlinewidth": 0,
              "ticks": ""
             }
            },
            "type": "scattermapbox"
           }
          ],
          "scatterpolar": [
           {
            "marker": {
             "colorbar": {
              "outlinewidth": 0,
              "ticks": ""
             }
            },
            "type": "scatterpolar"
           }
          ],
          "scatterpolargl": [
           {
            "marker": {
             "colorbar": {
              "outlinewidth": 0,
              "ticks": ""
             }
            },
            "type": "scatterpolargl"
           }
          ],
          "scatterternary": [
           {
            "marker": {
             "colorbar": {
              "outlinewidth": 0,
              "ticks": ""
             }
            },
            "type": "scatterternary"
           }
          ],
          "surface": [
           {
            "colorbar": {
             "outlinewidth": 0,
             "ticks": ""
            },
            "colorscale": [
             [
              0,
              "#0d0887"
             ],
             [
              0.1111111111111111,
              "#46039f"
             ],
             [
              0.2222222222222222,
              "#7201a8"
             ],
             [
              0.3333333333333333,
              "#9c179e"
             ],
             [
              0.4444444444444444,
              "#bd3786"
             ],
             [
              0.5555555555555556,
              "#d8576b"
             ],
             [
              0.6666666666666666,
              "#ed7953"
             ],
             [
              0.7777777777777778,
              "#fb9f3a"
             ],
             [
              0.8888888888888888,
              "#fdca26"
             ],
             [
              1,
              "#f0f921"
             ]
            ],
            "type": "surface"
           }
          ],
          "table": [
           {
            "cells": {
             "fill": {
              "color": "#EBF0F8"
             },
             "line": {
              "color": "white"
             }
            },
            "header": {
             "fill": {
              "color": "#C8D4E3"
             },
             "line": {
              "color": "white"
             }
            },
            "type": "table"
           }
          ]
         },
         "layout": {
          "annotationdefaults": {
           "arrowcolor": "#2a3f5f",
           "arrowhead": 0,
           "arrowwidth": 1
          },
          "autotypenumbers": "strict",
          "coloraxis": {
           "colorbar": {
            "outlinewidth": 0,
            "ticks": ""
           }
          },
          "colorscale": {
           "diverging": [
            [
             0,
             "#8e0152"
            ],
            [
             0.1,
             "#c51b7d"
            ],
            [
             0.2,
             "#de77ae"
            ],
            [
             0.3,
             "#f1b6da"
            ],
            [
             0.4,
             "#fde0ef"
            ],
            [
             0.5,
             "#f7f7f7"
            ],
            [
             0.6,
             "#e6f5d0"
            ],
            [
             0.7,
             "#b8e186"
            ],
            [
             0.8,
             "#7fbc41"
            ],
            [
             0.9,
             "#4d9221"
            ],
            [
             1,
             "#276419"
            ]
           ],
           "sequential": [
            [
             0,
             "#0d0887"
            ],
            [
             0.1111111111111111,
             "#46039f"
            ],
            [
             0.2222222222222222,
             "#7201a8"
            ],
            [
             0.3333333333333333,
             "#9c179e"
            ],
            [
             0.4444444444444444,
             "#bd3786"
            ],
            [
             0.5555555555555556,
             "#d8576b"
            ],
            [
             0.6666666666666666,
             "#ed7953"
            ],
            [
             0.7777777777777778,
             "#fb9f3a"
            ],
            [
             0.8888888888888888,
             "#fdca26"
            ],
            [
             1,
             "#f0f921"
            ]
           ],
           "sequentialminus": [
            [
             0,
             "#0d0887"
            ],
            [
             0.1111111111111111,
             "#46039f"
            ],
            [
             0.2222222222222222,
             "#7201a8"
            ],
            [
             0.3333333333333333,
             "#9c179e"
            ],
            [
             0.4444444444444444,
             "#bd3786"
            ],
            [
             0.5555555555555556,
             "#d8576b"
            ],
            [
             0.6666666666666666,
             "#ed7953"
            ],
            [
             0.7777777777777778,
             "#fb9f3a"
            ],
            [
             0.8888888888888888,
             "#fdca26"
            ],
            [
             1,
             "#f0f921"
            ]
           ]
          },
          "colorway": [
           "#636efa",
           "#EF553B",
           "#00cc96",
           "#ab63fa",
           "#FFA15A",
           "#19d3f3",
           "#FF6692",
           "#B6E880",
           "#FF97FF",
           "#FECB52"
          ],
          "font": {
           "color": "#2a3f5f"
          },
          "geo": {
           "bgcolor": "white",
           "lakecolor": "white",
           "landcolor": "#E5ECF6",
           "showlakes": true,
           "showland": true,
           "subunitcolor": "white"
          },
          "hoverlabel": {
           "align": "left"
          },
          "hovermode": "closest",
          "mapbox": {
           "style": "light"
          },
          "paper_bgcolor": "white",
          "plot_bgcolor": "#E5ECF6",
          "polar": {
           "angularaxis": {
            "gridcolor": "white",
            "linecolor": "white",
            "ticks": ""
           },
           "bgcolor": "#E5ECF6",
           "radialaxis": {
            "gridcolor": "white",
            "linecolor": "white",
            "ticks": ""
           }
          },
          "scene": {
           "xaxis": {
            "backgroundcolor": "#E5ECF6",
            "gridcolor": "white",
            "gridwidth": 2,
            "linecolor": "white",
            "showbackground": true,
            "ticks": "",
            "zerolinecolor": "white"
           },
           "yaxis": {
            "backgroundcolor": "#E5ECF6",
            "gridcolor": "white",
            "gridwidth": 2,
            "linecolor": "white",
            "showbackground": true,
            "ticks": "",
            "zerolinecolor": "white"
           },
           "zaxis": {
            "backgroundcolor": "#E5ECF6",
            "gridcolor": "white",
            "gridwidth": 2,
            "linecolor": "white",
            "showbackground": true,
            "ticks": "",
            "zerolinecolor": "white"
           }
          },
          "shapedefaults": {
           "line": {
            "color": "#2a3f5f"
           }
          },
          "ternary": {
           "aaxis": {
            "gridcolor": "white",
            "linecolor": "white",
            "ticks": ""
           },
           "baxis": {
            "gridcolor": "white",
            "linecolor": "white",
            "ticks": ""
           },
           "bgcolor": "#E5ECF6",
           "caxis": {
            "gridcolor": "white",
            "linecolor": "white",
            "ticks": ""
           }
          },
          "title": {
           "x": 0.05
          },
          "xaxis": {
           "automargin": true,
           "gridcolor": "white",
           "linecolor": "white",
           "ticks": "",
           "title": {
            "standoff": 15
           },
           "zerolinecolor": "white",
           "zerolinewidth": 2
          },
          "yaxis": {
           "automargin": true,
           "gridcolor": "white",
           "linecolor": "white",
           "ticks": "",
           "title": {
            "standoff": 15
           },
           "zerolinecolor": "white",
           "zerolinewidth": 2
          }
         }
        },
        "title": {
         "font": {
          "size": 22
         },
         "text": "Linguagens x Volume"
        },
        "width": 1200,
        "xaxis": {
         "anchor": "y",
         "domain": [
          0,
          1
         ],
         "title": {
          "text": "Volume"
         }
        },
        "yaxis": {
         "anchor": "x",
         "categoryarray": [
          "AsciiDoc",
          "Nunjucks",
          "Julia",
          "Astro",
          "V",
          "Roff",
          "Assembly",
          "Jinja",
          "OCaml",
          "Elixir",
          "Emacs Lisp",
          "Svelte",
          "Lua",
          "Scala",
          "Zig",
          "Dockerfile",
          "Objective-C",
          "Haskell",
          "SCSS",
          "MDX",
          "Batchfile",
          "Makefile",
          "TeX",
          "Markdown",
          "Dart",
          "Clojure",
          "Vim Script",
          "CSS",
          "Vue",
          "PHP",
          "Kotlin",
          "Ruby",
          "C#",
          "Swift",
          "Jupyter Notebook",
          "HTML",
          "Rust",
          "Shell",
          "C",
          "C++",
          "Java",
          "Go",
          "TypeScript",
          "Python",
          "JavaScript"
         ],
         "categoryorder": "array",
         "domain": [
          0,
          1
         ],
         "title": {
          "text": "Linguagens"
         }
        }
       }
      }
     },
     "metadata": {},
     "output_type": "display_data"
    }
   ],
   "source": [
    "fig = px.bar(table, x='values', y='language', text='percent', color='language', title='Linguagens x Volume',\n",
    "             labels={\n",
    "                 'language': 'Linguagens',\n",
    "                 'values': 'Volume'\n",
    "             },\n",
    "             height=800, width=1200)\n",
    "fig.update_layout(font=dict(size=13), title_font_size=22)\n",
    "fig.update_traces(textposition=\"outside\")\n",
    "fig.write_image('../data/languages_bar.png')\n",
    "fig.show()\n"
   ]
  }
 ],
 "metadata": {
  "kernelspec": {
   "display_name": "Python 3",
   "language": "python",
   "name": "python3"
  },
  "language_info": {
   "codemirror_mode": {
    "name": "ipython",
    "version": 3
   },
   "file_extension": ".py",
   "mimetype": "text/x-python",
   "name": "python",
   "nbconvert_exporter": "python",
   "pygments_lexer": "ipython3",
   "version": "3.9.6"
  },
  "orig_nbformat": 4
 },
 "nbformat": 4,
 "nbformat_minor": 2
}

{
 "cells": [
  {
   "cell_type": "code",
   "execution_count": 1,
   "metadata": {},
   "outputs": [],
   "source": [
    "import pandas as pd\n",
    "import plotly.express as px"
   ]
  },
  {
   "cell_type": "code",
   "execution_count": 2,
   "metadata": {},
   "outputs": [
    {
     "data": {
      "text/html": [
       "<div>\n",
       "<style scoped>\n",
       "    .dataframe tbody tr th:only-of-type {\n",
       "        vertical-align: middle;\n",
       "    }\n",
       "\n",
       "    .dataframe tbody tr th {\n",
       "        vertical-align: top;\n",
       "    }\n",
       "\n",
       "    .dataframe thead th {\n",
       "        text-align: right;\n",
       "    }\n",
       "</style>\n",
       "<table border=\"1\" class=\"dataframe\">\n",
       "  <thead>\n",
       "    <tr style=\"text-align: right;\">\n",
       "      <th></th>\n",
       "      <th>id</th>\n",
       "      <th>nameWithOwner</th>\n",
       "      <th>url</th>\n",
       "      <th>createdAt</th>\n",
       "      <th>updatedAt</th>\n",
       "      <th>primaryLanguage</th>\n",
       "      <th>releases</th>\n",
       "      <th>pullRequests</th>\n",
       "      <th>issues</th>\n",
       "      <th>IssuesClosed</th>\n",
       "      <th>age</th>\n",
       "      <th>timeSinceLastUpdate</th>\n",
       "      <th>reasonIssuesIssuesClosed</th>\n",
       "    </tr>\n",
       "  </thead>\n",
       "  <tbody>\n",
       "    <tr>\n",
       "      <th>0</th>\n",
       "      <td>MDEwOlJlcG9zaXRvcnkyODQ1NzgyMw==</td>\n",
       "      <td>freeCodeCamp/freeCodeCamp</td>\n",
       "      <td>https://github.com/freeCodeCamp/freeCodeCamp</td>\n",
       "      <td>2014-12-24T17:49:19Z</td>\n",
       "      <td>2023-09-04T22:13:15Z</td>\n",
       "      <td>TypeScript</td>\n",
       "      <td>0</td>\n",
       "      <td>20471</td>\n",
       "      <td>17033</td>\n",
       "      <td>16832</td>\n",
       "      <td>8</td>\n",
       "      <td>0</td>\n",
       "      <td>0.988199</td>\n",
       "    </tr>\n",
       "    <tr>\n",
       "      <th>1</th>\n",
       "      <td>MDEwOlJlcG9zaXRvcnkxMzQ5MTg5NQ==</td>\n",
       "      <td>EbookFoundation/free-programming-books</td>\n",
       "      <td>https://github.com/EbookFoundation/free-progra...</td>\n",
       "      <td>2013-10-11T06:50:37Z</td>\n",
       "      <td>2023-09-04T21:44:17Z</td>\n",
       "      <td>NaN</td>\n",
       "      <td>0</td>\n",
       "      <td>5678</td>\n",
       "      <td>959</td>\n",
       "      <td>925</td>\n",
       "      <td>9</td>\n",
       "      <td>0</td>\n",
       "      <td>0.964546</td>\n",
       "    </tr>\n",
       "    <tr>\n",
       "      <th>2</th>\n",
       "      <td>MDEwOlJlcG9zaXRvcnkyMTczNzQ2NQ==</td>\n",
       "      <td>sindresorhus/awesome</td>\n",
       "      <td>https://github.com/sindresorhus/awesome</td>\n",
       "      <td>2014-07-11T13:42:37Z</td>\n",
       "      <td>2023-09-04T22:07:29Z</td>\n",
       "      <td>NaN</td>\n",
       "      <td>0</td>\n",
       "      <td>624</td>\n",
       "      <td>331</td>\n",
       "      <td>306</td>\n",
       "      <td>9</td>\n",
       "      <td>0</td>\n",
       "      <td>0.924471</td>\n",
       "    </tr>\n",
       "    <tr>\n",
       "      <th>3</th>\n",
       "      <td>MDEwOlJlcG9zaXRvcnkxNzc3MzY1MzM=</td>\n",
       "      <td>996icu/996.ICU</td>\n",
       "      <td>https://github.com/996icu/996.ICU</td>\n",
       "      <td>2019-03-26T07:31:14Z</td>\n",
       "      <td>2023-09-04T19:38:47Z</td>\n",
       "      <td>NaN</td>\n",
       "      <td>0</td>\n",
       "      <td>1063</td>\n",
       "      <td>0</td>\n",
       "      <td>0</td>\n",
       "      <td>4</td>\n",
       "      <td>0</td>\n",
       "      <td>0.000000</td>\n",
       "    </tr>\n",
       "    <tr>\n",
       "      <th>4</th>\n",
       "      <td>MDEwOlJlcG9zaXRvcnk2MDQ5MzEwMQ==</td>\n",
       "      <td>jwasham/coding-interview-university</td>\n",
       "      <td>https://github.com/jwasham/coding-interview-un...</td>\n",
       "      <td>2016-06-06T02:34:12Z</td>\n",
       "      <td>2023-09-04T21:45:38Z</td>\n",
       "      <td>NaN</td>\n",
       "      <td>0</td>\n",
       "      <td>372</td>\n",
       "      <td>402</td>\n",
       "      <td>358</td>\n",
       "      <td>7</td>\n",
       "      <td>0</td>\n",
       "      <td>0.890547</td>\n",
       "    </tr>\n",
       "    <tr>\n",
       "      <th>...</th>\n",
       "      <td>...</td>\n",
       "      <td>...</td>\n",
       "      <td>...</td>\n",
       "      <td>...</td>\n",
       "      <td>...</td>\n",
       "      <td>...</td>\n",
       "      <td>...</td>\n",
       "      <td>...</td>\n",
       "      <td>...</td>\n",
       "      <td>...</td>\n",
       "      <td>...</td>\n",
       "      <td>...</td>\n",
       "      <td>...</td>\n",
       "    </tr>\n",
       "    <tr>\n",
       "      <th>995</th>\n",
       "      <td>MDEwOlJlcG9zaXRvcnk3NDY5Nzk2Mw==</td>\n",
       "      <td>HeroTransitions/Hero</td>\n",
       "      <td>https://github.com/HeroTransitions/Hero</td>\n",
       "      <td>2016-11-24T18:49:37Z</td>\n",
       "      <td>2023-09-04T13:34:24Z</td>\n",
       "      <td>Swift</td>\n",
       "      <td>38</td>\n",
       "      <td>117</td>\n",
       "      <td>602</td>\n",
       "      <td>567</td>\n",
       "      <td>6</td>\n",
       "      <td>0</td>\n",
       "      <td>0.941860</td>\n",
       "    </tr>\n",
       "    <tr>\n",
       "      <th>996</th>\n",
       "      <td>MDEwOlJlcG9zaXRvcnkyNjMzNzMyMg==</td>\n",
       "      <td>rancher/rancher</td>\n",
       "      <td>https://github.com/rancher/rancher</td>\n",
       "      <td>2014-11-07T20:49:31Z</td>\n",
       "      <td>2023-09-04T16:45:30Z</td>\n",
       "      <td>Go</td>\n",
       "      <td>980</td>\n",
       "      <td>8482</td>\n",
       "      <td>31740</td>\n",
       "      <td>29226</td>\n",
       "      <td>8</td>\n",
       "      <td>0</td>\n",
       "      <td>0.920794</td>\n",
       "    </tr>\n",
       "    <tr>\n",
       "      <th>997</th>\n",
       "      <td>MDEwOlJlcG9zaXRvcnkyODcyMzY1OQ==</td>\n",
       "      <td>ChristosChristofidis/awesome-deep-learning</td>\n",
       "      <td>https://github.com/ChristosChristofidis/awesom...</td>\n",
       "      <td>2015-01-02T19:28:35Z</td>\n",
       "      <td>2023-09-04T16:17:59Z</td>\n",
       "      <td>NaN</td>\n",
       "      <td>0</td>\n",
       "      <td>165</td>\n",
       "      <td>20</td>\n",
       "      <td>14</td>\n",
       "      <td>8</td>\n",
       "      <td>0</td>\n",
       "      <td>0.700000</td>\n",
       "    </tr>\n",
       "    <tr>\n",
       "      <th>998</th>\n",
       "      <td>MDEwOlJlcG9zaXRvcnk3NTgyMTQzMg==</td>\n",
       "      <td>llvm/llvm-project</td>\n",
       "      <td>https://github.com/llvm/llvm-project</td>\n",
       "      <td>2016-12-07T09:39:33Z</td>\n",
       "      <td>2023-09-04T21:06:40Z</td>\n",
       "      <td>NaN</td>\n",
       "      <td>89</td>\n",
       "      <td>32</td>\n",
       "      <td>64113</td>\n",
       "      <td>44745</td>\n",
       "      <td>6</td>\n",
       "      <td>0</td>\n",
       "      <td>0.697908</td>\n",
       "    </tr>\n",
       "    <tr>\n",
       "      <th>999</th>\n",
       "      <td>MDEwOlJlcG9zaXRvcnkxNTcxNjY3NTA=</td>\n",
       "      <td>lensapp/lens</td>\n",
       "      <td>https://github.com/lensapp/lens</td>\n",
       "      <td>2018-11-12T06:28:56Z</td>\n",
       "      <td>2023-09-04T22:06:31Z</td>\n",
       "      <td>TypeScript</td>\n",
       "      <td>294</td>\n",
       "      <td>3905</td>\n",
       "      <td>3352</td>\n",
       "      <td>2413</td>\n",
       "      <td>4</td>\n",
       "      <td>0</td>\n",
       "      <td>0.719869</td>\n",
       "    </tr>\n",
       "  </tbody>\n",
       "</table>\n",
       "<p>1000 rows × 13 columns</p>\n",
       "</div>"
      ],
      "text/plain": [
       "                                   id  \\\n",
       "0    MDEwOlJlcG9zaXRvcnkyODQ1NzgyMw==   \n",
       "1    MDEwOlJlcG9zaXRvcnkxMzQ5MTg5NQ==   \n",
       "2    MDEwOlJlcG9zaXRvcnkyMTczNzQ2NQ==   \n",
       "3    MDEwOlJlcG9zaXRvcnkxNzc3MzY1MzM=   \n",
       "4    MDEwOlJlcG9zaXRvcnk2MDQ5MzEwMQ==   \n",
       "..                                ...   \n",
       "995  MDEwOlJlcG9zaXRvcnk3NDY5Nzk2Mw==   \n",
       "996  MDEwOlJlcG9zaXRvcnkyNjMzNzMyMg==   \n",
       "997  MDEwOlJlcG9zaXRvcnkyODcyMzY1OQ==   \n",
       "998  MDEwOlJlcG9zaXRvcnk3NTgyMTQzMg==   \n",
       "999  MDEwOlJlcG9zaXRvcnkxNTcxNjY3NTA=   \n",
       "\n",
       "                                  nameWithOwner  \\\n",
       "0                     freeCodeCamp/freeCodeCamp   \n",
       "1        EbookFoundation/free-programming-books   \n",
       "2                          sindresorhus/awesome   \n",
       "3                                996icu/996.ICU   \n",
       "4           jwasham/coding-interview-university   \n",
       "..                                          ...   \n",
       "995                        HeroTransitions/Hero   \n",
       "996                             rancher/rancher   \n",
       "997  ChristosChristofidis/awesome-deep-learning   \n",
       "998                           llvm/llvm-project   \n",
       "999                                lensapp/lens   \n",
       "\n",
       "                                                   url             createdAt  \\\n",
       "0         https://github.com/freeCodeCamp/freeCodeCamp  2014-12-24T17:49:19Z   \n",
       "1    https://github.com/EbookFoundation/free-progra...  2013-10-11T06:50:37Z   \n",
       "2              https://github.com/sindresorhus/awesome  2014-07-11T13:42:37Z   \n",
       "3                    https://github.com/996icu/996.ICU  2019-03-26T07:31:14Z   \n",
       "4    https://github.com/jwasham/coding-interview-un...  2016-06-06T02:34:12Z   \n",
       "..                                                 ...                   ...   \n",
       "995            https://github.com/HeroTransitions/Hero  2016-11-24T18:49:37Z   \n",
       "996                 https://github.com/rancher/rancher  2014-11-07T20:49:31Z   \n",
       "997  https://github.com/ChristosChristofidis/awesom...  2015-01-02T19:28:35Z   \n",
       "998               https://github.com/llvm/llvm-project  2016-12-07T09:39:33Z   \n",
       "999                    https://github.com/lensapp/lens  2018-11-12T06:28:56Z   \n",
       "\n",
       "                updatedAt primaryLanguage  releases  pullRequests  issues  \\\n",
       "0    2023-09-04T22:13:15Z      TypeScript         0         20471   17033   \n",
       "1    2023-09-04T21:44:17Z             NaN         0          5678     959   \n",
       "2    2023-09-04T22:07:29Z             NaN         0           624     331   \n",
       "3    2023-09-04T19:38:47Z             NaN         0          1063       0   \n",
       "4    2023-09-04T21:45:38Z             NaN         0           372     402   \n",
       "..                    ...             ...       ...           ...     ...   \n",
       "995  2023-09-04T13:34:24Z           Swift        38           117     602   \n",
       "996  2023-09-04T16:45:30Z              Go       980          8482   31740   \n",
       "997  2023-09-04T16:17:59Z             NaN         0           165      20   \n",
       "998  2023-09-04T21:06:40Z             NaN        89            32   64113   \n",
       "999  2023-09-04T22:06:31Z      TypeScript       294          3905    3352   \n",
       "\n",
       "     IssuesClosed  age  timeSinceLastUpdate  reasonIssuesIssuesClosed  \n",
       "0           16832    8                    0                  0.988199  \n",
       "1             925    9                    0                  0.964546  \n",
       "2             306    9                    0                  0.924471  \n",
       "3               0    4                    0                  0.000000  \n",
       "4             358    7                    0                  0.890547  \n",
       "..            ...  ...                  ...                       ...  \n",
       "995           567    6                    0                  0.941860  \n",
       "996         29226    8                    0                  0.920794  \n",
       "997            14    8                    0                  0.700000  \n",
       "998         44745    6                    0                  0.697908  \n",
       "999          2413    4                    0                  0.719869  \n",
       "\n",
       "[1000 rows x 13 columns]"
      ]
     },
     "execution_count": 2,
     "metadata": {},
     "output_type": "execute_result"
    }
   ],
   "source": [
    "df = pd.read_csv('../data/lab_1.main_data.csv')\n",
    "df"
   ]
  },
  {
   "cell_type": "code",
   "execution_count": 3,
   "metadata": {},
   "outputs": [],
   "source": [
    "# def format_date(date):\n",
    "#     return date.replace('T', ' ').replace('Z', '')\n"
   ]
  },
  {
   "cell_type": "code",
   "execution_count": 4,
   "metadata": {},
   "outputs": [],
   "source": [
    "# def format_count(str):\n",
    "#     return str.replace(\"{'totalCount': \", '').replace('}', '')\n"
   ]
  },
  {
   "cell_type": "code",
   "execution_count": 5,
   "metadata": {},
   "outputs": [],
   "source": [
    "# df = pd.read_csv('data.csv')\n",
    "\n",
    "# lst = ['createdAt', 'updatedAt']\n",
    "# for i in lst:\n",
    "#     df[i] = pd.to_datetime(df[i].apply(format_date))\n",
    "\n",
    "\n",
    "# lst = ['releases', 'pullRequests', 'issues', 'IssuesClosed']\n",
    "# for i in lst:\n",
    "#     df[i] = df[i].apply(format_count).astype('int')\n",
    "\n",
    "# df['primaryLanguage'] = df['primaryLanguage'].fillna('-')\n",
    "\n",
    "# df\n"
   ]
  },
  {
   "cell_type": "code",
   "execution_count": 6,
   "metadata": {},
   "outputs": [
    {
     "data": {
      "text/html": [
       "<div>\n",
       "<style scoped>\n",
       "    .dataframe tbody tr th:only-of-type {\n",
       "        vertical-align: middle;\n",
       "    }\n",
       "\n",
       "    .dataframe tbody tr th {\n",
       "        vertical-align: top;\n",
       "    }\n",
       "\n",
       "    .dataframe thead th {\n",
       "        text-align: right;\n",
       "    }\n",
       "</style>\n",
       "<table border=\"1\" class=\"dataframe\">\n",
       "  <thead>\n",
       "    <tr style=\"text-align: right;\">\n",
       "      <th></th>\n",
       "      <th>id</th>\n",
       "      <th>nameWithOwner</th>\n",
       "      <th>url</th>\n",
       "      <th>createdAt</th>\n",
       "      <th>updatedAt</th>\n",
       "      <th>primaryLanguage</th>\n",
       "      <th>releases</th>\n",
       "      <th>pullRequests</th>\n",
       "      <th>issues</th>\n",
       "      <th>IssuesClosed</th>\n",
       "      <th>age</th>\n",
       "      <th>timeSinceLastUpdate</th>\n",
       "      <th>reasonIssuesIssuesClosed</th>\n",
       "    </tr>\n",
       "  </thead>\n",
       "  <tbody>\n",
       "    <tr>\n",
       "      <th>0</th>\n",
       "      <td>MDEwOlJlcG9zaXRvcnkyODQ1NzgyMw==</td>\n",
       "      <td>freeCodeCamp/freeCodeCamp</td>\n",
       "      <td>https://github.com/freeCodeCamp/freeCodeCamp</td>\n",
       "      <td>2014-12-24T17:49:19Z</td>\n",
       "      <td>2023-09-04T22:13:15Z</td>\n",
       "      <td>TypeScript</td>\n",
       "      <td>0</td>\n",
       "      <td>20471</td>\n",
       "      <td>17033</td>\n",
       "      <td>16832</td>\n",
       "      <td>8</td>\n",
       "      <td>0</td>\n",
       "      <td>0.988199</td>\n",
       "    </tr>\n",
       "    <tr>\n",
       "      <th>1</th>\n",
       "      <td>MDEwOlJlcG9zaXRvcnkxMzQ5MTg5NQ==</td>\n",
       "      <td>EbookFoundation/free-programming-books</td>\n",
       "      <td>https://github.com/EbookFoundation/free-progra...</td>\n",
       "      <td>2013-10-11T06:50:37Z</td>\n",
       "      <td>2023-09-04T21:44:17Z</td>\n",
       "      <td>NaN</td>\n",
       "      <td>0</td>\n",
       "      <td>5678</td>\n",
       "      <td>959</td>\n",
       "      <td>925</td>\n",
       "      <td>9</td>\n",
       "      <td>0</td>\n",
       "      <td>0.964546</td>\n",
       "    </tr>\n",
       "    <tr>\n",
       "      <th>2</th>\n",
       "      <td>MDEwOlJlcG9zaXRvcnkyMTczNzQ2NQ==</td>\n",
       "      <td>sindresorhus/awesome</td>\n",
       "      <td>https://github.com/sindresorhus/awesome</td>\n",
       "      <td>2014-07-11T13:42:37Z</td>\n",
       "      <td>2023-09-04T22:07:29Z</td>\n",
       "      <td>NaN</td>\n",
       "      <td>0</td>\n",
       "      <td>624</td>\n",
       "      <td>331</td>\n",
       "      <td>306</td>\n",
       "      <td>9</td>\n",
       "      <td>0</td>\n",
       "      <td>0.924471</td>\n",
       "    </tr>\n",
       "    <tr>\n",
       "      <th>3</th>\n",
       "      <td>MDEwOlJlcG9zaXRvcnkxNzc3MzY1MzM=</td>\n",
       "      <td>996icu/996.ICU</td>\n",
       "      <td>https://github.com/996icu/996.ICU</td>\n",
       "      <td>2019-03-26T07:31:14Z</td>\n",
       "      <td>2023-09-04T19:38:47Z</td>\n",
       "      <td>NaN</td>\n",
       "      <td>0</td>\n",
       "      <td>1063</td>\n",
       "      <td>0</td>\n",
       "      <td>0</td>\n",
       "      <td>4</td>\n",
       "      <td>0</td>\n",
       "      <td>0.000000</td>\n",
       "    </tr>\n",
       "    <tr>\n",
       "      <th>4</th>\n",
       "      <td>MDEwOlJlcG9zaXRvcnk2MDQ5MzEwMQ==</td>\n",
       "      <td>jwasham/coding-interview-university</td>\n",
       "      <td>https://github.com/jwasham/coding-interview-un...</td>\n",
       "      <td>2016-06-06T02:34:12Z</td>\n",
       "      <td>2023-09-04T21:45:38Z</td>\n",
       "      <td>NaN</td>\n",
       "      <td>0</td>\n",
       "      <td>372</td>\n",
       "      <td>402</td>\n",
       "      <td>358</td>\n",
       "      <td>7</td>\n",
       "      <td>0</td>\n",
       "      <td>0.890547</td>\n",
       "    </tr>\n",
       "    <tr>\n",
       "      <th>...</th>\n",
       "      <td>...</td>\n",
       "      <td>...</td>\n",
       "      <td>...</td>\n",
       "      <td>...</td>\n",
       "      <td>...</td>\n",
       "      <td>...</td>\n",
       "      <td>...</td>\n",
       "      <td>...</td>\n",
       "      <td>...</td>\n",
       "      <td>...</td>\n",
       "      <td>...</td>\n",
       "      <td>...</td>\n",
       "      <td>...</td>\n",
       "    </tr>\n",
       "    <tr>\n",
       "      <th>995</th>\n",
       "      <td>MDEwOlJlcG9zaXRvcnk3NDY5Nzk2Mw==</td>\n",
       "      <td>HeroTransitions/Hero</td>\n",
       "      <td>https://github.com/HeroTransitions/Hero</td>\n",
       "      <td>2016-11-24T18:49:37Z</td>\n",
       "      <td>2023-09-04T13:34:24Z</td>\n",
       "      <td>Swift</td>\n",
       "      <td>38</td>\n",
       "      <td>117</td>\n",
       "      <td>602</td>\n",
       "      <td>567</td>\n",
       "      <td>6</td>\n",
       "      <td>0</td>\n",
       "      <td>0.941860</td>\n",
       "    </tr>\n",
       "    <tr>\n",
       "      <th>996</th>\n",
       "      <td>MDEwOlJlcG9zaXRvcnkyNjMzNzMyMg==</td>\n",
       "      <td>rancher/rancher</td>\n",
       "      <td>https://github.com/rancher/rancher</td>\n",
       "      <td>2014-11-07T20:49:31Z</td>\n",
       "      <td>2023-09-04T16:45:30Z</td>\n",
       "      <td>Go</td>\n",
       "      <td>980</td>\n",
       "      <td>8482</td>\n",
       "      <td>31740</td>\n",
       "      <td>29226</td>\n",
       "      <td>8</td>\n",
       "      <td>0</td>\n",
       "      <td>0.920794</td>\n",
       "    </tr>\n",
       "    <tr>\n",
       "      <th>997</th>\n",
       "      <td>MDEwOlJlcG9zaXRvcnkyODcyMzY1OQ==</td>\n",
       "      <td>ChristosChristofidis/awesome-deep-learning</td>\n",
       "      <td>https://github.com/ChristosChristofidis/awesom...</td>\n",
       "      <td>2015-01-02T19:28:35Z</td>\n",
       "      <td>2023-09-04T16:17:59Z</td>\n",
       "      <td>NaN</td>\n",
       "      <td>0</td>\n",
       "      <td>165</td>\n",
       "      <td>20</td>\n",
       "      <td>14</td>\n",
       "      <td>8</td>\n",
       "      <td>0</td>\n",
       "      <td>0.700000</td>\n",
       "    </tr>\n",
       "    <tr>\n",
       "      <th>998</th>\n",
       "      <td>MDEwOlJlcG9zaXRvcnk3NTgyMTQzMg==</td>\n",
       "      <td>llvm/llvm-project</td>\n",
       "      <td>https://github.com/llvm/llvm-project</td>\n",
       "      <td>2016-12-07T09:39:33Z</td>\n",
       "      <td>2023-09-04T21:06:40Z</td>\n",
       "      <td>NaN</td>\n",
       "      <td>89</td>\n",
       "      <td>32</td>\n",
       "      <td>64113</td>\n",
       "      <td>44745</td>\n",
       "      <td>6</td>\n",
       "      <td>0</td>\n",
       "      <td>0.697908</td>\n",
       "    </tr>\n",
       "    <tr>\n",
       "      <th>999</th>\n",
       "      <td>MDEwOlJlcG9zaXRvcnkxNTcxNjY3NTA=</td>\n",
       "      <td>lensapp/lens</td>\n",
       "      <td>https://github.com/lensapp/lens</td>\n",
       "      <td>2018-11-12T06:28:56Z</td>\n",
       "      <td>2023-09-04T22:06:31Z</td>\n",
       "      <td>TypeScript</td>\n",
       "      <td>294</td>\n",
       "      <td>3905</td>\n",
       "      <td>3352</td>\n",
       "      <td>2413</td>\n",
       "      <td>4</td>\n",
       "      <td>0</td>\n",
       "      <td>0.719869</td>\n",
       "    </tr>\n",
       "  </tbody>\n",
       "</table>\n",
       "<p>1000 rows × 13 columns</p>\n",
       "</div>"
      ],
      "text/plain": [
       "                                   id  \\\n",
       "0    MDEwOlJlcG9zaXRvcnkyODQ1NzgyMw==   \n",
       "1    MDEwOlJlcG9zaXRvcnkxMzQ5MTg5NQ==   \n",
       "2    MDEwOlJlcG9zaXRvcnkyMTczNzQ2NQ==   \n",
       "3    MDEwOlJlcG9zaXRvcnkxNzc3MzY1MzM=   \n",
       "4    MDEwOlJlcG9zaXRvcnk2MDQ5MzEwMQ==   \n",
       "..                                ...   \n",
       "995  MDEwOlJlcG9zaXRvcnk3NDY5Nzk2Mw==   \n",
       "996  MDEwOlJlcG9zaXRvcnkyNjMzNzMyMg==   \n",
       "997  MDEwOlJlcG9zaXRvcnkyODcyMzY1OQ==   \n",
       "998  MDEwOlJlcG9zaXRvcnk3NTgyMTQzMg==   \n",
       "999  MDEwOlJlcG9zaXRvcnkxNTcxNjY3NTA=   \n",
       "\n",
       "                                  nameWithOwner  \\\n",
       "0                     freeCodeCamp/freeCodeCamp   \n",
       "1        EbookFoundation/free-programming-books   \n",
       "2                          sindresorhus/awesome   \n",
       "3                                996icu/996.ICU   \n",
       "4           jwasham/coding-interview-university   \n",
       "..                                          ...   \n",
       "995                        HeroTransitions/Hero   \n",
       "996                             rancher/rancher   \n",
       "997  ChristosChristofidis/awesome-deep-learning   \n",
       "998                           llvm/llvm-project   \n",
       "999                                lensapp/lens   \n",
       "\n",
       "                                                   url             createdAt  \\\n",
       "0         https://github.com/freeCodeCamp/freeCodeCamp  2014-12-24T17:49:19Z   \n",
       "1    https://github.com/EbookFoundation/free-progra...  2013-10-11T06:50:37Z   \n",
       "2              https://github.com/sindresorhus/awesome  2014-07-11T13:42:37Z   \n",
       "3                    https://github.com/996icu/996.ICU  2019-03-26T07:31:14Z   \n",
       "4    https://github.com/jwasham/coding-interview-un...  2016-06-06T02:34:12Z   \n",
       "..                                                 ...                   ...   \n",
       "995            https://github.com/HeroTransitions/Hero  2016-11-24T18:49:37Z   \n",
       "996                 https://github.com/rancher/rancher  2014-11-07T20:49:31Z   \n",
       "997  https://github.com/ChristosChristofidis/awesom...  2015-01-02T19:28:35Z   \n",
       "998               https://github.com/llvm/llvm-project  2016-12-07T09:39:33Z   \n",
       "999                    https://github.com/lensapp/lens  2018-11-12T06:28:56Z   \n",
       "\n",
       "                updatedAt primaryLanguage  releases  pullRequests  issues  \\\n",
       "0    2023-09-04T22:13:15Z      TypeScript         0         20471   17033   \n",
       "1    2023-09-04T21:44:17Z             NaN         0          5678     959   \n",
       "2    2023-09-04T22:07:29Z             NaN         0           624     331   \n",
       "3    2023-09-04T19:38:47Z             NaN         0          1063       0   \n",
       "4    2023-09-04T21:45:38Z             NaN         0           372     402   \n",
       "..                    ...             ...       ...           ...     ...   \n",
       "995  2023-09-04T13:34:24Z           Swift        38           117     602   \n",
       "996  2023-09-04T16:45:30Z              Go       980          8482   31740   \n",
       "997  2023-09-04T16:17:59Z             NaN         0           165      20   \n",
       "998  2023-09-04T21:06:40Z             NaN        89            32   64113   \n",
       "999  2023-09-04T22:06:31Z      TypeScript       294          3905    3352   \n",
       "\n",
       "     IssuesClosed  age  timeSinceLastUpdate  reasonIssuesIssuesClosed  \n",
       "0           16832    8                    0                  0.988199  \n",
       "1             925    9                    0                  0.964546  \n",
       "2             306    9                    0                  0.924471  \n",
       "3               0    4                    0                  0.000000  \n",
       "4             358    7                    0                  0.890547  \n",
       "..            ...  ...                  ...                       ...  \n",
       "995           567    6                    0                  0.941860  \n",
       "996         29226    8                    0                  0.920794  \n",
       "997            14    8                    0                  0.700000  \n",
       "998         44745    6                    0                  0.697908  \n",
       "999          2413    4                    0                  0.719869  \n",
       "\n",
       "[1000 rows x 13 columns]"
      ]
     },
     "execution_count": 6,
     "metadata": {},
     "output_type": "execute_result"
    }
   ],
   "source": [
    "df"
   ]
  },
  {
   "cell_type": "code",
   "execution_count": 14,
   "metadata": {},
   "outputs": [
    {
     "data": {
      "text/html": [
       "<div>\n",
       "<style scoped>\n",
       "    .dataframe tbody tr th:only-of-type {\n",
       "        vertical-align: middle;\n",
       "    }\n",
       "\n",
       "    .dataframe tbody tr th {\n",
       "        vertical-align: top;\n",
       "    }\n",
       "\n",
       "    .dataframe thead th {\n",
       "        text-align: right;\n",
       "    }\n",
       "</style>\n",
       "<table border=\"1\" class=\"dataframe\">\n",
       "  <thead>\n",
       "    <tr style=\"text-align: right;\">\n",
       "      <th></th>\n",
       "      <th>releases</th>\n",
       "      <th>pullRequests</th>\n",
       "      <th>issues</th>\n",
       "      <th>IssuesClosed</th>\n",
       "      <th>age</th>\n",
       "      <th>timeSinceLastUpdate</th>\n",
       "      <th>reasonIssuesIssuesClosed</th>\n",
       "    </tr>\n",
       "  </thead>\n",
       "  <tbody>\n",
       "    <tr>\n",
       "      <th>0</th>\n",
       "      <td>0</td>\n",
       "      <td>20471</td>\n",
       "      <td>17033</td>\n",
       "      <td>16832</td>\n",
       "      <td>8</td>\n",
       "      <td>0</td>\n",
       "      <td>0.988199</td>\n",
       "    </tr>\n",
       "    <tr>\n",
       "      <th>1</th>\n",
       "      <td>0</td>\n",
       "      <td>5678</td>\n",
       "      <td>959</td>\n",
       "      <td>925</td>\n",
       "      <td>9</td>\n",
       "      <td>0</td>\n",
       "      <td>0.964546</td>\n",
       "    </tr>\n",
       "    <tr>\n",
       "      <th>2</th>\n",
       "      <td>0</td>\n",
       "      <td>624</td>\n",
       "      <td>331</td>\n",
       "      <td>306</td>\n",
       "      <td>9</td>\n",
       "      <td>0</td>\n",
       "      <td>0.924471</td>\n",
       "    </tr>\n",
       "    <tr>\n",
       "      <th>3</th>\n",
       "      <td>0</td>\n",
       "      <td>1063</td>\n",
       "      <td>0</td>\n",
       "      <td>0</td>\n",
       "      <td>4</td>\n",
       "      <td>0</td>\n",
       "      <td>0.000000</td>\n",
       "    </tr>\n",
       "    <tr>\n",
       "      <th>4</th>\n",
       "      <td>0</td>\n",
       "      <td>372</td>\n",
       "      <td>402</td>\n",
       "      <td>358</td>\n",
       "      <td>7</td>\n",
       "      <td>0</td>\n",
       "      <td>0.890547</td>\n",
       "    </tr>\n",
       "    <tr>\n",
       "      <th>...</th>\n",
       "      <td>...</td>\n",
       "      <td>...</td>\n",
       "      <td>...</td>\n",
       "      <td>...</td>\n",
       "      <td>...</td>\n",
       "      <td>...</td>\n",
       "      <td>...</td>\n",
       "    </tr>\n",
       "    <tr>\n",
       "      <th>995</th>\n",
       "      <td>38</td>\n",
       "      <td>117</td>\n",
       "      <td>602</td>\n",
       "      <td>567</td>\n",
       "      <td>6</td>\n",
       "      <td>0</td>\n",
       "      <td>0.941860</td>\n",
       "    </tr>\n",
       "    <tr>\n",
       "      <th>996</th>\n",
       "      <td>980</td>\n",
       "      <td>8482</td>\n",
       "      <td>31740</td>\n",
       "      <td>29226</td>\n",
       "      <td>8</td>\n",
       "      <td>0</td>\n",
       "      <td>0.920794</td>\n",
       "    </tr>\n",
       "    <tr>\n",
       "      <th>997</th>\n",
       "      <td>0</td>\n",
       "      <td>165</td>\n",
       "      <td>20</td>\n",
       "      <td>14</td>\n",
       "      <td>8</td>\n",
       "      <td>0</td>\n",
       "      <td>0.700000</td>\n",
       "    </tr>\n",
       "    <tr>\n",
       "      <th>998</th>\n",
       "      <td>89</td>\n",
       "      <td>32</td>\n",
       "      <td>64113</td>\n",
       "      <td>44745</td>\n",
       "      <td>6</td>\n",
       "      <td>0</td>\n",
       "      <td>0.697908</td>\n",
       "    </tr>\n",
       "    <tr>\n",
       "      <th>999</th>\n",
       "      <td>294</td>\n",
       "      <td>3905</td>\n",
       "      <td>3352</td>\n",
       "      <td>2413</td>\n",
       "      <td>4</td>\n",
       "      <td>0</td>\n",
       "      <td>0.719869</td>\n",
       "    </tr>\n",
       "  </tbody>\n",
       "</table>\n",
       "<p>1000 rows × 7 columns</p>\n",
       "</div>"
      ],
      "text/plain": [
       "     releases  pullRequests  issues  IssuesClosed  age  timeSinceLastUpdate  \\\n",
       "0           0         20471   17033         16832    8                    0   \n",
       "1           0          5678     959           925    9                    0   \n",
       "2           0           624     331           306    9                    0   \n",
       "3           0          1063       0             0    4                    0   \n",
       "4           0           372     402           358    7                    0   \n",
       "..        ...           ...     ...           ...  ...                  ...   \n",
       "995        38           117     602           567    6                    0   \n",
       "996       980          8482   31740         29226    8                    0   \n",
       "997         0           165      20            14    8                    0   \n",
       "998        89            32   64113         44745    6                    0   \n",
       "999       294          3905    3352          2413    4                    0   \n",
       "\n",
       "     reasonIssuesIssuesClosed  \n",
       "0                    0.988199  \n",
       "1                    0.964546  \n",
       "2                    0.924471  \n",
       "3                    0.000000  \n",
       "4                    0.890547  \n",
       "..                        ...  \n",
       "995                  0.941860  \n",
       "996                  0.920794  \n",
       "997                  0.700000  \n",
       "998                  0.697908  \n",
       "999                  0.719869  \n",
       "\n",
       "[1000 rows x 7 columns]"
      ]
     },
     "execution_count": 14,
     "metadata": {},
     "output_type": "execute_result"
    }
   ],
   "source": [
    "table = df.drop(['id', 'nameWithOwner', 'url', 'createdAt', 'updatedAt', 'primaryLanguage'], axis=1)\n",
    "table"
   ]
  },
  {
   "cell_type": "code",
   "execution_count": 22,
   "metadata": {},
   "outputs": [
    {
     "data": {
      "application/vnd.plotly.v1+json": {
       "config": {
        "plotlyServerURL": "https://plot.ly"
       },
       "data": [
        {
         "alignmentgroup": "True",
         "hovertemplate": "age=%{y}<extra></extra>",
         "legendgroup": "",
         "marker": {
          "color": "#636efa"
         },
         "name": "",
         "notched": false,
         "offsetgroup": "",
         "orientation": "v",
         "showlegend": false,
         "type": "box",
         "x0": " ",
         "xaxis": "x",
         "y": [
          8,
          9,
          9,
          4,
          7,
          7,
          6,
          6,
          5,
          10,
          10,
          9,
          7,
          5,
          9,
          7,
          5,
          12,
          14,
          12,
          8,
          12,
          8,
          9,
          0,
          8,
          5,
          8,
          5,
          10,
          12,
          3,
          5,
          6,
          9,
          8,
          4,
          6,
          10,
          9,
          5,
          12,
          9,
          9,
          9,
          1,
          7,
          8,
          4,
          7,
          13,
          9,
          5,
          5,
          5,
          6,
          8,
          9,
          0,
          8,
          6,
          13,
          6,
          6,
          9,
          7,
          8,
          11,
          7,
          9,
          7,
          2,
          12,
          7,
          4,
          11,
          6,
          8,
          8,
          6,
          11,
          5,
          4,
          7,
          9,
          12,
          11,
          7,
          13,
          5,
          7,
          10,
          9,
          10,
          7,
          9,
          4,
          4,
          4,
          10,
          13,
          10,
          12,
          9,
          11,
          7,
          0,
          9,
          4,
          4,
          14,
          10,
          14,
          9,
          12,
          8,
          4,
          6,
          9,
          8,
          0,
          1,
          11,
          6,
          6,
          11,
          8,
          13,
          13,
          11,
          5,
          9,
          14,
          11,
          3,
          5,
          5,
          7,
          11,
          9,
          10,
          5,
          3,
          10,
          7,
          4,
          7,
          8,
          3,
          13,
          10,
          7,
          4,
          7,
          8,
          3,
          13,
          6,
          9,
          2,
          13,
          8,
          3,
          3,
          4,
          9,
          9,
          8,
          7,
          15,
          2,
          7,
          8,
          3,
          9,
          12,
          9,
          3,
          5,
          6,
          0,
          5,
          9,
          12,
          10,
          6,
          6,
          12,
          9,
          9,
          10,
          8,
          10,
          6,
          8,
          9,
          11,
          8,
          7,
          13,
          6,
          6,
          9,
          5,
          11,
          12,
          7,
          1,
          6,
          6,
          15,
          8,
          10,
          14,
          7,
          5,
          7,
          4,
          6,
          2,
          6,
          7,
          5,
          8,
          11,
          9,
          8,
          8,
          10,
          8,
          7,
          0,
          3,
          4,
          6,
          7,
          11,
          10,
          7,
          0,
          5,
          10,
          7,
          9,
          11,
          12,
          2,
          9,
          0,
          9,
          7,
          12,
          8,
          4,
          7,
          9,
          9,
          10,
          5,
          4,
          6,
          0,
          9,
          8,
          6,
          5,
          0,
          4,
          5,
          11,
          9,
          5,
          6,
          13,
          6,
          5,
          3,
          5,
          8,
          6,
          7,
          7,
          3,
          3,
          7,
          9,
          5,
          7,
          0,
          10,
          0,
          5,
          8,
          0,
          7,
          6,
          9,
          0,
          4,
          5,
          11,
          7,
          9,
          13,
          10,
          7,
          7,
          11,
          10,
          10,
          8,
          8,
          8,
          9,
          10,
          5,
          5,
          5,
          6,
          2,
          12,
          4,
          6,
          6,
          3,
          5,
          12,
          6,
          5,
          11,
          4,
          0,
          2,
          6,
          2,
          6,
          5,
          9,
          8,
          6,
          10,
          11,
          8,
          9,
          0,
          7,
          7,
          8,
          11,
          3,
          9,
          9,
          5,
          9,
          4,
          6,
          7,
          10,
          6,
          11,
          8,
          6,
          4,
          3,
          3,
          13,
          10,
          12,
          7,
          4,
          6,
          8,
          6,
          4,
          7,
          3,
          9,
          8,
          4,
          0,
          5,
          4,
          10,
          11,
          0,
          13,
          7,
          7,
          10,
          6,
          8,
          9,
          4,
          5,
          14,
          5,
          7,
          4,
          3,
          6,
          10,
          9,
          4,
          6,
          8,
          6,
          6,
          2,
          4,
          0,
          10,
          8,
          10,
          0,
          4,
          6,
          7,
          9,
          5,
          10,
          9,
          9,
          5,
          7,
          11,
          10,
          1,
          11,
          12,
          7,
          4,
          5,
          8,
          5,
          3,
          10,
          11,
          3,
          6,
          4,
          0,
          7,
          4,
          3,
          10,
          10,
          6,
          0,
          7,
          3,
          9,
          7,
          4,
          8,
          9,
          7,
          9,
          8,
          8,
          13,
          8,
          5,
          7,
          1,
          2,
          9,
          12,
          7,
          6,
          10,
          8,
          5,
          8,
          11,
          3,
          8,
          9,
          12,
          9,
          6,
          10,
          13,
          12,
          3,
          3,
          12,
          6,
          2,
          8,
          4,
          5,
          9,
          7,
          9,
          7,
          6,
          2,
          12,
          4,
          9,
          5,
          4,
          8,
          8,
          5,
          8,
          11,
          8,
          9,
          10,
          5,
          6,
          13,
          2,
          0,
          2,
          7,
          7,
          6,
          11,
          0,
          4,
          4,
          8,
          6,
          12,
          11,
          12,
          4,
          8,
          3,
          9,
          9,
          6,
          11,
          6,
          7,
          3,
          5,
          6,
          8,
          6,
          5,
          12,
          9,
          6,
          8,
          1,
          4,
          13,
          5,
          8,
          5,
          9,
          5,
          8,
          3,
          6,
          5,
          13,
          9,
          5,
          7,
          8,
          7,
          11,
          12,
          11,
          8,
          9,
          10,
          3,
          3,
          9,
          12,
          7,
          7,
          11,
          2,
          13,
          6,
          5,
          12,
          3,
          2,
          8,
          7,
          7,
          9,
          9,
          6,
          4,
          10,
          7,
          9,
          2,
          5,
          5,
          5,
          9,
          6,
          6,
          9,
          7,
          6,
          9,
          1,
          0,
          11,
          6,
          7,
          13,
          8,
          14,
          13,
          9,
          4,
          9,
          3,
          5,
          7,
          0,
          4,
          9,
          8,
          4,
          8,
          5,
          7,
          9,
          11,
          4,
          11,
          8,
          12,
          2,
          5,
          0,
          4,
          10,
          8,
          0,
          7,
          9,
          8,
          8,
          7,
          5,
          7,
          8,
          5,
          5,
          5,
          13,
          8,
          12,
          4,
          10,
          8,
          7,
          4,
          8,
          0,
          10,
          4,
          12,
          5,
          0,
          5,
          9,
          8,
          3,
          13,
          11,
          3,
          10,
          4,
          5,
          12,
          11,
          5,
          5,
          10,
          7,
          9,
          8,
          12,
          11,
          13,
          3,
          12,
          1,
          10,
          8,
          3,
          7,
          10,
          13,
          8,
          8,
          12,
          4,
          7,
          11,
          13,
          5,
          8,
          3,
          5,
          7,
          7,
          0,
          9,
          12,
          11,
          6,
          6,
          6,
          8,
          7,
          8,
          5,
          7,
          10,
          5,
          2,
          1,
          7,
          8,
          10,
          11,
          3,
          4,
          7,
          10,
          6,
          3,
          8,
          3,
          5,
          3,
          6,
          7,
          7,
          7,
          5,
          13,
          2,
          5,
          8,
          4,
          9,
          4,
          9,
          4,
          2,
          4,
          11,
          3,
          5,
          11,
          2,
          12,
          6,
          12,
          6,
          0,
          6,
          2,
          5,
          11,
          14,
          3,
          7,
          8,
          7,
          8,
          7,
          6,
          6,
          7,
          7,
          4,
          12,
          2,
          7,
          6,
          2,
          7,
          11,
          9,
          8,
          6,
          4,
          12,
          9,
          8,
          8,
          8,
          9,
          4,
          7,
          6,
          11,
          9,
          11,
          1,
          7,
          4,
          6,
          7,
          7,
          11,
          10,
          11,
          4,
          7,
          9,
          9,
          12,
          10,
          7,
          8,
          5,
          6,
          12,
          4,
          11,
          10,
          4,
          5,
          2,
          13,
          5,
          3,
          11,
          10,
          6,
          5,
          5,
          10,
          4,
          9,
          10,
          10,
          12,
          0,
          7,
          9,
          7,
          4,
          9,
          3,
          10,
          4,
          9,
          12,
          3,
          9,
          7,
          9,
          10,
          6,
          7,
          10,
          8,
          7,
          6,
          8,
          2,
          4,
          2,
          0,
          7,
          10,
          8,
          9,
          6,
          7,
          9,
          7,
          6,
          1,
          8,
          0,
          1,
          7,
          12,
          11,
          3,
          9,
          2,
          7,
          7,
          10,
          9,
          4,
          13,
          8,
          4,
          9,
          9,
          6,
          7,
          7,
          2,
          9,
          12,
          5,
          2,
          6,
          8,
          6,
          6,
          7,
          7,
          8,
          0,
          8,
          7,
          0,
          9,
          6,
          10,
          11,
          7,
          12,
          10,
          0,
          1,
          4,
          4,
          4,
          9,
          14,
          4,
          9,
          4,
          9,
          12,
          10,
          2,
          8,
          12,
          4,
          6,
          1,
          12,
          12,
          9,
          11,
          5,
          6,
          5,
          4,
          9,
          9,
          5,
          11,
          6,
          5,
          4,
          8,
          10,
          11,
          9,
          9,
          11,
          7,
          6,
          7,
          0,
          6,
          9,
          4,
          9,
          9,
          6,
          4,
          12,
          8,
          10,
          1,
          7,
          8,
          8,
          9,
          8,
          6,
          8,
          6,
          7,
          8,
          4,
          10,
          6,
          8,
          8,
          6,
          4
         ],
         "y0": " ",
         "yaxis": "y"
        }
       ],
       "layout": {
        "boxmode": "group",
        "legend": {
         "tracegroupgap": 0
        },
        "margin": {
         "t": 60
        },
        "template": {
         "data": {
          "bar": [
           {
            "error_x": {
             "color": "#2a3f5f"
            },
            "error_y": {
             "color": "#2a3f5f"
            },
            "marker": {
             "line": {
              "color": "#E5ECF6",
              "width": 0.5
             },
             "pattern": {
              "fillmode": "overlay",
              "size": 10,
              "solidity": 0.2
             }
            },
            "type": "bar"
           }
          ],
          "barpolar": [
           {
            "marker": {
             "line": {
              "color": "#E5ECF6",
              "width": 0.5
             },
             "pattern": {
              "fillmode": "overlay",
              "size": 10,
              "solidity": 0.2
             }
            },
            "type": "barpolar"
           }
          ],
          "carpet": [
           {
            "aaxis": {
             "endlinecolor": "#2a3f5f",
             "gridcolor": "white",
             "linecolor": "white",
             "minorgridcolor": "white",
             "startlinecolor": "#2a3f5f"
            },
            "baxis": {
             "endlinecolor": "#2a3f5f",
             "gridcolor": "white",
             "linecolor": "white",
             "minorgridcolor": "white",
             "startlinecolor": "#2a3f5f"
            },
            "type": "carpet"
           }
          ],
          "choropleth": [
           {
            "colorbar": {
             "outlinewidth": 0,
             "ticks": ""
            },
            "type": "choropleth"
           }
          ],
          "contour": [
           {
            "colorbar": {
             "outlinewidth": 0,
             "ticks": ""
            },
            "colorscale": [
             [
              0,
              "#0d0887"
             ],
             [
              0.1111111111111111,
              "#46039f"
             ],
             [
              0.2222222222222222,
              "#7201a8"
             ],
             [
              0.3333333333333333,
              "#9c179e"
             ],
             [
              0.4444444444444444,
              "#bd3786"
             ],
             [
              0.5555555555555556,
              "#d8576b"
             ],
             [
              0.6666666666666666,
              "#ed7953"
             ],
             [
              0.7777777777777778,
              "#fb9f3a"
             ],
             [
              0.8888888888888888,
              "#fdca26"
             ],
             [
              1,
              "#f0f921"
             ]
            ],
            "type": "contour"
           }
          ],
          "contourcarpet": [
           {
            "colorbar": {
             "outlinewidth": 0,
             "ticks": ""
            },
            "type": "contourcarpet"
           }
          ],
          "heatmap": [
           {
            "colorbar": {
             "outlinewidth": 0,
             "ticks": ""
            },
            "colorscale": [
             [
              0,
              "#0d0887"
             ],
             [
              0.1111111111111111,
              "#46039f"
             ],
             [
              0.2222222222222222,
              "#7201a8"
             ],
             [
              0.3333333333333333,
              "#9c179e"
             ],
             [
              0.4444444444444444,
              "#bd3786"
             ],
             [
              0.5555555555555556,
              "#d8576b"
             ],
             [
              0.6666666666666666,
              "#ed7953"
             ],
             [
              0.7777777777777778,
              "#fb9f3a"
             ],
             [
              0.8888888888888888,
              "#fdca26"
             ],
             [
              1,
              "#f0f921"
             ]
            ],
            "type": "heatmap"
           }
          ],
          "heatmapgl": [
           {
            "colorbar": {
             "outlinewidth": 0,
             "ticks": ""
            },
            "colorscale": [
             [
              0,
              "#0d0887"
             ],
             [
              0.1111111111111111,
              "#46039f"
             ],
             [
              0.2222222222222222,
              "#7201a8"
             ],
             [
              0.3333333333333333,
              "#9c179e"
             ],
             [
              0.4444444444444444,
              "#bd3786"
             ],
             [
              0.5555555555555556,
              "#d8576b"
             ],
             [
              0.6666666666666666,
              "#ed7953"
             ],
             [
              0.7777777777777778,
              "#fb9f3a"
             ],
             [
              0.8888888888888888,
              "#fdca26"
             ],
             [
              1,
              "#f0f921"
             ]
            ],
            "type": "heatmapgl"
           }
          ],
          "histogram": [
           {
            "marker": {
             "pattern": {
              "fillmode": "overlay",
              "size": 10,
              "solidity": 0.2
             }
            },
            "type": "histogram"
           }
          ],
          "histogram2d": [
           {
            "colorbar": {
             "outlinewidth": 0,
             "ticks": ""
            },
            "colorscale": [
             [
              0,
              "#0d0887"
             ],
             [
              0.1111111111111111,
              "#46039f"
             ],
             [
              0.2222222222222222,
              "#7201a8"
             ],
             [
              0.3333333333333333,
              "#9c179e"
             ],
             [
              0.4444444444444444,
              "#bd3786"
             ],
             [
              0.5555555555555556,
              "#d8576b"
             ],
             [
              0.6666666666666666,
              "#ed7953"
             ],
             [
              0.7777777777777778,
              "#fb9f3a"
             ],
             [
              0.8888888888888888,
              "#fdca26"
             ],
             [
              1,
              "#f0f921"
             ]
            ],
            "type": "histogram2d"
           }
          ],
          "histogram2dcontour": [
           {
            "colorbar": {
             "outlinewidth": 0,
             "ticks": ""
            },
            "colorscale": [
             [
              0,
              "#0d0887"
             ],
             [
              0.1111111111111111,
              "#46039f"
             ],
             [
              0.2222222222222222,
              "#7201a8"
             ],
             [
              0.3333333333333333,
              "#9c179e"
             ],
             [
              0.4444444444444444,
              "#bd3786"
             ],
             [
              0.5555555555555556,
              "#d8576b"
             ],
             [
              0.6666666666666666,
              "#ed7953"
             ],
             [
              0.7777777777777778,
              "#fb9f3a"
             ],
             [
              0.8888888888888888,
              "#fdca26"
             ],
             [
              1,
              "#f0f921"
             ]
            ],
            "type": "histogram2dcontour"
           }
          ],
          "mesh3d": [
           {
            "colorbar": {
             "outlinewidth": 0,
             "ticks": ""
            },
            "type": "mesh3d"
           }
          ],
          "parcoords": [
           {
            "line": {
             "colorbar": {
              "outlinewidth": 0,
              "ticks": ""
             }
            },
            "type": "parcoords"
           }
          ],
          "pie": [
           {
            "automargin": true,
            "type": "pie"
           }
          ],
          "scatter": [
           {
            "fillpattern": {
             "fillmode": "overlay",
             "size": 10,
             "solidity": 0.2
            },
            "type": "scatter"
           }
          ],
          "scatter3d": [
           {
            "line": {
             "colorbar": {
              "outlinewidth": 0,
              "ticks": ""
             }
            },
            "marker": {
             "colorbar": {
              "outlinewidth": 0,
              "ticks": ""
             }
            },
            "type": "scatter3d"
           }
          ],
          "scattercarpet": [
           {
            "marker": {
             "colorbar": {
              "outlinewidth": 0,
              "ticks": ""
             }
            },
            "type": "scattercarpet"
           }
          ],
          "scattergeo": [
           {
            "marker": {
             "colorbar": {
              "outlinewidth": 0,
              "ticks": ""
             }
            },
            "type": "scattergeo"
           }
          ],
          "scattergl": [
           {
            "marker": {
             "colorbar": {
              "outlinewidth": 0,
              "ticks": ""
             }
            },
            "type": "scattergl"
           }
          ],
          "scattermapbox": [
           {
            "marker": {
             "colorbar": {
              "outlinewidth": 0,
              "ticks": ""
             }
            },
            "type": "scattermapbox"
           }
          ],
          "scatterpolar": [
           {
            "marker": {
             "colorbar": {
              "outlinewidth": 0,
              "ticks": ""
             }
            },
            "type": "scatterpolar"
           }
          ],
          "scatterpolargl": [
           {
            "marker": {
             "colorbar": {
              "outlinewidth": 0,
              "ticks": ""
             }
            },
            "type": "scatterpolargl"
           }
          ],
          "scatterternary": [
           {
            "marker": {
             "colorbar": {
              "outlinewidth": 0,
              "ticks": ""
             }
            },
            "type": "scatterternary"
           }
          ],
          "surface": [
           {
            "colorbar": {
             "outlinewidth": 0,
             "ticks": ""
            },
            "colorscale": [
             [
              0,
              "#0d0887"
             ],
             [
              0.1111111111111111,
              "#46039f"
             ],
             [
              0.2222222222222222,
              "#7201a8"
             ],
             [
              0.3333333333333333,
              "#9c179e"
             ],
             [
              0.4444444444444444,
              "#bd3786"
             ],
             [
              0.5555555555555556,
              "#d8576b"
             ],
             [
              0.6666666666666666,
              "#ed7953"
             ],
             [
              0.7777777777777778,
              "#fb9f3a"
             ],
             [
              0.8888888888888888,
              "#fdca26"
             ],
             [
              1,
              "#f0f921"
             ]
            ],
            "type": "surface"
           }
          ],
          "table": [
           {
            "cells": {
             "fill": {
              "color": "#EBF0F8"
             },
             "line": {
              "color": "white"
             }
            },
            "header": {
             "fill": {
              "color": "#C8D4E3"
             },
             "line": {
              "color": "white"
             }
            },
            "type": "table"
           }
          ]
         },
         "layout": {
          "annotationdefaults": {
           "arrowcolor": "#2a3f5f",
           "arrowhead": 0,
           "arrowwidth": 1
          },
          "autotypenumbers": "strict",
          "coloraxis": {
           "colorbar": {
            "outlinewidth": 0,
            "ticks": ""
           }
          },
          "colorscale": {
           "diverging": [
            [
             0,
             "#8e0152"
            ],
            [
             0.1,
             "#c51b7d"
            ],
            [
             0.2,
             "#de77ae"
            ],
            [
             0.3,
             "#f1b6da"
            ],
            [
             0.4,
             "#fde0ef"
            ],
            [
             0.5,
             "#f7f7f7"
            ],
            [
             0.6,
             "#e6f5d0"
            ],
            [
             0.7,
             "#b8e186"
            ],
            [
             0.8,
             "#7fbc41"
            ],
            [
             0.9,
             "#4d9221"
            ],
            [
             1,
             "#276419"
            ]
           ],
           "sequential": [
            [
             0,
             "#0d0887"
            ],
            [
             0.1111111111111111,
             "#46039f"
            ],
            [
             0.2222222222222222,
             "#7201a8"
            ],
            [
             0.3333333333333333,
             "#9c179e"
            ],
            [
             0.4444444444444444,
             "#bd3786"
            ],
            [
             0.5555555555555556,
             "#d8576b"
            ],
            [
             0.6666666666666666,
             "#ed7953"
            ],
            [
             0.7777777777777778,
             "#fb9f3a"
            ],
            [
             0.8888888888888888,
             "#fdca26"
            ],
            [
             1,
             "#f0f921"
            ]
           ],
           "sequentialminus": [
            [
             0,
             "#0d0887"
            ],
            [
             0.1111111111111111,
             "#46039f"
            ],
            [
             0.2222222222222222,
             "#7201a8"
            ],
            [
             0.3333333333333333,
             "#9c179e"
            ],
            [
             0.4444444444444444,
             "#bd3786"
            ],
            [
             0.5555555555555556,
             "#d8576b"
            ],
            [
             0.6666666666666666,
             "#ed7953"
            ],
            [
             0.7777777777777778,
             "#fb9f3a"
            ],
            [
             0.8888888888888888,
             "#fdca26"
            ],
            [
             1,
             "#f0f921"
            ]
           ]
          },
          "colorway": [
           "#636efa",
           "#EF553B",
           "#00cc96",
           "#ab63fa",
           "#FFA15A",
           "#19d3f3",
           "#FF6692",
           "#B6E880",
           "#FF97FF",
           "#FECB52"
          ],
          "font": {
           "color": "#2a3f5f"
          },
          "geo": {
           "bgcolor": "white",
           "lakecolor": "white",
           "landcolor": "#E5ECF6",
           "showlakes": true,
           "showland": true,
           "subunitcolor": "white"
          },
          "hoverlabel": {
           "align": "left"
          },
          "hovermode": "closest",
          "mapbox": {
           "style": "light"
          },
          "paper_bgcolor": "white",
          "plot_bgcolor": "#E5ECF6",
          "polar": {
           "angularaxis": {
            "gridcolor": "white",
            "linecolor": "white",
            "ticks": ""
           },
           "bgcolor": "#E5ECF6",
           "radialaxis": {
            "gridcolor": "white",
            "linecolor": "white",
            "ticks": ""
           }
          },
          "scene": {
           "xaxis": {
            "backgroundcolor": "#E5ECF6",
            "gridcolor": "white",
            "gridwidth": 2,
            "linecolor": "white",
            "showbackground": true,
            "ticks": "",
            "zerolinecolor": "white"
           },
           "yaxis": {
            "backgroundcolor": "#E5ECF6",
            "gridcolor": "white",
            "gridwidth": 2,
            "linecolor": "white",
            "showbackground": true,
            "ticks": "",
            "zerolinecolor": "white"
           },
           "zaxis": {
            "backgroundcolor": "#E5ECF6",
            "gridcolor": "white",
            "gridwidth": 2,
            "linecolor": "white",
            "showbackground": true,
            "ticks": "",
            "zerolinecolor": "white"
           }
          },
          "shapedefaults": {
           "line": {
            "color": "#2a3f5f"
           }
          },
          "ternary": {
           "aaxis": {
            "gridcolor": "white",
            "linecolor": "white",
            "ticks": ""
           },
           "baxis": {
            "gridcolor": "white",
            "linecolor": "white",
            "ticks": ""
           },
           "bgcolor": "#E5ECF6",
           "caxis": {
            "gridcolor": "white",
            "linecolor": "white",
            "ticks": ""
           }
          },
          "title": {
           "x": 0.05
          },
          "xaxis": {
           "automargin": true,
           "gridcolor": "white",
           "linecolor": "white",
           "ticks": "",
           "title": {
            "standoff": 15
           },
           "zerolinecolor": "white",
           "zerolinewidth": 2
          },
          "yaxis": {
           "automargin": true,
           "gridcolor": "white",
           "linecolor": "white",
           "ticks": "",
           "title": {
            "standoff": 15
           },
           "zerolinecolor": "white",
           "zerolinewidth": 2
          }
         }
        },
        "xaxis": {
         "anchor": "y",
         "domain": [
          0,
          1
         ]
        },
        "yaxis": {
         "anchor": "x",
         "domain": [
          0,
          1
         ],
         "title": {
          "text": "age"
         }
        }
       }
      }
     },
     "metadata": {},
     "output_type": "display_data"
    }
   ],
   "source": [
    "fig = px.box(table, y='age')\n",
    "fig.show()\n"
   ]
  },
  {
   "cell_type": "code",
   "execution_count": 44,
   "metadata": {},
   "outputs": [
    {
     "data": {
      "application/vnd.plotly.v1+json": {
       "config": {
        "plotlyServerURL": "https://plot.ly"
       },
       "data": [
        {
         "alignmentgroup": "True",
         "hovertemplate": "_index=%{x}<br>pullRequests=%{y}<extra></extra>",
         "legendgroup": "",
         "marker": {
          "color": "#636efa",
          "pattern": {
           "shape": ""
          }
         },
         "name": "",
         "offsetgroup": "",
         "orientation": "v",
         "showlegend": false,
         "textposition": "auto",
         "type": "bar",
         "x": [
          0,
          1,
          2,
          3,
          4,
          5,
          6,
          7,
          8,
          9,
          10,
          11,
          12,
          13,
          14,
          15,
          16,
          17,
          18,
          19,
          20,
          21,
          22,
          23,
          24,
          25,
          26,
          27,
          28,
          29,
          30,
          31,
          32,
          33,
          34,
          35,
          36,
          37,
          38,
          39,
          40,
          41,
          42,
          43,
          44,
          45,
          46,
          47,
          48,
          49,
          50,
          51,
          52,
          53,
          54,
          55,
          56,
          57,
          58,
          59,
          60,
          61,
          62,
          63,
          64,
          65,
          66,
          67,
          68,
          69,
          70,
          71,
          72,
          73,
          74,
          75,
          76,
          77,
          78,
          79,
          80,
          81,
          82,
          83,
          84,
          85,
          86,
          87,
          88,
          89,
          90,
          91,
          92,
          93,
          94,
          95,
          96,
          97,
          98,
          99,
          100,
          101,
          102,
          103,
          104,
          105,
          106,
          107,
          108,
          109,
          110,
          111,
          112,
          113,
          114,
          115,
          116,
          117,
          118,
          119,
          120,
          121,
          122,
          123,
          124,
          125,
          126,
          127,
          128,
          129,
          130,
          131,
          132,
          133,
          134,
          135,
          136,
          137,
          138,
          139,
          140,
          141,
          142,
          143,
          144,
          145,
          146,
          147,
          148,
          149,
          150,
          151,
          152,
          153,
          154,
          155,
          156,
          157,
          158,
          159,
          160,
          161,
          162,
          163,
          164,
          165,
          166,
          167,
          168,
          169,
          170,
          171,
          172,
          173,
          174,
          175,
          176,
          177,
          178,
          179,
          180,
          181,
          182,
          183,
          184,
          185,
          186,
          187,
          188,
          189,
          190,
          191,
          192,
          193,
          194,
          195,
          196,
          197,
          198,
          199,
          200,
          201,
          202,
          203,
          204,
          205,
          206,
          207,
          208,
          209,
          210,
          211,
          212,
          213,
          214,
          215,
          216,
          217,
          218,
          219,
          220,
          221,
          222,
          223,
          224,
          225,
          226,
          227,
          228,
          229,
          230,
          231,
          232,
          233,
          234,
          235,
          236,
          237,
          238,
          239,
          240,
          241,
          242,
          243,
          244,
          245,
          246,
          247,
          248,
          249,
          250,
          251,
          252,
          253,
          254,
          255,
          256,
          257,
          258,
          259,
          260,
          261,
          262,
          263,
          264,
          265,
          266,
          267,
          268,
          269,
          270,
          271,
          272,
          273,
          274,
          275,
          276,
          277,
          278,
          279,
          280,
          281,
          282,
          283,
          284,
          285,
          286,
          287,
          288,
          289,
          290,
          291,
          292,
          293,
          294,
          295,
          296,
          297,
          298,
          299,
          300,
          301,
          302,
          303,
          304,
          305,
          306,
          307,
          308,
          309,
          310,
          311,
          312,
          313,
          314,
          315,
          316,
          317,
          318,
          319,
          320,
          321,
          322,
          323,
          324,
          325,
          326,
          327,
          328,
          329,
          330,
          331,
          332,
          333,
          334,
          335,
          336,
          337,
          338,
          339,
          340,
          341,
          342,
          343,
          344,
          345,
          346,
          347,
          348,
          349,
          350,
          351,
          352,
          353,
          354,
          355,
          356,
          357,
          358,
          359,
          360,
          361,
          362,
          363,
          364,
          365,
          366,
          367,
          368,
          369,
          370,
          371,
          372,
          373,
          374,
          375,
          376,
          377,
          378,
          379,
          380,
          381,
          382,
          383,
          384,
          385,
          386,
          387,
          388,
          389,
          390,
          391,
          392,
          393,
          394,
          395,
          396,
          397,
          398,
          399,
          400,
          401,
          402,
          403,
          404,
          405,
          406,
          407,
          408,
          409,
          410,
          411,
          412,
          413,
          414,
          415,
          416,
          417,
          418,
          419,
          420,
          421,
          422,
          423,
          424,
          425,
          426,
          427,
          428,
          429,
          430,
          431,
          432,
          433,
          434,
          435,
          436,
          437,
          438,
          439,
          440,
          441,
          442,
          443,
          444,
          445,
          446,
          447,
          448,
          449,
          450,
          451,
          452,
          453,
          454,
          455,
          456,
          457,
          458,
          459,
          460,
          461,
          462,
          463,
          464,
          465,
          466,
          467,
          468,
          469,
          470,
          471,
          472,
          473,
          474,
          475,
          476,
          477,
          478,
          479,
          480,
          481,
          482,
          483,
          484,
          485,
          486,
          487,
          488,
          489,
          490,
          491,
          492,
          493,
          494,
          495,
          496,
          497,
          498,
          499,
          500,
          501,
          502,
          503,
          504,
          505,
          506,
          507,
          508,
          509,
          510,
          511,
          512,
          513,
          514,
          515,
          516,
          517,
          518,
          519,
          520,
          521,
          522,
          523,
          524,
          525,
          526,
          527,
          528,
          529,
          530,
          531,
          532,
          533,
          534,
          535,
          536,
          537,
          538,
          539,
          540,
          541,
          542,
          543,
          544,
          545,
          546,
          547,
          548,
          549,
          550,
          551,
          552,
          553,
          554,
          555,
          556,
          557,
          558,
          559,
          560,
          561,
          562,
          563,
          564,
          565,
          566,
          567,
          568,
          569,
          570,
          571,
          572,
          573,
          574,
          575,
          576,
          577,
          578,
          579,
          580,
          581,
          582,
          583,
          584,
          585,
          586,
          587,
          588,
          589,
          590,
          591,
          592,
          593,
          594,
          595,
          596,
          597,
          598,
          599,
          600,
          601,
          602,
          603,
          604,
          605,
          606,
          607,
          608,
          609,
          610,
          611,
          612,
          613,
          614,
          615,
          616,
          617,
          618,
          619,
          620,
          621,
          622,
          623,
          624,
          625,
          626,
          627,
          628,
          629,
          630,
          631,
          632,
          633,
          634,
          635,
          636,
          637,
          638,
          639,
          640,
          641,
          642,
          643,
          644,
          645,
          646,
          647,
          648,
          649,
          650,
          651,
          652,
          653,
          654,
          655,
          656,
          657,
          658,
          659,
          660,
          661,
          662,
          663,
          664,
          665,
          666,
          667,
          668,
          669,
          670,
          671,
          672,
          673,
          674,
          675,
          676,
          677,
          678,
          679,
          680,
          681,
          682,
          683,
          684,
          685,
          686,
          687,
          688,
          689,
          690,
          691,
          692,
          693,
          694,
          695,
          696,
          697,
          698,
          699,
          700,
          701,
          702,
          703,
          704,
          705,
          706,
          707,
          708,
          709,
          710,
          711,
          712,
          713,
          714,
          715,
          716,
          717,
          718,
          719,
          720,
          721,
          722,
          723,
          724,
          725,
          726,
          727,
          728,
          729,
          730,
          731,
          732,
          733,
          734,
          735,
          736,
          737,
          738,
          739,
          740,
          741,
          742,
          743,
          744,
          745,
          746,
          747,
          748,
          749,
          750,
          751,
          752,
          753,
          754,
          755,
          756,
          757,
          758,
          759,
          760,
          761,
          762,
          763,
          764,
          765,
          766,
          767,
          768,
          769,
          770,
          771,
          772,
          773,
          774,
          775,
          776,
          777,
          778,
          779,
          780,
          781,
          782,
          783,
          784,
          785,
          786,
          787,
          788,
          789,
          790,
          791,
          792,
          793,
          794,
          795,
          796,
          797,
          798,
          799,
          800,
          801,
          802,
          803,
          804,
          805,
          806,
          807,
          808,
          809,
          810,
          811,
          812,
          813,
          814,
          815,
          816,
          817,
          818,
          819,
          820,
          821,
          822,
          823,
          824,
          825,
          826,
          827,
          828,
          829,
          830,
          831,
          832,
          833,
          834,
          835,
          836,
          837,
          838,
          839,
          840,
          841,
          842,
          843,
          844,
          845,
          846,
          847,
          848,
          849,
          850,
          851,
          852,
          853,
          854,
          855,
          856,
          857,
          858,
          859,
          860,
          861,
          862,
          863,
          864,
          865,
          866,
          867,
          868,
          869,
          870,
          871,
          872,
          873,
          874,
          875,
          876,
          877,
          878,
          879,
          880,
          881,
          882,
          883,
          884,
          885,
          886,
          887,
          888,
          889,
          890,
          891,
          892,
          893,
          894,
          895,
          896,
          897,
          898,
          899,
          900,
          901,
          902,
          903,
          904,
          905,
          906,
          907,
          908,
          909,
          910,
          911,
          912,
          913,
          914,
          915,
          916,
          917,
          918,
          919,
          920,
          921,
          922,
          923,
          924,
          925,
          926,
          927,
          928,
          929,
          930,
          931,
          932,
          933,
          934,
          935,
          936,
          937,
          938,
          939,
          940,
          941,
          942,
          943,
          944,
          945,
          946,
          947,
          948,
          949,
          950,
          951,
          952,
          953,
          954,
          955,
          956,
          957,
          958,
          959,
          960,
          961,
          962,
          963,
          964,
          965,
          966,
          967,
          968,
          969,
          970,
          971,
          972,
          973,
          974,
          975,
          976,
          977,
          978,
          979,
          980,
          981,
          982,
          983,
          984,
          985,
          986,
          987,
          988,
          989,
          990,
          991,
          992,
          993,
          994,
          995,
          996,
          997,
          998,
          999
         ],
         "xaxis": "x",
         "y": [
          0,
          0,
          0,
          0,
          0,
          0,
          0,
          0,
          0,
          0,
          1,
          1,
          1,
          1,
          1,
          1,
          1,
          1,
          1,
          2,
          2,
          2,
          2,
          2,
          3,
          3,
          3,
          3,
          3,
          5,
          5,
          5,
          5,
          6,
          6,
          6,
          6,
          6,
          7,
          7,
          7,
          8,
          9,
          9,
          9,
          10,
          10,
          10,
          10,
          10,
          11,
          12,
          12,
          12,
          12,
          12,
          13,
          13,
          13,
          13,
          14,
          14,
          14,
          14,
          15,
          15,
          16,
          16,
          16,
          16,
          16,
          16,
          17,
          18,
          18,
          18,
          18,
          18,
          19,
          19,
          20,
          20,
          20,
          20,
          20,
          21,
          21,
          21,
          21,
          22,
          22,
          23,
          24,
          24,
          24,
          25,
          26,
          26,
          27,
          28,
          28,
          28,
          28,
          28,
          29,
          29,
          29,
          30,
          31,
          31,
          31,
          31,
          32,
          32,
          32,
          32,
          34,
          34,
          35,
          35,
          35,
          36,
          36,
          38,
          38,
          39,
          39,
          39,
          39,
          40,
          41,
          42,
          42,
          42,
          43,
          44,
          44,
          44,
          46,
          48,
          48,
          48,
          49,
          49,
          49,
          51,
          51,
          51,
          52,
          52,
          52,
          53,
          53,
          55,
          56,
          56,
          56,
          57,
          58,
          61,
          61,
          62,
          62,
          63,
          63,
          63,
          63,
          64,
          65,
          66,
          67,
          68,
          68,
          69,
          69,
          69,
          70,
          70,
          70,
          71,
          72,
          72,
          72,
          74,
          74,
          74,
          75,
          77,
          79,
          79,
          80,
          82,
          82,
          83,
          84,
          84,
          84,
          86,
          87,
          87,
          88,
          89,
          90,
          90,
          94,
          95,
          96,
          96,
          97,
          97,
          98,
          98,
          98,
          98,
          102,
          104,
          104,
          105,
          106,
          107,
          108,
          108,
          108,
          109,
          110,
          110,
          111,
          113,
          114,
          114,
          115,
          117,
          117,
          118,
          118,
          119,
          121,
          122,
          122,
          124,
          124,
          124,
          124,
          127,
          127,
          128,
          128,
          129,
          129,
          130,
          131,
          131,
          132,
          132,
          133,
          134,
          134,
          135,
          138,
          138,
          139,
          141,
          143,
          143,
          144,
          144,
          146,
          147,
          148,
          149,
          149,
          149,
          150,
          150,
          152,
          156,
          158,
          160,
          160,
          160,
          163,
          164,
          165,
          165,
          166,
          168,
          168,
          168,
          169,
          169,
          171,
          171,
          172,
          173,
          173,
          175,
          175,
          176,
          176,
          182,
          182,
          182,
          183,
          184,
          185,
          186,
          188,
          188,
          188,
          189,
          190,
          191,
          191,
          192,
          192,
          192,
          193,
          194,
          194,
          196,
          197,
          198,
          201,
          202,
          203,
          205,
          206,
          206,
          209,
          211,
          214,
          216,
          216,
          216,
          218,
          218,
          218,
          218,
          219,
          221,
          222,
          222,
          226,
          229,
          229,
          232,
          238,
          238,
          238,
          240,
          243,
          243,
          244,
          244,
          244,
          248,
          249,
          249,
          255,
          256,
          256,
          259,
          260,
          261,
          261,
          262,
          263,
          263,
          265,
          265,
          265,
          267,
          267,
          268,
          269,
          270,
          270,
          271,
          275,
          275,
          278,
          278,
          280,
          280,
          282,
          282,
          283,
          283,
          283,
          284,
          285,
          288,
          291,
          294,
          299,
          301,
          301,
          302,
          302,
          302,
          305,
          306,
          309,
          310,
          313,
          313,
          313,
          314,
          315,
          316,
          316,
          317,
          317,
          321,
          321,
          323,
          330,
          331,
          335,
          335,
          339,
          339,
          343,
          346,
          349,
          351,
          353,
          353,
          356,
          358,
          360,
          360,
          361,
          363,
          364,
          365,
          366,
          369,
          372,
          374,
          375,
          375,
          375,
          377,
          380,
          382,
          385,
          386,
          386,
          386,
          387,
          393,
          395,
          396,
          396,
          397,
          399,
          399,
          400,
          401,
          402,
          404,
          406,
          406,
          410,
          412,
          413,
          415,
          418,
          418,
          420,
          421,
          424,
          425,
          425,
          426,
          427,
          429,
          436,
          439,
          440,
          444,
          446,
          449,
          452,
          453,
          463,
          465,
          468,
          468,
          469,
          470,
          470,
          470,
          471,
          473,
          475,
          477,
          479,
          481,
          482,
          482,
          482,
          495,
          498,
          503,
          509,
          510,
          512,
          513,
          515,
          516,
          516,
          521,
          522,
          524,
          524,
          525,
          525,
          526,
          527,
          530,
          534,
          535,
          536,
          537,
          540,
          542,
          543,
          544,
          547,
          549,
          549,
          562,
          562,
          568,
          570,
          570,
          572,
          572,
          573,
          585,
          592,
          592,
          592,
          593,
          594,
          597,
          600,
          601,
          605,
          608,
          617,
          623,
          624,
          628,
          632,
          635,
          640,
          646,
          649,
          650,
          655,
          655,
          656,
          657,
          663,
          666,
          671,
          671,
          675,
          675,
          677,
          680,
          681,
          690,
          690,
          693,
          695,
          698,
          700,
          701,
          707,
          710,
          712,
          712,
          715,
          715,
          715,
          717,
          719,
          722,
          722,
          723,
          724,
          741,
          741,
          751,
          754,
          756,
          757,
          761,
          768,
          771,
          771,
          772,
          772,
          775,
          777,
          778,
          781,
          781,
          787,
          787,
          789,
          791,
          794,
          801,
          801,
          802,
          804,
          806,
          806,
          821,
          823,
          843,
          844,
          847,
          855,
          857,
          860,
          864,
          864,
          866,
          874,
          874,
          875,
          884,
          887,
          896,
          911,
          912,
          915,
          936,
          936,
          941,
          942,
          954,
          977,
          998,
          999,
          1005,
          1020,
          1025,
          1026,
          1030,
          1063,
          1064,
          1067,
          1071,
          1076,
          1087,
          1099,
          1106,
          1110,
          1119,
          1123,
          1138,
          1158,
          1172,
          1189,
          1195,
          1195,
          1209,
          1209,
          1209,
          1211,
          1211,
          1223,
          1232,
          1239,
          1252,
          1258,
          1277,
          1286,
          1288,
          1301,
          1315,
          1324,
          1337,
          1337,
          1338,
          1368,
          1390,
          1402,
          1404,
          1412,
          1414,
          1416,
          1417,
          1419,
          1432,
          1437,
          1456,
          1460,
          1479,
          1494,
          1503,
          1506,
          1509,
          1511,
          1523,
          1552,
          1554,
          1557,
          1599,
          1608,
          1609,
          1612,
          1614,
          1614,
          1626,
          1629,
          1629,
          1635,
          1649,
          1652,
          1654,
          1656,
          1663,
          1667,
          1675,
          1690,
          1690,
          1697,
          1705,
          1723,
          1734,
          1735,
          1756,
          1762,
          1781,
          1790,
          1799,
          1809,
          1810,
          1816,
          1833,
          1834,
          1837,
          1850,
          1858,
          1871,
          1874,
          1876,
          1933,
          1944,
          1957,
          1985,
          1990,
          1993,
          2009,
          2010,
          2027,
          2029,
          2053,
          2069,
          2088,
          2109,
          2110,
          2117,
          2120,
          2137,
          2152,
          2189,
          2199,
          2203,
          2203,
          2213,
          2227,
          2265,
          2265,
          2268,
          2298,
          2304,
          2316,
          2332,
          2372,
          2395,
          2404,
          2425,
          2426,
          2451,
          2461,
          2538,
          2543,
          2543,
          2590,
          2605,
          2613,
          2621,
          2642,
          2643,
          2645,
          2662,
          2672,
          2700,
          2713,
          2741,
          2779,
          2801,
          2821,
          2824,
          2869,
          2870,
          2872,
          2900,
          2904,
          2934,
          2944,
          2947,
          2948,
          2950,
          2952,
          2982,
          2988,
          3009,
          3058,
          3061,
          3092,
          3095,
          3141,
          3147,
          3152,
          3186,
          3201,
          3229,
          3305,
          3342,
          3425,
          3429,
          3437,
          3438,
          3446,
          3476,
          3482,
          3532,
          3534,
          3589,
          3597,
          3677,
          3679,
          3775,
          3814,
          3816,
          3840,
          3905,
          3937,
          4058,
          4113,
          4135,
          4136,
          4170,
          4190,
          4201,
          4250,
          4306,
          4333,
          4354,
          4360,
          4409,
          4435,
          4454,
          4468,
          4567,
          4682,
          4749,
          4762,
          4802,
          4922,
          4933,
          5052,
          5070,
          5100,
          5206,
          5309,
          5368,
          5418,
          5442,
          5463,
          5583,
          5628,
          5678,
          5766,
          5837,
          5862,
          5989,
          6011,
          6168,
          6306,
          6411,
          6500,
          6515,
          6597,
          6714,
          6782,
          6782,
          6820,
          6883,
          7035,
          7183,
          7504,
          7554,
          7810,
          7895,
          7940,
          8015,
          8079,
          8365,
          8427,
          8482,
          8484,
          8517,
          8526,
          8772,
          8773,
          8842,
          8964,
          8999,
          9060,
          9208,
          9577,
          9611,
          9667,
          9709,
          10110,
          10181,
          10198,
          10368,
          10409,
          10644,
          10913,
          10946,
          10996,
          10996,
          11065,
          11076,
          11143,
          11161,
          11222,
          11395,
          11929,
          12020,
          12511,
          13228,
          13270,
          13279,
          13842,
          13936,
          14033,
          14198,
          14545,
          14688,
          14905,
          15362,
          16060,
          16189,
          16283,
          16551,
          16913,
          17201,
          17905,
          17926,
          18574,
          18861,
          19078,
          19340,
          19417,
          20142,
          20471,
          20606,
          21706,
          21885,
          22543,
          23340,
          24684,
          28725,
          30965,
          32979,
          34565,
          35889,
          37185,
          41314,
          47275,
          48518,
          49297,
          49626,
          56182,
          57199,
          60706
         ],
         "yaxis": "y"
        }
       ],
       "layout": {
        "barmode": "relative",
        "legend": {
         "tracegroupgap": 0
        },
        "margin": {
         "t": 60
        },
        "template": {
         "data": {
          "bar": [
           {
            "error_x": {
             "color": "#2a3f5f"
            },
            "error_y": {
             "color": "#2a3f5f"
            },
            "marker": {
             "line": {
              "color": "#E5ECF6",
              "width": 0.5
             },
             "pattern": {
              "fillmode": "overlay",
              "size": 10,
              "solidity": 0.2
             }
            },
            "type": "bar"
           }
          ],
          "barpolar": [
           {
            "marker": {
             "line": {
              "color": "#E5ECF6",
              "width": 0.5
             },
             "pattern": {
              "fillmode": "overlay",
              "size": 10,
              "solidity": 0.2
             }
            },
            "type": "barpolar"
           }
          ],
          "carpet": [
           {
            "aaxis": {
             "endlinecolor": "#2a3f5f",
             "gridcolor": "white",
             "linecolor": "white",
             "minorgridcolor": "white",
             "startlinecolor": "#2a3f5f"
            },
            "baxis": {
             "endlinecolor": "#2a3f5f",
             "gridcolor": "white",
             "linecolor": "white",
             "minorgridcolor": "white",
             "startlinecolor": "#2a3f5f"
            },
            "type": "carpet"
           }
          ],
          "choropleth": [
           {
            "colorbar": {
             "outlinewidth": 0,
             "ticks": ""
            },
            "type": "choropleth"
           }
          ],
          "contour": [
           {
            "colorbar": {
             "outlinewidth": 0,
             "ticks": ""
            },
            "colorscale": [
             [
              0,
              "#0d0887"
             ],
             [
              0.1111111111111111,
              "#46039f"
             ],
             [
              0.2222222222222222,
              "#7201a8"
             ],
             [
              0.3333333333333333,
              "#9c179e"
             ],
             [
              0.4444444444444444,
              "#bd3786"
             ],
             [
              0.5555555555555556,
              "#d8576b"
             ],
             [
              0.6666666666666666,
              "#ed7953"
             ],
             [
              0.7777777777777778,
              "#fb9f3a"
             ],
             [
              0.8888888888888888,
              "#fdca26"
             ],
             [
              1,
              "#f0f921"
             ]
            ],
            "type": "contour"
           }
          ],
          "contourcarpet": [
           {
            "colorbar": {
             "outlinewidth": 0,
             "ticks": ""
            },
            "type": "contourcarpet"
           }
          ],
          "heatmap": [
           {
            "colorbar": {
             "outlinewidth": 0,
             "ticks": ""
            },
            "colorscale": [
             [
              0,
              "#0d0887"
             ],
             [
              0.1111111111111111,
              "#46039f"
             ],
             [
              0.2222222222222222,
              "#7201a8"
             ],
             [
              0.3333333333333333,
              "#9c179e"
             ],
             [
              0.4444444444444444,
              "#bd3786"
             ],
             [
              0.5555555555555556,
              "#d8576b"
             ],
             [
              0.6666666666666666,
              "#ed7953"
             ],
             [
              0.7777777777777778,
              "#fb9f3a"
             ],
             [
              0.8888888888888888,
              "#fdca26"
             ],
             [
              1,
              "#f0f921"
             ]
            ],
            "type": "heatmap"
           }
          ],
          "heatmapgl": [
           {
            "colorbar": {
             "outlinewidth": 0,
             "ticks": ""
            },
            "colorscale": [
             [
              0,
              "#0d0887"
             ],
             [
              0.1111111111111111,
              "#46039f"
             ],
             [
              0.2222222222222222,
              "#7201a8"
             ],
             [
              0.3333333333333333,
              "#9c179e"
             ],
             [
              0.4444444444444444,
              "#bd3786"
             ],
             [
              0.5555555555555556,
              "#d8576b"
             ],
             [
              0.6666666666666666,
              "#ed7953"
             ],
             [
              0.7777777777777778,
              "#fb9f3a"
             ],
             [
              0.8888888888888888,
              "#fdca26"
             ],
             [
              1,
              "#f0f921"
             ]
            ],
            "type": "heatmapgl"
           }
          ],
          "histogram": [
           {
            "marker": {
             "pattern": {
              "fillmode": "overlay",
              "size": 10,
              "solidity": 0.2
             }
            },
            "type": "histogram"
           }
          ],
          "histogram2d": [
           {
            "colorbar": {
             "outlinewidth": 0,
             "ticks": ""
            },
            "colorscale": [
             [
              0,
              "#0d0887"
             ],
             [
              0.1111111111111111,
              "#46039f"
             ],
             [
              0.2222222222222222,
              "#7201a8"
             ],
             [
              0.3333333333333333,
              "#9c179e"
             ],
             [
              0.4444444444444444,
              "#bd3786"
             ],
             [
              0.5555555555555556,
              "#d8576b"
             ],
             [
              0.6666666666666666,
              "#ed7953"
             ],
             [
              0.7777777777777778,
              "#fb9f3a"
             ],
             [
              0.8888888888888888,
              "#fdca26"
             ],
             [
              1,
              "#f0f921"
             ]
            ],
            "type": "histogram2d"
           }
          ],
          "histogram2dcontour": [
           {
            "colorbar": {
             "outlinewidth": 0,
             "ticks": ""
            },
            "colorscale": [
             [
              0,
              "#0d0887"
             ],
             [
              0.1111111111111111,
              "#46039f"
             ],
             [
              0.2222222222222222,
              "#7201a8"
             ],
             [
              0.3333333333333333,
              "#9c179e"
             ],
             [
              0.4444444444444444,
              "#bd3786"
             ],
             [
              0.5555555555555556,
              "#d8576b"
             ],
             [
              0.6666666666666666,
              "#ed7953"
             ],
             [
              0.7777777777777778,
              "#fb9f3a"
             ],
             [
              0.8888888888888888,
              "#fdca26"
             ],
             [
              1,
              "#f0f921"
             ]
            ],
            "type": "histogram2dcontour"
           }
          ],
          "mesh3d": [
           {
            "colorbar": {
             "outlinewidth": 0,
             "ticks": ""
            },
            "type": "mesh3d"
           }
          ],
          "parcoords": [
           {
            "line": {
             "colorbar": {
              "outlinewidth": 0,
              "ticks": ""
             }
            },
            "type": "parcoords"
           }
          ],
          "pie": [
           {
            "automargin": true,
            "type": "pie"
           }
          ],
          "scatter": [
           {
            "fillpattern": {
             "fillmode": "overlay",
             "size": 10,
             "solidity": 0.2
            },
            "type": "scatter"
           }
          ],
          "scatter3d": [
           {
            "line": {
             "colorbar": {
              "outlinewidth": 0,
              "ticks": ""
             }
            },
            "marker": {
             "colorbar": {
              "outlinewidth": 0,
              "ticks": ""
             }
            },
            "type": "scatter3d"
           }
          ],
          "scattercarpet": [
           {
            "marker": {
             "colorbar": {
              "outlinewidth": 0,
              "ticks": ""
             }
            },
            "type": "scattercarpet"
           }
          ],
          "scattergeo": [
           {
            "marker": {
             "colorbar": {
              "outlinewidth": 0,
              "ticks": ""
             }
            },
            "type": "scattergeo"
           }
          ],
          "scattergl": [
           {
            "marker": {
             "colorbar": {
              "outlinewidth": 0,
              "ticks": ""
             }
            },
            "type": "scattergl"
           }
          ],
          "scattermapbox": [
           {
            "marker": {
             "colorbar": {
              "outlinewidth": 0,
              "ticks": ""
             }
            },
            "type": "scattermapbox"
           }
          ],
          "scatterpolar": [
           {
            "marker": {
             "colorbar": {
              "outlinewidth": 0,
              "ticks": ""
             }
            },
            "type": "scatterpolar"
           }
          ],
          "scatterpolargl": [
           {
            "marker": {
             "colorbar": {
              "outlinewidth": 0,
              "ticks": ""
             }
            },
            "type": "scatterpolargl"
           }
          ],
          "scatterternary": [
           {
            "marker": {
             "colorbar": {
              "outlinewidth": 0,
              "ticks": ""
             }
            },
            "type": "scatterternary"
           }
          ],
          "surface": [
           {
            "colorbar": {
             "outlinewidth": 0,
             "ticks": ""
            },
            "colorscale": [
             [
              0,
              "#0d0887"
             ],
             [
              0.1111111111111111,
              "#46039f"
             ],
             [
              0.2222222222222222,
              "#7201a8"
             ],
             [
              0.3333333333333333,
              "#9c179e"
             ],
             [
              0.4444444444444444,
              "#bd3786"
             ],
             [
              0.5555555555555556,
              "#d8576b"
             ],
             [
              0.6666666666666666,
              "#ed7953"
             ],
             [
              0.7777777777777778,
              "#fb9f3a"
             ],
             [
              0.8888888888888888,
              "#fdca26"
             ],
             [
              1,
              "#f0f921"
             ]
            ],
            "type": "surface"
           }
          ],
          "table": [
           {
            "cells": {
             "fill": {
              "color": "#EBF0F8"
             },
             "line": {
              "color": "white"
             }
            },
            "header": {
             "fill": {
              "color": "#C8D4E3"
             },
             "line": {
              "color": "white"
             }
            },
            "type": "table"
           }
          ]
         },
         "layout": {
          "annotationdefaults": {
           "arrowcolor": "#2a3f5f",
           "arrowhead": 0,
           "arrowwidth": 1
          },
          "autotypenumbers": "strict",
          "coloraxis": {
           "colorbar": {
            "outlinewidth": 0,
            "ticks": ""
           }
          },
          "colorscale": {
           "diverging": [
            [
             0,
             "#8e0152"
            ],
            [
             0.1,
             "#c51b7d"
            ],
            [
             0.2,
             "#de77ae"
            ],
            [
             0.3,
             "#f1b6da"
            ],
            [
             0.4,
             "#fde0ef"
            ],
            [
             0.5,
             "#f7f7f7"
            ],
            [
             0.6,
             "#e6f5d0"
            ],
            [
             0.7,
             "#b8e186"
            ],
            [
             0.8,
             "#7fbc41"
            ],
            [
             0.9,
             "#4d9221"
            ],
            [
             1,
             "#276419"
            ]
           ],
           "sequential": [
            [
             0,
             "#0d0887"
            ],
            [
             0.1111111111111111,
             "#46039f"
            ],
            [
             0.2222222222222222,
             "#7201a8"
            ],
            [
             0.3333333333333333,
             "#9c179e"
            ],
            [
             0.4444444444444444,
             "#bd3786"
            ],
            [
             0.5555555555555556,
             "#d8576b"
            ],
            [
             0.6666666666666666,
             "#ed7953"
            ],
            [
             0.7777777777777778,
             "#fb9f3a"
            ],
            [
             0.8888888888888888,
             "#fdca26"
            ],
            [
             1,
             "#f0f921"
            ]
           ],
           "sequentialminus": [
            [
             0,
             "#0d0887"
            ],
            [
             0.1111111111111111,
             "#46039f"
            ],
            [
             0.2222222222222222,
             "#7201a8"
            ],
            [
             0.3333333333333333,
             "#9c179e"
            ],
            [
             0.4444444444444444,
             "#bd3786"
            ],
            [
             0.5555555555555556,
             "#d8576b"
            ],
            [
             0.6666666666666666,
             "#ed7953"
            ],
            [
             0.7777777777777778,
             "#fb9f3a"
            ],
            [
             0.8888888888888888,
             "#fdca26"
            ],
            [
             1,
             "#f0f921"
            ]
           ]
          },
          "colorway": [
           "#636efa",
           "#EF553B",
           "#00cc96",
           "#ab63fa",
           "#FFA15A",
           "#19d3f3",
           "#FF6692",
           "#B6E880",
           "#FF97FF",
           "#FECB52"
          ],
          "font": {
           "color": "#2a3f5f"
          },
          "geo": {
           "bgcolor": "white",
           "lakecolor": "white",
           "landcolor": "#E5ECF6",
           "showlakes": true,
           "showland": true,
           "subunitcolor": "white"
          },
          "hoverlabel": {
           "align": "left"
          },
          "hovermode": "closest",
          "mapbox": {
           "style": "light"
          },
          "paper_bgcolor": "white",
          "plot_bgcolor": "#E5ECF6",
          "polar": {
           "angularaxis": {
            "gridcolor": "white",
            "linecolor": "white",
            "ticks": ""
           },
           "bgcolor": "#E5ECF6",
           "radialaxis": {
            "gridcolor": "white",
            "linecolor": "white",
            "ticks": ""
           }
          },
          "scene": {
           "xaxis": {
            "backgroundcolor": "#E5ECF6",
            "gridcolor": "white",
            "gridwidth": 2,
            "linecolor": "white",
            "showbackground": true,
            "ticks": "",
            "zerolinecolor": "white"
           },
           "yaxis": {
            "backgroundcolor": "#E5ECF6",
            "gridcolor": "white",
            "gridwidth": 2,
            "linecolor": "white",
            "showbackground": true,
            "ticks": "",
            "zerolinecolor": "white"
           },
           "zaxis": {
            "backgroundcolor": "#E5ECF6",
            "gridcolor": "white",
            "gridwidth": 2,
            "linecolor": "white",
            "showbackground": true,
            "ticks": "",
            "zerolinecolor": "white"
           }
          },
          "shapedefaults": {
           "line": {
            "color": "#2a3f5f"
           }
          },
          "ternary": {
           "aaxis": {
            "gridcolor": "white",
            "linecolor": "white",
            "ticks": ""
           },
           "baxis": {
            "gridcolor": "white",
            "linecolor": "white",
            "ticks": ""
           },
           "bgcolor": "#E5ECF6",
           "caxis": {
            "gridcolor": "white",
            "linecolor": "white",
            "ticks": ""
           }
          },
          "title": {
           "x": 0.05
          },
          "xaxis": {
           "automargin": true,
           "gridcolor": "white",
           "linecolor": "white",
           "ticks": "",
           "title": {
            "standoff": 15
           },
           "zerolinecolor": "white",
           "zerolinewidth": 2
          },
          "yaxis": {
           "automargin": true,
           "gridcolor": "white",
           "linecolor": "white",
           "ticks": "",
           "title": {
            "standoff": 15
           },
           "zerolinecolor": "white",
           "zerolinewidth": 2
          }
         }
        },
        "xaxis": {
         "anchor": "y",
         "domain": [
          0,
          1
         ],
         "title": {
          "text": "_index"
         }
        },
        "yaxis": {
         "anchor": "x",
         "domain": [
          0,
          1
         ],
         "title": {
          "text": "pullRequests"
         }
        }
       }
      }
     },
     "metadata": {},
     "output_type": "display_data"
    }
   ],
   "source": [
    "fig = px.bar(table.sort_values(by='pullRequests').reset_index(), y='pullRequests')\n",
    "fig.show()\n"
   ]
  },
  {
   "cell_type": "code",
   "execution_count": 10,
   "metadata": {},
   "outputs": [],
   "source": [
    "table = df['primaryLanguage'].value_counts().reset_index()\n",
    "table = table.rename(columns={'index': 'language', 'primaryLanguage': 'values'})\n",
    "total = table['values'].sum()\n",
    "table['percent'] = table['values'].apply(func={lambda x: f'{(x/total)*100:.2f}%'})\n"
   ]
  },
  {
   "cell_type": "code",
   "execution_count": 11,
   "metadata": {},
   "outputs": [
    {
     "data": {
      "application/vnd.plotly.v1+json": {
       "config": {
        "plotlyServerURL": "https://plot.ly"
       },
       "data": [
        {
         "alignmentgroup": "True",
         "hovertemplate": "language=%{y}<br>values=%{x}<br>percent=%{text}<extra></extra>",
         "legendgroup": "JavaScript",
         "marker": {
          "color": "#636efa",
          "pattern": {
           "shape": ""
          }
         },
         "name": "JavaScript",
         "offsetgroup": "JavaScript",
         "orientation": "h",
         "showlegend": true,
         "text": [
          "20.79%"
         ],
         "textposition": "outside",
         "type": "bar",
         "x": [
          184
         ],
         "xaxis": "x",
         "y": [
          "JavaScript"
         ],
         "yaxis": "y"
        },
        {
         "alignmentgroup": "True",
         "hovertemplate": "language=%{y}<br>values=%{x}<br>percent=%{text}<extra></extra>",
         "legendgroup": "Python",
         "marker": {
          "color": "#EF553B",
          "pattern": {
           "shape": ""
          }
         },
         "name": "Python",
         "offsetgroup": "Python",
         "orientation": "h",
         "showlegend": true,
         "text": [
          "15.71%"
         ],
         "textposition": "outside",
         "type": "bar",
         "x": [
          139
         ],
         "xaxis": "x",
         "y": [
          "Python"
         ],
         "yaxis": "y"
        },
        {
         "alignmentgroup": "True",
         "hovertemplate": "language=%{y}<br>values=%{x}<br>percent=%{text}<extra></extra>",
         "legendgroup": "TypeScript",
         "marker": {
          "color": "#00cc96",
          "pattern": {
           "shape": ""
          }
         },
         "name": "TypeScript",
         "offsetgroup": "TypeScript",
         "orientation": "h",
         "showlegend": true,
         "text": [
          "13.67%"
         ],
         "textposition": "outside",
         "type": "bar",
         "x": [
          121
         ],
         "xaxis": "x",
         "y": [
          "TypeScript"
         ],
         "yaxis": "y"
        },
        {
         "alignmentgroup": "True",
         "hovertemplate": "language=%{y}<br>values=%{x}<br>percent=%{text}<extra></extra>",
         "legendgroup": "Go",
         "marker": {
          "color": "#ab63fa",
          "pattern": {
           "shape": ""
          }
         },
         "name": "Go",
         "offsetgroup": "Go",
         "orientation": "h",
         "showlegend": true,
         "text": [
          "8.25%"
         ],
         "textposition": "outside",
         "type": "bar",
         "x": [
          73
         ],
         "xaxis": "x",
         "y": [
          "Go"
         ],
         "yaxis": "y"
        },
        {
         "alignmentgroup": "True",
         "hovertemplate": "language=%{y}<br>values=%{x}<br>percent=%{text}<extra></extra>",
         "legendgroup": "Java",
         "marker": {
          "color": "#FFA15A",
          "pattern": {
           "shape": ""
          }
         },
         "name": "Java",
         "offsetgroup": "Java",
         "orientation": "h",
         "showlegend": true,
         "text": [
          "6.89%"
         ],
         "textposition": "outside",
         "type": "bar",
         "x": [
          61
         ],
         "xaxis": "x",
         "y": [
          "Java"
         ],
         "yaxis": "y"
        },
        {
         "alignmentgroup": "True",
         "hovertemplate": "language=%{y}<br>values=%{x}<br>percent=%{text}<extra></extra>",
         "legendgroup": "C++",
         "marker": {
          "color": "#19d3f3",
          "pattern": {
           "shape": ""
          }
         },
         "name": "C++",
         "offsetgroup": "C++",
         "orientation": "h",
         "showlegend": true,
         "text": [
          "5.88%"
         ],
         "textposition": "outside",
         "type": "bar",
         "x": [
          52
         ],
         "xaxis": "x",
         "y": [
          "C++"
         ],
         "yaxis": "y"
        },
        {
         "alignmentgroup": "True",
         "hovertemplate": "language=%{y}<br>values=%{x}<br>percent=%{text}<extra></extra>",
         "legendgroup": "C",
         "marker": {
          "color": "#FF6692",
          "pattern": {
           "shape": ""
          }
         },
         "name": "C",
         "offsetgroup": "C",
         "orientation": "h",
         "showlegend": true,
         "text": [
          "3.16%"
         ],
         "textposition": "outside",
         "type": "bar",
         "x": [
          28
         ],
         "xaxis": "x",
         "y": [
          "C"
         ],
         "yaxis": "y"
        },
        {
         "alignmentgroup": "True",
         "hovertemplate": "language=%{y}<br>values=%{x}<br>percent=%{text}<extra></extra>",
         "legendgroup": "Rust",
         "marker": {
          "color": "#B6E880",
          "pattern": {
           "shape": ""
          }
         },
         "name": "Rust",
         "offsetgroup": "Rust",
         "orientation": "h",
         "showlegend": true,
         "text": [
          "3.05%"
         ],
         "textposition": "outside",
         "type": "bar",
         "x": [
          27
         ],
         "xaxis": "x",
         "y": [
          "Rust"
         ],
         "yaxis": "y"
        },
        {
         "alignmentgroup": "True",
         "hovertemplate": "language=%{y}<br>values=%{x}<br>percent=%{text}<extra></extra>",
         "legendgroup": "Shell",
         "marker": {
          "color": "#FF97FF",
          "pattern": {
           "shape": ""
          }
         },
         "name": "Shell",
         "offsetgroup": "Shell",
         "orientation": "h",
         "showlegend": true,
         "text": [
          "2.82%"
         ],
         "textposition": "outside",
         "type": "bar",
         "x": [
          25
         ],
         "xaxis": "x",
         "y": [
          "Shell"
         ],
         "yaxis": "y"
        },
        {
         "alignmentgroup": "True",
         "hovertemplate": "language=%{y}<br>values=%{x}<br>percent=%{text}<extra></extra>",
         "legendgroup": "HTML",
         "marker": {
          "color": "#FECB52",
          "pattern": {
           "shape": ""
          }
         },
         "name": "HTML",
         "offsetgroup": "HTML",
         "orientation": "h",
         "showlegend": true,
         "text": [
          "2.49%"
         ],
         "textposition": "outside",
         "type": "bar",
         "x": [
          22
         ],
         "xaxis": "x",
         "y": [
          "HTML"
         ],
         "yaxis": "y"
        },
        {
         "alignmentgroup": "True",
         "hovertemplate": "language=%{y}<br>values=%{x}<br>percent=%{text}<extra></extra>",
         "legendgroup": "Jupyter Notebook",
         "marker": {
          "color": "#636efa",
          "pattern": {
           "shape": ""
          }
         },
         "name": "Jupyter Notebook",
         "offsetgroup": "Jupyter Notebook",
         "orientation": "h",
         "showlegend": true,
         "text": [
          "2.03%"
         ],
         "textposition": "outside",
         "type": "bar",
         "x": [
          18
         ],
         "xaxis": "x",
         "y": [
          "Jupyter Notebook"
         ],
         "yaxis": "y"
        },
        {
         "alignmentgroup": "True",
         "hovertemplate": "language=%{y}<br>values=%{x}<br>percent=%{text}<extra></extra>",
         "legendgroup": "Swift",
         "marker": {
          "color": "#EF553B",
          "pattern": {
           "shape": ""
          }
         },
         "name": "Swift",
         "offsetgroup": "Swift",
         "orientation": "h",
         "showlegend": true,
         "text": [
          "1.69%"
         ],
         "textposition": "outside",
         "type": "bar",
         "x": [
          15
         ],
         "xaxis": "x",
         "y": [
          "Swift"
         ],
         "yaxis": "y"
        },
        {
         "alignmentgroup": "True",
         "hovertemplate": "language=%{y}<br>values=%{x}<br>percent=%{text}<extra></extra>",
         "legendgroup": "C#",
         "marker": {
          "color": "#00cc96",
          "pattern": {
           "shape": ""
          }
         },
         "name": "C#",
         "offsetgroup": "C#",
         "orientation": "h",
         "showlegend": true,
         "text": [
          "1.69%"
         ],
         "textposition": "outside",
         "type": "bar",
         "x": [
          15
         ],
         "xaxis": "x",
         "y": [
          "C#"
         ],
         "yaxis": "y"
        },
        {
         "alignmentgroup": "True",
         "hovertemplate": "language=%{y}<br>values=%{x}<br>percent=%{text}<extra></extra>",
         "legendgroup": "Ruby",
         "marker": {
          "color": "#ab63fa",
          "pattern": {
           "shape": ""
          }
         },
         "name": "Ruby",
         "offsetgroup": "Ruby",
         "orientation": "h",
         "showlegend": true,
         "text": [
          "1.69%"
         ],
         "textposition": "outside",
         "type": "bar",
         "x": [
          15
         ],
         "xaxis": "x",
         "y": [
          "Ruby"
         ],
         "yaxis": "y"
        },
        {
         "alignmentgroup": "True",
         "hovertemplate": "language=%{y}<br>values=%{x}<br>percent=%{text}<extra></extra>",
         "legendgroup": "Kotlin",
         "marker": {
          "color": "#FFA15A",
          "pattern": {
           "shape": ""
          }
         },
         "name": "Kotlin",
         "offsetgroup": "Kotlin",
         "orientation": "h",
         "showlegend": true,
         "text": [
          "1.47%"
         ],
         "textposition": "outside",
         "type": "bar",
         "x": [
          13
         ],
         "xaxis": "x",
         "y": [
          "Kotlin"
         ],
         "yaxis": "y"
        },
        {
         "alignmentgroup": "True",
         "hovertemplate": "language=%{y}<br>values=%{x}<br>percent=%{text}<extra></extra>",
         "legendgroup": "PHP",
         "marker": {
          "color": "#19d3f3",
          "pattern": {
           "shape": ""
          }
         },
         "name": "PHP",
         "offsetgroup": "PHP",
         "orientation": "h",
         "showlegend": true,
         "text": [
          "1.02%"
         ],
         "textposition": "outside",
         "type": "bar",
         "x": [
          9
         ],
         "xaxis": "x",
         "y": [
          "PHP"
         ],
         "yaxis": "y"
        },
        {
         "alignmentgroup": "True",
         "hovertemplate": "language=%{y}<br>values=%{x}<br>percent=%{text}<extra></extra>",
         "legendgroup": "Vue",
         "marker": {
          "color": "#FF6692",
          "pattern": {
           "shape": ""
          }
         },
         "name": "Vue",
         "offsetgroup": "Vue",
         "orientation": "h",
         "showlegend": true,
         "text": [
          "0.79%"
         ],
         "textposition": "outside",
         "type": "bar",
         "x": [
          7
         ],
         "xaxis": "x",
         "y": [
          "Vue"
         ],
         "yaxis": "y"
        },
        {
         "alignmentgroup": "True",
         "hovertemplate": "language=%{y}<br>values=%{x}<br>percent=%{text}<extra></extra>",
         "legendgroup": "CSS",
         "marker": {
          "color": "#B6E880",
          "pattern": {
           "shape": ""
          }
         },
         "name": "CSS",
         "offsetgroup": "CSS",
         "orientation": "h",
         "showlegend": true,
         "text": [
          "0.79%"
         ],
         "textposition": "outside",
         "type": "bar",
         "x": [
          7
         ],
         "xaxis": "x",
         "y": [
          "CSS"
         ],
         "yaxis": "y"
        },
        {
         "alignmentgroup": "True",
         "hovertemplate": "language=%{y}<br>values=%{x}<br>percent=%{text}<extra></extra>",
         "legendgroup": "Vim Script",
         "marker": {
          "color": "#FF97FF",
          "pattern": {
           "shape": ""
          }
         },
         "name": "Vim Script",
         "offsetgroup": "Vim Script",
         "orientation": "h",
         "showlegend": true,
         "text": [
          "0.56%"
         ],
         "textposition": "outside",
         "type": "bar",
         "x": [
          5
         ],
         "xaxis": "x",
         "y": [
          "Vim Script"
         ],
         "yaxis": "y"
        },
        {
         "alignmentgroup": "True",
         "hovertemplate": "language=%{y}<br>values=%{x}<br>percent=%{text}<extra></extra>",
         "legendgroup": "Clojure",
         "marker": {
          "color": "#FECB52",
          "pattern": {
           "shape": ""
          }
         },
         "name": "Clojure",
         "offsetgroup": "Clojure",
         "orientation": "h",
         "showlegend": true,
         "text": [
          "0.45%"
         ],
         "textposition": "outside",
         "type": "bar",
         "x": [
          4
         ],
         "xaxis": "x",
         "y": [
          "Clojure"
         ],
         "yaxis": "y"
        },
        {
         "alignmentgroup": "True",
         "hovertemplate": "language=%{y}<br>values=%{x}<br>percent=%{text}<extra></extra>",
         "legendgroup": "Dart",
         "marker": {
          "color": "#636efa",
          "pattern": {
           "shape": ""
          }
         },
         "name": "Dart",
         "offsetgroup": "Dart",
         "orientation": "h",
         "showlegend": true,
         "text": [
          "0.45%"
         ],
         "textposition": "outside",
         "type": "bar",
         "x": [
          4
         ],
         "xaxis": "x",
         "y": [
          "Dart"
         ],
         "yaxis": "y"
        },
        {
         "alignmentgroup": "True",
         "hovertemplate": "language=%{y}<br>values=%{x}<br>percent=%{text}<extra></extra>",
         "legendgroup": "MDX",
         "marker": {
          "color": "#EF553B",
          "pattern": {
           "shape": ""
          }
         },
         "name": "MDX",
         "offsetgroup": "MDX",
         "orientation": "h",
         "showlegend": true,
         "text": [
          "0.45%"
         ],
         "textposition": "outside",
         "type": "bar",
         "x": [
          4
         ],
         "xaxis": "x",
         "y": [
          "MDX"
         ],
         "yaxis": "y"
        },
        {
         "alignmentgroup": "True",
         "hovertemplate": "language=%{y}<br>values=%{x}<br>percent=%{text}<extra></extra>",
         "legendgroup": "Markdown",
         "marker": {
          "color": "#00cc96",
          "pattern": {
           "shape": ""
          }
         },
         "name": "Markdown",
         "offsetgroup": "Markdown",
         "orientation": "h",
         "showlegend": true,
         "text": [
          "0.34%"
         ],
         "textposition": "outside",
         "type": "bar",
         "x": [
          3
         ],
         "xaxis": "x",
         "y": [
          "Markdown"
         ],
         "yaxis": "y"
        },
        {
         "alignmentgroup": "True",
         "hovertemplate": "language=%{y}<br>values=%{x}<br>percent=%{text}<extra></extra>",
         "legendgroup": "TeX",
         "marker": {
          "color": "#ab63fa",
          "pattern": {
           "shape": ""
          }
         },
         "name": "TeX",
         "offsetgroup": "TeX",
         "orientation": "h",
         "showlegend": true,
         "text": [
          "0.34%"
         ],
         "textposition": "outside",
         "type": "bar",
         "x": [
          3
         ],
         "xaxis": "x",
         "y": [
          "TeX"
         ],
         "yaxis": "y"
        },
        {
         "alignmentgroup": "True",
         "hovertemplate": "language=%{y}<br>values=%{x}<br>percent=%{text}<extra></extra>",
         "legendgroup": "SCSS",
         "marker": {
          "color": "#FFA15A",
          "pattern": {
           "shape": ""
          }
         },
         "name": "SCSS",
         "offsetgroup": "SCSS",
         "orientation": "h",
         "showlegend": true,
         "text": [
          "0.34%"
         ],
         "textposition": "outside",
         "type": "bar",
         "x": [
          3
         ],
         "xaxis": "x",
         "y": [
          "SCSS"
         ],
         "yaxis": "y"
        },
        {
         "alignmentgroup": "True",
         "hovertemplate": "language=%{y}<br>values=%{x}<br>percent=%{text}<extra></extra>",
         "legendgroup": "Haskell",
         "marker": {
          "color": "#19d3f3",
          "pattern": {
           "shape": ""
          }
         },
         "name": "Haskell",
         "offsetgroup": "Haskell",
         "orientation": "h",
         "showlegend": true,
         "text": [
          "0.23%"
         ],
         "textposition": "outside",
         "type": "bar",
         "x": [
          2
         ],
         "xaxis": "x",
         "y": [
          "Haskell"
         ],
         "yaxis": "y"
        },
        {
         "alignmentgroup": "True",
         "hovertemplate": "language=%{y}<br>values=%{x}<br>percent=%{text}<extra></extra>",
         "legendgroup": "Objective-C",
         "marker": {
          "color": "#FF6692",
          "pattern": {
           "shape": ""
          }
         },
         "name": "Objective-C",
         "offsetgroup": "Objective-C",
         "orientation": "h",
         "showlegend": true,
         "text": [
          "0.23%"
         ],
         "textposition": "outside",
         "type": "bar",
         "x": [
          2
         ],
         "xaxis": "x",
         "y": [
          "Objective-C"
         ],
         "yaxis": "y"
        },
        {
         "alignmentgroup": "True",
         "hovertemplate": "language=%{y}<br>values=%{x}<br>percent=%{text}<extra></extra>",
         "legendgroup": "Dockerfile",
         "marker": {
          "color": "#B6E880",
          "pattern": {
           "shape": ""
          }
         },
         "name": "Dockerfile",
         "offsetgroup": "Dockerfile",
         "orientation": "h",
         "showlegend": true,
         "text": [
          "0.23%"
         ],
         "textposition": "outside",
         "type": "bar",
         "x": [
          2
         ],
         "xaxis": "x",
         "y": [
          "Dockerfile"
         ],
         "yaxis": "y"
        },
        {
         "alignmentgroup": "True",
         "hovertemplate": "language=%{y}<br>values=%{x}<br>percent=%{text}<extra></extra>",
         "legendgroup": "Zig",
         "marker": {
          "color": "#FF97FF",
          "pattern": {
           "shape": ""
          }
         },
         "name": "Zig",
         "offsetgroup": "Zig",
         "orientation": "h",
         "showlegend": true,
         "text": [
          "0.23%"
         ],
         "textposition": "outside",
         "type": "bar",
         "x": [
          2
         ],
         "xaxis": "x",
         "y": [
          "Zig"
         ],
         "yaxis": "y"
        },
        {
         "alignmentgroup": "True",
         "hovertemplate": "language=%{y}<br>values=%{x}<br>percent=%{text}<extra></extra>",
         "legendgroup": "Scala",
         "marker": {
          "color": "#FECB52",
          "pattern": {
           "shape": ""
          }
         },
         "name": "Scala",
         "offsetgroup": "Scala",
         "orientation": "h",
         "showlegend": true,
         "text": [
          "0.23%"
         ],
         "textposition": "outside",
         "type": "bar",
         "x": [
          2
         ],
         "xaxis": "x",
         "y": [
          "Scala"
         ],
         "yaxis": "y"
        },
        {
         "alignmentgroup": "True",
         "hovertemplate": "language=%{y}<br>values=%{x}<br>percent=%{text}<extra></extra>",
         "legendgroup": "Makefile",
         "marker": {
          "color": "#636efa",
          "pattern": {
           "shape": ""
          }
         },
         "name": "Makefile",
         "offsetgroup": "Makefile",
         "orientation": "h",
         "showlegend": true,
         "text": [
          "0.23%"
         ],
         "textposition": "outside",
         "type": "bar",
         "x": [
          2
         ],
         "xaxis": "x",
         "y": [
          "Makefile"
         ],
         "yaxis": "y"
        },
        {
         "alignmentgroup": "True",
         "hovertemplate": "language=%{y}<br>values=%{x}<br>percent=%{text}<extra></extra>",
         "legendgroup": "Batchfile",
         "marker": {
          "color": "#EF553B",
          "pattern": {
           "shape": ""
          }
         },
         "name": "Batchfile",
         "offsetgroup": "Batchfile",
         "orientation": "h",
         "showlegend": true,
         "text": [
          "0.23%"
         ],
         "textposition": "outside",
         "type": "bar",
         "x": [
          2
         ],
         "xaxis": "x",
         "y": [
          "Batchfile"
         ],
         "yaxis": "y"
        },
        {
         "alignmentgroup": "True",
         "hovertemplate": "language=%{y}<br>values=%{x}<br>percent=%{text}<extra></extra>",
         "legendgroup": "Lua",
         "marker": {
          "color": "#00cc96",
          "pattern": {
           "shape": ""
          }
         },
         "name": "Lua",
         "offsetgroup": "Lua",
         "orientation": "h",
         "showlegend": true,
         "text": [
          "0.23%"
         ],
         "textposition": "outside",
         "type": "bar",
         "x": [
          2
         ],
         "xaxis": "x",
         "y": [
          "Lua"
         ],
         "yaxis": "y"
        },
        {
         "alignmentgroup": "True",
         "hovertemplate": "language=%{y}<br>values=%{x}<br>percent=%{text}<extra></extra>",
         "legendgroup": "Svelte",
         "marker": {
          "color": "#ab63fa",
          "pattern": {
           "shape": ""
          }
         },
         "name": "Svelte",
         "offsetgroup": "Svelte",
         "orientation": "h",
         "showlegend": true,
         "text": [
          "0.11%"
         ],
         "textposition": "outside",
         "type": "bar",
         "x": [
          1
         ],
         "xaxis": "x",
         "y": [
          "Svelte"
         ],
         "yaxis": "y"
        },
        {
         "alignmentgroup": "True",
         "hovertemplate": "language=%{y}<br>values=%{x}<br>percent=%{text}<extra></extra>",
         "legendgroup": "Emacs Lisp",
         "marker": {
          "color": "#FFA15A",
          "pattern": {
           "shape": ""
          }
         },
         "name": "Emacs Lisp",
         "offsetgroup": "Emacs Lisp",
         "orientation": "h",
         "showlegend": true,
         "text": [
          "0.11%"
         ],
         "textposition": "outside",
         "type": "bar",
         "x": [
          1
         ],
         "xaxis": "x",
         "y": [
          "Emacs Lisp"
         ],
         "yaxis": "y"
        },
        {
         "alignmentgroup": "True",
         "hovertemplate": "language=%{y}<br>values=%{x}<br>percent=%{text}<extra></extra>",
         "legendgroup": "OCaml",
         "marker": {
          "color": "#19d3f3",
          "pattern": {
           "shape": ""
          }
         },
         "name": "OCaml",
         "offsetgroup": "OCaml",
         "orientation": "h",
         "showlegend": true,
         "text": [
          "0.11%"
         ],
         "textposition": "outside",
         "type": "bar",
         "x": [
          1
         ],
         "xaxis": "x",
         "y": [
          "OCaml"
         ],
         "yaxis": "y"
        },
        {
         "alignmentgroup": "True",
         "hovertemplate": "language=%{y}<br>values=%{x}<br>percent=%{text}<extra></extra>",
         "legendgroup": "Elixir",
         "marker": {
          "color": "#FF6692",
          "pattern": {
           "shape": ""
          }
         },
         "name": "Elixir",
         "offsetgroup": "Elixir",
         "orientation": "h",
         "showlegend": true,
         "text": [
          "0.11%"
         ],
         "textposition": "outside",
         "type": "bar",
         "x": [
          1
         ],
         "xaxis": "x",
         "y": [
          "Elixir"
         ],
         "yaxis": "y"
        },
        {
         "alignmentgroup": "True",
         "hovertemplate": "language=%{y}<br>values=%{x}<br>percent=%{text}<extra></extra>",
         "legendgroup": "Jinja",
         "marker": {
          "color": "#B6E880",
          "pattern": {
           "shape": ""
          }
         },
         "name": "Jinja",
         "offsetgroup": "Jinja",
         "orientation": "h",
         "showlegend": true,
         "text": [
          "0.11%"
         ],
         "textposition": "outside",
         "type": "bar",
         "x": [
          1
         ],
         "xaxis": "x",
         "y": [
          "Jinja"
         ],
         "yaxis": "y"
        },
        {
         "alignmentgroup": "True",
         "hovertemplate": "language=%{y}<br>values=%{x}<br>percent=%{text}<extra></extra>",
         "legendgroup": "Assembly",
         "marker": {
          "color": "#FF97FF",
          "pattern": {
           "shape": ""
          }
         },
         "name": "Assembly",
         "offsetgroup": "Assembly",
         "orientation": "h",
         "showlegend": true,
         "text": [
          "0.11%"
         ],
         "textposition": "outside",
         "type": "bar",
         "x": [
          1
         ],
         "xaxis": "x",
         "y": [
          "Assembly"
         ],
         "yaxis": "y"
        },
        {
         "alignmentgroup": "True",
         "hovertemplate": "language=%{y}<br>values=%{x}<br>percent=%{text}<extra></extra>",
         "legendgroup": "Roff",
         "marker": {
          "color": "#FECB52",
          "pattern": {
           "shape": ""
          }
         },
         "name": "Roff",
         "offsetgroup": "Roff",
         "orientation": "h",
         "showlegend": true,
         "text": [
          "0.11%"
         ],
         "textposition": "outside",
         "type": "bar",
         "x": [
          1
         ],
         "xaxis": "x",
         "y": [
          "Roff"
         ],
         "yaxis": "y"
        },
        {
         "alignmentgroup": "True",
         "hovertemplate": "language=%{y}<br>values=%{x}<br>percent=%{text}<extra></extra>",
         "legendgroup": "V",
         "marker": {
          "color": "#636efa",
          "pattern": {
           "shape": ""
          }
         },
         "name": "V",
         "offsetgroup": "V",
         "orientation": "h",
         "showlegend": true,
         "text": [
          "0.11%"
         ],
         "textposition": "outside",
         "type": "bar",
         "x": [
          1
         ],
         "xaxis": "x",
         "y": [
          "V"
         ],
         "yaxis": "y"
        },
        {
         "alignmentgroup": "True",
         "hovertemplate": "language=%{y}<br>values=%{x}<br>percent=%{text}<extra></extra>",
         "legendgroup": "Astro",
         "marker": {
          "color": "#EF553B",
          "pattern": {
           "shape": ""
          }
         },
         "name": "Astro",
         "offsetgroup": "Astro",
         "orientation": "h",
         "showlegend": true,
         "text": [
          "0.11%"
         ],
         "textposition": "outside",
         "type": "bar",
         "x": [
          1
         ],
         "xaxis": "x",
         "y": [
          "Astro"
         ],
         "yaxis": "y"
        },
        {
         "alignmentgroup": "True",
         "hovertemplate": "language=%{y}<br>values=%{x}<br>percent=%{text}<extra></extra>",
         "legendgroup": "Julia",
         "marker": {
          "color": "#00cc96",
          "pattern": {
           "shape": ""
          }
         },
         "name": "Julia",
         "offsetgroup": "Julia",
         "orientation": "h",
         "showlegend": true,
         "text": [
          "0.11%"
         ],
         "textposition": "outside",
         "type": "bar",
         "x": [
          1
         ],
         "xaxis": "x",
         "y": [
          "Julia"
         ],
         "yaxis": "y"
        },
        {
         "alignmentgroup": "True",
         "hovertemplate": "language=%{y}<br>values=%{x}<br>percent=%{text}<extra></extra>",
         "legendgroup": "Nunjucks",
         "marker": {
          "color": "#ab63fa",
          "pattern": {
           "shape": ""
          }
         },
         "name": "Nunjucks",
         "offsetgroup": "Nunjucks",
         "orientation": "h",
         "showlegend": true,
         "text": [
          "0.11%"
         ],
         "textposition": "outside",
         "type": "bar",
         "x": [
          1
         ],
         "xaxis": "x",
         "y": [
          "Nunjucks"
         ],
         "yaxis": "y"
        },
        {
         "alignmentgroup": "True",
         "hovertemplate": "language=%{y}<br>values=%{x}<br>percent=%{text}<extra></extra>",
         "legendgroup": "AsciiDoc",
         "marker": {
          "color": "#FFA15A",
          "pattern": {
           "shape": ""
          }
         },
         "name": "AsciiDoc",
         "offsetgroup": "AsciiDoc",
         "orientation": "h",
         "showlegend": true,
         "text": [
          "0.11%"
         ],
         "textposition": "outside",
         "type": "bar",
         "x": [
          1
         ],
         "xaxis": "x",
         "y": [
          "AsciiDoc"
         ],
         "yaxis": "y"
        }
       ],
       "layout": {
        "barmode": "relative",
        "height": 800,
        "legend": {
         "title": {
          "text": "language"
         },
         "tracegroupgap": 0
        },
        "margin": {
         "t": 60
        },
        "template": {
         "data": {
          "bar": [
           {
            "error_x": {
             "color": "#2a3f5f"
            },
            "error_y": {
             "color": "#2a3f5f"
            },
            "marker": {
             "line": {
              "color": "#E5ECF6",
              "width": 0.5
             },
             "pattern": {
              "fillmode": "overlay",
              "size": 10,
              "solidity": 0.2
             }
            },
            "type": "bar"
           }
          ],
          "barpolar": [
           {
            "marker": {
             "line": {
              "color": "#E5ECF6",
              "width": 0.5
             },
             "pattern": {
              "fillmode": "overlay",
              "size": 10,
              "solidity": 0.2
             }
            },
            "type": "barpolar"
           }
          ],
          "carpet": [
           {
            "aaxis": {
             "endlinecolor": "#2a3f5f",
             "gridcolor": "white",
             "linecolor": "white",
             "minorgridcolor": "white",
             "startlinecolor": "#2a3f5f"
            },
            "baxis": {
             "endlinecolor": "#2a3f5f",
             "gridcolor": "white",
             "linecolor": "white",
             "minorgridcolor": "white",
             "startlinecolor": "#2a3f5f"
            },
            "type": "carpet"
           }
          ],
          "choropleth": [
           {
            "colorbar": {
             "outlinewidth": 0,
             "ticks": ""
            },
            "type": "choropleth"
           }
          ],
          "contour": [
           {
            "colorbar": {
             "outlinewidth": 0,
             "ticks": ""
            },
            "colorscale": [
             [
              0,
              "#0d0887"
             ],
             [
              0.1111111111111111,
              "#46039f"
             ],
             [
              0.2222222222222222,
              "#7201a8"
             ],
             [
              0.3333333333333333,
              "#9c179e"
             ],
             [
              0.4444444444444444,
              "#bd3786"
             ],
             [
              0.5555555555555556,
              "#d8576b"
             ],
             [
              0.6666666666666666,
              "#ed7953"
             ],
             [
              0.7777777777777778,
              "#fb9f3a"
             ],
             [
              0.8888888888888888,
              "#fdca26"
             ],
             [
              1,
              "#f0f921"
             ]
            ],
            "type": "contour"
           }
          ],
          "contourcarpet": [
           {
            "colorbar": {
             "outlinewidth": 0,
             "ticks": ""
            },
            "type": "contourcarpet"
           }
          ],
          "heatmap": [
           {
            "colorbar": {
             "outlinewidth": 0,
             "ticks": ""
            },
            "colorscale": [
             [
              0,
              "#0d0887"
             ],
             [
              0.1111111111111111,
              "#46039f"
             ],
             [
              0.2222222222222222,
              "#7201a8"
             ],
             [
              0.3333333333333333,
              "#9c179e"
             ],
             [
              0.4444444444444444,
              "#bd3786"
             ],
             [
              0.5555555555555556,
              "#d8576b"
             ],
             [
              0.6666666666666666,
              "#ed7953"
             ],
             [
              0.7777777777777778,
              "#fb9f3a"
             ],
             [
              0.8888888888888888,
              "#fdca26"
             ],
             [
              1,
              "#f0f921"
             ]
            ],
            "type": "heatmap"
           }
          ],
          "heatmapgl": [
           {
            "colorbar": {
             "outlinewidth": 0,
             "ticks": ""
            },
            "colorscale": [
             [
              0,
              "#0d0887"
             ],
             [
              0.1111111111111111,
              "#46039f"
             ],
             [
              0.2222222222222222,
              "#7201a8"
             ],
             [
              0.3333333333333333,
              "#9c179e"
             ],
             [
              0.4444444444444444,
              "#bd3786"
             ],
             [
              0.5555555555555556,
              "#d8576b"
             ],
             [
              0.6666666666666666,
              "#ed7953"
             ],
             [
              0.7777777777777778,
              "#fb9f3a"
             ],
             [
              0.8888888888888888,
              "#fdca26"
             ],
             [
              1,
              "#f0f921"
             ]
            ],
            "type": "heatmapgl"
           }
          ],
          "histogram": [
           {
            "marker": {
             "pattern": {
              "fillmode": "overlay",
              "size": 10,
              "solidity": 0.2
             }
            },
            "type": "histogram"
           }
          ],
          "histogram2d": [
           {
            "colorbar": {
             "outlinewidth": 0,
             "ticks": ""
            },
            "colorscale": [
             [
              0,
              "#0d0887"
             ],
             [
              0.1111111111111111,
              "#46039f"
             ],
             [
              0.2222222222222222,
              "#7201a8"
             ],
             [
              0.3333333333333333,
              "#9c179e"
             ],
             [
              0.4444444444444444,
              "#bd3786"
             ],
             [
              0.5555555555555556,
              "#d8576b"
             ],
             [
              0.6666666666666666,
              "#ed7953"
             ],
             [
              0.7777777777777778,
              "#fb9f3a"
             ],
             [
              0.8888888888888888,
              "#fdca26"
             ],
             [
              1,
              "#f0f921"
             ]
            ],
            "type": "histogram2d"
           }
          ],
          "histogram2dcontour": [
           {
            "colorbar": {
             "outlinewidth": 0,
             "ticks": ""
            },
            "colorscale": [
             [
              0,
              "#0d0887"
             ],
             [
              0.1111111111111111,
              "#46039f"
             ],
             [
              0.2222222222222222,
              "#7201a8"
             ],
             [
              0.3333333333333333,
              "#9c179e"
             ],
             [
              0.4444444444444444,
              "#bd3786"
             ],
             [
              0.5555555555555556,
              "#d8576b"
             ],
             [
              0.6666666666666666,
              "#ed7953"
             ],
             [
              0.7777777777777778,
              "#fb9f3a"
             ],
             [
              0.8888888888888888,
              "#fdca26"
             ],
             [
              1,
              "#f0f921"
             ]
            ],
            "type": "histogram2dcontour"
           }
          ],
          "mesh3d": [
           {
            "colorbar": {
             "outlinewidth": 0,
             "ticks": ""
            },
            "type": "mesh3d"
           }
          ],
          "parcoords": [
           {
            "line": {
             "colorbar": {
              "outlinewidth": 0,
              "ticks": ""
             }
            },
            "type": "parcoords"
           }
          ],
          "pie": [
           {
            "automargin": true,
            "type": "pie"
           }
          ],
          "scatter": [
           {
            "fillpattern": {
             "fillmode": "overlay",
             "size": 10,
             "solidity": 0.2
            },
            "type": "scatter"
           }
          ],
          "scatter3d": [
           {
            "line": {
             "colorbar": {
              "outlinewidth": 0,
              "ticks": ""
             }
            },
            "marker": {
             "colorbar": {
              "outlinewidth": 0,
              "ticks": ""
             }
            },
            "type": "scatter3d"
           }
          ],
          "scattercarpet": [
           {
            "marker": {
             "colorbar": {
              "outlinewidth": 0,
              "ticks": ""
             }
            },
            "type": "scattercarpet"
           }
          ],
          "scattergeo": [
           {
            "marker": {
             "colorbar": {
              "outlinewidth": 0,
              "ticks": ""
             }
            },
            "type": "scattergeo"
           }
          ],
          "scattergl": [
           {
            "marker": {
             "colorbar": {
              "outlinewidth": 0,
              "ticks": ""
             }
            },
            "type": "scattergl"
           }
          ],
          "scattermapbox": [
           {
            "marker": {
             "colorbar": {
              "outlinewidth": 0,
              "ticks": ""
             }
            },
            "type": "scattermapbox"
           }
          ],
          "scatterpolar": [
           {
            "marker": {
             "colorbar": {
              "outlinewidth": 0,
              "ticks": ""
             }
            },
            "type": "scatterpolar"
           }
          ],
          "scatterpolargl": [
           {
            "marker": {
             "colorbar": {
              "outlinewidth": 0,
              "ticks": ""
             }
            },
            "type": "scatterpolargl"
           }
          ],
          "scatterternary": [
           {
            "marker": {
             "colorbar": {
              "outlinewidth": 0,
              "ticks": ""
             }
            },
            "type": "scatterternary"
           }
          ],
          "surface": [
           {
            "colorbar": {
             "outlinewidth": 0,
             "ticks": ""
            },
            "colorscale": [
             [
              0,
              "#0d0887"
             ],
             [
              0.1111111111111111,
              "#46039f"
             ],
             [
              0.2222222222222222,
              "#7201a8"
             ],
             [
              0.3333333333333333,
              "#9c179e"
             ],
             [
              0.4444444444444444,
              "#bd3786"
             ],
             [
              0.5555555555555556,
              "#d8576b"
             ],
             [
              0.6666666666666666,
              "#ed7953"
             ],
             [
              0.7777777777777778,
              "#fb9f3a"
             ],
             [
              0.8888888888888888,
              "#fdca26"
             ],
             [
              1,
              "#f0f921"
             ]
            ],
            "type": "surface"
           }
          ],
          "table": [
           {
            "cells": {
             "fill": {
              "color": "#EBF0F8"
             },
             "line": {
              "color": "white"
             }
            },
            "header": {
             "fill": {
              "color": "#C8D4E3"
             },
             "line": {
              "color": "white"
             }
            },
            "type": "table"
           }
          ]
         },
         "layout": {
          "annotationdefaults": {
           "arrowcolor": "#2a3f5f",
           "arrowhead": 0,
           "arrowwidth": 1
          },
          "autotypenumbers": "strict",
          "coloraxis": {
           "colorbar": {
            "outlinewidth": 0,
            "ticks": ""
           }
          },
          "colorscale": {
           "diverging": [
            [
             0,
             "#8e0152"
            ],
            [
             0.1,
             "#c51b7d"
            ],
            [
             0.2,
             "#de77ae"
            ],
            [
             0.3,
             "#f1b6da"
            ],
            [
             0.4,
             "#fde0ef"
            ],
            [
             0.5,
             "#f7f7f7"
            ],
            [
             0.6,
             "#e6f5d0"
            ],
            [
             0.7,
             "#b8e186"
            ],
            [
             0.8,
             "#7fbc41"
            ],
            [
             0.9,
             "#4d9221"
            ],
            [
             1,
             "#276419"
            ]
           ],
           "sequential": [
            [
             0,
             "#0d0887"
            ],
            [
             0.1111111111111111,
             "#46039f"
            ],
            [
             0.2222222222222222,
             "#7201a8"
            ],
            [
             0.3333333333333333,
             "#9c179e"
            ],
            [
             0.4444444444444444,
             "#bd3786"
            ],
            [
             0.5555555555555556,
             "#d8576b"
            ],
            [
             0.6666666666666666,
             "#ed7953"
            ],
            [
             0.7777777777777778,
             "#fb9f3a"
            ],
            [
             0.8888888888888888,
             "#fdca26"
            ],
            [
             1,
             "#f0f921"
            ]
           ],
           "sequentialminus": [
            [
             0,
             "#0d0887"
            ],
            [
             0.1111111111111111,
             "#46039f"
            ],
            [
             0.2222222222222222,
             "#7201a8"
            ],
            [
             0.3333333333333333,
             "#9c179e"
            ],
            [
             0.4444444444444444,
             "#bd3786"
            ],
            [
             0.5555555555555556,
             "#d8576b"
            ],
            [
             0.6666666666666666,
             "#ed7953"
            ],
            [
             0.7777777777777778,
             "#fb9f3a"
            ],
            [
             0.8888888888888888,
             "#fdca26"
            ],
            [
             1,
             "#f0f921"
            ]
           ]
          },
          "colorway": [
           "#636efa",
           "#EF553B",
           "#00cc96",
           "#ab63fa",
           "#FFA15A",
           "#19d3f3",
           "#FF6692",
           "#B6E880",
           "#FF97FF",
           "#FECB52"
          ],
          "font": {
           "color": "#2a3f5f"
          },
          "geo": {
           "bgcolor": "white",
           "lakecolor": "white",
           "landcolor": "#E5ECF6",
           "showlakes": true,
           "showland": true,
           "subunitcolor": "white"
          },
          "hoverlabel": {
           "align": "left"
          },
          "hovermode": "closest",
          "mapbox": {
           "style": "light"
          },
          "paper_bgcolor": "white",
          "plot_bgcolor": "#E5ECF6",
          "polar": {
           "angularaxis": {
            "gridcolor": "white",
            "linecolor": "white",
            "ticks": ""
           },
           "bgcolor": "#E5ECF6",
           "radialaxis": {
            "gridcolor": "white",
            "linecolor": "white",
            "ticks": ""
           }
          },
          "scene": {
           "xaxis": {
            "backgroundcolor": "#E5ECF6",
            "gridcolor": "white",
            "gridwidth": 2,
            "linecolor": "white",
            "showbackground": true,
            "ticks": "",
            "zerolinecolor": "white"
           },
           "yaxis": {
            "backgroundcolor": "#E5ECF6",
            "gridcolor": "white",
            "gridwidth": 2,
            "linecolor": "white",
            "showbackground": true,
            "ticks": "",
            "zerolinecolor": "white"
           },
           "zaxis": {
            "backgroundcolor": "#E5ECF6",
            "gridcolor": "white",
            "gridwidth": 2,
            "linecolor": "white",
            "showbackground": true,
            "ticks": "",
            "zerolinecolor": "white"
           }
          },
          "shapedefaults": {
           "line": {
            "color": "#2a3f5f"
           }
          },
          "ternary": {
           "aaxis": {
            "gridcolor": "white",
            "linecolor": "white",
            "ticks": ""
           },
           "baxis": {
            "gridcolor": "white",
            "linecolor": "white",
            "ticks": ""
           },
           "bgcolor": "#E5ECF6",
           "caxis": {
            "gridcolor": "white",
            "linecolor": "white",
            "ticks": ""
           }
          },
          "title": {
           "x": 0.05
          },
          "xaxis": {
           "automargin": true,
           "gridcolor": "white",
           "linecolor": "white",
           "ticks": "",
           "title": {
            "standoff": 15
           },
           "zerolinecolor": "white",
           "zerolinewidth": 2
          },
          "yaxis": {
           "automargin": true,
           "gridcolor": "white",
           "linecolor": "white",
           "ticks": "",
           "title": {
            "standoff": 15
           },
           "zerolinecolor": "white",
           "zerolinewidth": 2
          }
         }
        },
        "width": 1200,
        "xaxis": {
         "anchor": "y",
         "domain": [
          0,
          1
         ],
         "title": {
          "text": "values"
         }
        },
        "yaxis": {
         "anchor": "x",
         "categoryarray": [
          "AsciiDoc",
          "Nunjucks",
          "Julia",
          "Astro",
          "V",
          "Roff",
          "Assembly",
          "Jinja",
          "Elixir",
          "OCaml",
          "Emacs Lisp",
          "Svelte",
          "Lua",
          "Batchfile",
          "Makefile",
          "Scala",
          "Zig",
          "Dockerfile",
          "Objective-C",
          "Haskell",
          "SCSS",
          "TeX",
          "Markdown",
          "MDX",
          "Dart",
          "Clojure",
          "Vim Script",
          "CSS",
          "Vue",
          "PHP",
          "Kotlin",
          "Ruby",
          "C#",
          "Swift",
          "Jupyter Notebook",
          "HTML",
          "Shell",
          "Rust",
          "C",
          "C++",
          "Java",
          "Go",
          "TypeScript",
          "Python",
          "JavaScript"
         ],
         "categoryorder": "array",
         "domain": [
          0,
          1
         ],
         "title": {
          "text": "language"
         }
        }
       }
      }
     },
     "metadata": {},
     "output_type": "display_data"
    }
   ],
   "source": [
    "fig = px.bar(table, x='values', y='language', text='percent', color='language', height=800, width=1200)\n",
    "fig.update_traces(textposition=\"outside\")\n",
    "\n",
    "fig.show()\n"
   ]
  }
 ],
 "metadata": {
  "kernelspec": {
   "display_name": "Python 3",
   "language": "python",
   "name": "python3"
  },
  "language_info": {
   "codemirror_mode": {
    "name": "ipython",
    "version": 3
   },
   "file_extension": ".py",
   "mimetype": "text/x-python",
   "name": "python",
   "nbconvert_exporter": "python",
   "pygments_lexer": "ipython3",
   "version": "3.9.6"
  },
  "orig_nbformat": 4
 },
 "nbformat": 4,
 "nbformat_minor": 2
}
